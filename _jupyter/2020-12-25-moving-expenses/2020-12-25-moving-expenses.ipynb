{
 "cells": [
  {
   "cell_type": "markdown",
   "metadata": {},
   "source": [
    "Ben and I moved to New Hampshire in August. We moved into a small cottage on his parents' new house property, and figured that because we weren't going to be paying rent we could splurge on house expenses. But we went kinda wild, so let's see if the gamble was right..."
   ]
  },
  {
   "cell_type": "code",
   "execution_count": 1,
   "metadata": {},
   "outputs": [],
   "source": [
    "import pandas as pd\n",
    "import numpy as np\n",
    "import matplotlib.pyplot as plt\n",
    "import seaborn as sns\n",
    "%matplotlib inline"
   ]
  },
  {
   "cell_type": "code",
   "execution_count": 4,
   "metadata": {},
   "outputs": [
    {
     "data": {
      "text/html": [
       "<div>\n",
       "<style scoped>\n",
       "    .dataframe tbody tr th:only-of-type {\n",
       "        vertical-align: middle;\n",
       "    }\n",
       "\n",
       "    .dataframe tbody tr th {\n",
       "        vertical-align: top;\n",
       "    }\n",
       "\n",
       "    .dataframe thead th {\n",
       "        text-align: right;\n",
       "    }\n",
       "</style>\n",
       "<table border=\"1\" class=\"dataframe\">\n",
       "  <thead>\n",
       "    <tr style=\"text-align: right;\">\n",
       "      <th></th>\n",
       "      <th>who_paid</th>\n",
       "      <th>how_much</th>\n",
       "      <th>for_what</th>\n",
       "      <th>from_where</th>\n",
       "      <th>category</th>\n",
       "    </tr>\n",
       "  </thead>\n",
       "  <tbody>\n",
       "    <tr>\n",
       "      <th>0</th>\n",
       "      <td>CD</td>\n",
       "      <td>$815.28</td>\n",
       "      <td>Fridge</td>\n",
       "      <td>home depot</td>\n",
       "      <td>appliances</td>\n",
       "    </tr>\n",
       "    <tr>\n",
       "      <th>1</th>\n",
       "      <td>CD</td>\n",
       "      <td>$185.96</td>\n",
       "      <td>Microwave and outdoor shower</td>\n",
       "      <td>home depot</td>\n",
       "      <td>appliances</td>\n",
       "    </tr>\n",
       "    <tr>\n",
       "      <th>2</th>\n",
       "      <td>BP</td>\n",
       "      <td>$159.50</td>\n",
       "      <td>Utilities</td>\n",
       "      <td>casa russell</td>\n",
       "      <td>utilities</td>\n",
       "    </tr>\n",
       "    <tr>\n",
       "      <th>3</th>\n",
       "      <td>CD</td>\n",
       "      <td>$312.77</td>\n",
       "      <td>Moving truck &amp; other moving costs</td>\n",
       "      <td>home depot (Waltham)</td>\n",
       "      <td>moving</td>\n",
       "    </tr>\n",
       "    <tr>\n",
       "      <th>4</th>\n",
       "      <td>CD</td>\n",
       "      <td>$296.01</td>\n",
       "      <td>Moving truck (first weekend)</td>\n",
       "      <td>home depot (Chelsea)</td>\n",
       "      <td>moving</td>\n",
       "    </tr>\n",
       "  </tbody>\n",
       "</table>\n",
       "</div>"
      ],
      "text/plain": [
       "  who_paid how_much                           for_what            from_where  \\\n",
       "0       CD  $815.28                             Fridge            home depot   \n",
       "1       CD  $185.96       Microwave and outdoor shower            home depot   \n",
       "2       BP  $159.50                          Utilities          casa russell   \n",
       "3       CD  $312.77  Moving truck & other moving costs  home depot (Waltham)   \n",
       "4       CD  $296.01       Moving truck (first weekend)  home depot (Chelsea)   \n",
       "\n",
       "     category  \n",
       "0  appliances  \n",
       "1  appliances  \n",
       "2   utilities  \n",
       "3      moving  \n",
       "4      moving  "
      ]
     },
     "execution_count": 4,
     "metadata": {},
     "output_type": "execute_result"
    }
   ],
   "source": [
    "df = pd.read_csv('Claire and Ben moving costs - Sheet1.csv')\n",
    "\n",
    "df.columns = ['_'.join(c.lower().split()) for c in df.columns]\n",
    "\n",
    "df.head()"
   ]
  },
  {
   "cell_type": "markdown",
   "metadata": {},
   "source": [
    "First question, and the goal of this whole thing: are we settled up, or did one of us pay way more than the other?"
   ]
  },
  {
   "cell_type": "code",
   "execution_count": 7,
   "metadata": {},
   "outputs": [
    {
     "data": {
      "text/html": [
       "<div>\n",
       "<style scoped>\n",
       "    .dataframe tbody tr th:only-of-type {\n",
       "        vertical-align: middle;\n",
       "    }\n",
       "\n",
       "    .dataframe tbody tr th {\n",
       "        vertical-align: top;\n",
       "    }\n",
       "\n",
       "    .dataframe thead th {\n",
       "        text-align: right;\n",
       "    }\n",
       "</style>\n",
       "<table border=\"1\" class=\"dataframe\">\n",
       "  <thead>\n",
       "    <tr style=\"text-align: right;\">\n",
       "      <th></th>\n",
       "      <th>how_much</th>\n",
       "    </tr>\n",
       "    <tr>\n",
       "      <th>who_paid</th>\n",
       "      <th></th>\n",
       "    </tr>\n",
       "  </thead>\n",
       "  <tbody>\n",
       "    <tr>\n",
       "      <th>BP</th>\n",
       "      <td>4185.75</td>\n",
       "    </tr>\n",
       "    <tr>\n",
       "      <th>CD</th>\n",
       "      <td>7399.51</td>\n",
       "    </tr>\n",
       "  </tbody>\n",
       "</table>\n",
       "</div>"
      ],
      "text/plain": [
       "          how_much\n",
       "who_paid          \n",
       "BP         4185.75\n",
       "CD         7399.51"
      ]
     },
     "execution_count": 7,
     "metadata": {},
     "output_type": "execute_result"
    }
   ],
   "source": [
    "df['how_much'] = (\n",
    "    df['how_much'].str.strip('$').str.replace(',', '').astype(float)\n",
    ")\n",
    "df.groupby('who_paid').sum()"
   ]
  },
  {
   "cell_type": "markdown",
   "metadata": {},
   "source": [
    "Wow, at the beginning we thought that Ben would have paid way more because he got all the Amazon stuff. But it looks like I've now outpaced him -- probably due to the couple of large expenses I paid for (couch, our part of the hut tub). \n",
    "\n",
    "Let's break it down by category and see how things stack up."
   ]
  },
  {
   "cell_type": "code",
   "execution_count": 17,
   "metadata": {},
   "outputs": [
    {
     "data": {
      "text/plain": [
       "<matplotlib.axes._subplots.AxesSubplot at 0x7fedcb98db50>"
      ]
     },
     "execution_count": 17,
     "metadata": {},
     "output_type": "execute_result"
    },
    {
     "data": {
      "image/png": "[encoded data removed]",
      "text/plain": [
       "<Figure size 432x288 with 1 Axes>"
      ]
     },
     "metadata": {
      "needs_background": "light"
     },
     "output_type": "display_data"
    }
   ],
   "source": [
    "(df.groupby(['category', 'who_paid']).sum()\n",
    "   .reset_index() # get category, who paid, and total amount in columns\n",
    "   .pivot(index='category', columns='who_paid', values='how_much') # reshape to get categories per row, person per columns; for plotting with pandas\n",
    "   .plot(kind='bar') #, x='category', y='how_much', color='who_paid')\n",
    ")"
   ]
  },
  {
   "cell_type": "markdown",
   "metadata": {},
   "source": [
    "Sure enough, I paid the \\\\$3000 for the hot tub/Ben's mom's bike and ~\\\\$2000 for the couch. If we remove these, how do we stack up?\n",
    "\n",
    "## Moving expenses only"
   ]
  },
  {
   "cell_type": "code",
   "execution_count": 19,
   "metadata": {},
   "outputs": [
    {
     "name": "stdout",
     "output_type": "stream",
     "text": [
      "          how_much\n",
      "who_paid          \n",
      "BP         3441.59\n",
      "CD         2375.01\n"
     ]
    },
    {
     "data": {
      "text/plain": [
       "<matplotlib.axes._subplots.AxesSubplot at 0x7fedcc3ff3a0>"
      ]
     },
     "execution_count": 19,
     "metadata": {},
     "output_type": "execute_result"
    },
    {
     "data": {
      "image/png": "[encoded data removed]",
      "text/plain": [
       "<Figure size 432x288 with 1 Axes>"
      ]
     },
     "metadata": {
      "needs_background": "light"
     },
     "output_type": "display_data"
    }
   ],
   "source": [
    "# Keep just appliances, house, kitchen, and moving expenses\n",
    "keep_cats = ['appliances', 'house', 'kitchen', 'moving']\n",
    "\n",
    "print(df.query('category == @keep_cats').groupby('who_paid').sum())\n",
    "\n",
    "(df.query('category == @keep_cats')\n",
    "   .groupby(['category', 'who_paid']).sum()\n",
    "   .reset_index() # get category, who paid, and total amount in columns\n",
    "   .pivot(index='category', columns='who_paid', values='how_much') # reshape to get categories per row, person per columns; for plotting with pandas\n",
    "   .plot(kind='bar') #, x='category', y='how_much', color='who_paid')\n",
    ")"
   ]
  },
  {
   "cell_type": "markdown",
   "metadata": {},
   "source": [
    "Ok, so if we just look at the things that would be more directly considered as moving expenses, then Ben spent about \\\\$1000 more than I did.\n",
    "\n",
    "It's interesting that we did end up just about equaling out on moving expenses. We tried to go back and forth for the two weekends that we spent moving, but we weren't sure if it had evened out. Also wow moving is expensive -- a little over a thousand dollars to buy all the boxes and moving supplies, and to rent a truck for two weekends. I wonder how much hiring a moving crew would have cost, especially considering that spending two full weekends moving was _quite_ miserable and would be worth a lot of money to not have to repeat. But good to know how much it all added up to for next time we move, when we've both agreed to hire someone to help!\n",
    "\n",
    "Out of curiosity, how much of these expenses were the truck vs. other things?"
   ]
  },
  {
   "cell_type": "code",
   "execution_count": 34,
   "metadata": {},
   "outputs": [
    {
     "data": {
      "text/html": [
       "<div>\n",
       "<style scoped>\n",
       "    .dataframe tbody tr th:only-of-type {\n",
       "        vertical-align: middle;\n",
       "    }\n",
       "\n",
       "    .dataframe tbody tr th {\n",
       "        vertical-align: top;\n",
       "    }\n",
       "\n",
       "    .dataframe thead th {\n",
       "        text-align: right;\n",
       "    }\n",
       "</style>\n",
       "<table border=\"1\" class=\"dataframe\">\n",
       "  <thead>\n",
       "    <tr style=\"text-align: right;\">\n",
       "      <th></th>\n",
       "      <th>who_paid</th>\n",
       "      <th>how_much</th>\n",
       "      <th>for_what</th>\n",
       "      <th>from_where</th>\n",
       "      <th>category</th>\n",
       "    </tr>\n",
       "  </thead>\n",
       "  <tbody>\n",
       "    <tr>\n",
       "      <th>3</th>\n",
       "      <td>CD</td>\n",
       "      <td>312.77</td>\n",
       "      <td>Moving truck &amp; other moving costs</td>\n",
       "      <td>home depot (Waltham)</td>\n",
       "      <td>moving</td>\n",
       "    </tr>\n",
       "    <tr>\n",
       "      <th>4</th>\n",
       "      <td>CD</td>\n",
       "      <td>296.01</td>\n",
       "      <td>Moving truck (first weekend)</td>\n",
       "      <td>home depot (Chelsea)</td>\n",
       "      <td>moving</td>\n",
       "    </tr>\n",
       "    <tr>\n",
       "      <th>37</th>\n",
       "      <td>BP</td>\n",
       "      <td>46.71</td>\n",
       "      <td>moving stuff</td>\n",
       "      <td>home depot</td>\n",
       "      <td>moving</td>\n",
       "    </tr>\n",
       "    <tr>\n",
       "      <th>38</th>\n",
       "      <td>BP</td>\n",
       "      <td>40.16</td>\n",
       "      <td>moving stuff</td>\n",
       "      <td>uhaul</td>\n",
       "      <td>moving</td>\n",
       "    </tr>\n",
       "    <tr>\n",
       "      <th>39</th>\n",
       "      <td>BP</td>\n",
       "      <td>159.50</td>\n",
       "      <td>moving stuff</td>\n",
       "      <td>home depot (watertown)</td>\n",
       "      <td>moving</td>\n",
       "    </tr>\n",
       "    <tr>\n",
       "      <th>40</th>\n",
       "      <td>BP</td>\n",
       "      <td>84.15</td>\n",
       "      <td>moving stuff</td>\n",
       "      <td>lowes</td>\n",
       "      <td>moving</td>\n",
       "    </tr>\n",
       "    <tr>\n",
       "      <th>41</th>\n",
       "      <td>BP</td>\n",
       "      <td>100.25</td>\n",
       "      <td>moving stuff</td>\n",
       "      <td>home depot</td>\n",
       "      <td>moving</td>\n",
       "    </tr>\n",
       "    <tr>\n",
       "      <th>42</th>\n",
       "      <td>BP</td>\n",
       "      <td>46.71</td>\n",
       "      <td>moving stuff</td>\n",
       "      <td>home depot</td>\n",
       "      <td>moving</td>\n",
       "    </tr>\n",
       "  </tbody>\n",
       "</table>\n",
       "</div>"
      ],
      "text/plain": [
       "   who_paid  how_much                           for_what  \\\n",
       "3        CD    312.77  Moving truck & other moving costs   \n",
       "4        CD    296.01       Moving truck (first weekend)   \n",
       "37       BP     46.71                       moving stuff   \n",
       "38       BP     40.16                       moving stuff   \n",
       "39       BP    159.50                       moving stuff   \n",
       "40       BP     84.15                       moving stuff   \n",
       "41       BP    100.25                       moving stuff   \n",
       "42       BP     46.71                       moving stuff   \n",
       "\n",
       "                from_where category  \n",
       "3     home depot (Waltham)   moving  \n",
       "4     home depot (Chelsea)   moving  \n",
       "37              home depot   moving  \n",
       "38                   uhaul   moving  \n",
       "39  home depot (watertown)   moving  \n",
       "40                   lowes   moving  \n",
       "41              home depot   moving  \n",
       "42              home depot   moving  "
      ]
     },
     "execution_count": 34,
     "metadata": {},
     "output_type": "execute_result"
    }
   ],
   "source": [
    "df.query('category == \"moving\"')"
   ]
  },
  {
   "cell_type": "markdown",
   "metadata": {},
   "source": [
    "Looks like about half of it was the moving truck: ~\\\\$300 each weekend, looks like."
   ]
  },
  {
   "cell_type": "markdown",
   "metadata": {},
   "source": [
    "## An oxo tangent\n",
    "\n",
    "Lol we spent almost as much on kitchen knick knacks than we did on our appliances! For appliances, we bought a fridge, toaster oven, microwave, and induction stove. But I guess that has no chance against the millions of Oxo and other kitchen gadgets we got!"
   ]
  },
  {
   "cell_type": "code",
   "execution_count": 35,
   "metadata": {},
   "outputs": [
    {
     "data": {
      "text/html": [
       "<div>\n",
       "<style scoped>\n",
       "    .dataframe tbody tr th:only-of-type {\n",
       "        vertical-align: middle;\n",
       "    }\n",
       "\n",
       "    .dataframe tbody tr th {\n",
       "        vertical-align: top;\n",
       "    }\n",
       "\n",
       "    .dataframe thead th {\n",
       "        text-align: right;\n",
       "    }\n",
       "</style>\n",
       "<table border=\"1\" class=\"dataframe\">\n",
       "  <thead>\n",
       "    <tr style=\"text-align: right;\">\n",
       "      <th></th>\n",
       "      <th>how_much</th>\n",
       "    </tr>\n",
       "    <tr>\n",
       "      <th>category</th>\n",
       "      <th></th>\n",
       "    </tr>\n",
       "  </thead>\n",
       "  <tbody>\n",
       "    <tr>\n",
       "      <th>appliances</th>\n",
       "      <td>2170.52</td>\n",
       "    </tr>\n",
       "    <tr>\n",
       "      <th>kitchen</th>\n",
       "      <td>2008.22</td>\n",
       "    </tr>\n",
       "  </tbody>\n",
       "</table>\n",
       "</div>"
      ],
      "text/plain": [
       "            how_much\n",
       "category            \n",
       "appliances   2170.52\n",
       "kitchen      2008.22"
      ]
     },
     "execution_count": 35,
     "metadata": {},
     "output_type": "execute_result"
    }
   ],
   "source": [
    "keep_cats = ['appliances', 'kitchen']\n",
    "df.query('category == @keep_cats').groupby('category').sum()"
   ]
  },
  {
   "cell_type": "markdown",
   "metadata": {},
   "source": [
    "Speaking of Oxo... I joked to Ben that he was buying out every single Oxo item and that when we did this analysis we should see what percent of our expenses were Oxo. Unfortunately, getting that info would take way too long becuase we used his Amazon statements to get these expenses, and they don't show everything itemized. So instead, let's see how many of the kitchen-related orders included something Oxo (I made sure to write that down)."
   ]
  },
  {
   "cell_type": "code",
   "execution_count": 25,
   "metadata": {},
   "outputs": [
    {
     "data": {
      "text/html": [
       "<div>\n",
       "<style scoped>\n",
       "    .dataframe tbody tr th:only-of-type {\n",
       "        vertical-align: middle;\n",
       "    }\n",
       "\n",
       "    .dataframe tbody tr th {\n",
       "        vertical-align: top;\n",
       "    }\n",
       "\n",
       "    .dataframe thead th {\n",
       "        text-align: right;\n",
       "    }\n",
       "</style>\n",
       "<table border=\"1\" class=\"dataframe\">\n",
       "  <thead>\n",
       "    <tr style=\"text-align: right;\">\n",
       "      <th></th>\n",
       "      <th>who_paid</th>\n",
       "      <th>how_much</th>\n",
       "      <th>for_what</th>\n",
       "      <th>from_where</th>\n",
       "      <th>category</th>\n",
       "    </tr>\n",
       "  </thead>\n",
       "  <tbody>\n",
       "    <tr>\n",
       "      <th>13</th>\n",
       "      <td>BP</td>\n",
       "      <td>349.54</td>\n",
       "      <td>toaster oven, oxo stuff</td>\n",
       "      <td>amazon</td>\n",
       "      <td>appliances</td>\n",
       "    </tr>\n",
       "    <tr>\n",
       "      <th>16</th>\n",
       "      <td>BP</td>\n",
       "      <td>85.79</td>\n",
       "      <td>oxo and rubbermaid</td>\n",
       "      <td>amazon</td>\n",
       "      <td>kitchen</td>\n",
       "    </tr>\n",
       "    <tr>\n",
       "      <th>17</th>\n",
       "      <td>BP</td>\n",
       "      <td>12.95</td>\n",
       "      <td>oxo</td>\n",
       "      <td>amazon</td>\n",
       "      <td>kitchen</td>\n",
       "    </tr>\n",
       "    <tr>\n",
       "      <th>21</th>\n",
       "      <td>BP</td>\n",
       "      <td>14.99</td>\n",
       "      <td>oxo</td>\n",
       "      <td>amazon</td>\n",
       "      <td>kitchen</td>\n",
       "    </tr>\n",
       "    <tr>\n",
       "      <th>22</th>\n",
       "      <td>BP</td>\n",
       "      <td>115.09</td>\n",
       "      <td>oxo and pur stuff</td>\n",
       "      <td>amazon</td>\n",
       "      <td>kitchen</td>\n",
       "    </tr>\n",
       "    <tr>\n",
       "      <th>26</th>\n",
       "      <td>BP</td>\n",
       "      <td>9.99</td>\n",
       "      <td>oxo</td>\n",
       "      <td>amazon</td>\n",
       "      <td>kitchen</td>\n",
       "    </tr>\n",
       "    <tr>\n",
       "      <th>28</th>\n",
       "      <td>BP</td>\n",
       "      <td>19.99</td>\n",
       "      <td>oxo</td>\n",
       "      <td>amazon</td>\n",
       "      <td>kitchen</td>\n",
       "    </tr>\n",
       "    <tr>\n",
       "      <th>31</th>\n",
       "      <td>BP</td>\n",
       "      <td>17.99</td>\n",
       "      <td>oxo</td>\n",
       "      <td>amazon</td>\n",
       "      <td>kitchen</td>\n",
       "    </tr>\n",
       "    <tr>\n",
       "      <th>46</th>\n",
       "      <td>BP</td>\n",
       "      <td>118.83</td>\n",
       "      <td>oxo and other things</td>\n",
       "      <td>amazon</td>\n",
       "      <td>kitchen</td>\n",
       "    </tr>\n",
       "    <tr>\n",
       "      <th>47</th>\n",
       "      <td>BP</td>\n",
       "      <td>10.46</td>\n",
       "      <td>oxo</td>\n",
       "      <td>amazon</td>\n",
       "      <td>kitchen</td>\n",
       "    </tr>\n",
       "    <tr>\n",
       "      <th>48</th>\n",
       "      <td>BP</td>\n",
       "      <td>15.95</td>\n",
       "      <td>oxo</td>\n",
       "      <td>amazon</td>\n",
       "      <td>kitchen</td>\n",
       "    </tr>\n",
       "  </tbody>\n",
       "</table>\n",
       "</div>"
      ],
      "text/plain": [
       "   who_paid  how_much                 for_what from_where    category\n",
       "13       BP    349.54  toaster oven, oxo stuff     amazon  appliances\n",
       "16       BP     85.79       oxo and rubbermaid     amazon     kitchen\n",
       "17       BP     12.95                      oxo     amazon     kitchen\n",
       "21       BP     14.99                      oxo     amazon     kitchen\n",
       "22       BP    115.09        oxo and pur stuff     amazon     kitchen\n",
       "26       BP      9.99                      oxo     amazon     kitchen\n",
       "28       BP     19.99                      oxo     amazon     kitchen\n",
       "31       BP     17.99                      oxo     amazon     kitchen\n",
       "46       BP    118.83     oxo and other things     amazon     kitchen\n",
       "47       BP     10.46                      oxo     amazon     kitchen\n",
       "48       BP     15.95                      oxo     amazon     kitchen"
      ]
     },
     "execution_count": 25,
     "metadata": {},
     "output_type": "execute_result"
    }
   ],
   "source": [
    "df[df['for_what'].str.lower().str.contains('oxo')]"
   ]
  },
  {
   "cell_type": "markdown",
   "metadata": {},
   "source": [
    "Ahahah okay but actually a lot of these were just straight-up Oxo. Let's remove the one that contains the toaster oven (because the majority of that expense was the toaster oven itself), and see how much the rest adds up to."
   ]
  },
  {
   "cell_type": "code",
   "execution_count": 30,
   "metadata": {},
   "outputs": [
    {
     "name": "stdout",
     "output_type": "stream",
     "text": [
      "Oxo-only expenses = $102\n",
      "Expenses including Oxo = $ 422\n"
     ]
    }
   ],
   "source": [
    "# Oxo-only expenses\n",
    "print(f\"Oxo-only expenses = ${round(df[df['for_what'].str.lower() == 'oxo'].sum()['how_much'])}\")\n",
    "print(f\"Expenses including Oxo = $ {round(df[df['for_what'].str.lower().str.contains('oxo')].sum()['how_much'] - 349.54)}\")"
   ]
  },
  {
   "cell_type": "markdown",
   "metadata": {},
   "source": [
    "So our Oxo expenses are somewhere between \\\\$100 and \\\\$400. Not bad, actually -- way less than I would have guessed!\n",
    "\n",
    "Ok last Oxo-focused question: what proportion of our kitchen-related expenses included Oxo products?"
   ]
  },
  {
   "cell_type": "code",
   "execution_count": 32,
   "metadata": {},
   "outputs": [
    {
     "name": "stdout",
     "output_type": "stream",
     "text": [
      "Fraction of kitchen expenses containing oxo = 0.37 (11/30)\n"
     ]
    }
   ],
   "source": [
    "# Get total number of kitchen expenses\n",
    "n_kitchen = df.query('category == \"kitchen\"').shape[0]\n",
    "\n",
    "# Get number of expenses containing oxo\n",
    "n_oxo = df['for_what'].str.lower().str.contains('oxo').sum()\n",
    "\n",
    "print(f\"Fraction of kitchen expenses containing oxo = {round(n_oxo/n_kitchen, 2)} ({n_oxo}/{n_kitchen})\")"
   ]
  },
  {
   "cell_type": "markdown",
   "metadata": {},
   "source": [
    "Nice. Over a third of our kitchen expenses included something Oxo. We really just couldn't get enough!"
   ]
  },
  {
   "cell_type": "markdown",
   "metadata": {},
   "source": [
    "## Back to expenses\n",
    "\n",
    "Ok, back to the overall expenses. One thing sticks out -- what on earth did we spend over \\\\$500 on \"house\" things for?"
   ]
  },
  {
   "cell_type": "code",
   "execution_count": 21,
   "metadata": {},
   "outputs": [
    {
     "data": {
      "text/plain": [
       "array(['whiteboard', 'hooks', 'deodorant', 'water bottle', 'heating pad',\n",
       "       'organization stuff', 'gas masks and monitor stand for ben',\n",
       "       'gas mask', 'gas mask accessories'], dtype=object)"
      ]
     },
     "execution_count": 21,
     "metadata": {},
     "output_type": "execute_result"
    }
   ],
   "source": [
    "df.query('category == \"house\"')['for_what'].unique()"
   ]
  },
  {
   "cell_type": "markdown",
   "metadata": {},
   "source": [
    "Oh god that's right we spent \\\\$50 on deodorant and then a bunch on masks to keep us safe while we cleaned out a box that used to serve as some sort of pump (the house we live in used to be a jeweller's workshop) but had since become inhabited by many birds and wasps who filled the entire box with hay and dust."
   ]
  },
  {
   "cell_type": "markdown",
   "metadata": {},
   "source": [
    "# Conclusion\n",
    "\n"
   ]
  }
 ],
 "metadata": {
  "kernelspec": {
   "display_name": "Python 3",
   "language": "python",
   "name": "python3"
  },
  "language_info": {
   "codemirror_mode": {
    "name": "ipython",
    "version": 3
   },
   "file_extension": ".py",
   "mimetype": "text/x-python",
   "name": "python",
   "nbconvert_exporter": "python",
   "pygments_lexer": "ipython3",
   "version": "3.8.2"
  }
 },
 "nbformat": 4,
 "nbformat_minor": 4
}
