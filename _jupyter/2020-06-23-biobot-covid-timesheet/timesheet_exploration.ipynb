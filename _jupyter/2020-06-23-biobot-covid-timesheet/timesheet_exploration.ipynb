{
 "cells": [
  {
   "cell_type": "markdown",
   "metadata": {},
   "source": [
    "Just wanna see how much I've been working during covid..."
   ]
  },
  {
   "cell_type": "code",
   "execution_count": 1,
   "metadata": {},
   "outputs": [],
   "source": [
    "import pandas as pd\n",
    "import numpy as np\n",
    "\n",
    "import matplotlib.pyplot as plt\n",
    "import seaborn as sns"
   ]
  },
  {
   "cell_type": "code",
   "execution_count": 2,
   "metadata": {},
   "outputs": [
    {
     "data": {
      "text/html": [
       "<div>\n",
       "<style scoped>\n",
       "    .dataframe tbody tr th:only-of-type {\n",
       "        vertical-align: middle;\n",
       "    }\n",
       "\n",
       "    .dataframe tbody tr th {\n",
       "        vertical-align: top;\n",
       "    }\n",
       "\n",
       "    .dataframe thead th {\n",
       "        text-align: right;\n",
       "    }\n",
       "</style>\n",
       "<table border=\"1\" class=\"dataframe\">\n",
       "  <thead>\n",
       "    <tr style=\"text-align: right;\">\n",
       "      <th></th>\n",
       "      <th>weeknumber</th>\n",
       "      <th>weekday</th>\n",
       "      <th>date</th>\n",
       "      <th>start</th>\n",
       "      <th>end</th>\n",
       "      <th>duration</th>\n",
       "      <th>category</th>\n",
       "      <th>project</th>\n",
       "      <th>location</th>\n",
       "      <th>city</th>\n",
       "    </tr>\n",
       "  </thead>\n",
       "  <tbody>\n",
       "    <tr>\n",
       "      <th>0</th>\n",
       "      <td>2</td>\n",
       "      <td>1</td>\n",
       "      <td>2020-01-05</td>\n",
       "      <td>3:20 PM</td>\n",
       "      <td>5:30 PM</td>\n",
       "      <td>2:10</td>\n",
       "      <td>biobot</td>\n",
       "      <td>NaN</td>\n",
       "      <td>plane</td>\n",
       "      <td>plane</td>\n",
       "    </tr>\n",
       "    <tr>\n",
       "      <th>1</th>\n",
       "      <td>2</td>\n",
       "      <td>2</td>\n",
       "      <td>2020-01-06</td>\n",
       "      <td>9:45 AM</td>\n",
       "      <td>11:40 AM</td>\n",
       "      <td>1:55</td>\n",
       "      <td>biobot</td>\n",
       "      <td>NaN</td>\n",
       "      <td>home</td>\n",
       "      <td>boston</td>\n",
       "    </tr>\n",
       "    <tr>\n",
       "      <th>2</th>\n",
       "      <td>2</td>\n",
       "      <td>2</td>\n",
       "      <td>2020-01-06</td>\n",
       "      <td>12:10 PM</td>\n",
       "      <td>5:00 PM</td>\n",
       "      <td>4:50</td>\n",
       "      <td>biobot</td>\n",
       "      <td>NaN</td>\n",
       "      <td>home</td>\n",
       "      <td>boston</td>\n",
       "    </tr>\n",
       "    <tr>\n",
       "      <th>3</th>\n",
       "      <td>2</td>\n",
       "      <td>3</td>\n",
       "      <td>2020-01-07</td>\n",
       "      <td>9:45 AM</td>\n",
       "      <td>10:35 AM</td>\n",
       "      <td>0:50</td>\n",
       "      <td>biobot</td>\n",
       "      <td>NaN</td>\n",
       "      <td>home</td>\n",
       "      <td>boston</td>\n",
       "    </tr>\n",
       "    <tr>\n",
       "      <th>4</th>\n",
       "      <td>2</td>\n",
       "      <td>3</td>\n",
       "      <td>2020-01-07</td>\n",
       "      <td>11:20 AM</td>\n",
       "      <td>11:50 AM</td>\n",
       "      <td>0:30</td>\n",
       "      <td>biobot</td>\n",
       "      <td>NaN</td>\n",
       "      <td>home</td>\n",
       "      <td>boston</td>\n",
       "    </tr>\n",
       "  </tbody>\n",
       "</table>\n",
       "</div>"
      ],
      "text/plain": [
       "  weeknumber weekday       date     start       end duration category project  \\\n",
       "0          2       1 2020-01-05   3:20 PM   5:30 PM     2:10   biobot     NaN   \n",
       "1          2       2 2020-01-06   9:45 AM  11:40 AM     1:55   biobot     NaN   \n",
       "2          2       2 2020-01-06  12:10 PM   5:00 PM     4:50   biobot     NaN   \n",
       "3          2       3 2020-01-07   9:45 AM  10:35 AM     0:50   biobot     NaN   \n",
       "4          2       3 2020-01-07  11:20 AM  11:50 AM     0:30   biobot     NaN   \n",
       "\n",
       "  location    city  \n",
       "0    plane   plane  \n",
       "1     home  boston  \n",
       "2     home  boston  \n",
       "3     home  boston  \n",
       "4     home  boston  "
      ]
     },
     "execution_count": 2,
     "metadata": {},
     "output_type": "execute_result"
    }
   ],
   "source": [
    "df = pd.read_csv('Timesheet - 2020.csv')\n",
    "\n",
    "df['date'] = pd.to_datetime(df['date'] + '/20')\n",
    "df = df.dropna(subset=['date'])\n",
    "\n",
    "\n",
    "df.head()"
   ]
  },
  {
   "cell_type": "code",
   "execution_count": 3,
   "metadata": {},
   "outputs": [
    {
     "data": {
      "text/html": [
       "<div>\n",
       "<style scoped>\n",
       "    .dataframe tbody tr th:only-of-type {\n",
       "        vertical-align: middle;\n",
       "    }\n",
       "\n",
       "    .dataframe tbody tr th {\n",
       "        vertical-align: top;\n",
       "    }\n",
       "\n",
       "    .dataframe thead th {\n",
       "        text-align: right;\n",
       "    }\n",
       "</style>\n",
       "<table border=\"1\" class=\"dataframe\">\n",
       "  <thead>\n",
       "    <tr style=\"text-align: right;\">\n",
       "      <th></th>\n",
       "      <th>weeknumber</th>\n",
       "      <th>weekday</th>\n",
       "      <th>date</th>\n",
       "      <th>start</th>\n",
       "      <th>end</th>\n",
       "      <th>duration</th>\n",
       "      <th>category</th>\n",
       "      <th>project</th>\n",
       "      <th>location</th>\n",
       "      <th>city</th>\n",
       "      <th>minutes</th>\n",
       "      <th>hours</th>\n",
       "    </tr>\n",
       "  </thead>\n",
       "  <tbody>\n",
       "    <tr>\n",
       "      <th>0</th>\n",
       "      <td>2</td>\n",
       "      <td>1</td>\n",
       "      <td>2020-01-05</td>\n",
       "      <td>3:20 PM</td>\n",
       "      <td>5:30 PM</td>\n",
       "      <td>2:10</td>\n",
       "      <td>biobot</td>\n",
       "      <td>NaN</td>\n",
       "      <td>plane</td>\n",
       "      <td>plane</td>\n",
       "      <td>130</td>\n",
       "      <td>2.166667</td>\n",
       "    </tr>\n",
       "    <tr>\n",
       "      <th>1</th>\n",
       "      <td>2</td>\n",
       "      <td>2</td>\n",
       "      <td>2020-01-06</td>\n",
       "      <td>9:45 AM</td>\n",
       "      <td>11:40 AM</td>\n",
       "      <td>1:55</td>\n",
       "      <td>biobot</td>\n",
       "      <td>NaN</td>\n",
       "      <td>home</td>\n",
       "      <td>boston</td>\n",
       "      <td>115</td>\n",
       "      <td>1.916667</td>\n",
       "    </tr>\n",
       "    <tr>\n",
       "      <th>2</th>\n",
       "      <td>2</td>\n",
       "      <td>2</td>\n",
       "      <td>2020-01-06</td>\n",
       "      <td>12:10 PM</td>\n",
       "      <td>5:00 PM</td>\n",
       "      <td>4:50</td>\n",
       "      <td>biobot</td>\n",
       "      <td>NaN</td>\n",
       "      <td>home</td>\n",
       "      <td>boston</td>\n",
       "      <td>290</td>\n",
       "      <td>4.833333</td>\n",
       "    </tr>\n",
       "    <tr>\n",
       "      <th>3</th>\n",
       "      <td>2</td>\n",
       "      <td>3</td>\n",
       "      <td>2020-01-07</td>\n",
       "      <td>9:45 AM</td>\n",
       "      <td>10:35 AM</td>\n",
       "      <td>0:50</td>\n",
       "      <td>biobot</td>\n",
       "      <td>NaN</td>\n",
       "      <td>home</td>\n",
       "      <td>boston</td>\n",
       "      <td>50</td>\n",
       "      <td>0.833333</td>\n",
       "    </tr>\n",
       "    <tr>\n",
       "      <th>4</th>\n",
       "      <td>2</td>\n",
       "      <td>3</td>\n",
       "      <td>2020-01-07</td>\n",
       "      <td>11:20 AM</td>\n",
       "      <td>11:50 AM</td>\n",
       "      <td>0:30</td>\n",
       "      <td>biobot</td>\n",
       "      <td>NaN</td>\n",
       "      <td>home</td>\n",
       "      <td>boston</td>\n",
       "      <td>30</td>\n",
       "      <td>0.500000</td>\n",
       "    </tr>\n",
       "  </tbody>\n",
       "</table>\n",
       "</div>"
      ],
      "text/plain": [
       "  weeknumber weekday       date     start       end duration category project  \\\n",
       "0          2       1 2020-01-05   3:20 PM   5:30 PM     2:10   biobot     NaN   \n",
       "1          2       2 2020-01-06   9:45 AM  11:40 AM     1:55   biobot     NaN   \n",
       "2          2       2 2020-01-06  12:10 PM   5:00 PM     4:50   biobot     NaN   \n",
       "3          2       3 2020-01-07   9:45 AM  10:35 AM     0:50   biobot     NaN   \n",
       "4          2       3 2020-01-07  11:20 AM  11:50 AM     0:30   biobot     NaN   \n",
       "\n",
       "  location    city  minutes     hours  \n",
       "0    plane   plane      130  2.166667  \n",
       "1     home  boston      115  1.916667  \n",
       "2     home  boston      290  4.833333  \n",
       "3     home  boston       50  0.833333  \n",
       "4     home  boston       30  0.500000  "
      ]
     },
     "execution_count": 3,
     "metadata": {},
     "output_type": "execute_result"
    }
   ],
   "source": [
    "df['minutes'] = df['duration'].apply(lambda s: int(s.split(':')[0])*60 + int(s.split(':')[1]))\n",
    "df['hours'] = df['minutes'] / 60.0\n",
    "df.head()"
   ]
  },
  {
   "cell_type": "code",
   "execution_count": 73,
   "metadata": {},
   "outputs": [],
   "source": [
    "# Label weekends\n",
    "df['weekend'] = df['weekday'].apply(lambda x: True if x == \"1\" or x == \"7\" else False)"
   ]
  },
  {
   "cell_type": "code",
   "execution_count": 74,
   "metadata": {},
   "outputs": [
    {
     "data": {
      "text/html": [
       "<div>\n",
       "<style scoped>\n",
       "    .dataframe tbody tr th:only-of-type {\n",
       "        vertical-align: middle;\n",
       "    }\n",
       "\n",
       "    .dataframe tbody tr th {\n",
       "        vertical-align: top;\n",
       "    }\n",
       "\n",
       "    .dataframe thead th {\n",
       "        text-align: right;\n",
       "    }\n",
       "</style>\n",
       "<table border=\"1\" class=\"dataframe\">\n",
       "  <thead>\n",
       "    <tr style=\"text-align: right;\">\n",
       "      <th></th>\n",
       "      <th>weekday</th>\n",
       "      <th>weekend</th>\n",
       "    </tr>\n",
       "  </thead>\n",
       "  <tbody>\n",
       "    <tr>\n",
       "      <th>0</th>\n",
       "      <td>1</td>\n",
       "      <td>True</td>\n",
       "    </tr>\n",
       "    <tr>\n",
       "      <th>1</th>\n",
       "      <td>2</td>\n",
       "      <td>False</td>\n",
       "    </tr>\n",
       "    <tr>\n",
       "      <th>3</th>\n",
       "      <td>3</td>\n",
       "      <td>False</td>\n",
       "    </tr>\n",
       "    <tr>\n",
       "      <th>9</th>\n",
       "      <td>4</td>\n",
       "      <td>False</td>\n",
       "    </tr>\n",
       "    <tr>\n",
       "      <th>12</th>\n",
       "      <td>5</td>\n",
       "      <td>False</td>\n",
       "    </tr>\n",
       "    <tr>\n",
       "      <th>15</th>\n",
       "      <td>6</td>\n",
       "      <td>False</td>\n",
       "    </tr>\n",
       "    <tr>\n",
       "      <th>20</th>\n",
       "      <td>7</td>\n",
       "      <td>True</td>\n",
       "    </tr>\n",
       "  </tbody>\n",
       "</table>\n",
       "</div>"
      ],
      "text/plain": [
       "   weekday  weekend\n",
       "0        1     True\n",
       "1        2    False\n",
       "3        3    False\n",
       "9        4    False\n",
       "12       5    False\n",
       "15       6    False\n",
       "20       7     True"
      ]
     },
     "execution_count": 74,
     "metadata": {},
     "output_type": "execute_result"
    }
   ],
   "source": [
    "df[['weekday', 'weekend']].drop_duplicates()"
   ]
  },
  {
   "cell_type": "code",
   "execution_count": 75,
   "metadata": {},
   "outputs": [
    {
     "data": {
      "text/html": [
       "<div>\n",
       "<style scoped>\n",
       "    .dataframe tbody tr th:only-of-type {\n",
       "        vertical-align: middle;\n",
       "    }\n",
       "\n",
       "    .dataframe tbody tr th {\n",
       "        vertical-align: top;\n",
       "    }\n",
       "\n",
       "    .dataframe thead th {\n",
       "        text-align: right;\n",
       "    }\n",
       "</style>\n",
       "<table border=\"1\" class=\"dataframe\">\n",
       "  <thead>\n",
       "    <tr style=\"text-align: right;\">\n",
       "      <th></th>\n",
       "      <th>date</th>\n",
       "      <th>weekend</th>\n",
       "      <th>weeknumber</th>\n",
       "      <th>minutes</th>\n",
       "      <th>hours</th>\n",
       "      <th>after_covid_campaign</th>\n",
       "    </tr>\n",
       "  </thead>\n",
       "  <tbody>\n",
       "    <tr>\n",
       "      <th>0</th>\n",
       "      <td>2020-01-05</td>\n",
       "      <td>True</td>\n",
       "      <td>2</td>\n",
       "      <td>130</td>\n",
       "      <td>2.166667</td>\n",
       "      <td>0.0</td>\n",
       "    </tr>\n",
       "    <tr>\n",
       "      <th>1</th>\n",
       "      <td>2020-01-06</td>\n",
       "      <td>False</td>\n",
       "      <td>6</td>\n",
       "      <td>405</td>\n",
       "      <td>6.750000</td>\n",
       "      <td>0.0</td>\n",
       "    </tr>\n",
       "    <tr>\n",
       "      <th>2</th>\n",
       "      <td>2020-01-07</td>\n",
       "      <td>False</td>\n",
       "      <td>12</td>\n",
       "      <td>335</td>\n",
       "      <td>5.583333</td>\n",
       "      <td>0.0</td>\n",
       "    </tr>\n",
       "    <tr>\n",
       "      <th>3</th>\n",
       "      <td>2020-01-08</td>\n",
       "      <td>False</td>\n",
       "      <td>6</td>\n",
       "      <td>480</td>\n",
       "      <td>8.000000</td>\n",
       "      <td>0.0</td>\n",
       "    </tr>\n",
       "    <tr>\n",
       "      <th>4</th>\n",
       "      <td>2020-01-09</td>\n",
       "      <td>False</td>\n",
       "      <td>6</td>\n",
       "      <td>445</td>\n",
       "      <td>7.416667</td>\n",
       "      <td>0.0</td>\n",
       "    </tr>\n",
       "  </tbody>\n",
       "</table>\n",
       "</div>"
      ],
      "text/plain": [
       "        date  weekend  weeknumber  minutes     hours  after_covid_campaign\n",
       "0 2020-01-05     True           2      130  2.166667                   0.0\n",
       "1 2020-01-06    False           6      405  6.750000                   0.0\n",
       "2 2020-01-07    False          12      335  5.583333                   0.0\n",
       "3 2020-01-08    False           6      480  8.000000                   0.0\n",
       "4 2020-01-09    False           6      445  7.416667                   0.0"
      ]
     },
     "execution_count": 75,
     "metadata": {},
     "output_type": "execute_result"
    }
   ],
   "source": [
    "totalhours = df.groupby(['date', 'weekend']).sum().reset_index()\n",
    "totalhours.head()"
   ]
  },
  {
   "cell_type": "code",
   "execution_count": 88,
   "metadata": {},
   "outputs": [
    {
     "data": {
      "text/plain": [
       "<matplotlib.lines.Line2D at 0x1a1f045810>"
      ]
     },
     "execution_count": 88,
     "metadata": {},
     "output_type": "execute_result"
    },
    {
     "data": {
      "image/png": "[encoded data removed]",
      "text/plain": [
       "<Figure size 1080x288 with 1 Axes>"
      ]
     },
     "metadata": {
      "needs_background": "light"
     },
     "output_type": "display_data"
    }
   ],
   "source": [
    "# Daily hours worked, colored by weekend or not\n",
    "# Note: this doesn't show dates where I didn't work\n",
    "fig, ax = plt.subplots(figsize=(15, 4))\n",
    "totalhours.plot(\n",
    "    x='date', y='hours', kind='scatter', ax=ax, \n",
    "    c=totalhours['weekend'].map({True: 'r', False: 'b'}))\n",
    "# Horizontal line at 8 hours per day\n",
    "ax.axhline(8, linestyle='--', c='blue', linewidth=0.75)\n",
    "# Vertical lie at March 25th, start of covid campaign\n",
    "ax.axvline(pd.to_datetime('2020-03-25'), linestyle='--', c='gray', linewidth=0.5)"
   ]
  },
  {
   "cell_type": "code",
   "execution_count": 89,
   "metadata": {},
   "outputs": [
    {
     "data": {
      "text/plain": [
       "<matplotlib.axes._subplots.AxesSubplot at 0x1a1f1fa610>"
      ]
     },
     "execution_count": 89,
     "metadata": {},
     "output_type": "execute_result"
    },
    {
     "data": {
      "image/png": "[encoded data removed]",
      "text/plain": [
       "<Figure size 432x288 with 1 Axes>"
      ]
     },
     "metadata": {
      "needs_background": "light"
     },
     "output_type": "display_data"
    }
   ],
   "source": [
    "df['weeknumber'] = df['weeknumber'].astype(int)\n",
    "df.groupby('weeknumber').sum()['hours'].plot(kind='bar')"
   ]
  },
  {
   "cell_type": "code",
   "execution_count": 90,
   "metadata": {},
   "outputs": [],
   "source": [
    "# Convert week number to a datetime\n",
    "# https://stackoverflow.com/a/45437018\n",
    "df['weeknumber_date'] = (\n",
    "    pd.to_datetime('2020', format='%Y') \n",
    "    + pd.to_timedelta(df['weeknumber'].mul(7).astype(str) + ' days')\n",
    ")"
   ]
  },
  {
   "cell_type": "code",
   "execution_count": 91,
   "metadata": {},
   "outputs": [
    {
     "data": {
      "text/plain": [
       "<matplotlib.lines.Line2D at 0x1a1d0b6210>"
      ]
     },
     "execution_count": 91,
     "metadata": {},
     "output_type": "execute_result"
    },
    {
     "data": {
      "image/png": "[encoded data removed]",
      "text/plain": [
       "<Figure size 432x288 with 1 Axes>"
      ]
     },
     "metadata": {
      "needs_background": "light"
     },
     "output_type": "display_data"
    }
   ],
   "source": [
    "ax = df.groupby('weeknumber_date').sum()['hours'].plot(kind='bar')\n",
    "ax.axhline(40)\n",
    "ax.axhline(60)"
   ]
  },
  {
   "cell_type": "code",
   "execution_count": 92,
   "metadata": {},
   "outputs": [],
   "source": [
    "# Average weekly hours before and after march 25th, which is week 12\n",
    "df['after_covid_campaign'] = df['weeknumber'] >= 12"
   ]
  },
  {
   "cell_type": "code",
   "execution_count": 93,
   "metadata": {},
   "outputs": [
    {
     "data": {
      "text/plain": [
       "<matplotlib.axes._subplots.AxesSubplot at 0x1a1d1c0c90>"
      ]
     },
     "execution_count": 93,
     "metadata": {},
     "output_type": "execute_result"
    },
    {
     "data": {
      "image/png": "[encoded data removed]",
      "text/plain": [
       "<Figure size 432x288 with 1 Axes>"
      ]
     },
     "metadata": {
      "needs_background": "light"
     },
     "output_type": "display_data"
    }
   ],
   "source": [
    "weekly_hours = df.groupby(['after_covid_campaign', 'weeknumber_date']).sum()['hours'].reset_index()\n",
    "\n",
    "sns.boxplot(data=weekly_hours, y='hours', x='after_covid_campaign')\n",
    "sns.stripplot(data=weekly_hours, y='hours', x='after_covid_campaign')"
   ]
  },
  {
   "cell_type": "code",
   "execution_count": 94,
   "metadata": {},
   "outputs": [],
   "source": [
    "before_covid_mean = weekly_hours.groupby('after_covid_campaign').mean().loc[False].values[0]\n",
    "after_covid_mean = weekly_hours.groupby('after_covid_campaign').mean().loc[True].values[0]"
   ]
  },
  {
   "cell_type": "code",
   "execution_count": 95,
   "metadata": {},
   "outputs": [
    {
     "data": {
      "text/plain": [
       "<matplotlib.lines.Line2D at 0x1a1df90ad0>"
      ]
     },
     "execution_count": 95,
     "metadata": {},
     "output_type": "execute_result"
    },
    {
     "data": {
      "image/png": "[encoded data removed]",
      "text/plain": [
       "<Figure size 432x288 with 1 Axes>"
      ]
     },
     "metadata": {
      "needs_background": "light"
     },
     "output_type": "display_data"
    }
   ],
   "source": [
    "ax = weekly_hours.plot(\n",
    "    kind='bar', x='weeknumber_date', y='hours', \n",
    "    color=weekly_hours['after_covid_campaign'].map({True: 'red', False: 'blue'}),\n",
    "    legend=False\n",
    ")\n",
    "\n",
    "ax.axhline(before_covid_mean, c='blue', linestyle='--')\n",
    "ax.axhline(after_covid_mean, c='red', linestyle='--')"
   ]
  },
  {
   "cell_type": "code",
   "execution_count": null,
   "metadata": {},
   "outputs": [],
   "source": []
  }
 ],
 "metadata": {
  "kernelspec": {
   "display_name": "Python 3",
   "language": "python",
   "name": "python3"
  },
  "language_info": {
   "codemirror_mode": {
    "name": "ipython",
    "version": 3
   },
   "file_extension": ".py",
   "mimetype": "text/x-python",
   "name": "python",
   "nbconvert_exporter": "python",
   "pygments_lexer": "ipython3",
   "version": "3.7.7"
  }
 },
 "nbformat": 4,
 "nbformat_minor": 4
}
