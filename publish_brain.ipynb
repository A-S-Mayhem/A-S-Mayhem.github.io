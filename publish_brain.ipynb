{
 "cells": [
  {
   "cell_type": "markdown",
   "metadata": {},
   "source": [
    "Publish .md's from Brain (Obsidian database)"
   ]
  },
  {
   "cell_type": "code",
   "execution_count": 3,
   "metadata": {},
   "outputs": [
    {
     "data": {
      "text/plain": [
       "[PosixPath('/home/benjis/Brain/Stream/202206221132 Encoder-decoder models.md'),\n",
       " PosixPath('/home/benjis/Brain/Stream/202206192157 Print keys with jq.md'),\n",
       " PosixPath('/home/benjis/Brain/Stream/202206171407 Embeddings.md')]"
      ]
     },
     "execution_count": 3,
     "metadata": {},
     "output_type": "execute_result"
    }
   ],
   "source": [
    "from pathlib import Path\n",
    "\n",
    "brain_dir = Path.home() / \"Brain\"\n",
    "to_publish = []\n",
    "for check_dir in (\n",
    "    brain_dir / \"Stream\",\n",
    "):\n",
    "    assert check_dir.exists(), check_dir\n",
    "    to_publish.extend(check_dir.rglob(\"*.md\"))\n",
    "\n",
    "to_publish"
   ]
  },
  {
   "cell_type": "code",
   "execution_count": 17,
   "metadata": {},
   "outputs": [
    {
     "name": "stdout",
     "output_type": "stream",
     "text": [
      "2022 06 22 11 32 Encoder-decoder models.md /home/benjis/code/bstee615.github.io/_posts/stream/2022-06-22-Encoder-decoder models.md False\n",
      "2022 06 19 21 57 Print keys with jq.md /home/benjis/code/bstee615.github.io/_posts/stream/2022-06-19-Print keys with jq.md True\n",
      "2022 06 17 14 07 Embeddings.md /home/benjis/code/bstee615.github.io/_posts/stream/2022-06-17-Embeddings.md False\n"
     ]
    },
    {
     "data": {
      "text/plain": [
       "[(PosixPath('/home/benjis/Brain/Stream/202206221132 Encoder-decoder models.md'),\n",
       "  PosixPath('/home/benjis/code/bstee615.github.io/_posts/stream/2022-06-22-Encoder-decoder models.md')),\n",
       " (PosixPath('/home/benjis/Brain/Stream/202206171407 Embeddings.md'),\n",
       "  PosixPath('/home/benjis/code/bstee615.github.io/_posts/stream/2022-06-17-Embeddings.md'))]"
      ]
     },
     "execution_count": 17,
     "metadata": {},
     "output_type": "execute_result"
    }
   ],
   "source": [
    "import re\n",
    "\n",
    "blog_dir = Path.cwd()\n",
    "stream_post_dir = blog_dir / \"_posts/stream\"\n",
    "file_copies = []\n",
    "\n",
    "def copy_note(brain_fp, post_fp):\n",
    "    file_copies.append((brain_fp, post_fp))\n",
    "\n",
    "for brain_fp in to_publish:\n",
    "    m = re.match(r\"([0-9]{4})([0-9]{2})([0-9]{2})([0-9]{2})([0-9]{2})[\\s-]+(.*)\", brain_fp.name)\n",
    "    if m is None:\n",
    "        continue\n",
    "    year, month, day, hour, minute, title = m.groups()\n",
    "    post_fp = stream_post_dir / (f\"{year}-{month}-{day}-{title}\")\n",
    "    print(year, month, day, hour, minute, title, post_fp, post_fp.exists())\n",
    "    if not post_fp.exists():\n",
    "        copy_note(brain_fp, post_fp)\n",
    "\n",
    "file_copies"
   ]
  },
  {
   "cell_type": "code",
   "execution_count": 18,
   "metadata": {},
   "outputs": [],
   "source": [
    "import shutil\n",
    "\n",
    "for from_fp, to_fp in file_copies:\n",
    "    to_fp.relative_to(blog_dir)\n",
    "\n",
    "for from_fp, to_fp in file_copies:\n",
    "    shutil.copyfile(from_fp, to_fp)"
   ]
  }
 ],
 "metadata": {
  "kernelspec": {
   "display_name": "Python 3.8.10 64-bit",
   "language": "python",
   "name": "python3"
  },
  "language_info": {
   "codemirror_mode": {
    "name": "ipython",
    "version": 3
   },
   "file_extension": ".py",
   "mimetype": "text/x-python",
   "name": "python",
   "nbconvert_exporter": "python",
   "pygments_lexer": "ipython3",
   "version": "3.8.10"
  },
  "orig_nbformat": 4,
  "vscode": {
   "interpreter": {
    "hash": "916dbcbb3f70747c44a77c7bcd40155683ae19c65e1c03b4aa3499c5328201f1"
   }
  }
 },
 "nbformat": 4,
 "nbformat_minor": 2
}
