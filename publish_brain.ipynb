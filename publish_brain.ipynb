{
 "cells": [
  {
   "cell_type": "markdown",
   "metadata": {},
   "source": [
    "Publish .md's from Brain (Obsidian database)"
   ]
  },
  {
   "cell_type": "code",
   "execution_count": 78,
   "metadata": {},
   "outputs": [
    {
     "data": {
      "text/plain": [
       "[PosixPath('/home/benjis/Brain/Stream/202206221132 Encoder-decoder models.md'),\n",
       " PosixPath('/home/benjis/Brain/Stream/202206192157 Print keys with jq.md'),\n",
       " PosixPath('/home/benjis/Brain/Stream/202206171407 Embeddings.md')]"
      ]
     },
     "execution_count": 78,
     "metadata": {},
     "output_type": "execute_result"
    }
   ],
   "source": [
    "from pathlib import Path\n",
    "\n",
    "brain_dir = Path.home() / \"Brain\"\n",
    "to_publish = []\n",
    "for check_dir in (\n",
    "    brain_dir / \"Stream\",\n",
    "):\n",
    "    assert check_dir.exists(), check_dir\n",
    "    to_publish.extend(check_dir.rglob(\"*.md\"))\n",
    "\n",
    "to_publish"
   ]
  },
  {
   "cell_type": "code",
   "execution_count": 79,
   "metadata": {},
   "outputs": [
    {
     "name": "stdout",
     "output_type": "stream",
     "text": [
      "2022 06 22 11 32 Encoder-decoder models.md /home/benjis/code/bstee615.github.io/_posts/stream/2022-06-22-Encoder-decoder models.md True\n",
      "2022 06 19 21 57 Print keys with jq.md /home/benjis/code/bstee615.github.io/_posts/stream/2022-06-19-Print keys with jq.md True\n",
      "2022 06 17 14 07 Embeddings.md /home/benjis/code/bstee615.github.io/_posts/stream/2022-06-17-Embeddings.md True\n"
     ]
    },
    {
     "data": {
      "text/plain": [
       "[/home/benjis/Brain/Stream/202206171407 Embeddings.md -> _posts/stream/2022-06-17-Embeddings.md; is_note=True; 0 replacements]"
      ]
     },
     "execution_count": 79,
     "metadata": {},
     "output_type": "execute_result"
    }
   ],
   "source": [
    "import re\n",
    "import shutil\n",
    "\n",
    "blog_dir = Path.cwd()\n",
    "stream_post_dir = blog_dir / \"_posts/stream\"\n",
    "files_dir = blog_dir / \"files\"\n",
    "wikilink_re = re.compile(r\"!?\\[\\[([^\\]]+)\\]\\]\")\n",
    "file_copies = []\n",
    "\n",
    "class FileToCopy:\n",
    "    def __init__(self, from_fp, to_fp, is_note=False):\n",
    "        self.from_fp = from_fp\n",
    "        self.to_fp = to_fp.relative_to(blog_dir)\n",
    "        self.is_note = is_note\n",
    "        self.replacements = {}\n",
    "    \n",
    "    def __repr__(self):\n",
    "        return f\"{self.from_fp} -> {self.to_fp}; is_note={self.is_note}; {len(self.replacements)} replacements\"\n",
    "\n",
    "    def add_replacement(self, replace_target, replace_dest):\n",
    "        self.replacements[replace_target] = replace_dest\n",
    "    \n",
    "    def do_copy(self):\n",
    "        if self.is_note:\n",
    "            from_text = self.from_fp.read_text()\n",
    "            to_text = wikilink_re.sub(lambda m: f\"![{m.group(1)}]({self.replacements[m.group(1)]})\", from_text)\n",
    "            self.to_fp.write_text(to_text)\n",
    "        else:\n",
    "            shutil.copyfile(self.from_fp, self.to_fp)\n",
    "            pass\n",
    "\n",
    "def copy_note(note_fp, post_fp):\n",
    "    note_ftc = FileToCopy(note_fp, post_fp, is_note=True)\n",
    "    file_copies.append(note_ftc)\n",
    "    note_text = note_fp.read_text()\n",
    "    wikilink_paths = wikilink_re.findall(note_text)\n",
    "    for wikilink_url in wikilink_paths:\n",
    "        wikilink_fp = brain_dir / wikilink_url\n",
    "        post_wikilink_fp = files_dir / (post_fp.name + \"-\" + wikilink_fp.name)\n",
    "        file_copies.append(FileToCopy(wikilink_fp, post_wikilink_fp))\n",
    "        note_ftc.add_replacement(wikilink_url, f\"/{str(post_wikilink_fp.relative_to(blog_dir))}\")\n",
    "\n",
    "def newer(l, r):\n",
    "    return l.lstat().st_mtime > r.lstat().st_mtime\n",
    "\n",
    "for brain_fp in to_publish:\n",
    "    m = re.match(r\"([0-9]{4})([0-9]{2})([0-9]{2})([0-9]{2})([0-9]{2})[\\s-]+(.*)\", brain_fp.name)\n",
    "    if m is None:\n",
    "        continue\n",
    "    year, month, day, hour, minute, title = m.groups()\n",
    "    post_fp = stream_post_dir / (f\"{year}-{month}-{day}-{title}\")\n",
    "    print(year, month, day, hour, minute, title, post_fp, post_fp.exists())\n",
    "    if not post_fp.exists() or newer(brain_fp, post_fp):\n",
    "        copy_note(brain_fp, post_fp)\n",
    "\n",
    "file_copies"
   ]
  },
  {
   "cell_type": "code",
   "execution_count": 80,
   "metadata": {},
   "outputs": [],
   "source": [
    "for ftc in file_copies:\n",
    "    ftc.do_copy()"
   ]
  },
  {
   "cell_type": "code",
   "execution_count": null,
   "metadata": {},
   "outputs": [],
   "source": []
  }
 ],
 "metadata": {
  "kernelspec": {
   "display_name": "Python 3.8.10 64-bit",
   "language": "python",
   "name": "python3"
  },
  "language_info": {
   "codemirror_mode": {
    "name": "ipython",
    "version": 3
   },
   "file_extension": ".py",
   "mimetype": "text/x-python",
   "name": "python",
   "nbconvert_exporter": "python",
   "pygments_lexer": "ipython3",
   "version": "3.8.10"
  },
  "orig_nbformat": 4,
  "vscode": {
   "interpreter": {
    "hash": "916dbcbb3f70747c44a77c7bcd40155683ae19c65e1c03b4aa3499c5328201f1"
   }
  }
 },
 "nbformat": 4,
 "nbformat_minor": 2
}
