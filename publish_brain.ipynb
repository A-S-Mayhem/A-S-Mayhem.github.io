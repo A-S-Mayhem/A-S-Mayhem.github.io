{
 "cells": [
  {
   "cell_type": "markdown",
   "metadata": {},
   "source": [
    "Publish .md's from Brain (Obsidian database)"
   ]
  },
  {
   "cell_type": "code",
   "execution_count": 1,
   "metadata": {},
   "outputs": [],
   "source": [
    "%pip install python-frontmatter"
   ]
  },
  {
   "cell_type": "code",
   "execution_count": null,
   "metadata": {},
   "outputs": [
    {
     "data": {
      "text/plain": [
       "[PosixPath('/home/benjis/Brain/Stream/202206221132 Encoder-decoder models.md'),\n",
       " PosixPath('/home/benjis/Brain/Stream/202206192157 Print keys with jq.md'),\n",
       " PosixPath('/home/benjis/Brain/Stream/202206171407 Embeddings.md')]"
      ]
     },
     "execution_count": 2,
     "metadata": {},
     "output_type": "execute_result"
    }
   ],
   "source": [
    "from pathlib import Path\n",
    "\n",
    "brain_dir = Path.home() / \"Brain\"\n",
    "to_publish = []\n",
    "for check_dir in (\n",
    "    brain_dir / \"Stream\",\n",
    "):\n",
    "    assert check_dir.exists(), check_dir\n",
    "    to_publish.extend(check_dir.rglob(\"*.md\"))\n",
    "\n",
    "to_publish"
   ]
  },
  {
   "cell_type": "code",
   "execution_count": null,
   "metadata": {},
   "outputs": [
    {
     "name": "stdout",
     "output_type": "stream",
     "text": [
      "2022 06 22 11 32 Encoder-decoder models.md /home/benjis/code/bstee615.github.io/_posts/stream/2022-06-22-Encoder-decoder models.md True\n",
      "2022 06 19 21 57 Print keys with jq.md /home/benjis/code/bstee615.github.io/_posts/stream/2022-06-19-Print keys with jq.md True\n",
      "2022 06 17 14 07 Embeddings.md /home/benjis/code/bstee615.github.io/_posts/stream/2022-06-17-Embeddings.md True\n"
     ]
    },
    {
     "data": {
      "text/plain": [
       "[/home/benjis/Brain/Stream/202206221132 Encoder-decoder models.md -> _posts/stream/2022-06-22-Encoder-decoder models.md; is_note=True; 1 replacements,\n",
       " /home/benjis/Brain/Attachments/Pasted image 20220622113403.png -> files/2022-06-22-Encoder-decoder models.md-Pasted image 20220622113403.png; is_note=False; 0 replacements,\n",
       " /home/benjis/Brain/Stream/202206171407 Embeddings.md -> _posts/stream/2022-06-17-Embeddings.md; is_note=True; 0 replacements]"
      ]
     },
     "execution_count": 3,
     "metadata": {},
     "output_type": "execute_result"
    }
   ],
   "source": [
    "import re\n",
    "import shutil\n",
    "import frontmatter\n",
    "\n",
    "blog_dir = Path.cwd()\n",
    "stream_post_dir = blog_dir / \"_posts/stream\"\n",
    "files_dir = blog_dir / \"files\"\n",
    "wikilink_re = re.compile(r\"!?\\[\\[([^\\]]+)\\]\\]\")\n",
    "brain_name_re = re.compile(r\"([0-9]{4})([0-9]{2})([0-9]{2})([0-9]{2})([0-9]{2})[\\s-]+(.*)\")\n",
    "file_copies = []\n",
    "\n",
    "class FileToCopy:\n",
    "    def __init__(self, from_fp, to_fp, is_note=False):\n",
    "        self.from_fp = from_fp\n",
    "        self.to_fp = to_fp.relative_to(blog_dir)\n",
    "        self.is_note = is_note\n",
    "        self.replacements = {}\n",
    "    \n",
    "    def __repr__(self):\n",
    "        return f\"{self.from_fp} -> {self.to_fp}; is_note={self.is_note}; {len(self.replacements)} replacements\"\n",
    "\n",
    "    def add_replacement(self, replace_target, replace_dest):\n",
    "        self.replacements[replace_target] = replace_dest\n",
    "    \n",
    "    def do_copy(self):\n",
    "        if self.is_note:\n",
    "            from_text = self.from_fp.read_text()\n",
    "            to_text = wikilink_re.sub(lambda m: f\"![{m.group(1)}]({self.replacements[m.group(1)]})\", from_text)\n",
    "\n",
    "            to_text_parsed = frontmatter.loads(to_text)\n",
    "            if \"title\" not in to_text_parsed.metadata.keys():\n",
    "                title = brain_name_re.match(self.from_fp.name).group(6)\n",
    "                to_text_parsed.metadata[\"title\"] = title\n",
    "            to_text = frontmatter.dumps(to_text_parsed)\n",
    "\n",
    "            self.to_fp.write_text(to_text)\n",
    "        else:\n",
    "            shutil.copyfile(self.from_fp, self.to_fp)\n",
    "            pass\n",
    "\n",
    "def copy_note(note_fp, post_fp, title):\n",
    "    note_ftc = FileToCopy(note_fp, post_fp, is_note=True)\n",
    "    file_copies.append(note_ftc)\n",
    "    note_text = note_fp.read_text()\n",
    "    # register wikilinks (links in this format: [[some-other-file.png]])\n",
    "    wikilink_paths = wikilink_re.findall(note_text)\n",
    "    for wikilink_url in wikilink_paths:\n",
    "        wikilink_fp = brain_dir / wikilink_url\n",
    "        post_wikilink_fp = files_dir / (post_fp.name + \"-\" + wikilink_fp.name)\n",
    "        file_copies.append(FileToCopy(wikilink_fp, post_wikilink_fp))\n",
    "        note_ftc.add_replacement(wikilink_url, f\"/{str(post_wikilink_fp.relative_to(blog_dir))}\")\n",
    "\n",
    "def newer(l, r):\n",
    "    return l.lstat().st_mtime > r.lstat().st_mtime\n",
    "\n",
    "for brain_fp in to_publish:\n",
    "    m = brain_name_re.match(brain_fp.name)\n",
    "    if m is None:\n",
    "        continue\n",
    "    year, month, day, hour, minute, title = m.groups()\n",
    "    post_fp = stream_post_dir / (f\"{year}-{month}-{day}-{title}\")\n",
    "    print(year, month, day, hour, minute, title, post_fp, post_fp.exists())\n",
    "    if not post_fp.exists() or newer(brain_fp, post_fp):\n",
    "        copy_note(brain_fp, post_fp, title)\n",
    "\n",
    "file_copies"
   ]
  },
  {
   "cell_type": "code",
   "execution_count": null,
   "metadata": {},
   "outputs": [
    {
     "ename": "AttributeError",
     "evalue": "module 'frontmatter' has no attribute 'loads'",
     "output_type": "error",
     "traceback": [
      "\u001b[0;31m---------------------------------------------------------------------------\u001b[0m",
      "\u001b[0;31mAttributeError\u001b[0m                            Traceback (most recent call last)",
      "\u001b[1;32m/home/benjis/code/bstee615.github.io/publish_brain.ipynb Cell 5'\u001b[0m in \u001b[0;36m<cell line: 1>\u001b[0;34m()\u001b[0m\n\u001b[1;32m      <a href='vscode-notebook-cell:/home/benjis/code/bstee615.github.io/publish_brain.ipynb#ch0000004?line=0'>1</a>\u001b[0m \u001b[39mfor\u001b[39;00m ftc \u001b[39min\u001b[39;00m file_copies:\n\u001b[0;32m----> <a href='vscode-notebook-cell:/home/benjis/code/bstee615.github.io/publish_brain.ipynb#ch0000004?line=1'>2</a>\u001b[0m     ftc\u001b[39m.\u001b[39;49mdo_copy()\n",
      "\u001b[1;32m/home/benjis/code/bstee615.github.io/publish_brain.ipynb Cell 4'\u001b[0m in \u001b[0;36mFileToCopy.do_copy\u001b[0;34m(self)\u001b[0m\n\u001b[1;32m     <a href='vscode-notebook-cell:/home/benjis/code/bstee615.github.io/publish_brain.ipynb#ch0000003?line=26'>27</a>\u001b[0m from_text \u001b[39m=\u001b[39m \u001b[39mself\u001b[39m\u001b[39m.\u001b[39mfrom_fp\u001b[39m.\u001b[39mread_text()\n\u001b[1;32m     <a href='vscode-notebook-cell:/home/benjis/code/bstee615.github.io/publish_brain.ipynb#ch0000003?line=27'>28</a>\u001b[0m to_text \u001b[39m=\u001b[39m wikilink_re\u001b[39m.\u001b[39msub(\u001b[39mlambda\u001b[39;00m m: \u001b[39mf\u001b[39m\u001b[39m\"\u001b[39m\u001b[39m![\u001b[39m\u001b[39m{\u001b[39;00mm\u001b[39m.\u001b[39mgroup(\u001b[39m1\u001b[39m)\u001b[39m}\u001b[39;00m\u001b[39m](\u001b[39m\u001b[39m{\u001b[39;00m\u001b[39mself\u001b[39m\u001b[39m.\u001b[39mreplacements[m\u001b[39m.\u001b[39mgroup(\u001b[39m1\u001b[39m)]\u001b[39m}\u001b[39;00m\u001b[39m)\u001b[39m\u001b[39m\"\u001b[39m, from_text)\n\u001b[0;32m---> <a href='vscode-notebook-cell:/home/benjis/code/bstee615.github.io/publish_brain.ipynb#ch0000003?line=29'>30</a>\u001b[0m to_text_parsed \u001b[39m=\u001b[39m frontmatter\u001b[39m.\u001b[39;49mloads(to_text)\n\u001b[1;32m     <a href='vscode-notebook-cell:/home/benjis/code/bstee615.github.io/publish_brain.ipynb#ch0000003?line=30'>31</a>\u001b[0m \u001b[39mif\u001b[39;00m \u001b[39m\"\u001b[39m\u001b[39mtitle\u001b[39m\u001b[39m\"\u001b[39m \u001b[39mnot\u001b[39;00m \u001b[39min\u001b[39;00m to_text_parsed\u001b[39m.\u001b[39mmetadata\u001b[39m.\u001b[39mkeys():\n\u001b[1;32m     <a href='vscode-notebook-cell:/home/benjis/code/bstee615.github.io/publish_brain.ipynb#ch0000003?line=31'>32</a>\u001b[0m     title \u001b[39m=\u001b[39m brain_name_re\u001b[39m.\u001b[39mmatch(\u001b[39mself\u001b[39m\u001b[39m.\u001b[39mfrom_fp\u001b[39m.\u001b[39mname)\u001b[39m.\u001b[39mgroup(\u001b[39m6\u001b[39m)\n",
      "\u001b[0;31mAttributeError\u001b[0m: module 'frontmatter' has no attribute 'loads'"
     ]
    }
   ],
   "source": [
    "for ftc in file_copies:\n",
    "    ftc.do_copy()"
   ]
  },
  {
   "cell_type": "code",
   "execution_count": null,
   "metadata": {},
   "outputs": [],
   "source": []
  }
 ],
 "metadata": {
  "kernelspec": {
   "display_name": "Python 3.8.10 64-bit",
   "language": "python",
   "name": "python3"
  },
  "language_info": {
   "codemirror_mode": {
    "name": "ipython",
    "version": 3
   },
   "file_extension": ".py",
   "mimetype": "text/x-python",
   "name": "python",
   "nbconvert_exporter": "python",
   "pygments_lexer": "ipython3",
   "version": "3.8.10"
  },
  "orig_nbformat": 4,
  "vscode": {
   "interpreter": {
    "hash": "916dbcbb3f70747c44a77c7bcd40155683ae19c65e1c03b4aa3499c5328201f1"
   }
  }
 },
 "nbformat": 4,
 "nbformat_minor": 2
}
