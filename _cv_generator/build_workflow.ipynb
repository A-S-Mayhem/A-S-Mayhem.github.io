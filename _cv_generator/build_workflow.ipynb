{
 "cells": [
  {
   "cell_type": "code",
   "execution_count": 28,
   "metadata": {},
   "outputs": [],
   "source": [
    "import pandas as pd\n",
    "from jinja2 import Template, Environment, FileSystemLoader\n",
    "import os\n",
    "import subprocess"
   ]
  },
  {
   "cell_type": "code",
   "execution_count": 5,
   "metadata": {},
   "outputs": [],
   "source": [
    "fn_pubs = '../markdown_generator/publications.tsv'\n",
    "df_pubs = pd.read_csv(fn_pubs, sep='\\t')\n",
    "pubs = df_pubs.to_dict(orient='records')"
   ]
  },
  {
   "attachments": {},
   "cell_type": "markdown",
   "metadata": {},
   "source": [
    "### Generate Markdown from Template"
   ]
  },
  {
   "cell_type": "code",
   "execution_count": 41,
   "metadata": {},
   "outputs": [],
   "source": [
    "# Load the Markdown template\n",
    "with open('template.md') as file:\n",
    "    template_content = file.read()\n",
    "\n",
    "# Create a Jinja2 Template object\n",
    "template = Template(template_content)\n",
    "\n",
    "# Render the template with the publications data\n",
    "markdown_output = template.render(publications=pubs)\n",
    "\n",
    "# Save the rendered Markdown content to a file\n",
    "with open('cv.md', 'w') as file:\n",
    "    file.write(markdown_output)\n"
   ]
  },
  {
   "attachments": {},
   "cell_type": "markdown",
   "metadata": {},
   "source": [
    "### Try to use custom template for html"
   ]
  },
  {
   "cell_type": "code",
   "execution_count": 42,
   "metadata": {},
   "outputs": [
    {
     "data": {
      "text/plain": [
       "CompletedProcess(args=['rm', 'temp.md'], returncode=0)"
      ]
     },
     "execution_count": 42,
     "metadata": {},
     "output_type": "execute_result"
    }
   ],
   "source": [
    "# Read the Markdown content from file\n",
    "with open('cv.md') as file:\n",
    "    markdown_content = file.read()\n",
    "\n",
    "# Create a Jinja2 environment and load the template file\n",
    "env = Environment(loader=FileSystemLoader('.'))\n",
    "template = env.get_template('cv_template.html')\n",
    "\n",
    "# Render the template with the Markdown content\n",
    "rendered_content = template.render(content=markdown_content)\n",
    "\n",
    "# Write the rendered content to a temporary Markdown file\n",
    "with open('temp.md', 'w') as file:\n",
    "    file.write(rendered_content)\n",
    "\n",
    "# Convert the temporary Markdown file to HTML using Pandoc\n",
    "subprocess.run(['pandoc', 'temp.md', '-o', 'cv.html'])\n",
    "\n",
    "# Remove the temporary Markdown file\n",
    "subprocess.run(['rm', 'temp.md'])\n"
   ]
  },
  {
   "attachments": {},
   "cell_type": "markdown",
   "metadata": {},
   "source": [
    "### Change to use bibtex (not csv)"
   ]
  },
  {
   "cell_type": "code",
   "execution_count": 83,
   "metadata": {},
   "outputs": [],
   "source": [
    "import bibtexparser"
   ]
  },
  {
   "attachments": {},
   "cell_type": "markdown",
   "metadata": {},
   "source": [
    "##### parse bibtex file"
   ]
  },
  {
   "cell_type": "code",
   "execution_count": 84,
   "metadata": {},
   "outputs": [],
   "source": [
    "# Read the BibTeX file using bibtexparser\n",
    "with open('publications.bib') as file:\n",
    "    publications = bibtexparser.load(file).entries\n",
    "\n",
    "with open('talks.bib') as file:\n",
    "    talks = bibtexparser.load(file).entries\n"
   ]
  },
  {
   "attachments": {},
   "cell_type": "markdown",
   "metadata": {},
   "source": [
    "##### add publications / talks using jinja2"
   ]
  },
  {
   "cell_type": "code",
   "execution_count": 85,
   "metadata": {},
   "outputs": [],
   "source": [
    "# Load the Markdown template\n",
    "with open('template.md') as file:\n",
    "    template_content = file.read()\n",
    "\n",
    "# Create a Jinja2 Template object\n",
    "template = Template(template_content)\n",
    "\n",
    "# Render the template with the publications data\n",
    "markdown_output = template.render(publications=publications, talks=talks)\n",
    "\n",
    "# Save the rendered Markdown content to a file\n",
    "with open('cv.md', 'w') as file:\n",
    "    file.write(markdown_output)\n"
   ]
  },
  {
   "attachments": {},
   "cell_type": "markdown",
   "metadata": {},
   "source": [
    "##### bold every instance of me name"
   ]
  },
  {
   "cell_type": "code",
   "execution_count": 86,
   "metadata": {},
   "outputs": [],
   "source": [
    "import re\n",
    "\n",
    "def bold_string_in_markdown(markdown_content, target_string):\n",
    "    markdown_new = markdown_content.replace(target_string, '**' + target_string + '**')\n",
    "\n",
    "    return markdown_new\n",
    "\n",
    "# Read the Markdown content from file\n",
    "with open('cv.md') as file:\n",
    "    markdown_content = file.read()\n",
    "\n",
    "# Bold the target string in the Markdown content\n",
    "bolded_content = bold_string_in_markdown(markdown_content, 'Ragland, John')\n",
    "\n",
    "# Save the bolded Markdown content to a new file\n",
    "with open('cv.md', 'w') as file:\n",
    "    file.write(bolded_content)\n"
   ]
  },
  {
   "attachments": {},
   "cell_type": "markdown",
   "metadata": {},
   "source": [
    "##### build html file from custom template cv_template.html"
   ]
  },
  {
   "cell_type": "code",
   "execution_count": 87,
   "metadata": {},
   "outputs": [
    {
     "data": {
      "text/plain": [
       "CompletedProcess(args=['rm', 'temp.md'], returncode=0)"
      ]
     },
     "execution_count": 87,
     "metadata": {},
     "output_type": "execute_result"
    }
   ],
   "source": [
    "# Read the Markdown content from file\n",
    "with open('cv.md') as file:\n",
    "    markdown_content = file.read()\n",
    "\n",
    "# Create a Jinja2 environment and load the template file\n",
    "env = Environment(loader=FileSystemLoader('.'))\n",
    "template = env.get_template('cv_template.html')\n",
    "\n",
    "# Render the template with the Markdown content\n",
    "rendered_content = template.render(content=markdown_content)\n",
    "\n",
    "# Write the rendered content to a temporary Markdown file\n",
    "with open('temp.md', 'w') as file:\n",
    "    file.write(rendered_content)\n",
    "\n",
    "# Convert the temporary Markdown file to HTML using Pandoc\n",
    "subprocess.run(['pandoc', 'temp.md', '-o', 'cv.html'])\n",
    "\n",
    "# Remove the temporary Markdown file\n",
    "subprocess.run(['rm', 'temp.md'])\n"
   ]
  },
  {
   "attachments": {},
   "cell_type": "markdown",
   "metadata": {},
   "source": [
    "##### Build PDF from Markdown"
   ]
  },
  {
   "cell_type": "code",
   "execution_count": 90,
   "metadata": {},
   "outputs": [
    {
     "name": "stderr",
     "output_type": "stream",
     "text": [
      "Error producing PDF.\n",
      "! LaTeX Error: Can be used only in preamble.\n",
      "\n",
      "See the LaTeX manual or LaTeX Companion for explanation.\n",
      "Type  H <return>  for immediate help.\n",
      " ...                                              \n",
      "                                                  \n",
      "l.55 \\documentclass\n",
      "\n"
     ]
    },
    {
     "data": {
      "text/plain": [
       "CompletedProcess(args=['rm', 'temp.md'], returncode=0)"
      ]
     },
     "execution_count": 90,
     "metadata": {},
     "output_type": "execute_result"
    }
   ],
   "source": [
    "# Read the Markdown content from file\n",
    "with open('cv.md') as file:\n",
    "    markdown_content = file.read()\n",
    "\n",
    "# Create a Jinja2 environment and load the template file\n",
    "env = Environment(loader=FileSystemLoader('.'))\n",
    "template = env.get_template('cv_template.tex')\n",
    "\n",
    "# Render the template with the Markdown content\n",
    "rendered_content = template.render(content=markdown_content)\n",
    "\n",
    "# Write the rendered content to a temporary Markdown file\n",
    "with open('temp.md', 'w') as file:\n",
    "    file.write(rendered_content)\n",
    "\n",
    "# Convert the temporary Markdown file to HTML using Pandoc\n",
    "subprocess.run(['pandoc', 'temp.md', '-o', 'cv.pdf'])\n",
    "\n",
    "# Remove the temporary Markdown file\n",
    "subprocess.run(['rm', 'temp.md'])\n"
   ]
  },
  {
   "cell_type": "code",
   "execution_count": null,
   "metadata": {},
   "outputs": [],
   "source": []
  },
  {
   "attachments": {},
   "cell_type": "markdown",
   "metadata": {},
   "source": [
    "## Create code that can pull from zotero"
   ]
  },
  {
   "cell_type": "code",
   "execution_count": 8,
   "metadata": {},
   "outputs": [],
   "source": [
    "import pyzotero\n",
    "import bibtexparser\n",
    "from bibtexparser.bwriter import BibTexWriter\n",
    "\n",
    "from pyzotero import zotero"
   ]
  },
  {
   "cell_type": "code",
   "execution_count": 11,
   "metadata": {},
   "outputs": [],
   "source": [
    "\n",
    "# Configure Zotero API access\n",
    "library_id = '5442436'\n",
    "library_type = 'user'\n",
    "api_key = 'B7alYThzKtI8l30sMofxru2f'\n",
    "\n",
    "# Create a Zotero API client\n",
    "zot = zotero.Zotero(library_id, library_type, api_key)\n"
   ]
  },
  {
   "cell_type": "code",
   "execution_count": 23,
   "metadata": {},
   "outputs": [],
   "source": [
    "collection_name = 'talks'\n",
    "\n",
    "for collection in zot.collections():\n",
    "    if collection['data']['name'] == 'talks':\n",
    "        talks_key = collection['key']\n",
    "    if collection['data']['name'] == 'papers':\n",
    "        papers_key = collection['key']\n",
    "    if collection['data']['name'] == 'thesi':\n",
    "        thesi_key = collection['key']\n"
   ]
  },
  {
   "cell_type": "code",
   "execution_count": 26,
   "metadata": {},
   "outputs": [],
   "source": [
    "items = zot.collection_items(talks_key)"
   ]
  },
  {
   "cell_type": "code",
   "execution_count": 29,
   "metadata": {},
   "outputs": [],
   "source": [
    "item_details = zot.item(items[0]['key'])"
   ]
  },
  {
   "cell_type": "code",
   "execution_count": 30,
   "metadata": {},
   "outputs": [
    {
     "data": {
      "text/plain": [
       "{'key': 'D6BKAJJX',\n",
       " 'version': 4735,\n",
       " 'library': {'type': 'user',\n",
       "  'id': 5442436,\n",
       "  'name': 'John Ragland',\n",
       "  'links': {'alternate': {'href': 'https://www.zotero.org/john_ragland',\n",
       "    'type': 'text/html'}}},\n",
       " 'links': {'self': {'href': 'https://api.zotero.org/users/5442436/items/D6BKAJJX',\n",
       "   'type': 'application/json'},\n",
       "  'alternate': {'href': 'https://www.zotero.org/john_ragland/items/D6BKAJJX',\n",
       "   'type': 'text/html'}},\n",
       " 'meta': {'creatorSummary': 'Douglass et al.',\n",
       "  'parsedDate': '2023-03-01',\n",
       "  'numChildren': 0},\n",
       " 'data': {'key': 'D6BKAJJX',\n",
       "  'version': 4735,\n",
       "  'itemType': 'journalArticle',\n",
       "  'title': 'Overview of distributed acoustic sensing technology and recently acquired data sets',\n",
       "  'creators': [{'creatorType': 'author',\n",
       "    'firstName': 'Alexander S.',\n",
       "    'lastName': 'Douglass'},\n",
       "   {'creatorType': 'author', 'firstName': 'John', 'lastName': 'Ragland'},\n",
       "   {'creatorType': 'author', 'firstName': 'Shima', 'lastName': 'Abadi'}],\n",
       "  'abstractNote': 'Fiber optic distributed acoustic sensing (DAS) is a recent innovation utilized primarily in the seismic community for measuring seismic acoustics signals at low frequencies (single digit Hz and below). The technique utilizes strain rates in a fiber optic cable, observed via the backscatter of light pulses, to measure the acoustic field. Recently, the capabilities of this technology to measure higher frequency acoustic fields (10s to 100s of Hz) have been explored. Low frequency marine mammals calls at ∼20 Hz and ship noises have been successfully recorded, and a recent experiment demonstrated the capability to record up to ∼500 Hz. This talk provides an overview of DAS technology and introduces two recent experiments for studying water column acoustics with DAS. A 4-day experiment conducted in November 2020 as part of the Ocean Observatories Initiative (OOI) provides data along two fiber optic cables extending west from the coast of Oregon by 65 km and 95 km, reaching depths of 590 m and 1575 m, respectively. DASCAL22, a recent experiment from October 2022, simultaneously recorded data using DAS at 2 kHz sampling rate on a cable extending 3.54km at ∼100 m depth and multiple moored hydrophones placed close to the DAS cable, allowing direct comparison between a new and existing technology.',\n",
       "  'publicationTitle': 'The Journal of the Acoustical Society of America',\n",
       "  'volume': '153',\n",
       "  'issue': '3_supplement',\n",
       "  'pages': 'A64-A64',\n",
       "  'date': '2023-03-01',\n",
       "  'series': '',\n",
       "  'seriesTitle': '',\n",
       "  'seriesText': '',\n",
       "  'journalAbbreviation': '',\n",
       "  'language': 'en',\n",
       "  'DOI': '10.1121/10.0018174',\n",
       "  'ISSN': '0001-4966, 1520-8524',\n",
       "  'shortTitle': '',\n",
       "  'url': 'https://pubs.aip.org/jasa/article/153/3_supplement/A64/2885538/Overview-of-distributed-acoustic-sensing',\n",
       "  'accessDate': '2023-06-06T18:36:11Z',\n",
       "  'archive': '',\n",
       "  'archiveLocation': '',\n",
       "  'libraryCatalog': 'DOI.org (Crossref)',\n",
       "  'callNumber': '',\n",
       "  'rights': '',\n",
       "  'extra': '',\n",
       "  'tags': [],\n",
       "  'collections': ['JSSZ9XTB', 'ZRKYJLDM'],\n",
       "  'relations': {},\n",
       "  'dateAdded': '2023-06-06T18:36:11Z',\n",
       "  'dateModified': '2023-06-06T18:36:11Z'}}"
      ]
     },
     "execution_count": 30,
     "metadata": {},
     "output_type": "execute_result"
    }
   ],
   "source": [
    "item_details"
   ]
  },
  {
   "cell_type": "code",
   "execution_count": null,
   "metadata": {},
   "outputs": [],
   "source": []
  }
 ],
 "metadata": {
  "kernelspec": {
   "display_name": "ooi_dev9",
   "language": "python",
   "name": "python3"
  },
  "language_info": {
   "codemirror_mode": {
    "name": "ipython",
    "version": 3
   },
   "file_extension": ".py",
   "mimetype": "text/x-python",
   "name": "python",
   "nbconvert_exporter": "python",
   "pygments_lexer": "ipython3",
   "version": "3.9.7"
  },
  "orig_nbformat": 4
 },
 "nbformat": 4,
 "nbformat_minor": 2
}
