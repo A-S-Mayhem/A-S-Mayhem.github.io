{
 "cells": [
  {
   "cell_type": "code",
   "execution_count": 28,
   "metadata": {},
   "outputs": [],
   "source": [
    "import pandas as pd\n",
    "from jinja2 import Template, Environment, FileSystemLoader\n",
    "import os\n",
    "import subprocess"
   ]
  },
  {
   "cell_type": "code",
   "execution_count": 5,
   "metadata": {},
   "outputs": [],
   "source": [
    "fn_pubs = '../markdown_generator/publications.tsv'\n",
    "df_pubs = pd.read_csv(fn_pubs, sep='\\t')\n",
    "pubs = df_pubs.to_dict(orient='records')"
   ]
  },
  {
   "attachments": {},
   "cell_type": "markdown",
   "metadata": {},
   "source": [
    "### Generate Markdown from Template"
   ]
  },
  {
   "cell_type": "code",
   "execution_count": 41,
   "metadata": {},
   "outputs": [],
   "source": [
    "# Load the Markdown template\n",
    "with open('template.md') as file:\n",
    "    template_content = file.read()\n",
    "\n",
    "# Create a Jinja2 Template object\n",
    "template = Template(template_content)\n",
    "\n",
    "# Render the template with the publications data\n",
    "markdown_output = template.render(publications=pubs)\n",
    "\n",
    "# Save the rendered Markdown content to a file\n",
    "with open('cv.md', 'w') as file:\n",
    "    file.write(markdown_output)\n"
   ]
  },
  {
   "attachments": {},
   "cell_type": "markdown",
   "metadata": {},
   "source": [
    "### Try to use custom template for html"
   ]
  },
  {
   "cell_type": "code",
   "execution_count": 42,
   "metadata": {},
   "outputs": [
    {
     "data": {
      "text/plain": [
       "CompletedProcess(args=['rm', 'temp.md'], returncode=0)"
      ]
     },
     "execution_count": 42,
     "metadata": {},
     "output_type": "execute_result"
    }
   ],
   "source": [
    "# Read the Markdown content from file\n",
    "with open('cv.md') as file:\n",
    "    markdown_content = file.read()\n",
    "\n",
    "# Create a Jinja2 environment and load the template file\n",
    "env = Environment(loader=FileSystemLoader('.'))\n",
    "template = env.get_template('cv_template.html')\n",
    "\n",
    "# Render the template with the Markdown content\n",
    "rendered_content = template.render(content=markdown_content)\n",
    "\n",
    "# Write the rendered content to a temporary Markdown file\n",
    "with open('temp.md', 'w') as file:\n",
    "    file.write(rendered_content)\n",
    "\n",
    "# Convert the temporary Markdown file to HTML using Pandoc\n",
    "subprocess.run(['pandoc', 'temp.md', '-o', 'cv.html'])\n",
    "\n",
    "# Remove the temporary Markdown file\n",
    "subprocess.run(['rm', 'temp.md'])\n"
   ]
  },
  {
   "attachments": {},
   "cell_type": "markdown",
   "metadata": {},
   "source": [
    "### Change to use bibtex (not csv)"
   ]
  },
  {
   "cell_type": "code",
   "execution_count": 83,
   "metadata": {},
   "outputs": [],
   "source": [
    "import bibtexparser"
   ]
  },
  {
   "attachments": {},
   "cell_type": "markdown",
   "metadata": {},
   "source": [
    "##### parse bibtex file"
   ]
  },
  {
   "cell_type": "code",
   "execution_count": 84,
   "metadata": {},
   "outputs": [],
   "source": [
    "# Read the BibTeX file using bibtexparser\n",
    "with open('publications.bib') as file:\n",
    "    publications = bibtexparser.load(file).entries\n",
    "\n",
    "with open('talks.bib') as file:\n",
    "    talks = bibtexparser.load(file).entries\n"
   ]
  },
  {
   "attachments": {},
   "cell_type": "markdown",
   "metadata": {},
   "source": [
    "##### add publications / talks using jinja2"
   ]
  },
  {
   "cell_type": "code",
   "execution_count": 85,
   "metadata": {},
   "outputs": [],
   "source": [
    "# Load the Markdown template\n",
    "with open('template.md') as file:\n",
    "    template_content = file.read()\n",
    "\n",
    "# Create a Jinja2 Template object\n",
    "template = Template(template_content)\n",
    "\n",
    "# Render the template with the publications data\n",
    "markdown_output = template.render(publications=publications, talks=talks)\n",
    "\n",
    "# Save the rendered Markdown content to a file\n",
    "with open('cv.md', 'w') as file:\n",
    "    file.write(markdown_output)\n"
   ]
  },
  {
   "attachments": {},
   "cell_type": "markdown",
   "metadata": {},
   "source": [
    "##### bold every instance of me name"
   ]
  },
  {
   "cell_type": "code",
   "execution_count": 86,
   "metadata": {},
   "outputs": [],
   "source": [
    "import re\n",
    "\n",
    "def bold_string_in_markdown(markdown_content, target_string):\n",
    "    markdown_new = markdown_content.replace(target_string, '**' + target_string + '**')\n",
    "\n",
    "    return markdown_new\n",
    "\n",
    "# Read the Markdown content from file\n",
    "with open('cv.md') as file:\n",
    "    markdown_content = file.read()\n",
    "\n",
    "# Bold the target string in the Markdown content\n",
    "bolded_content = bold_string_in_markdown(markdown_content, 'Ragland, John')\n",
    "\n",
    "# Save the bolded Markdown content to a new file\n",
    "with open('cv.md', 'w') as file:\n",
    "    file.write(bolded_content)\n"
   ]
  },
  {
   "attachments": {},
   "cell_type": "markdown",
   "metadata": {},
   "source": [
    "##### build html file from custom template cv_template.html"
   ]
  },
  {
   "cell_type": "code",
   "execution_count": 87,
   "metadata": {},
   "outputs": [
    {
     "data": {
      "text/plain": [
       "CompletedProcess(args=['rm', 'temp.md'], returncode=0)"
      ]
     },
     "execution_count": 87,
     "metadata": {},
     "output_type": "execute_result"
    }
   ],
   "source": [
    "# Read the Markdown content from file\n",
    "with open('cv.md') as file:\n",
    "    markdown_content = file.read()\n",
    "\n",
    "# Create a Jinja2 environment and load the template file\n",
    "env = Environment(loader=FileSystemLoader('.'))\n",
    "template = env.get_template('cv_template.html')\n",
    "\n",
    "# Render the template with the Markdown content\n",
    "rendered_content = template.render(content=markdown_content)\n",
    "\n",
    "# Write the rendered content to a temporary Markdown file\n",
    "with open('temp.md', 'w') as file:\n",
    "    file.write(rendered_content)\n",
    "\n",
    "# Convert the temporary Markdown file to HTML using Pandoc\n",
    "subprocess.run(['pandoc', 'temp.md', '-o', 'cv.html'])\n",
    "\n",
    "# Remove the temporary Markdown file\n",
    "subprocess.run(['rm', 'temp.md'])\n"
   ]
  },
  {
   "attachments": {},
   "cell_type": "markdown",
   "metadata": {},
   "source": [
    "##### Build PDF from Markdown"
   ]
  },
  {
   "cell_type": "code",
   "execution_count": 90,
   "metadata": {},
   "outputs": [
    {
     "name": "stderr",
     "output_type": "stream",
     "text": [
      "Error producing PDF.\n",
      "! LaTeX Error: Can be used only in preamble.\n",
      "\n",
      "See the LaTeX manual or LaTeX Companion for explanation.\n",
      "Type  H <return>  for immediate help.\n",
      " ...                                              \n",
      "                                                  \n",
      "l.55 \\documentclass\n",
      "\n"
     ]
    },
    {
     "data": {
      "text/plain": [
       "CompletedProcess(args=['rm', 'temp.md'], returncode=0)"
      ]
     },
     "execution_count": 90,
     "metadata": {},
     "output_type": "execute_result"
    }
   ],
   "source": [
    "# Read the Markdown content from file\n",
    "with open('cv.md') as file:\n",
    "    markdown_content = file.read()\n",
    "\n",
    "# Create a Jinja2 environment and load the template file\n",
    "env = Environment(loader=FileSystemLoader('.'))\n",
    "template = env.get_template('cv_template.tex')\n",
    "\n",
    "# Render the template with the Markdown content\n",
    "rendered_content = template.render(content=markdown_content)\n",
    "\n",
    "# Write the rendered content to a temporary Markdown file\n",
    "with open('temp.md', 'w') as file:\n",
    "    file.write(rendered_content)\n",
    "\n",
    "# Convert the temporary Markdown file to HTML using Pandoc\n",
    "subprocess.run(['pandoc', 'temp.md', '-o', 'cv.pdf'])\n",
    "\n",
    "# Remove the temporary Markdown file\n",
    "subprocess.run(['rm', 'temp.md'])\n"
   ]
  },
  {
   "cell_type": "code",
   "execution_count": null,
   "metadata": {},
   "outputs": [],
   "source": []
  }
 ],
 "metadata": {
  "kernelspec": {
   "display_name": "ooi_dev9",
   "language": "python",
   "name": "python3"
  },
  "language_info": {
   "codemirror_mode": {
    "name": "ipython",
    "version": 3
   },
   "file_extension": ".py",
   "mimetype": "text/x-python",
   "name": "python",
   "nbconvert_exporter": "python",
   "pygments_lexer": "ipython3",
   "version": "3.9.7"
  },
  "orig_nbformat": 4
 },
 "nbformat": 4,
 "nbformat_minor": 2
}
