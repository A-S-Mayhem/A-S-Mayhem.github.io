{
 "cells": [
  {
   "cell_type": "code",
   "execution_count": 9,
   "metadata": {},
   "outputs": [
    {
     "ename": "ModuleNotFoundError",
     "evalue": "No module named 'pandoc'",
     "output_type": "error",
     "traceback": [
      "\u001b[0;31m---------------------------------------------------------------------------\u001b[0m",
      "\u001b[0;31mModuleNotFoundError\u001b[0m                       Traceback (most recent call last)",
      "\u001b[0;32m/var/folders/mt/5p8b1dpj5nz4q816gfl4gzl40000gp/T/ipykernel_62985/1120462578.py\u001b[0m in \u001b[0;36m<module>\u001b[0;34m\u001b[0m\n\u001b[1;32m      4\u001b[0m \u001b[0;32mimport\u001b[0m \u001b[0msubprocess\u001b[0m\u001b[0;34m\u001b[0m\u001b[0;34m\u001b[0m\u001b[0m\n\u001b[1;32m      5\u001b[0m \u001b[0;32mimport\u001b[0m \u001b[0mbibtexparser\u001b[0m\u001b[0;34m\u001b[0m\u001b[0;34m\u001b[0m\u001b[0m\n\u001b[0;32m----> 6\u001b[0;31m \u001b[0;32mimport\u001b[0m \u001b[0mpandoc\u001b[0m\u001b[0;34m\u001b[0m\u001b[0;34m\u001b[0m\u001b[0m\n\u001b[0m",
      "\u001b[0;31mModuleNotFoundError\u001b[0m: No module named 'pandoc'"
     ]
    }
   ],
   "source": [
    "import pandas as pd\n",
    "from jinja2 import Template, Environment, FileSystemLoader\n",
    "import os\n",
    "import subprocess\n",
    "import bibtexparser"
   ]
  },
  {
   "attachments": {},
   "cell_type": "markdown",
   "metadata": {},
   "source": [
    "### Generate Markdown from Template"
   ]
  },
  {
   "cell_type": "code",
   "execution_count": 5,
   "metadata": {},
   "outputs": [],
   "source": [
    "fn_pubs = '../markdown_generator/publications.tsv'\n",
    "df_pubs = pd.read_csv(fn_pubs, sep='\\t')\n",
    "pubs = df_pubs.to_dict(orient='records')"
   ]
  },
  {
   "cell_type": "code",
   "execution_count": 41,
   "metadata": {},
   "outputs": [],
   "source": [
    "# Load the Markdown template\n",
    "with open('template.md') as file:\n",
    "    template_content = file.read()\n",
    "\n",
    "# Create a Jinja2 Template object\n",
    "template = Template(template_content)\n",
    "\n",
    "# Render the template with the publications data\n",
    "markdown_output = template.render(publications=pubs)\n",
    "\n",
    "# Save the rendered Markdown content to a file\n",
    "with open('cv.md', 'w') as file:\n",
    "    file.write(markdown_output)\n"
   ]
  },
  {
   "attachments": {},
   "cell_type": "markdown",
   "metadata": {},
   "source": [
    "### Try to use custom template for html"
   ]
  },
  {
   "cell_type": "code",
   "execution_count": null,
   "metadata": {},
   "outputs": [
    {
     "ename": "",
     "evalue": "",
     "output_type": "error",
     "traceback": [
      "\u001b[1;31mRunning cells with '/usr/bin/python3' requires the ipykernel package.\n",
      "\u001b[1;31mRun the following command to install 'ipykernel' into the Python environment. \n",
      "\u001b[1;31mCommand: '/usr/bin/python3 -m pip install ipykernel -U --user --force-reinstall'"
     ]
    }
   ],
   "source": [
    "# Read the Markdown content from file\n",
    "with open('cv.md') as file:\n",
    "    markdown_content = file.read()\n",
    "\n",
    "# Create a Jinja2 environment and load the template file\n",
    "env = Environment(loader=FileSystemLoader('.'))\n",
    "template = env.get_template('cv_template.html')\n",
    "\n",
    "# Render the template with the Markdown content\n",
    "rendered_content = template.render(content=markdown_content)\n",
    "\n",
    "# Write the rendered content to a temporary Markdown file\n",
    "with open('temp.md', 'w') as file:\n",
    "    file.write(rendered_content)\n",
    "\n",
    "# Convert the temporary Markdown file to HTML using Pandoc\n",
    "subprocess.run(['pandoc', 'temp.md', '-o', 'cv.html'])\n",
    "\n",
    "# Remove the temporary Markdown file\n",
    "subprocess.run(['rm', 'temp.md'])\n"
   ]
  },
  {
   "attachments": {},
   "cell_type": "markdown",
   "metadata": {},
   "source": [
    "### Change to use bibtex (not csv)"
   ]
  },
  {
   "attachments": {},
   "cell_type": "markdown",
   "metadata": {},
   "source": [
    "##### parse bibtex file"
   ]
  },
  {
   "cell_type": "code",
   "execution_count": 37,
   "metadata": {},
   "outputs": [],
   "source": [
    "# Read the BibTeX file using bibtexparser\n",
    "with open('publications.bib') as file:\n",
    "    publications = bibtexparser.load(file).entries\n",
    "\n",
    "with open('talks.bib') as file:\n",
    "    talks = bibtexparser.load(file).entries\n"
   ]
  },
  {
   "attachments": {},
   "cell_type": "markdown",
   "metadata": {},
   "source": [
    "##### add publications / talks using jinja2"
   ]
  },
  {
   "cell_type": "code",
   "execution_count": 38,
   "metadata": {},
   "outputs": [],
   "source": [
    "# Load the Markdown template\n",
    "with open('template.md') as file:\n",
    "    template_content = file.read()\n",
    "\n",
    "# Create a Jinja2 Template object\n",
    "template = Template(template_content)\n",
    "\n",
    "# Render the template with the publications data\n",
    "markdown_output = template.render(publications=publications, talks=talks)\n",
    "\n",
    "# Save the rendered Markdown content to a file\n",
    "with open('cv.md', 'w') as file:\n",
    "    file.write(markdown_output)\n"
   ]
  },
  {
   "attachments": {},
   "cell_type": "markdown",
   "metadata": {},
   "source": [
    "##### bold every instance of me name"
   ]
  },
  {
   "cell_type": "code",
   "execution_count": 39,
   "metadata": {},
   "outputs": [],
   "source": [
    "import re\n",
    "\n",
    "def bold_string_in_markdown(markdown_content, target_string):\n",
    "    markdown_new = markdown_content.replace(target_string, '**' + target_string + '**')\n",
    "\n",
    "    return markdown_new\n",
    "\n",
    "# Read the Markdown content from file\n",
    "with open('cv.md') as file:\n",
    "    markdown_content = file.read()\n",
    "\n",
    "# Bold the target string in the Markdown content\n",
    "bolded_content = bold_string_in_markdown(markdown_content, 'Ragland, John')\n",
    "\n",
    "# Save the bolded Markdown content to a new file\n",
    "with open('cv.md', 'w') as file:\n",
    "    file.write(bolded_content)\n"
   ]
  },
  {
   "attachments": {},
   "cell_type": "markdown",
   "metadata": {},
   "source": [
    "##### build html file from custom template cv_template.html"
   ]
  },
  {
   "cell_type": "code",
   "execution_count": 40,
   "metadata": {},
   "outputs": [
    {
     "data": {
      "text/plain": [
       "CompletedProcess(args=['rm', 'temp.md'], returncode=0)"
      ]
     },
     "execution_count": 40,
     "metadata": {},
     "output_type": "execute_result"
    }
   ],
   "source": [
    "# Read the Markdown content from file\n",
    "with open('cv.md') as file:\n",
    "    markdown_content = file.read()\n",
    "\n",
    "# Create a Jinja2 environment and load the template file\n",
    "env = Environment(loader=FileSystemLoader('.'))\n",
    "template = env.get_template('cv_template.html')\n",
    "\n",
    "# Render the template with the Markdown content\n",
    "rendered_content = template.render(content=markdown_content)\n",
    "\n",
    "# Write the rendered content to a temporary Markdown file\n",
    "with open('temp.md', 'w') as file:\n",
    "    file.write(rendered_content)\n",
    "\n",
    "# Convert the temporary Markdown file to HTML using Pandoc\n",
    "subprocess.run(['pandoc', 'temp.md', '-o', 'cv.html'])\n",
    "\n",
    "# Remove the temporary Markdown file\n",
    "subprocess.run(['rm', 'temp.md'])\n"
   ]
  },
  {
   "attachments": {},
   "cell_type": "markdown",
   "metadata": {},
   "source": [
    "##### Build PDF from Markdown"
   ]
  },
  {
   "cell_type": "code",
   "execution_count": 32,
   "metadata": {},
   "outputs": [
    {
     "name": "stderr",
     "output_type": "stream",
     "text": [
      "Error producing PDF.\n",
      "! LaTeX Error: Can be used only in preamble.\n",
      "\n",
      "See the LaTeX manual or LaTeX Companion for explanation.\n",
      "Type  H <return>  for immediate help.\n",
      " ...                                              \n",
      "                                                  \n",
      "l.55 \\documentclass\n",
      "\n"
     ]
    },
    {
     "data": {
      "text/plain": [
       "CompletedProcess(args=['rm', 'temp.md'], returncode=0)"
      ]
     },
     "execution_count": 32,
     "metadata": {},
     "output_type": "execute_result"
    }
   ],
   "source": [
    "# Read the Markdown content from file\n",
    "with open('cv.md') as file:\n",
    "    markdown_content = file.read()\n",
    "\n",
    "# Create a Jinja2 environment and load the template file\n",
    "env = Environment(loader=FileSystemLoader('.'))\n",
    "template = env.get_template('cv_template.tex')\n",
    "\n",
    "# Render the template with the Markdown content\n",
    "rendered_content = template.render(content=markdown_content)\n",
    "\n",
    "# Write the rendered content to a temporary Markdown file\n",
    "with open('temp.md', 'w') as file:\n",
    "    file.write(rendered_content)\n",
    "\n",
    "# Convert the temporary Markdown file to HTML using Pandoc\n",
    "subprocess.run(['pandoc', 'temp.md', '-o', 'cv.pdf'])\n",
    "\n",
    "# Remove the temporary Markdown file\n",
    "subprocess.run(['rm', 'temp.md'])\n"
   ]
  },
  {
   "cell_type": "code",
   "execution_count": null,
   "metadata": {},
   "outputs": [],
   "source": []
  }
 ],
 "metadata": {
  "kernelspec": {
   "display_name": "ooi_dev9",
   "language": "python",
   "name": "python3"
  },
  "language_info": {
   "codemirror_mode": {
    "name": "ipython",
    "version": 3
   },
   "file_extension": ".py",
   "mimetype": "text/x-python",
   "name": "python",
   "nbconvert_exporter": "python",
   "pygments_lexer": "ipython3",
   "version": "3.9.7"
  },
  "orig_nbformat": 4
 },
 "nbformat": 4,
 "nbformat_minor": 2
}
