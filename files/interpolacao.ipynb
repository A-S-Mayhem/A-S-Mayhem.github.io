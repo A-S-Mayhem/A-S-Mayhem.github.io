{
 "cells": [
  {
   "cell_type": "markdown",
   "id": "7f3ad864",
   "metadata": {},
   "source": [
    "# Interpolação Polinomial"
   ]
  },
  {
   "cell_type": "code",
   "execution_count": 1,
   "id": "1bace894",
   "metadata": {},
   "outputs": [
    {
     "data": {
      "text/plain": [
       "interp (generic function with 1 method)"
      ]
     },
     "execution_count": 1,
     "metadata": {},
     "output_type": "execute_result"
    }
   ],
   "source": [
    "function interp(P)\n",
    "    # This function receives a matrix P (n x 2) and returns the coeficients\n",
    "    # of polynomial interpolation of (x_i,f_i), i = 1, ..., n, where \n",
    "    # P[i,1]=x_i and P[i,2]=f_i.\n",
    "    \n",
    "    npoints = size(P,1);\n",
    "    \n",
    "    # Initiate Vandermonde matrix\n",
    "    V = zeros(npoints,npoints);\n",
    "    \n",
    "    # Create Vandermonde matrix\n",
    "    for i = 1 : npoints\n",
    "        for j = 1 : npoints\n",
    "            V[i,j] = P[i,1]^(j-1);\n",
    "        end\n",
    "    end\n",
    "    \n",
    "    # Solving the system\n",
    "    sol = V \\ P[:,2];\n",
    "    \n",
    "    return(sol);\n",
    "end"
   ]
  },
  {
   "cell_type": "code",
   "execution_count": 7,
   "id": "8aae8076",
   "metadata": {},
   "outputs": [
    {
     "data": {
      "text/plain": [
       "polyfit (generic function with 1 method)"
      ]
     },
     "execution_count": 7,
     "metadata": {},
     "output_type": "execute_result"
    }
   ],
   "source": [
    "function polyfit(x,P)\n",
    "    np = size(P,1);\n",
    "    \n",
    "    # Coeficients of the interpolante polynomial\n",
    "    α = interp(P);\n",
    "    \n",
    "    px = zeros(np,1);\n",
    "    \n",
    "    for i = 1 : np\n",
    "        px[i] = x^(i-1);\n",
    "    end\n",
    "    \n",
    "    z = α' * px;\n",
    "\n",
    "    return(z[1]);\n",
    "end"
   ]
  },
  {
   "cell_type": "code",
   "execution_count": 3,
   "id": "8d3538b8",
   "metadata": {},
   "outputs": [],
   "source": [
    "# Data for testing interp function\n",
    "x0 = 1.0;\n",
    "x1 = 5.0;\n",
    "npoints = 5;\n",
    "x = LinRange(x0,x1,npoints);\n",
    "y = rand(npoints,1);\n",
    "P = hcat(x,y);"
   ]
  },
  {
   "cell_type": "code",
   "execution_count": 5,
   "id": "ee95cf34",
   "metadata": {},
   "outputs": [
    {
     "data": {
      "text/plain": [
       "5×2 Matrix{Float64}:\n",
       " 1.0  0.197578\n",
       " 2.0  0.4837\n",
       " 3.0  0.31519\n",
       " 4.0  0.285453\n",
       " 5.0  0.811604"
      ]
     },
     "execution_count": 5,
     "metadata": {},
     "output_type": "execute_result"
    }
   ],
   "source": [
    "P"
   ]
  },
  {
   "cell_type": "code",
   "execution_count": 8,
   "id": "555b07b7",
   "metadata": {},
   "outputs": [
    {
     "data": {
      "text/plain": [
       "1×1 adjoint(::Vector{Float64}) with eltype Float64:\n",
       " 0.48370018641797197"
      ]
     },
     "execution_count": 8,
     "metadata": {},
     "output_type": "execute_result"
    }
   ],
   "source": [
    "polyfit(2,P)"
   ]
  }
 ],
 "metadata": {
  "kernelspec": {
   "display_name": "Julia 1.7.3",
   "language": "julia",
   "name": "julia-1.7"
  },
  "language_info": {
   "file_extension": ".jl",
   "mimetype": "application/julia",
   "name": "julia",
   "version": "1.7.3"
  }
 },
 "nbformat": 4,
 "nbformat_minor": 5
}
