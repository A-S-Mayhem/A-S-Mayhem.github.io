{
 "cells": [
  {
   "cell_type": "markdown",
   "metadata": {},
   "source": [
    "## Extra Problems -- Applied Linear Algebra\n",
    "\n",
    "This document contains the computational component of exercises in Allaire and Kaber, _Numerical Linear Algebra_, Springer. The problems are intended to be done in MATLAB, but I choose to do them using Python. These extra problems are not assigned as homework for the course named above, and are purely for my practice with the computational aspect of numerical linear algebra. I tried these problems out as an exercise in preparation for the final exam and my answers may be subject to errors.\n",
    "\n",
    "### Exercise 2.15\n",
    "$$\n",
    "P = \\begin{bmatrix} 1 & 2 & 2 & 1 \\\\ 2 & 3 & 3 & 2\\\\ -1 & 1 & 2 & -2 \\\\ 1 & 3 & 2 & 1\\end{bmatrix},\\;\\; D = \\begin{bmatrix} 2 & 1 & 0 & 0\\\\ 0 & 2 & 1 & 0 \\\\ 0 & 0 & 3 & 0\\\\ 0 & 0 & 0 & 4\\end{bmatrix}, \\;\\; A = PDP^{-1}\n",
    "$$\n",
    "\n",
    "1. $\\sigma(A) = \\sigma(D) = \\{2, 3, 4\\}$ ($\\because D$: upper triangular)\n",
    "2."
   ]
  },
  {
   "cell_type": "code",
   "execution_count": 1,
   "metadata": {},
   "outputs": [],
   "source": [
    "import numpy as np\n",
    "import numpy.linalg as la\n",
    "import matplotlib.pyplot as plt\n",
    "from numba import njit"
   ]
  },
  {
   "cell_type": "code",
   "execution_count": 3,
   "metadata": {},
   "outputs": [],
   "source": [
    "P = np.array([[1, 2, 2, 1], [2, 3, 3, 2], [-1, 1, 2, -2], [1, 3, 2, 1]])\n",
    "D = np.array([[2, 1, 0, 0], [0, 2, 1, 0], [0, 0, 3, 0], [0, 0, 0, 4]])\n",
    "A = P.dot(D.dot(la.inv(P)))"
   ]
  },
  {
   "cell_type": "code",
   "execution_count": 4,
   "metadata": {},
   "outputs": [
    {
     "data": {
      "text/plain": [
       "array([4.+0.00000000e+00j, 3.+0.00000000e+00j, 2.+1.65960863e-07j,\n",
       "       2.-1.65960863e-07j])"
      ]
     },
     "execution_count": 4,
     "metadata": {},
     "output_type": "execute_result"
    }
   ],
   "source": [
    "lam, U = la.eig(A)\n",
    "lam"
   ]
  },
  {
   "cell_type": "markdown",
   "metadata": {},
   "source": [
    "I find that the function `eig` is subject to some machine precision and thus recognizes two separate values for the eigenvalue of 2."
   ]
  },
  {
   "cell_type": "code",
   "execution_count": 5,
   "metadata": {},
   "outputs": [
    {
     "data": {
      "text/plain": [
       "array([[ 693., -307.,  -56., -127.],\n",
       "       [1256., -568., -112., -216.],\n",
       "       [-734.,  398.,  120.,   50.],\n",
       "       [ 742., -326.,  -56., -138.]])"
      ]
     },
     "execution_count": 5,
     "metadata": {},
     "output_type": "execute_result"
    }
   ],
   "source": [
    "la.matrix_power(A, 3)"
   ]
  },
  {
   "cell_type": "code",
   "execution_count": 5,
   "metadata": {},
   "outputs": [
    {
     "data": {
      "text/plain": [
       "array([[  9231335.00000188,  -4475213.00000088,  -1047552.00000016,\n",
       "         -1327437.00000031],\n",
       "       [ 18112472.00000345,  -8833352.00000161,  -2095104.00000029,\n",
       "         -2538824.00000056],\n",
       "       [-16392202.00000272,   8259246.00000124,   2096128.00000023,\n",
       "          1968814.00000043],\n",
       "       [  9404386.00000201,  -4533238.00000093,  -1047552.00000017,\n",
       "         -1384438.00000033]])"
      ]
     },
     "execution_count": 5,
     "metadata": {},
     "output_type": "execute_result"
    }
   ],
   "source": [
    "la.matrix_power(A, 10)"
   ]
  },
  {
   "cell_type": "markdown",
   "metadata": {},
   "source": [
    "The machine precision errors get inflated as we take higher matrix powers. This is probably due to errors accumulating from each multiplication.\n",
    "\n",
    "### Exercise 2.21\n",
    "\n",
    "1."
   ]
  },
  {
   "cell_type": "code",
   "execution_count": 6,
   "metadata": {},
   "outputs": [],
   "source": [
    "def SymmetricMat(n):\n",
    "    \"\"\"\n",
    "    returns a symmetric n\\times n matrix\n",
    "    \"\"\"\n",
    "    A_ = np.random.randn(n, n)\n",
    "    A = A_ + A_.T\n",
    "    \n",
    "    return A"
   ]
  },
  {
   "cell_type": "code",
   "execution_count": 7,
   "metadata": {
    "scrolled": true
   },
   "outputs": [
    {
     "data": {
      "text/plain": [
       "array([[ 2.13991674,  1.36084063, -0.97331958, -0.20948179, -0.15519334],\n",
       "       [ 1.36084063, -0.1783174 , -1.55205954,  0.44404328, -1.68380325],\n",
       "       [-0.97331958, -1.55205954,  0.43291873, -1.93496778,  0.52039052],\n",
       "       [-0.20948179,  0.44404328, -1.93496778,  2.74160215,  1.83700503],\n",
       "       [-0.15519334, -1.68380325,  0.52039052,  1.83700503,  0.37035364]])"
      ]
     },
     "execution_count": 7,
     "metadata": {},
     "output_type": "execute_result"
    }
   ],
   "source": [
    "n = 5\n",
    "A = SymmetricMat(n)\n",
    "A"
   ]
  },
  {
   "cell_type": "code",
   "execution_count": 8,
   "metadata": {},
   "outputs": [
    {
     "data": {
      "text/plain": [
       "array([[ 2.13991674,  1.36084063, -0.97331958, -0.20948179, -0.15519334],\n",
       "       [ 1.36084063, -0.1783174 , -1.55205954,  0.44404328, -1.68380325],\n",
       "       [-0.97331958, -1.55205954,  0.43291873, -1.93496778,  0.52039052],\n",
       "       [-0.20948179,  0.44404328, -1.93496778,  2.74160215,  1.83700503],\n",
       "       [-0.15519334, -1.68380325,  0.52039052,  1.83700503,  0.37035364]])"
      ]
     },
     "execution_count": 8,
     "metadata": {},
     "output_type": "execute_result"
    }
   ],
   "source": [
    "lam, U = la.eig(A) # eigendecomposition of A\n",
    "\n",
    "# Sum using decomposition\n",
    "S = np.zeros(n)\n",
    "for i in range(n):\n",
    "    S = S + lam[i]*np.outer(U[:, i], U[:, i])\n",
    "S"
   ]
  },
  {
   "cell_type": "code",
   "execution_count": 9,
   "metadata": {
    "scrolled": false
   },
   "outputs": [
    {
     "data": {
      "text/plain": [
       "6.9634419216236965e-15"
      ]
     },
     "execution_count": 9,
     "metadata": {},
     "output_type": "execute_result"
    }
   ],
   "source": [
    "la.norm(S - A) # check the norm of difference"
   ]
  },
  {
   "cell_type": "markdown",
   "metadata": {},
   "source": [
    "$S$ is equivalent to $A$ up to machine precision.\n",
    "\n",
    "2."
   ]
  },
  {
   "cell_type": "code",
   "execution_count": 10,
   "metadata": {},
   "outputs": [
    {
     "data": {
      "text/plain": [
       "array([[ 4.50186036,  1.        ,  0.        ,  0.        ,  0.        ],\n",
       "       [ 0.        ,  3.80560903,  0.        ,  0.        ,  0.        ],\n",
       "       [ 0.        ,  0.        ,  1.1056723 ,  0.        ,  0.        ],\n",
       "       [ 0.        ,  0.        ,  0.        , -2.30331375,  0.        ],\n",
       "       [ 0.        ,  0.        ,  0.        ,  0.        , -1.60335408]])"
      ]
     },
     "execution_count": 10,
     "metadata": {},
     "output_type": "execute_result"
    }
   ],
   "source": [
    "D = np.diag(lam)\n",
    "D[0, 1] = 1\n",
    "D"
   ]
  },
  {
   "cell_type": "code",
   "execution_count": 11,
   "metadata": {
    "scrolled": true
   },
   "outputs": [
    {
     "data": {
      "text/plain": [
       "array([[-1.88424341, -3.81346609, -0.59098895,  0.45099422,  0.98425252],\n",
       "       [-3.81346609,  5.97222943, -0.22641825, -0.18647433, -1.90256606],\n",
       "       [-0.59098895, -0.22641825,  1.16929196,  1.51333317, -1.18568612],\n",
       "       [ 0.45099422, -0.18647433,  1.51333317, -1.8362864 , -1.13499942],\n",
       "       [ 0.98425252, -1.90256606, -1.18568612, -1.13499942,  2.29349871]])"
      ]
     },
     "execution_count": 11,
     "metadata": {},
     "output_type": "execute_result"
    }
   ],
   "source": [
    "B = U @ D @ U.T\n",
    "mu, V = la.eig(B)\n",
    "\n",
    "S2 = np.zeros(n)\n",
    "for i in range(n):\n",
    "    S2 = S2 + mu[i]*np.outer(V[:, i], V[:, i])\n",
    "S2"
   ]
  },
  {
   "cell_type": "markdown",
   "metadata": {},
   "source": [
    "The matrix $B$ appears to be very slightly different from $A$. The values look similar but are off by a small amount. I now check the 2-norm of the difference."
   ]
  },
  {
   "cell_type": "code",
   "execution_count": 12,
   "metadata": {},
   "outputs": [
    {
     "data": {
      "text/plain": [
       "0.9999999999999999"
      ]
     },
     "execution_count": 12,
     "metadata": {},
     "output_type": "execute_result"
    }
   ],
   "source": [
    "la.norm(B - A, ord = 2)"
   ]
  },
  {
   "cell_type": "markdown",
   "metadata": {},
   "source": [
    "Here are some other norms."
   ]
  },
  {
   "cell_type": "code",
   "execution_count": 13,
   "metadata": {},
   "outputs": [
    {
     "name": "stdout",
     "output_type": "stream",
     "text": [
      "Frobenius norm: 0.9999999999999998\n",
      "1-norm: 1.1331729635073913\n",
      "Infinity norm: 1.6572504065929505\n"
     ]
    }
   ],
   "source": [
    "print(\"Frobenius norm: {}\".format(la.norm(B - A, ord = \"fro\")))\n",
    "print(\"1-norm: {}\".format(la.norm(B - A, ord = 1)))\n",
    "print(\"Infinity norm: {}\".format(la.norm(B - A, ord = np.inf)))"
   ]
  },
  {
   "cell_type": "markdown",
   "metadata": {},
   "source": [
    "The difference in 2-norm between $B$ and $A$ are 1. I now justify this result. First, define\n",
    "$$\n",
    "E_{12} = (e_{ij}) = \\begin{cases} 1 & i=1,j=2 \\\\ 0 & \\text{otherwise}\\end{cases}.\n",
    "$$\n",
    "Then, we can write $A = UDU^\\top, B = U(D+E_{12})U^\\top$. This gives\n",
    "$$\n",
    "\\lVert B - A \\rVert_2 = \\lVert U(D+E_{12})U^\\top - UDU^\\top\\rVert_2 = \\lVert UE_{12}U^\\top\\rVert_2 = \\lVert E_{12}\\rVert_2 = 1,\n",
    "$$\n",
    "since $U$ is unitary.\n",
    "\n",
    "Therefore, we have $\\lVert B - A\\rVert_2 = 1$.\n",
    "\n",
    "### Exercise 2.23\n",
    "\n",
    "1."
   ]
  },
  {
   "cell_type": "code",
   "execution_count": 15,
   "metadata": {},
   "outputs": [
    {
     "data": {
      "text/plain": [
       "array([ 1.13543842,  0.53523625, -3.07739753, -1.98488579, -0.9448822 ])"
      ]
     },
     "execution_count": 15,
     "metadata": {},
     "output_type": "execute_result"
    }
   ],
   "source": [
    "n = 5\n",
    "A = np.random.randn(n, n)\n",
    "lam, U = la.eig(A)\n",
    "lam # spectrum"
   ]
  },
  {
   "cell_type": "code",
   "execution_count": 16,
   "metadata": {},
   "outputs": [
    {
     "data": {
      "text/plain": [
       "3.0773975319616436"
      ]
     },
     "execution_count": 16,
     "metadata": {},
     "output_type": "execute_result"
    }
   ],
   "source": [
    "max(abs(lam)) # spectral radius of A"
   ]
  },
  {
   "cell_type": "markdown",
   "metadata": {},
   "source": [
    "2. "
   ]
  },
  {
   "cell_type": "code",
   "execution_count": 17,
   "metadata": {},
   "outputs": [
    {
     "data": {
      "text/plain": [
       "array([[ 0.83398591, -0.52278093,  0.8868695 , -1.25797755, -1.22115511],\n",
       "       [-0.03385667, -0.59546792, -1.30801879, -1.26162425, -0.42912919],\n",
       "       [ 2.64197445, -0.77925375, -1.45211983, -0.70251011,  0.3804059 ],\n",
       "       [ 0.43960925, -0.41377582,  0.06989936, -1.31847039, -0.11599152],\n",
       "       [ 0.26813113, -0.74085515,  1.37390446, -0.42839547, -1.80441861]])"
      ]
     },
     "execution_count": 17,
     "metadata": {},
     "output_type": "execute_result"
    }
   ],
   "source": [
    "A"
   ]
  },
  {
   "cell_type": "code",
   "execution_count": 18,
   "metadata": {},
   "outputs": [
    {
     "data": {
      "text/plain": [
       "[3.3835715054031383,\n",
       " 2.456665654292216,\n",
       " 3.6386921092677222,\n",
       " 3.650507379514934,\n",
       " 2.1466817180952926]"
      ]
     },
     "execution_count": 18,
     "metadata": {},
     "output_type": "execute_result"
    }
   ],
   "source": [
    "gamma = []\n",
    "for i in range(n):\n",
    "    gamma.append(sum(abs(A[:, i])) - abs(A[i, i]))\n",
    "    \n",
    "gamma # calculated $\\gamma_i$s"
   ]
  },
  {
   "cell_type": "code",
   "execution_count": 19,
   "metadata": {},
   "outputs": [
    {
     "data": {
      "text/plain": [
       "[(-2.5495855946424726, 4.217557416163804),\n",
       " (-3.0521335776599945, 1.8611977309244376),\n",
       " (-5.090811941029193, 2.1865722775062517),\n",
       " (-4.9689777703616205, 2.3320369886682473),\n",
       " (-3.9511003314553674, 0.3422631047352176)]"
      ]
     },
     "execution_count": 19,
     "metadata": {},
     "output_type": "execute_result"
    }
   ],
   "source": [
    "D = []\n",
    "for i in range(n):\n",
    "    D.append((A[i,i] - gamma[i], A[i,i] + gamma[i]))\n",
    "D"
   ]
  },
  {
   "cell_type": "code",
   "execution_count": 20,
   "metadata": {},
   "outputs": [
    {
     "data": {
      "text/plain": [
       "[True, True, True, True, True]"
      ]
     },
     "execution_count": 20,
     "metadata": {},
     "output_type": "execute_result"
    }
   ],
   "source": [
    "in_di = []\n",
    "for i in range(n):\n",
    "    for_lam = []\n",
    "    for j in range(n):\n",
    "        for_lam.append(abs(lam[i] - A[j, j]) <= gamma[j]) # check whether \\lambda_i \\in D_j\n",
    "    \n",
    "    in_di.append(max(for_lam))\n",
    "in_di"
   ]
  },
  {
   "cell_type": "markdown",
   "metadata": {},
   "source": [
    "I find that, indeed, the eigenvalues fall into at least one of the Gershgorin disk (Gershgorin theorem).\n",
    "\n",
    "To prove this rigorously, let $\\lambda\\in\\sigma(A)$ and $x\\in\\mathbb{R}^n$ be its corresponding eigenvector. Suppose $\\lvert x_i\\rvert \\ge \\lvert x_j\\rvert, \\forall j=1,\\dots,n$ i.e., the $i$th element of $x$ has the largest modulus. Since we have $Ax = \\lambda x$, looking at the $i$th element yields\n",
    "$$\n",
    "\\sum_{j=1}^n a_{ij}x_j = \\lambda x_i \\Rightarrow \\sum_{j\\ne i} a_{ij}x_j = (\\lambda - a_{ii})x_i\n",
    "$$\n",
    "Then, by triangle inequality,\n",
    "$$\n",
    "\\lvert\\lambda - a_{ii}\\rvert = \\left\\lvert\\sum_{j\\ne i} a_{ij}\\frac{x_j}{x_i}\\right\\rvert \\le \\sum_{j\\ne i}\\left\\lvert a_{ij}\\frac{x_j}{x_i}\\right\\rvert = \\sum_{j\\ne i} \\lvert a_{ij}\\rvert \\left\\lvert\\frac{x_j}{x_i}\\right\\rvert \\le \\sum_{j\\ne i} \\lvert a_{ij}\\rvert\n",
    "$$\n",
    "\n",
    "Therefore, for this particular $i$, we have $\\lambda\\in D_i$. Since $\\lambda$ was arbitrary, we have the desired.\n",
    "\n",
    "3."
   ]
  },
  {
   "cell_type": "code",
   "execution_count": 21,
   "metadata": {},
   "outputs": [],
   "source": [
    "def DiagDomMat(n):\n",
    "    \"\"\"\n",
    "    returns a diagonally dominant matrix of size n\\times n\n",
    "    \"\"\"\n",
    "    A = np.random.randn(n, n)\n",
    "    for i in range(n):\n",
    "        A[i, i] = np.random.rand(1) + sum(abs(A[i, :])) - abs(A[i, i])\n",
    "    \n",
    "    return A"
   ]
  },
  {
   "cell_type": "code",
   "execution_count": 22,
   "metadata": {},
   "outputs": [
    {
     "data": {
      "text/plain": [
       "array([[ 2.71498062,  1.68936973, -0.23156278],\n",
       "       [-0.45721152,  1.12730861, -0.05158287],\n",
       "       [ 1.15115462, -1.61038548,  2.87366852]])"
      ]
     },
     "execution_count": 22,
     "metadata": {},
     "output_type": "execute_result"
    }
   ],
   "source": [
    "A = DiagDomMat(3)\n",
    "A"
   ]
  },
  {
   "cell_type": "code",
   "execution_count": 23,
   "metadata": {},
   "outputs": [
    {
     "data": {
      "text/plain": [
       "10.818990412811266"
      ]
     },
     "execution_count": 23,
     "metadata": {},
     "output_type": "execute_result"
    }
   ],
   "source": [
    "la.det(A)"
   ]
  },
  {
   "cell_type": "code",
   "execution_count": 24,
   "metadata": {},
   "outputs": [
    {
     "data": {
      "text/plain": [
       "460501452.37675214"
      ]
     },
     "execution_count": 24,
     "metadata": {},
     "output_type": "execute_result"
    }
   ],
   "source": [
    "la.det(DiagDomMat(10))"
   ]
  },
  {
   "cell_type": "code",
   "execution_count": 25,
   "metadata": {},
   "outputs": [
    {
     "data": {
      "text/plain": [
       "0.5313084286764557"
      ]
     },
     "execution_count": 25,
     "metadata": {},
     "output_type": "execute_result"
    }
   ],
   "source": [
    "la.det(DiagDomMat(2))"
   ]
  },
  {
   "cell_type": "code",
   "execution_count": 26,
   "metadata": {},
   "outputs": [
    {
     "data": {
      "text/plain": [
       "6.439479738485481"
      ]
     },
     "execution_count": 26,
     "metadata": {},
     "output_type": "execute_result"
    }
   ],
   "source": [
    "la.det(DiagDomMat(3))"
   ]
  },
  {
   "cell_type": "code",
   "execution_count": 27,
   "metadata": {},
   "outputs": [
    {
     "data": {
      "text/plain": [
       "73.9873022258113"
      ]
     },
     "execution_count": 27,
     "metadata": {},
     "output_type": "execute_result"
    }
   ],
   "source": [
    "la.det(DiagDomMat(4))"
   ]
  },
  {
   "cell_type": "markdown",
   "metadata": {},
   "source": [
    "I notice that all the determinants are strictly positive. This can be proved with the Gershgorin theorem above.\n",
    "\n",
    "Suppose $A\\in\\mathcal{M}_n(\\mathbb{R}^n)$ is diagonally dominant. Let $\\lambda\\in\\sigma(A)$. Then, by Gershgorin theorem, we have $\\lambda\\in D_i$ for some Gershgorin disk $D_i$. This gives\n",
    "$$\n",
    "\\lvert \\lambda - a_{ii}\\rvert \\le \\sum_{j\\ne i}\\lvert a_{ij}\\rvert < \\lvert a_{ii}\\rvert.\n",
    "$$\n",
    "By triangle inequality, we have\n",
    "$$\n",
    "\\left\\lvert\\lvert\\lambda\\rvert - \\lvert a_{ii}\\rvert\\right\\rvert \\le \\lvert \\lambda - a_{ii}\\rvert < \\lvert a_{ii}\\rvert \\Rightarrow -\\lvert a_{ii}\\rvert < \\lvert\\lambda\\rvert - \\lvert a_{ii}\\rvert < \\lvert a_{ii}\\rvert.\n",
    "$$\n",
    "Therefore, we have\n",
    "$$\n",
    "0 < \\lvert \\lambda\\rvert < 2\\lvert a_{ii}\\rvert,\n",
    "$$\n",
    "which implies $\\lambda \\ne 0$.\n",
    "\n",
    "### Exercise 3.8"
   ]
  },
  {
   "cell_type": "code",
   "execution_count": 28,
   "metadata": {},
   "outputs": [
    {
     "data": {
      "text/plain": [
       "2.9965717124228335"
      ]
     },
     "execution_count": 28,
     "metadata": {},
     "output_type": "execute_result"
    }
   ],
   "source": [
    "n = 10\n",
    "A = np.random.randn(n, n)\n",
    "rho = max(abs(la.eig(A)[0]))\n",
    "rho"
   ]
  },
  {
   "cell_type": "code",
   "execution_count": 29,
   "metadata": {},
   "outputs": [
    {
     "data": {
      "text/plain": [
       "[3.171994189780434,\n",
       " 3.084045731445063,\n",
       " 3.054361165218563,\n",
       " 3.039828496453234,\n",
       " 3.031124788558357,\n",
       " 3.0253383035411328,\n",
       " 3.0212119531664925,\n",
       " 3.018120871684719,\n",
       " 3.015718888446027,\n",
       " 3.013798678160939]"
      ]
     },
     "execution_count": 29,
     "metadata": {},
     "output_type": "execute_result"
    }
   ],
   "source": [
    "ks = np.linspace(10, 100, num = 10)\n",
    "res = []\n",
    "for k in ks:\n",
    "    A_k = la.matrix_power(A, int(k))\n",
    "    res.append(la.norm(A_k, ord = 2)**(1/k))\n",
    "res"
   ]
  },
  {
   "cell_type": "code",
   "execution_count": 30,
   "metadata": {},
   "outputs": [
    {
     "data": {
      "image/png": "[encoded data removed]",
      "text/plain": [
       "<Figure size 432x288 with 1 Axes>"
      ]
     },
     "metadata": {
      "needs_background": "light"
     },
     "output_type": "display_data"
    }
   ],
   "source": [
    "plt.plot(ks, res)\n",
    "plt.axhline(rho, color = \"red\")\n",
    "plt.title(\"Norm of Matrix Power\")\n",
    "plt.xlabel(\"$k$\")\n",
    "plt.ylabel(\"$||A^k||^\\\\frac{1}{k}$\")\n",
    "plt.show()"
   ]
  },
  {
   "cell_type": "markdown",
   "metadata": {},
   "source": [
    "The plot seems to suggest that the value of the norm converges to $\\rho(A)$ as $k\\rightarrow\\infty$.\n",
    "\n",
    "Suppose $\\lambda\\in\\sigma(A)$ s.t. $\\lvert\\lambda\\rvert = \\rho(A)$, i.e., the eigenvalue with the largest modulus.\n",
    "\n",
    "Let $x\\in\\mathbb{R}^n$ be a corresponding eigenvector and $y\\in\\mathbb{R}^n$ be any vector. Then, by definition of a matrix norm, we have\n",
    "$$\n",
    "\\lVert A^k xy^\\top\\rVert \\le \\lVert A^k\\rVert \\lVert xy^\\top\\rVert.\n",
    "$$\n",
    "Since $x$ is an eigenvector,\n",
    "$$\n",
    "\\lVert A^k xy^\\top\\rVert = \\lVert \\lambda^k xy^\\top\\rVert = \\lvert \\lambda^k\\rvert \\lVert xy^\\top\\rVert \\le \\lVert A^k\\rVert \\lVert xy^\\top\\rVert\n",
    "$$\n",
    "$$\n",
    "\\Rightarrow \\lvert\\lambda\\rvert^k = \\lvert\\lambda^k\\rvert \\le \\lVert A^k\\rVert \\Rightarrow \\rho(A) \\le \\lVert A^k\\rVert^\\frac1k\n",
    "$$\n",
    "as desired.\n",
    "\n",
    "### Exercise 4.4\n",
    "\n",
    "1."
   ]
  },
  {
   "cell_type": "code",
   "execution_count": 12,
   "metadata": {},
   "outputs": [],
   "source": [
    "@njit\n",
    "def matmul_ikj(B, C):\n",
    "    \"\"\"\n",
    "    returns the matrix product multiplying in i, k, j order\n",
    "    \"\"\"\n",
    "    p = B.shape[0]\n",
    "    q = C.shape[1]\n",
    "    r = B.shape[1]\n",
    "    A = np.zeros((p, q))\n",
    "    for i in range(p):\n",
    "        for k in range(r):\n",
    "            for j in range(q):\n",
    "                A[i,j] = A[i,j] + B[i,k] * C[k,j]\n",
    "    return A\n",
    "\n",
    "@njit\n",
    "def matmul_strassen(B, C):\n",
    "    \"\"\"\n",
    "    returns the matrix product using Strassen's algorithm\n",
    "    \"\"\"\n",
    "    n = B.shape[0]\n",
    "    A = np.zeros((n, n))\n",
    "    s1, s2 = slice(0, n//2), slice(n//2, n)\n",
    "    \n",
    "    if n <= 64:\n",
    "        A = matmul_ikj(B, C)\n",
    "    \n",
    "    else:\n",
    "        B11, B12, B21, B22 = B[s1,s1], B[s1,s2], B[s2, s1], B[s2, s2]\n",
    "        C11, C12, C21, C22 = C[s1,s1], C[s1,s2], C[s2, s1], C[s2, s2]\n",
    "        M1 = matmul_strassen((B11 + B22), (C11 + C22))\n",
    "        M2 = matmul_strassen((B21 + B22), C11)\n",
    "        M3 = matmul_strassen(B11, (C12 - C22))\n",
    "        M4 = matmul_strassen(B22, (C21 - C11))\n",
    "        M5 = matmul_strassen((B11 + B12), C22)\n",
    "        M6 = matmul_strassen((B21 - B11), (C11 + C12))\n",
    "        M7 = matmul_strassen((B12 - B22), (C21 + C22))\n",
    "        A[s1, s1] = M1 + M4 - M5 + M7\n",
    "        A[s1, s2] = M3 + M5\n",
    "        A[s2, s1] = M2 + M4\n",
    "        A[s2, s2] = M1 - M2 + M3 + M6\n",
    "    \n",
    "    return A"
   ]
  },
  {
   "cell_type": "code",
   "execution_count": 13,
   "metadata": {
    "scrolled": true
   },
   "outputs": [
    {
     "data": {
      "text/plain": [
       "0.0"
      ]
     },
     "execution_count": 13,
     "metadata": {},
     "output_type": "execute_result"
    }
   ],
   "source": [
    "B = np.random.randn(50, 70)\n",
    "C = np.random.randn(70, 50)\n",
    "A1 = B @ C\n",
    "A2 = matmul_strassen(B, C)\n",
    "la.norm(A1 - A2)"
   ]
  },
  {
   "cell_type": "markdown",
   "metadata": {},
   "source": [
    "### Exercise 5.13 (Hager's Algorithm)\n",
    "\n",
    "$S = \\{x\\in\\mathbb{R}^n: \\lVert x\\rVert_1 = 1\\}$, $f(x) = \\lVert A^{-1}x\\rVert_1$, $A\\in\\mathcal{M}_n(\\mathbb{R})$: nonsingular. Consider the 1-norm conditioning\n",
    "$$\n",
    "\\operatorname{cond}_1(A) = \\lVert A\\rVert_1 \\max_{x\\in S}f(x)\n",
    "$$\n",
    "\n",
    "#### 1. \n",
    "$\\lVert A\\rVert_1$ is the largest column sum.\n",
    "\n",
    "\n",
    "#### 2. \n",
    "$f$ attains maximum at $e_j$ for some $j\\in\\{1,\\dots,n\\}$\n",
    "\n",
    "Proof: Let $A^{-1} = (\\tilde a_{ij})$. Note that for some $j^*$, we have\n",
    "$$\n",
    "\\lVert A^{-1}\\rVert_1 = \\sum_{i=1}^n \\lvert \\tilde a_{ij^*}\\rvert = \\lVert A^{-1}_{j^*}\\rVert,\n",
    "$$\n",
    "where $A^{-1}_{j^*}$ is the $j^*$th column of $A^{-1}$ column of $A^{-1}$. In other words, $j^*$th column maximizes the column sum of $A^{-1}$. Then, we have\n",
    "$$\n",
    "\\lVert A^{-1}e_{j^*}\\rVert_1 = \\lVert A^{-1}_{j^*}\\rVert_1 = \\lVert A^{-1}\\rVert_1,\n",
    "$$\n",
    "where $e_i$ is the $i$th canonical basis vector for $\\mathbb{R}^n$.\n",
    "\n",
    "By definition of a subordinate norm, $e_{j^*}$ maxmizes $f$.\n",
    "\n",
    "\n",
    "#### 3.\n",
    "Given $x\\in\\mathbb{R}^n$, $\\tilde x$ solves $A\\tilde x = x$ and $\\bar x$ solves $A^\\top \\bar x = s$, where $s$ is the sign vector of $\\tilde x$. Then, $f(x) = \\langle \\tilde x, s\\rangle$.\n",
    "\n",
    "Proof: Since $A$ is given to be nonsingular, we have $\\tilde x = A^{-1}x$. Then, we have\n",
    "$$\n",
    "\\langle \\tilde x, s\\rangle = \\lvert \\tilde x_1\\rvert + \\lvert \\tilde x_2\\rvert + \\cdots + \\lvert \\tilde x_n\\rvert = \\sum_{i=1}^n\\lvert \\tilde x_i\\rvert = \\lVert \\tilde x\\rVert_1\n",
    "$$\n",
    "Therefore,\n",
    "$$\n",
    "f(x) = \\lVert A^{-1}x\\rVert_1 = \\lVert \\tilde x\\rVert_1 = \\langle \\tilde x, s\\rangle\n",
    "$$\n",
    "as desired.\n",
    "\n",
    "\n",
    "#### 4.\n",
    "$\\forall a\\in\\mathbb{R}^n, f(x) = \\bar x^\\top(a-x)\\le f(a)$.\n",
    "\n",
    "Proof: Fix $a\\in\\mathbb{R}^n$. Then, $f(a) = \\lVert A^{-1}a\\rVert_1$. Note that $\\bar x^\\top = s^\\top A^{-1}$. Then,\n",
    "$$\n",
    "\\bar x^\\top (a-x) = s^\\top A^{-1}(a-x) = s^\\top A^{-1}a - s^\\top A^{-1}x \\le \\lVert A^{-1}a\\rVert_1 - \\lVert A^{-1}x\\rVert_1,\n",
    "$$\n",
    "where the last inequality follows from $a_j \\le \\lvert a_j\\rvert,\\;\\;-a_j \\le \\lvert a_j\\rvert,\\;\\; a = (a_1, \\dots, a_n)$.\n",
    "Therefore,\n",
    "$$\n",
    "f(x) + \\bar x^\\top(a-x) \\le \\lVert A^{-1}x\\rVert_1 + \\lVert A^{-1}a\\rVert_1 - \\lVert A^{-1}x\\rVert_1 = \\lVert A^{-1}a\\rVert_1 = f(a).\n",
    "$$\n",
    "Hence, $f(x) + \\bar x^\\top(a-x)\\le f(a)$ as desired. Since $a\\in\\mathbb{R}^n$ was arbitrary, this holds for any vector $a$.\n",
    "\n",
    "\n",
    "#### 5.\n",
    "If $\\bar x_j > \\langle x, \\bar x\\rangle$ for some index $j$, then $f(e_j) > f(x)$.\n",
    "\n",
    "Proof: Note that \n",
    "$$\n",
    "\\langle x, \\bar x\\rangle = \\langle x, (A^\\top)^{-1}s\\rangle = \\langle x, (A^{-1})^\\top s\\rangle = \\langle A^{-1}x, s\\rangle = \\langle \\tilde x, s\\rangle = f(x).\n",
    "$$\n",
    "Also,\n",
    "$$\n",
    "\\bar x_j = \\langle e_j, \\bar x\\rangle = \\langle e_j, (A^\\top)^{-1}s\\rangle = \\langle A^{-1}e_j, s\\rangle \\le \\lVert A^{-1}e_j\\rVert_1 = f(e_j).\n",
    "$$\n",
    "Therefore, if $\\bar x_j > \\langle x, \\bar x\\rangle$, we have\n",
    "$$\n",
    "f(e_j) > f(x).\n",
    "$$\n",
    "\n",
    "#### 6.\n",
    "##### a) \n",
    "Note that\n",
    "$$\n",
    "f(x) + s^\\top A^{-1}(y-x) = \\lVert A^{-1}x\\rVert_1 + s^\\top A^{-1}y - \\lVert A^{-1}x\\rVert_1\n",
    "$$\n",
    "and $f(y) = \\lVert A^{-1}y\\rVert_1$.\n",
    "\n",
    "Suppose $y\\approx x$ so that $\\operatorname{sign}(\\tilde y) = \\operatorname{sign}(\\tilde x)$. Then, $s = \\operatorname{sign}(\\tilde y)$, where $\\tilde y = A^{-1}y$. This gives\n",
    "$$\n",
    "s^\\top A^{-1}y = \\lVert A^{-1}y\\rVert_1.\n",
    "$$\n",
    "Hence, $f(y) = f(x) + s^\\top A^{-1}(y-x)$ as desired.\n",
    "\n",
    "##### b)\n",
    "$\\lVert\\bar x\\rVert_\\infty \\le \\langle x, \\bar x\\rangle \\Rightarrow x$: local maximum of $f$ on $S$.\n",
    "\n",
    "Proof: Let $\\bar x = (\\bar x_1, \\dots, \\bar x_n)$. Suppose the $j$th element maximizes $\\lvert \\bar x_i\\rvert$ for $i\\in\\{1,\\dots,n\\}$. Then, $\\lVert \\bar x\\rVert_\\infty = \\lvert \\bar x_j\\rvert$.\n",
    "\n",
    "From 5, we know that $\\lvert\\tilde x_j\\rvert = \\lvert f(e_j)\\rvert \\le f(x)$ for all $j\\in\\{1,\\dots,n\\}$.\n",
    "\n",
    "By the result of 2, we know $f$ is maximized for some $e_{j^*}, j^*\\in\\{1,\\dots,n\\}$. Since $f(e_j)\\le f(x)$ for all $j\\in\\{1,\\dots,n\\}$, $x$ must maximize $f$.\n",
    "\n",
    "#### 7.\n",
    "The algorithm is laid in the function defined for Part 8.\n",
    "\n",
    "#### 8."
   ]
  },
  {
   "cell_type": "code",
   "execution_count": 47,
   "metadata": {},
   "outputs": [],
   "source": [
    "def hager(A):\n",
    "    \"\"\"\n",
    "    returns the 1-norm conditioning of matrix A using Hager's algorithm\n",
    "    \n",
    "    Arguments:\n",
    "    ---------\n",
    "    A: $n\\times n$ array, the matrix to find the 1-norm conditioning for. Must be nonsingular.\n",
    "    \"\"\"\n",
    "    n = A.shape[0]\n",
    "    \n",
    "    x0 = np.repeat(1/n, n) # initial vector (x above)\n",
    "    \n",
    "    f = 0 # initial value of f(x)\n",
    "    x_curr = x0\n",
    "    \n",
    "    while(True):\n",
    "        tilde_x = la.solve(A, x_curr) # solve A\\tilde x = x above\n",
    "        \n",
    "        if la.norm(tilde_x, ord =1) <= f:\n",
    "            break\n",
    "        else:\n",
    "            f = la.norm(tilde_x, ord = 1)\n",
    "            \n",
    "        s = np.sign(tilde_x) # s\n",
    "        bar_x = la.solve(A.T, s) # solve A^\\top \\bar x = s above\n",
    "        \n",
    "        if max(abs(bar_x)) <= np.dot(bar_x, x_curr): # check for \\lvert x_j\\rvert \\le \\langle x, \\bar x\\rangle (6b)\n",
    "            break\n",
    "        else:\n",
    "            x_curr = np.zeros(n)\n",
    "            x_curr[np.argmax(bar_x)] = 1 # set new x as e_j\n",
    "                       \n",
    "    return f"
   ]
  },
  {
   "cell_type": "code",
   "execution_count": 48,
   "metadata": {},
   "outputs": [
    {
     "data": {
      "text/plain": [
       "3.1566276430133953"
      ]
     },
     "execution_count": 48,
     "metadata": {},
     "output_type": "execute_result"
    }
   ],
   "source": [
    "# Example\n",
    "n = 5\n",
    "A_ = np.random.randn(n, n)\n",
    "A = A_ + A_.T # to ensure A is nonsingular\n",
    "hager(A)"
   ]
  },
  {
   "cell_type": "code",
   "execution_count": 49,
   "metadata": {
    "scrolled": true
   },
   "outputs": [
    {
     "data": {
      "text/plain": [
       "3.1566276430133953"
      ]
     },
     "execution_count": 49,
     "metadata": {},
     "output_type": "execute_result"
    }
   ],
   "source": [
    "la.norm(la.inv(A), ord = 1)"
   ]
  },
  {
   "cell_type": "markdown",
   "metadata": {},
   "source": [
    "I find that my formulation of Hager's algorithm works correctly and gives the same result as the 1-norm of the inverse using the default functions in `numpy`. This is valuable in the sense that we do not have to directly compute the inverse to obtain the 1-norm conditioning, as calculating inverses are numerically unstable."
   ]
  }
 ],
 "metadata": {
  "kernelspec": {
   "display_name": "Python 3",
   "language": "python",
   "name": "python3"
  },
  "language_info": {
   "codemirror_mode": {
    "name": "ipython",
    "version": 3
   },
   "file_extension": ".py",
   "mimetype": "text/x-python",
   "name": "python",
   "nbconvert_exporter": "python",
   "pygments_lexer": "ipython3",
   "version": "3.8.5"
  }
 },
 "nbformat": 4,
 "nbformat_minor": 4
}
