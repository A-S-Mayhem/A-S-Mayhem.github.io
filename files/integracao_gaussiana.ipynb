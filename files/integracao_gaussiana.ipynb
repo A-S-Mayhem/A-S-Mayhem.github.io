{
 "cells": [
  {
   "cell_type": "markdown",
   "id": "7f3ad864",
   "metadata": {},
   "source": [
    "# Quadratura Gaussiana"
   ]
  },
  {
   "cell_type": "markdown",
   "id": "b620b3db",
   "metadata": {},
   "source": [
    "Vamos definir as funções que retornam os pesos e os pontos na integração gaussiana."
   ]
  },
  {
   "cell_type": "code",
   "execution_count": 1,
   "id": "4a92de18",
   "metadata": {},
   "outputs": [
    {
     "data": {
      "text/plain": [
       "nodes (generic function with 1 method)"
      ]
     },
     "execution_count": 1,
     "metadata": {},
     "output_type": "execute_result"
    }
   ],
   "source": [
    "function nodes(n)\n",
    "    x = Float64[];\n",
    "    if n == 2\n",
    "        push!(x,0.5773502692);\n",
    "        push!(x,-x[1]);\n",
    "        return(x);\n",
    "    end\n",
    "\n",
    "    if n == 3\n",
    "        push!(x,0.7745966692);\n",
    "        push!(x,0.0);\n",
    "        push!(x,-x[1]);\n",
    "        return(x);\n",
    "    end\n",
    "\n",
    "    if n == 4\n",
    "        push!(x,0.8611363116);\n",
    "        push!(x,0.3399810436);\n",
    "        push!(x,-x[2]);\n",
    "        push!(x,-x[1]);\n",
    "        return(x);\n",
    "    end\n",
    "\n",
    "    if n == 5\n",
    "        push!(x,0.9061798459);\n",
    "        push!(x,0.5384693101);\n",
    "        push!(x,0.0);\n",
    "        push!(x,-x[2]);\n",
    "        push!(x,-x[1]);\n",
    "        return(x);\n",
    "    end\n",
    "\n",
    "    println(\"Utilize um dos inteiros 2,3,4,5.\");\n",
    "    return(NaN);\n",
    "end"
   ]
  },
  {
   "cell_type": "code",
   "execution_count": 2,
   "id": "c9ae8aae",
   "metadata": {},
   "outputs": [
    {
     "data": {
      "text/plain": [
       "pesos (generic function with 1 method)"
      ]
     },
     "execution_count": 2,
     "metadata": {},
     "output_type": "execute_result"
    }
   ],
   "source": [
    "function pesos(n)\n",
    "    x = Float64[];\n",
    "    if n == 2\n",
    "        push!(x,1.0);\n",
    "        push!(x,1.0);\n",
    "        return(x);\n",
    "    end\n",
    "\n",
    "    if n == 3\n",
    "        push!(x,0.55555555556);\n",
    "        push!(x,0.88888888889);\n",
    "        push!(x,x[1]);\n",
    "        return(x);\n",
    "    end\n",
    "\n",
    "    if n == 4\n",
    "        push!(x,0.3478548451);\n",
    "        push!(x,0.6521451549);\n",
    "        push!(x,x[2]);\n",
    "        push!(x,x[1]);\n",
    "        return(x);\n",
    "    end\n",
    "\n",
    "    if n == 5\n",
    "        push!(x,0.2369268850);\n",
    "        push!(x,0.4786286705);\n",
    "        push!(x,0.5688888889);\n",
    "        push!(x,x[2]);\n",
    "        push!(x,x[1]);\n",
    "        return(x);\n",
    "    end\n",
    "\n",
    "    println(\"Utilize um dos inteiros 2,3,4,5.\");\n",
    "    return(NaN);\n",
    "end"
   ]
  },
  {
   "cell_type": "markdown",
   "id": "fecfc05b",
   "metadata": {},
   "source": [
    "Com os pesos e os pontos definidos, a função que retorna a quadratura gaussiana de uma função no intervalo $[-1,1]$ é dada abaixo."
   ]
  },
  {
   "cell_type": "code",
   "execution_count": 3,
   "id": "d20cc7bd",
   "metadata": {},
   "outputs": [
    {
     "data": {
      "text/plain": [
       "quad_gauss (generic function with 1 method)"
      ]
     },
     "execution_count": 3,
     "metadata": {},
     "output_type": "execute_result"
    }
   ],
   "source": [
    "function quad_gauss(f,n)\n",
    "    \n",
    "    x = nodes(n);\n",
    "    w = pesos(n);\n",
    "\n",
    "    s = 0.0;\n",
    "    \n",
    "    for i in 1 : n\n",
    "        s = s + w[i] * f(x[i]);\n",
    "    end\n",
    "\n",
    "    return(s);\n",
    "end"
   ]
  },
  {
   "cell_type": "markdown",
   "id": "fcdcde3e",
   "metadata": {},
   "source": [
    "Agora, vamos calcular a integral $$\\int_{-1}^1 e^{-x^2}dx.$$"
   ]
  },
  {
   "cell_type": "code",
   "execution_count": 4,
   "id": "e447e81c",
   "metadata": {},
   "outputs": [
    {
     "data": {
      "text/plain": [
       "1.4986795957052075"
      ]
     },
     "execution_count": 4,
     "metadata": {},
     "output_type": "execute_result"
    }
   ],
   "source": [
    "f(x) = exp(-x^2)\n",
    "s = quad_gauss(f,3)"
   ]
  },
  {
   "cell_type": "markdown",
   "id": "a1a385ed",
   "metadata": {},
   "source": [
    "Observa-se que a quadratura de Gauss foi desenvolvida para calcular integrais de funções no intervalo $[-1,1]$. Contudo, o método pode ser extendido para um intervalo qualquer. Neste caso, para calcular $$\\int_a^b f(x) \\, dx,$$ basta observarmos que para $t \\in [-1,1]$, se escrevermos $$x = \\frac{1}{2} [(b-a)t + a + b]$$ obtemos $$\\int_a^b f(x) \\, dx = \\int_{-1}^{1} f\\left(\\frac{(b-a)t+(b+a)}{2}\\right) \\frac{(b-a)}{2} \\, dt.$$ "
   ]
  },
  {
   "cell_type": "markdown",
   "id": "7117dcda",
   "metadata": {},
   "source": [
    "Com o \"ajuste\" acima, a função que retorna a quadratura de Gauss em um intervalo $[a,b]$ é apresentada abaixo."
   ]
  },
  {
   "cell_type": "code",
   "execution_count": 5,
   "id": "9dba5ca6",
   "metadata": {},
   "outputs": [
    {
     "data": {
      "text/plain": [
       "gauss (generic function with 1 method)"
      ]
     },
     "execution_count": 5,
     "metadata": {},
     "output_type": "execute_result"
    }
   ],
   "source": [
    "function gauss(f,a,b,n)\n",
    "    \n",
    "    g(t) = f(((b-a)*t+(b+a))/2);\n",
    "\n",
    "    d = (b-a) / 2.0;\n",
    "\n",
    "    x = nodes(n);\n",
    "    w = pesos(n);\n",
    "\n",
    "    s = 0.0;\n",
    "    \n",
    "    for i in 1 : n\n",
    "        s = s + w[i] * g(x[i]);\n",
    "    end\n",
    "\n",
    "    return(s * d);\n",
    "end"
   ]
  },
  {
   "cell_type": "markdown",
   "id": "d8978b18",
   "metadata": {},
   "source": [
    "Testando a função acima no cálculo de $$\\int_1^{1.5} e^{-x^2} dx.$$"
   ]
  },
  {
   "cell_type": "code",
   "execution_count": 6,
   "id": "46400b3d",
   "metadata": {},
   "outputs": [
    {
     "data": {
      "text/plain": [
       "0.10936419603208589"
      ]
     },
     "execution_count": 6,
     "metadata": {},
     "output_type": "execute_result"
    }
   ],
   "source": [
    "gauss(f,1,1.5,3)"
   ]
  },
  {
   "cell_type": "code",
   "execution_count": 7,
   "id": "8bae4e3a",
   "metadata": {},
   "outputs": [
    {
     "data": {
      "text/plain": [
       "0.41666666667714863"
      ]
     },
     "execution_count": 7,
     "metadata": {},
     "output_type": "execute_result"
    }
   ],
   "source": [
    "g(x) = x^3+2*x^2+x-1\n",
    "gauss(g,0,1,2)"
   ]
  },
  {
   "cell_type": "code",
   "execution_count": 8,
   "id": "feac8832",
   "metadata": {},
   "outputs": [
    {
     "data": {
      "text/plain": [
       "0.4166666666666667"
      ]
     },
     "execution_count": 8,
     "metadata": {},
     "output_type": "execute_result"
    }
   ],
   "source": [
    "5/12"
   ]
  }
 ],
 "metadata": {
  "kernelspec": {
   "display_name": "Julia 1.7.3",
   "language": "julia",
   "name": "julia-1.7"
  },
  "language_info": {
   "file_extension": ".jl",
   "mimetype": "application/julia",
   "name": "julia",
   "version": "1.7.3"
  }
 },
 "nbformat": 4,
 "nbformat_minor": 5
}
