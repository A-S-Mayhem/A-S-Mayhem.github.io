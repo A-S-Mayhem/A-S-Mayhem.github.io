{
 "cells": [
  {
   "cell_type": "markdown",
   "id": "7f3ad864",
   "metadata": {},
   "source": [
    "# O método da Eliminação de Gauss"
   ]
  },
  {
   "cell_type": "markdown",
   "id": "79658a86",
   "metadata": {},
   "source": [
    "Vamos implementar o método da Eliminação de Gauss sem qualquer preocupação com estratégia de pivoteamento. Essas estratégias serão consideradas mais adiante."
   ]
  },
  {
   "cell_type": "code",
   "execution_count": 1,
   "id": "0fe0f952",
   "metadata": {},
   "outputs": [],
   "source": [
    "using LinearAlgebra"
   ]
  },
  {
   "attachments": {},
   "cell_type": "markdown",
   "id": "af9339b6",
   "metadata": {},
   "source": [
    "Vamos considerar buscar a solução do sistema $Ax=b$. Para isso vamos implementar a função \"eliminacao\" que recebe $A$ e $b$ e retorna $\\tilde{A}$ e $\\tilde{b}$, onde $\\tilde{A}$ é uma matriz triangular superior linha equivalente a $A$ e $\\tilde{b}$ é linha equivalente a $b$.  "
   ]
  },
  {
   "cell_type": "code",
   "execution_count": 2,
   "id": "fce14035",
   "metadata": {},
   "outputs": [
    {
     "data": {
      "text/plain": [
       "eliminacao (generic function with 1 method)"
      ]
     },
     "metadata": {},
     "output_type": "display_data"
    }
   ],
   "source": [
    "function eliminacao(A,b)\n",
    "    n = size(b,1); \n",
    "    for k in 1 : n-1\n",
    "        for i in k+1 : n\n",
    "            m = A[i,k] / A[k,k];\n",
    "            A[i,k] = 0.0;\n",
    "            for j in k+1 : n\n",
    "                A[i,j] = A[i,j] - m * A[k,j];\n",
    "            end\n",
    "            b[i] = b[i] - m * b[k];\n",
    "        end\n",
    "    end\n",
    "    return(A,b)\n",
    "end"
   ]
  },
  {
   "cell_type": "markdown",
   "id": "7d0ec94e",
   "metadata": {},
   "source": [
    "A função \"solucao\" recebe as matrizes $\\tilde{A}$ e $\\tilde{b}$ da função anterior e calcular a solução do sistema por meio de uma substituição."
   ]
  },
  {
   "cell_type": "code",
   "execution_count": 3,
   "id": "14988bad",
   "metadata": {},
   "outputs": [
    {
     "data": {
      "text/plain": [
       "solucao (generic function with 1 method)"
      ]
     },
     "metadata": {},
     "output_type": "display_data"
    }
   ],
   "source": [
    "function solucao(A,b)\n",
    "    n = size(b,1);\n",
    "    x = zeros(n,1); \n",
    "    x[n] = b[n] / A[n,n];\n",
    "    for k in n-1 : -1 : 1\n",
    "        s = 0.0;\n",
    "        for j in k+1 : n\n",
    "            s = s + A[k,j] * x[j];\n",
    "        end\n",
    "        x[k] = (b[k] - s) / A[k,k];\n",
    "    end\n",
    "    return(x)\n",
    "end\n",
    "    "
   ]
  },
  {
   "cell_type": "markdown",
   "id": "f4e3e2c6",
   "metadata": {},
   "source": [
    "Com as funções acima, implementamos a função \"eligauss\" que dirigirá todo o processo de solução."
   ]
  },
  {
   "cell_type": "code",
   "execution_count": 4,
   "id": "fa7a1fe8",
   "metadata": {},
   "outputs": [
    {
     "data": {
      "text/plain": [
       "eligauss (generic function with 1 method)"
      ]
     },
     "metadata": {},
     "output_type": "display_data"
    }
   ],
   "source": [
    "function eligauss(A,b)\n",
    "    (A,b) = eliminacao(A,b);\n",
    "    return solucao(A,b);\n",
    "end"
   ]
  },
  {
   "cell_type": "markdown",
   "id": "e64a8eb5",
   "metadata": {},
   "source": [
    "## Exemplo"
   ]
  },
  {
   "cell_type": "code",
   "execution_count": 11,
   "id": "4979592f",
   "metadata": {},
   "outputs": [
    {
     "data": {
      "text/plain": [
       "100×100 Matrix{Float64}:\n",
       " 0.184674   0.49903    0.292059  …  0.232328   0.822723    0.210694\n",
       " 0.591504   0.189825   0.918437     0.396525   0.454776    0.300225\n",
       " 0.0536021  0.371722   0.970752     0.316966   0.428585    0.0586645\n",
       " 0.833523   0.576921   0.85848      0.670978   0.783465    0.250381\n",
       " 0.257794   0.530519   0.838704     0.874184   0.87432     0.937912\n",
       " 0.0852158  0.0126687  0.182403  …  0.253911   0.737813    0.157304\n",
       " 0.413897   0.10078    0.8532       0.822948   0.973771    0.737687\n",
       " 0.267098   0.182123   0.815732     0.0455595  0.787885    0.916848\n",
       " 0.0402051  0.704265   0.940389     0.654378   0.00556528  0.194848\n",
       " 0.325102   0.573084   0.295765     0.990705   0.588548    0.947175\n",
       " ⋮                               ⋱                         \n",
       " 0.307421   0.181175   0.94512      0.171487   0.494305    0.682286\n",
       " 0.648366   0.309636   0.462968     0.300165   0.583272    0.0432683\n",
       " 0.128061   0.336012   0.974102     0.762408   0.057029    0.151824\n",
       " 0.396787   0.624329   0.363185     0.125058   0.713659    0.516868\n",
       " 0.211028   0.815103   0.375282  …  0.543771   0.362346    0.663982\n",
       " 0.878602   0.467094   0.605236     0.0396909  0.788245    0.531725\n",
       " 0.465178   0.149462   0.27781      0.990963   0.633617    0.517926\n",
       " 0.144488   0.266299   0.48018      0.109029   0.340402    0.0196248\n",
       " 0.135091   0.686193   0.328768     0.898714   0.338318    0.451698"
      ]
     },
     "metadata": {},
     "output_type": "display_data"
    }
   ],
   "source": [
    "n = 100  # dimensão de A\n",
    "\n",
    "A = rand(n,n)"
   ]
  },
  {
   "cell_type": "code",
   "execution_count": 12,
   "id": "18879603",
   "metadata": {},
   "outputs": [
    {
     "data": {
      "text/plain": [
       "100×100 Matrix{Float64}:\n",
       " 1.0e-8     0.49903    0.292059  …  0.232328   0.822723    0.210694\n",
       " 0.591504   1.0e-8     0.918437     0.396525   0.454776    0.300225\n",
       " 0.0536021  0.371722   1.0e-8       0.316966   0.428585    0.0586645\n",
       " 0.833523   0.576921   0.85848      0.670978   0.783465    0.250381\n",
       " 0.257794   0.530519   0.838704     0.874184   0.87432     0.937912\n",
       " 0.0852158  0.0126687  0.182403  …  0.253911   0.737813    0.157304\n",
       " 0.413897   0.10078    0.8532       0.822948   0.973771    0.737687\n",
       " 0.267098   0.182123   0.815732     0.0455595  0.787885    0.916848\n",
       " 0.0402051  0.704265   0.940389     0.654378   0.00556528  0.194848\n",
       " 0.325102   0.573084   0.295765     0.990705   0.588548    0.947175\n",
       " ⋮                               ⋱                         \n",
       " 0.307421   0.181175   0.94512      0.171487   0.494305    0.682286\n",
       " 0.648366   0.309636   0.462968     0.300165   0.583272    0.0432683\n",
       " 0.128061   0.336012   0.974102     0.762408   0.057029    0.151824\n",
       " 0.396787   0.624329   0.363185     0.125058   0.713659    0.516868\n",
       " 0.211028   0.815103   0.375282  …  0.543771   0.362346    0.663982\n",
       " 0.878602   0.467094   0.605236     0.0396909  0.788245    0.531725\n",
       " 0.465178   0.149462   0.27781      1.0e-8     0.633617    0.517926\n",
       " 0.144488   0.266299   0.48018      0.109029   1.0e-8      0.0196248\n",
       " 0.135091   0.686193   0.328768     0.898714   0.338318    1.0e-8"
      ]
     },
     "metadata": {},
     "output_type": "display_data"
    }
   ],
   "source": [
    "# Ajustando os pivots de A\n",
    "A = A - diagm(diag(A)) + 1.e-8*I"
   ]
  },
  {
   "cell_type": "code",
   "execution_count": 13,
   "id": "2967219e",
   "metadata": {},
   "outputs": [
    {
     "data": {
      "text/plain": [
       "100×1 Matrix{Float64}:\n",
       " 1.000000082740371\n",
       " 0.9999991147370173\n",
       " 1.0000029791819367\n",
       " 0.999998355179713\n",
       " 1.0000004216796643\n",
       " 1.000000725030775\n",
       " 1.0000000525529438\n",
       " 0.9999978120366441\n",
       " 1.0000002425936283\n",
       " 0.9999982481637627\n",
       " ⋮\n",
       " 0.9999977387833107\n",
       " 0.9999976397144094\n",
       " 0.999999866705084\n",
       " 1.000004249534355\n",
       " 0.99999952514705\n",
       " 1.0000024775635077\n",
       " 1.0000001516087536\n",
       " 1.0000001200434114\n",
       " 1.0000012841270294"
      ]
     },
     "metadata": {},
     "output_type": "display_data"
    }
   ],
   "source": [
    "AA = copy(A);\n",
    "\n",
    "x = ones(n,1);\n",
    "\n",
    "b = A * x;\n",
    "\n",
    "bb = copy(b);\n",
    "\n",
    "sol = eligauss(AA,bb)"
   ]
  },
  {
   "cell_type": "code",
   "execution_count": 14,
   "id": "8cd26715",
   "metadata": {},
   "outputs": [
    {
     "name": "stdout",
     "output_type": "stream",
     "text": [
      "Erro: 2.0333203517217673e-5\n"
     ]
    }
   ],
   "source": [
    "ne = norm(x-sol)\n",
    "println(\"Erro: $ne\")"
   ]
  }
 ],
 "metadata": {
  "kernelspec": {
   "display_name": "Julia 1.8.2",
   "language": "julia",
   "name": "julia-1.8"
  },
  "language_info": {
   "file_extension": ".jl",
   "mimetype": "application/julia",
   "name": "julia",
   "version": "1.8.2"
  }
 },
 "nbformat": 4,
 "nbformat_minor": 5
}
