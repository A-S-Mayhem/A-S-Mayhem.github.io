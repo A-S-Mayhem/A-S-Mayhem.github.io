{
 "cells": [
  {
   "attachments": {},
   "cell_type": "markdown",
   "metadata": {},
   "source": [
    "# Exercícios sobre a Linguagem Julia"
   ]
  },
  {
   "attachments": {},
   "cell_type": "markdown",
   "metadata": {},
   "source": [
    "### Escrever uma função em Julia que receba dois numeros e retorne o maior entre eles."
   ]
  },
  {
   "cell_type": "code",
   "execution_count": 9,
   "metadata": {},
   "outputs": [
    {
     "data": {
      "text/plain": [
       "maior (generic function with 1 method)"
      ]
     },
     "execution_count": 9,
     "metadata": {},
     "output_type": "execute_result"
    }
   ],
   "source": [
    "function maior(a,b)\n",
    "    if a > b\n",
    "        return(a)\n",
    "    elseif a < b\n",
    "        return(b)\n",
    "    else\n",
    "        println(\"Os numeros são iguais. Tente outra vez!!!!\")\n",
    "    end\n",
    "end\n",
    "\n"
   ]
  },
  {
   "cell_type": "code",
   "execution_count": 10,
   "metadata": {},
   "outputs": [
    {
     "name": "stdout",
     "output_type": "stream",
     "text": [
      "Os numeros são iguais. Tente outra vez!!!!\n"
     ]
    }
   ],
   "source": [
    "maior(4.0,4.0)"
   ]
  },
  {
   "attachments": {},
   "cell_type": "markdown",
   "metadata": {},
   "source": [
    "### Escrever uma função que calcule as soluções reais da equação $$ax^2+bx+c = 0.$$"
   ]
  },
  {
   "cell_type": "code",
   "execution_count": 25,
   "metadata": {},
   "outputs": [
    {
     "data": {
      "text/plain": [
       "bask (generic function with 1 method)"
      ]
     },
     "execution_count": 25,
     "metadata": {},
     "output_type": "execute_result"
    }
   ],
   "source": [
    "function bask(a,b,c)\n",
    "    Δ = b^2 - 4a * c\n",
    "    if Δ < 0\n",
    "        println(\"A equação $a x^2 + $b x + $c = 0 não tem solução real. Tente outra vez!!!!!!!\")\n",
    "    else\n",
    "        x1 = (-b + sqrt(Δ)) / 2a\n",
    "        x2 = (-b - sqrt(Δ)) / 2a\n",
    "        return(x1,x2)\n",
    "    end\n",
    "    \n",
    "end"
   ]
  },
  {
   "cell_type": "code",
   "execution_count": 26,
   "metadata": {},
   "outputs": [
    {
     "name": "stdout",
     "output_type": "stream",
     "text": [
      "A equação 1 x^2 + 2 x + 3 = 0 não tem solução real. Tente outra vez!!!!!!!\n"
     ]
    }
   ],
   "source": [
    "bask(1,2,3)"
   ]
  },
  {
   "attachments": {},
   "cell_type": "markdown",
   "metadata": {},
   "source": [
    "### Escrever uma função que retorne $n$ primeiros termos da sequencia de Fibonacci em um vetor de inteiros. Assuma $n>2$."
   ]
  },
  {
   "cell_type": "code",
   "execution_count": 31,
   "metadata": {},
   "outputs": [
    {
     "data": {
      "text/plain": [
       "fib (generic function with 1 method)"
      ]
     },
     "execution_count": 31,
     "metadata": {},
     "output_type": "execute_result"
    }
   ],
   "source": [
    "function fib(n)\n",
    "    v = Int64[1,1]\n",
    "    for k in 2 : n - 1\n",
    "        newfib = v[k] + v[k-1]\n",
    "        push!(v,newfib) \n",
    "    end\n",
    "    return(v)\n",
    "end\n"
   ]
  },
  {
   "cell_type": "code",
   "execution_count": 36,
   "metadata": {},
   "outputs": [
    {
     "data": {
      "text/plain": [
       "50-element Vector{Int64}:\n",
       "           1\n",
       "           1\n",
       "           2\n",
       "           3\n",
       "           5\n",
       "           8\n",
       "          13\n",
       "          21\n",
       "          34\n",
       "          55\n",
       "          89\n",
       "         144\n",
       "         233\n",
       "           ⋮\n",
       "    63245986\n",
       "   102334155\n",
       "   165580141\n",
       "   267914296\n",
       "   433494437\n",
       "   701408733\n",
       "  1134903170\n",
       "  1836311903\n",
       "  2971215073\n",
       "  4807526976\n",
       "  7778742049\n",
       " 12586269025"
      ]
     },
     "execution_count": 36,
     "metadata": {},
     "output_type": "execute_result"
    }
   ],
   "source": [
    "FIB = fib(50)"
   ]
  },
  {
   "cell_type": "code",
   "execution_count": 35,
   "metadata": {},
   "outputs": [
    {
     "data": {
      "text/plain": [
       "2"
      ]
     },
     "execution_count": 35,
     "metadata": {},
     "output_type": "execute_result"
    }
   ],
   "source": [
    "FIB[3]"
   ]
  },
  {
   "attachments": {},
   "cell_type": "markdown",
   "metadata": {},
   "source": [
    "Escrever uma função que receba $f:[a,b] \\to \\mathbb{R}$ e retorne o valor da integral $$\\int_a^b f(x) \\, dx.$$"
   ]
  },
  {
   "cell_type": "code",
   "execution_count": 41,
   "metadata": {},
   "outputs": [
    {
     "data": {
      "text/plain": [
       "integra (generic function with 1 method)"
      ]
     },
     "execution_count": 41,
     "metadata": {},
     "output_type": "execute_result"
    }
   ],
   "source": [
    "function integra(f,a,b,n)\n",
    "    x = range(start=a,length=n,stop=b)\n",
    "    Δx = x[2]-x[1]\n",
    "    soma = 0.0\n",
    "    for k in 1 : n-1\n",
    "        soma = soma + f(x[k]) * Δx\n",
    "    end\n",
    "    return(soma)\n",
    "end\n",
    "\n",
    "    "
   ]
  },
  {
   "cell_type": "code",
   "execution_count": 48,
   "metadata": {},
   "outputs": [
    {
     "data": {
      "text/plain": [
       "-0.00040008001600324667"
      ]
     },
     "execution_count": 48,
     "metadata": {},
     "output_type": "execute_result"
    }
   ],
   "source": [
    "g = x -> x^3\n",
    "a = -1.0\n",
    "b = 1.0\n",
    "integra(g,a,b,5000)"
   ]
  },
  {
   "cell_type": "code",
   "execution_count": null,
   "metadata": {},
   "outputs": [],
   "source": []
  }
 ],
 "metadata": {
  "kernelspec": {
   "display_name": "Julia 1.8.2",
   "language": "julia",
   "name": "julia-1.8"
  },
  "language_info": {
   "file_extension": ".jl",
   "mimetype": "application/julia",
   "name": "julia",
   "version": "1.8.2"
  }
 },
 "nbformat": 4,
 "nbformat_minor": 2
}
