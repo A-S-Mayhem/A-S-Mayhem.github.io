{
 "cells": [
  {
   "cell_type": "markdown",
   "id": "7f3ad864",
   "metadata": {},
   "source": [
    "# Interpolação Polinomial"
   ]
  },
  {
   "cell_type": "markdown",
   "id": "82c4f395",
   "metadata": {},
   "source": [
    "A função abaixo, retorna os coeficientes do polinômio interpolante para os pontos $(x_i,f_i)$, $i = 1, \\cdots,n$. A função \"interp\" recebe uma matrix $P$, tal que $P_{i1} = x_i$ e $P_{i2} = f_i$. "
   ]
  },
  {
   "cell_type": "code",
   "execution_count": 1,
   "id": "1bace894",
   "metadata": {},
   "outputs": [
    {
     "data": {
      "text/plain": [
       "interp (generic function with 1 method)"
      ]
     },
     "execution_count": 1,
     "metadata": {},
     "output_type": "execute_result"
    }
   ],
   "source": [
    "function interp(P)\n",
    "    # This function receives a matrix P (n x 2) and returns the coeficients\n",
    "    # of polynomial interpolation of (x_i,f_i), i = 1, ..., n, where \n",
    "    # P[i,1]=x_i and P[i,2]=f_i.\n",
    "    \n",
    "    npoints = size(P,1);\n",
    "    \n",
    "    # Initiate Vandermonde matrix\n",
    "    V = zeros(npoints,npoints);\n",
    "    \n",
    "    # Create Vandermonde matrix\n",
    "    for i = 1 : npoints\n",
    "        for j = 1 : npoints\n",
    "            V[i,j] = P[i,1]^(j-1);\n",
    "        end\n",
    "    end\n",
    "    \n",
    "    # Solving the system\n",
    "    sol = V \\ P[:,2];\n",
    "    \n",
    "    return(sol);\n",
    "end"
   ]
  },
  {
   "cell_type": "markdown",
   "id": "d582b0ba",
   "metadata": {},
   "source": [
    "A função polyfit recebe a matrix $P$, que contem os pontos $(x_i,f_i)$ e $x \\in \\mathbb{R}$ e retorna o valor do polinômio interpolante no ponto $x$. "
   ]
  },
  {
   "cell_type": "code",
   "execution_count": 2,
   "id": "8aae8076",
   "metadata": {},
   "outputs": [
    {
     "data": {
      "text/plain": [
       "polyfit (generic function with 1 method)"
      ]
     },
     "execution_count": 2,
     "metadata": {},
     "output_type": "execute_result"
    }
   ],
   "source": [
    "function polyfit(x,P)\n",
    "    np = size(P,1);\n",
    "    \n",
    "    # Coeficients of the interpolante polynomial\n",
    "    α = interp(P);\n",
    "    \n",
    "    px = zeros(np,1);\n",
    "    \n",
    "    for i = 1 : np\n",
    "        px[i] = x^(i-1);\n",
    "    end\n",
    "    \n",
    "    z = α' * px;\n",
    "\n",
    "    return(z[1]);\n",
    "end"
   ]
  },
  {
   "cell_type": "markdown",
   "id": "1324af22",
   "metadata": {},
   "source": [
    "As linhas a seguir são utilizadas para testar a função polyfit."
   ]
  },
  {
   "cell_type": "code",
   "execution_count": 5,
   "id": "8d3538b8",
   "metadata": {},
   "outputs": [],
   "source": [
    "# Data for testing interp function\n",
    "x0 = 1.0;\n",
    "x1 = 5.0;\n",
    "npoints = 5;\n",
    "x = LinRange(x0,x1,npoints);\n",
    "y = 10 * rand(npoints,1);\n",
    "P = hcat(x,y);"
   ]
  },
  {
   "cell_type": "code",
   "execution_count": 6,
   "id": "ee95cf34",
   "metadata": {},
   "outputs": [
    {
     "data": {
      "image/svg+xml": "<?xml version=\"1.0\" encoding=\"utf-8\"?>\n<svg xmlns=\"http://www.w3.org/2000/svg\" xmlns:xlink=\"http://www.w3.org/1999/xlink\" width=\"600\" height=\"400\" viewBox=\"0 0 2400 1600\">\n<defs>\n  <clipPath id=\"clip850\">\n    <rect x=\"0\" y=\"0\" width=\"2400\" height=\"1600\"/>\n  </clipPath>\n</defs>\n<path clip-path=\"url(#clip850)\" d=\"\nM0 1600 L2400 1600 L2400 0 L0 0  Z\n  \" fill=\"#ffffff\" fill-rule=\"evenodd\" fill-opacity=\"1\"/>\n<defs>\n  <clipPath id=\"clip851\">\n    <rect x=\"480\" y=\"0\" width=\"1681\" height=\"1600\"/>\n  </clipPath>\n</defs>\n<path clip-path=\"url(#clip850)\" d=\"\nM141.853 1486.45 L2352.76 1486.45 L2352.76 47.2441 L141.853 47.2441  Z\n  \" fill=\"#ffffff\" fill-rule=\"evenodd\" fill-opacity=\"1\"/>\n<defs>\n  <clipPath id=\"clip852\">\n    <rect x=\"141\" y=\"47\" width=\"2212\" height=\"1440\"/>\n  </clipPath>\n</defs>\n<polyline clip-path=\"url(#clip852)\" style=\"stroke:#000000; stroke-linecap:butt; stroke-linejoin:round; stroke-width:2; stroke-opacity:0.1; fill:none\" points=\"\n  204.426,1486.45 204.426,47.2441 \n  \"/>\n<polyline clip-path=\"url(#clip852)\" style=\"stroke:#000000; stroke-linecap:butt; stroke-linejoin:round; stroke-width:2; stroke-opacity:0.1; fill:none\" points=\"\n  552.052,1486.45 552.052,47.2441 \n  \"/>\n<polyline clip-path=\"url(#clip852)\" style=\"stroke:#000000; stroke-linecap:butt; stroke-linejoin:round; stroke-width:2; stroke-opacity:0.1; fill:none\" points=\"\n  899.678,1486.45 899.678,47.2441 \n  \"/>\n<polyline clip-path=\"url(#clip852)\" style=\"stroke:#000000; stroke-linecap:butt; stroke-linejoin:round; stroke-width:2; stroke-opacity:0.1; fill:none\" points=\"\n  1247.3,1486.45 1247.3,47.2441 \n  \"/>\n<polyline clip-path=\"url(#clip852)\" style=\"stroke:#000000; stroke-linecap:butt; stroke-linejoin:round; stroke-width:2; stroke-opacity:0.1; fill:none\" points=\"\n  1594.93,1486.45 1594.93,47.2441 \n  \"/>\n<polyline clip-path=\"url(#clip852)\" style=\"stroke:#000000; stroke-linecap:butt; stroke-linejoin:round; stroke-width:2; stroke-opacity:0.1; fill:none\" points=\"\n  1942.56,1486.45 1942.56,47.2441 \n  \"/>\n<polyline clip-path=\"url(#clip852)\" style=\"stroke:#000000; stroke-linecap:butt; stroke-linejoin:round; stroke-width:2; stroke-opacity:0.1; fill:none\" points=\"\n  2290.18,1486.45 2290.18,47.2441 \n  \"/>\n<polyline clip-path=\"url(#clip850)\" style=\"stroke:#000000; stroke-linecap:butt; stroke-linejoin:round; stroke-width:4; stroke-opacity:1; fill:none\" points=\"\n  141.853,1486.45 2352.76,1486.45 \n  \"/>\n<polyline clip-path=\"url(#clip850)\" style=\"stroke:#000000; stroke-linecap:butt; stroke-linejoin:round; stroke-width:4; stroke-opacity:1; fill:none\" points=\"\n  204.426,1486.45 204.426,1467.55 \n  \"/>\n<polyline clip-path=\"url(#clip850)\" style=\"stroke:#000000; stroke-linecap:butt; stroke-linejoin:round; stroke-width:4; stroke-opacity:1; fill:none\" points=\"\n  552.052,1486.45 552.052,1467.55 \n  \"/>\n<polyline clip-path=\"url(#clip850)\" style=\"stroke:#000000; stroke-linecap:butt; stroke-linejoin:round; stroke-width:4; stroke-opacity:1; fill:none\" points=\"\n  899.678,1486.45 899.678,1467.55 \n  \"/>\n<polyline clip-path=\"url(#clip850)\" style=\"stroke:#000000; stroke-linecap:butt; stroke-linejoin:round; stroke-width:4; stroke-opacity:1; fill:none\" points=\"\n  1247.3,1486.45 1247.3,1467.55 \n  \"/>\n<polyline clip-path=\"url(#clip850)\" style=\"stroke:#000000; stroke-linecap:butt; stroke-linejoin:round; stroke-width:4; stroke-opacity:1; fill:none\" points=\"\n  1594.93,1486.45 1594.93,1467.55 \n  \"/>\n<polyline clip-path=\"url(#clip850)\" style=\"stroke:#000000; stroke-linecap:butt; stroke-linejoin:round; stroke-width:4; stroke-opacity:1; fill:none\" points=\"\n  1942.56,1486.45 1942.56,1467.55 \n  \"/>\n<polyline clip-path=\"url(#clip850)\" style=\"stroke:#000000; stroke-linecap:butt; stroke-linejoin:round; stroke-width:4; stroke-opacity:1; fill:none\" points=\"\n  2290.18,1486.45 2290.18,1467.55 \n  \"/>\n<path clip-path=\"url(#clip850)\" d=\"M204.426 1517.37 Q200.815 1517.37 198.986 1520.93 Q197.18 1524.47 197.18 1531.6 Q197.18 1538.71 198.986 1542.27 Q200.815 1545.82 204.426 1545.82 Q208.06 1545.82 209.865 1542.27 Q211.694 1538.71 211.694 1531.6 Q211.694 1524.47 209.865 1520.93 Q208.06 1517.37 204.426 1517.37 M204.426 1513.66 Q210.236 1513.66 213.291 1518.27 Q216.37 1522.85 216.37 1531.6 Q216.37 1540.33 213.291 1544.94 Q210.236 1549.52 204.426 1549.52 Q198.616 1549.52 195.537 1544.94 Q192.481 1540.33 192.481 1531.6 Q192.481 1522.85 195.537 1518.27 Q198.616 1513.66 204.426 1513.66 Z\" fill=\"#000000\" fill-rule=\"evenodd\" fill-opacity=\"1\" /><path clip-path=\"url(#clip850)\" d=\"M542.434 1544.91 L550.073 1544.91 L550.073 1518.55 L541.763 1520.21 L541.763 1515.95 L550.026 1514.29 L554.702 1514.29 L554.702 1544.91 L562.341 1544.91 L562.341 1548.85 L542.434 1548.85 L542.434 1544.91 Z\" fill=\"#000000\" fill-rule=\"evenodd\" fill-opacity=\"1\" /><path clip-path=\"url(#clip850)\" d=\"M894.331 1544.91 L910.65 1544.91 L910.65 1548.85 L888.706 1548.85 L888.706 1544.91 Q891.368 1542.16 895.951 1537.53 Q900.558 1532.88 901.738 1531.53 Q903.984 1529.01 904.863 1527.27 Q905.766 1525.51 905.766 1523.82 Q905.766 1521.07 903.822 1519.33 Q901.9 1517.6 898.799 1517.6 Q896.599 1517.6 894.146 1518.36 Q891.715 1519.13 888.937 1520.68 L888.937 1515.95 Q891.762 1514.82 894.215 1514.24 Q896.669 1513.66 898.706 1513.66 Q904.076 1513.66 907.271 1516.35 Q910.465 1519.03 910.465 1523.52 Q910.465 1525.65 909.655 1527.57 Q908.868 1529.47 906.761 1532.07 Q906.183 1532.74 903.081 1535.95 Q899.979 1539.15 894.331 1544.91 Z\" fill=\"#000000\" fill-rule=\"evenodd\" fill-opacity=\"1\" /><path clip-path=\"url(#clip850)\" d=\"M1251.55 1530.21 Q1254.91 1530.93 1256.78 1533.2 Q1258.68 1535.47 1258.68 1538.8 Q1258.68 1543.92 1255.16 1546.72 Q1251.64 1549.52 1245.16 1549.52 Q1242.99 1549.52 1240.67 1549.08 Q1238.38 1548.66 1235.93 1547.81 L1235.93 1543.29 Q1237.87 1544.43 1240.19 1545.01 Q1242.5 1545.58 1245.02 1545.58 Q1249.42 1545.58 1251.71 1543.85 Q1254.03 1542.11 1254.03 1538.8 Q1254.03 1535.75 1251.88 1534.03 Q1249.75 1532.3 1245.93 1532.3 L1241.9 1532.3 L1241.9 1528.45 L1246.11 1528.45 Q1249.56 1528.45 1251.39 1527.09 Q1253.22 1525.7 1253.22 1523.11 Q1253.22 1520.45 1251.32 1519.03 Q1249.45 1517.6 1245.93 1517.6 Q1244.01 1517.6 1241.81 1518.01 Q1239.61 1518.43 1236.97 1519.31 L1236.97 1515.14 Q1239.63 1514.4 1241.95 1514.03 Q1244.28 1513.66 1246.34 1513.66 Q1251.67 1513.66 1254.77 1516.09 Q1257.87 1518.5 1257.87 1522.62 Q1257.87 1525.49 1256.23 1527.48 Q1254.58 1529.45 1251.55 1530.21 Z\" fill=\"#000000\" fill-rule=\"evenodd\" fill-opacity=\"1\" /><path clip-path=\"url(#clip850)\" d=\"M1597.94 1518.36 L1586.13 1536.81 L1597.94 1536.81 L1597.94 1518.36 M1596.71 1514.29 L1602.59 1514.29 L1602.59 1536.81 L1607.52 1536.81 L1607.52 1540.7 L1602.59 1540.7 L1602.59 1548.85 L1597.94 1548.85 L1597.94 1540.7 L1582.34 1540.7 L1582.34 1536.19 L1596.71 1514.29 Z\" fill=\"#000000\" fill-rule=\"evenodd\" fill-opacity=\"1\" /><path clip-path=\"url(#clip850)\" d=\"M1932.83 1514.29 L1951.19 1514.29 L1951.19 1518.22 L1937.12 1518.22 L1937.12 1526.7 Q1938.14 1526.35 1939.15 1526.19 Q1940.17 1526 1941.19 1526 Q1946.98 1526 1950.36 1529.17 Q1953.74 1532.34 1953.74 1537.76 Q1953.74 1543.34 1950.27 1546.44 Q1946.79 1549.52 1940.47 1549.52 Q1938.3 1549.52 1936.03 1549.15 Q1933.78 1548.78 1931.38 1548.04 L1931.38 1543.34 Q1933.46 1544.47 1935.68 1545.03 Q1937.9 1545.58 1940.38 1545.58 Q1944.39 1545.58 1946.72 1543.48 Q1949.06 1541.37 1949.06 1537.76 Q1949.06 1534.15 1946.72 1532.04 Q1944.39 1529.94 1940.38 1529.94 Q1938.51 1529.94 1936.63 1530.35 Q1934.78 1530.77 1932.83 1531.65 L1932.83 1514.29 Z\" fill=\"#000000\" fill-rule=\"evenodd\" fill-opacity=\"1\" /><path clip-path=\"url(#clip850)\" d=\"M2290.59 1529.7 Q2287.44 1529.7 2285.59 1531.86 Q2283.76 1534.01 2283.76 1537.76 Q2283.76 1541.49 2285.59 1543.66 Q2287.44 1545.82 2290.59 1545.82 Q2293.74 1545.82 2295.57 1543.66 Q2297.42 1541.49 2297.42 1537.76 Q2297.42 1534.01 2295.57 1531.86 Q2293.74 1529.7 2290.59 1529.7 M2299.87 1515.05 L2299.87 1519.31 Q2298.11 1518.48 2296.31 1518.04 Q2294.52 1517.6 2292.76 1517.6 Q2288.13 1517.6 2285.68 1520.72 Q2283.25 1523.85 2282.9 1530.17 Q2284.27 1528.15 2286.33 1527.09 Q2288.39 1526 2290.87 1526 Q2296.07 1526 2299.08 1529.17 Q2302.12 1532.32 2302.12 1537.76 Q2302.12 1543.08 2298.97 1546.3 Q2295.82 1549.52 2290.59 1549.52 Q2284.59 1549.52 2281.42 1544.94 Q2278.25 1540.33 2278.25 1531.6 Q2278.25 1523.41 2282.14 1518.55 Q2286.03 1513.66 2292.58 1513.66 Q2294.34 1513.66 2296.12 1514.01 Q2297.93 1514.36 2299.87 1515.05 Z\" fill=\"#000000\" fill-rule=\"evenodd\" fill-opacity=\"1\" /><polyline clip-path=\"url(#clip852)\" style=\"stroke:#000000; stroke-linecap:butt; stroke-linejoin:round; stroke-width:2; stroke-opacity:0.1; fill:none\" points=\"\n  141.853,1221.52 2352.76,1221.52 \n  \"/>\n<polyline clip-path=\"url(#clip852)\" style=\"stroke:#000000; stroke-linecap:butt; stroke-linejoin:round; stroke-width:2; stroke-opacity:0.1; fill:none\" points=\"\n  141.853,948.385 2352.76,948.385 \n  \"/>\n<polyline clip-path=\"url(#clip852)\" style=\"stroke:#000000; stroke-linecap:butt; stroke-linejoin:round; stroke-width:2; stroke-opacity:0.1; fill:none\" points=\"\n  141.853,675.249 2352.76,675.249 \n  \"/>\n<polyline clip-path=\"url(#clip852)\" style=\"stroke:#000000; stroke-linecap:butt; stroke-linejoin:round; stroke-width:2; stroke-opacity:0.1; fill:none\" points=\"\n  141.853,402.112 2352.76,402.112 \n  \"/>\n<polyline clip-path=\"url(#clip852)\" style=\"stroke:#000000; stroke-linecap:butt; stroke-linejoin:round; stroke-width:2; stroke-opacity:0.1; fill:none\" points=\"\n  141.853,128.976 2352.76,128.976 \n  \"/>\n<polyline clip-path=\"url(#clip850)\" style=\"stroke:#000000; stroke-linecap:butt; stroke-linejoin:round; stroke-width:4; stroke-opacity:1; fill:none\" points=\"\n  141.853,1486.45 141.853,47.2441 \n  \"/>\n<polyline clip-path=\"url(#clip850)\" style=\"stroke:#000000; stroke-linecap:butt; stroke-linejoin:round; stroke-width:4; stroke-opacity:1; fill:none\" points=\"\n  141.853,1221.52 160.751,1221.52 \n  \"/>\n<polyline clip-path=\"url(#clip850)\" style=\"stroke:#000000; stroke-linecap:butt; stroke-linejoin:round; stroke-width:4; stroke-opacity:1; fill:none\" points=\"\n  141.853,948.385 160.751,948.385 \n  \"/>\n<polyline clip-path=\"url(#clip850)\" style=\"stroke:#000000; stroke-linecap:butt; stroke-linejoin:round; stroke-width:4; stroke-opacity:1; fill:none\" points=\"\n  141.853,675.249 160.751,675.249 \n  \"/>\n<polyline clip-path=\"url(#clip850)\" style=\"stroke:#000000; stroke-linecap:butt; stroke-linejoin:round; stroke-width:4; stroke-opacity:1; fill:none\" points=\"\n  141.853,402.112 160.751,402.112 \n  \"/>\n<polyline clip-path=\"url(#clip850)\" style=\"stroke:#000000; stroke-linecap:butt; stroke-linejoin:round; stroke-width:4; stroke-opacity:1; fill:none\" points=\"\n  141.853,128.976 160.751,128.976 \n  \"/>\n<path clip-path=\"url(#clip850)\" d=\"M54.5569 1234.87 L62.1958 1234.87 L62.1958 1208.5 L53.8856 1210.17 L53.8856 1205.91 L62.1495 1204.24 L66.8254 1204.24 L66.8254 1234.87 L74.4642 1234.87 L74.4642 1238.8 L54.5569 1238.8 L54.5569 1234.87 Z\" fill=\"#000000\" fill-rule=\"evenodd\" fill-opacity=\"1\" /><path clip-path=\"url(#clip850)\" d=\"M93.9086 1207.32 Q90.2975 1207.32 88.4688 1210.88 Q86.6632 1214.43 86.6632 1221.56 Q86.6632 1228.66 88.4688 1232.23 Q90.2975 1235.77 93.9086 1235.77 Q97.5428 1235.77 99.3483 1232.23 Q101.177 1228.66 101.177 1221.56 Q101.177 1214.43 99.3483 1210.88 Q97.5428 1207.32 93.9086 1207.32 M93.9086 1203.62 Q99.7187 1203.62 102.774 1208.22 Q105.853 1212.81 105.853 1221.56 Q105.853 1230.28 102.774 1234.89 Q99.7187 1239.47 93.9086 1239.47 Q88.0984 1239.47 85.0197 1234.89 Q81.9642 1230.28 81.9642 1221.56 Q81.9642 1212.81 85.0197 1208.22 Q88.0984 1203.62 93.9086 1203.62 Z\" fill=\"#000000\" fill-rule=\"evenodd\" fill-opacity=\"1\" /><path clip-path=\"url(#clip850)\" d=\"M57.7745 961.73 L74.0939 961.73 L74.0939 965.665 L52.1495 965.665 L52.1495 961.73 Q54.8115 958.975 59.3949 954.345 Q64.0013 949.693 65.1819 948.35 Q67.4272 945.827 68.3068 944.091 Q69.2096 942.332 69.2096 940.642 Q69.2096 937.887 67.2652 936.151 Q65.3439 934.415 62.2421 934.415 Q60.043 934.415 57.5893 935.179 Q55.1588 935.943 52.381 937.494 L52.381 932.771 Q55.2051 931.637 57.6588 931.059 Q60.1124 930.48 62.1495 930.48 Q67.5198 930.48 70.7142 933.165 Q73.9087 935.85 73.9087 940.341 Q73.9087 942.47 73.0985 944.392 Q72.3115 946.29 70.205 948.882 Q69.6263 949.554 66.5245 952.771 Q63.4226 955.966 57.7745 961.73 Z\" fill=\"#000000\" fill-rule=\"evenodd\" fill-opacity=\"1\" /><path clip-path=\"url(#clip850)\" d=\"M93.9086 934.183 Q90.2975 934.183 88.4688 937.748 Q86.6632 941.29 86.6632 948.42 Q86.6632 955.526 88.4688 959.091 Q90.2975 962.632 93.9086 962.632 Q97.5428 962.632 99.3483 959.091 Q101.177 955.526 101.177 948.42 Q101.177 941.29 99.3483 937.748 Q97.5428 934.183 93.9086 934.183 M93.9086 930.48 Q99.7187 930.48 102.774 935.086 Q105.853 939.67 105.853 948.42 Q105.853 957.146 102.774 961.753 Q99.7187 966.336 93.9086 966.336 Q88.0984 966.336 85.0197 961.753 Q81.9642 957.146 81.9642 948.42 Q81.9642 939.67 85.0197 935.086 Q88.0984 930.48 93.9086 930.48 Z\" fill=\"#000000\" fill-rule=\"evenodd\" fill-opacity=\"1\" /><path clip-path=\"url(#clip850)\" d=\"M67.9133 673.894 Q71.2698 674.612 73.1448 676.88 Q75.0429 679.149 75.0429 682.482 Q75.0429 687.598 71.5244 690.399 Q68.0059 693.2 61.5245 693.2 Q59.3486 693.2 57.0338 692.76 Q54.7421 692.343 52.2884 691.487 L52.2884 686.973 Q54.2328 688.107 56.5477 688.686 Q58.8625 689.265 61.3856 689.265 Q65.7837 689.265 68.0754 687.529 Q70.3902 685.792 70.3902 682.482 Q70.3902 679.427 68.2374 677.714 Q66.1078 675.978 62.2884 675.978 L58.2606 675.978 L58.2606 672.135 L62.4735 672.135 Q65.9226 672.135 67.7513 670.769 Q69.58 669.381 69.58 666.788 Q69.58 664.126 67.6819 662.714 Q65.8069 661.279 62.2884 661.279 Q60.3671 661.279 58.168 661.695 Q55.969 662.112 53.3301 662.992 L53.3301 658.825 Q55.9921 658.084 58.3069 657.714 Q60.6449 657.344 62.705 657.344 Q68.0291 657.344 71.1309 659.774 Q74.2327 662.181 74.2327 666.302 Q74.2327 669.172 72.5892 671.163 Q70.9457 673.13 67.9133 673.894 Z\" fill=\"#000000\" fill-rule=\"evenodd\" fill-opacity=\"1\" /><path clip-path=\"url(#clip850)\" d=\"M93.9086 661.047 Q90.2975 661.047 88.4688 664.612 Q86.6632 668.154 86.6632 675.283 Q86.6632 682.39 88.4688 685.954 Q90.2975 689.496 93.9086 689.496 Q97.5428 689.496 99.3483 685.954 Q101.177 682.39 101.177 675.283 Q101.177 668.154 99.3483 664.612 Q97.5428 661.047 93.9086 661.047 M93.9086 657.344 Q99.7187 657.344 102.774 661.95 Q105.853 666.533 105.853 675.283 Q105.853 684.01 102.774 688.617 Q99.7187 693.2 93.9086 693.2 Q88.0984 693.2 85.0197 688.617 Q81.9642 684.01 81.9642 675.283 Q81.9642 666.533 85.0197 661.95 Q88.0984 657.344 93.9086 657.344 Z\" fill=\"#000000\" fill-rule=\"evenodd\" fill-opacity=\"1\" /><path clip-path=\"url(#clip850)\" d=\"M66.5939 388.906 L54.7884 407.355 L66.5939 407.355 L66.5939 388.906 M65.367 384.832 L71.2466 384.832 L71.2466 407.355 L76.1772 407.355 L76.1772 411.244 L71.2466 411.244 L71.2466 419.392 L66.5939 419.392 L66.5939 411.244 L50.9921 411.244 L50.9921 406.73 L65.367 384.832 Z\" fill=\"#000000\" fill-rule=\"evenodd\" fill-opacity=\"1\" /><path clip-path=\"url(#clip850)\" d=\"M93.9086 387.911 Q90.2975 387.911 88.4688 391.476 Q86.6632 395.017 86.6632 402.147 Q86.6632 409.253 88.4688 412.818 Q90.2975 416.36 93.9086 416.36 Q97.5428 416.36 99.3483 412.818 Q101.177 409.253 101.177 402.147 Q101.177 395.017 99.3483 391.476 Q97.5428 387.911 93.9086 387.911 M93.9086 384.207 Q99.7187 384.207 102.774 388.814 Q105.853 393.397 105.853 402.147 Q105.853 410.874 102.774 415.48 Q99.7187 420.064 93.9086 420.064 Q88.0984 420.064 85.0197 415.48 Q81.9642 410.874 81.9642 402.147 Q81.9642 393.397 85.0197 388.814 Q88.0984 384.207 93.9086 384.207 Z\" fill=\"#000000\" fill-rule=\"evenodd\" fill-opacity=\"1\" /><path clip-path=\"url(#clip850)\" d=\"M53.793 111.696 L72.1494 111.696 L72.1494 115.631 L58.0754 115.631 L58.0754 124.103 Q59.0939 123.756 60.1124 123.594 Q61.131 123.409 62.1495 123.409 Q67.9365 123.409 71.3161 126.58 Q74.6957 129.751 74.6957 135.168 Q74.6957 140.747 71.2235 143.849 Q67.7513 146.927 61.4319 146.927 Q59.256 146.927 56.9875 146.557 Q54.7421 146.187 52.3347 145.446 L52.3347 140.747 Q54.418 141.881 56.6402 142.437 Q58.8625 142.992 61.3393 142.992 Q65.3439 142.992 67.6819 140.886 Q70.0198 138.779 70.0198 135.168 Q70.0198 131.557 67.6819 129.451 Q65.3439 127.344 61.3393 127.344 Q59.4643 127.344 57.5893 127.761 Q55.7375 128.177 53.793 129.057 L53.793 111.696 Z\" fill=\"#000000\" fill-rule=\"evenodd\" fill-opacity=\"1\" /><path clip-path=\"url(#clip850)\" d=\"M93.9086 114.775 Q90.2975 114.775 88.4688 118.339 Q86.6632 121.881 86.6632 129.011 Q86.6632 136.117 88.4688 139.682 Q90.2975 143.224 93.9086 143.224 Q97.5428 143.224 99.3483 139.682 Q101.177 136.117 101.177 129.011 Q101.177 121.881 99.3483 118.339 Q97.5428 114.775 93.9086 114.775 M93.9086 111.071 Q99.7187 111.071 102.774 115.677 Q105.853 120.261 105.853 129.011 Q105.853 137.738 102.774 142.344 Q99.7187 146.927 93.9086 146.927 Q88.0984 146.927 85.0197 142.344 Q81.9642 137.738 81.9642 129.011 Q81.9642 120.261 85.0197 115.677 Q88.0984 111.071 93.9086 111.071 Z\" fill=\"#000000\" fill-rule=\"evenodd\" fill-opacity=\"1\" /><polyline clip-path=\"url(#clip852)\" style=\"stroke:#009af9; stroke-linecap:butt; stroke-linejoin:round; stroke-width:8; stroke-opacity:1; fill:none\" points=\"\n  204.426,412.743 246.992,587.494 289.559,739.137 332.125,869.743 374.692,981.293 417.258,1075.67 459.825,1154.66 502.391,1219.97 544.958,1273.2 587.524,1315.85 \n  630.09,1349.35 672.657,1375.01 715.223,1394.06 757.79,1407.63 800.356,1416.77 842.923,1422.41 885.489,1425.42 928.056,1426.54 970.622,1426.45 1013.19,1425.71 \n  1055.76,1424.8 1098.32,1424.11 1140.89,1423.91 1183.45,1424.4 1226.02,1425.69 1268.59,1427.79 1311.15,1430.59 1353.72,1433.93 1396.29,1437.53 1438.85,1441.02 \n  1481.42,1443.93 1523.99,1445.71 1566.55,1445.72 1609.12,1443.19 1651.69,1437.31 1694.25,1427.13 1736.82,1411.62 1779.39,1389.68 1821.95,1360.07 1864.52,1321.51 \n  1907.08,1272.58 1949.65,1211.78 1992.22,1137.54 2034.78,1048.16 2077.35,941.875 2119.92,816.803 2162.48,670.983 2205.05,502.356 2247.62,308.77 2290.18,87.9763 \n  \n  \"/>\n<circle clip-path=\"url(#clip852)\" cx=\"552.052\" cy=\"1281\" r=\"14\" fill=\"#e26f46\" fill-rule=\"evenodd\" fill-opacity=\"1\" stroke=\"#000000\" stroke-opacity=\"1\" stroke-width=\"3.2\"/>\n<circle clip-path=\"url(#clip852)\" cx=\"899.678\" cy=\"1425.97\" r=\"14\" fill=\"#e26f46\" fill-rule=\"evenodd\" fill-opacity=\"1\" stroke=\"#000000\" stroke-opacity=\"1\" stroke-width=\"3.2\"/>\n<circle clip-path=\"url(#clip852)\" cx=\"1247.3\" cy=\"1426.64\" r=\"14\" fill=\"#e26f46\" fill-rule=\"evenodd\" fill-opacity=\"1\" stroke=\"#000000\" stroke-opacity=\"1\" stroke-width=\"3.2\"/>\n<circle clip-path=\"url(#clip852)\" cx=\"1594.93\" cy=\"1444.36\" r=\"14\" fill=\"#e26f46\" fill-rule=\"evenodd\" fill-opacity=\"1\" stroke=\"#000000\" stroke-opacity=\"1\" stroke-width=\"3.2\"/>\n<circle clip-path=\"url(#clip852)\" cx=\"1942.56\" cy=\"1222.81\" r=\"14\" fill=\"#e26f46\" fill-rule=\"evenodd\" fill-opacity=\"1\" stroke=\"#000000\" stroke-opacity=\"1\" stroke-width=\"3.2\"/>\n<path clip-path=\"url(#clip850)\" d=\"\nM1894.42 250.738 L2279.06 250.738 L2279.06 95.2176 L1894.42 95.2176  Z\n  \" fill=\"#ffffff\" fill-rule=\"evenodd\" fill-opacity=\"1\"/>\n<polyline clip-path=\"url(#clip850)\" style=\"stroke:#000000; stroke-linecap:butt; stroke-linejoin:round; stroke-width:4; stroke-opacity:1; fill:none\" points=\"\n  1894.42,250.738 2279.06,250.738 2279.06,95.2176 1894.42,95.2176 1894.42,250.738 \n  \"/>\n<polyline clip-path=\"url(#clip850)\" style=\"stroke:#009af9; stroke-linecap:butt; stroke-linejoin:round; stroke-width:4; stroke-opacity:1; fill:none\" points=\"\n  1918.99,147.058 2066.38,147.058 \n  \"/>\n<path clip-path=\"url(#clip850)\" d=\"M2095.62 133.62 L2095.62 146.606 L2101.5 146.606 Q2104.77 146.606 2106.55 144.916 Q2108.33 143.227 2108.33 140.102 Q2108.33 137 2106.55 135.31 Q2104.77 133.62 2101.5 133.62 L2095.62 133.62 M2090.95 129.778 L2101.5 129.778 Q2107.31 129.778 2110.28 132.416 Q2113.26 135.032 2113.26 140.102 Q2113.26 145.217 2110.28 147.833 Q2107.31 150.449 2101.5 150.449 L2095.62 150.449 L2095.62 164.338 L2090.95 164.338 L2090.95 129.778 Z\" fill=\"#000000\" fill-rule=\"evenodd\" fill-opacity=\"1\" /><path clip-path=\"url(#clip850)\" d=\"M2139.05 172.208 L2139.05 175.518 L2114.42 175.518 L2114.42 172.208 L2139.05 172.208 Z\" fill=\"#000000\" fill-rule=\"evenodd\" fill-opacity=\"1\" /><path clip-path=\"url(#clip850)\" d=\"M2164.6 148.689 L2164.6 164.338 L2160.35 164.338 L2160.35 148.828 Q2160.35 145.148 2158.91 143.319 Q2157.47 141.49 2154.6 141.49 Q2151.16 141.49 2149.16 143.69 Q2147.17 145.889 2147.17 149.685 L2147.17 164.338 L2142.89 164.338 L2142.89 138.412 L2147.17 138.412 L2147.17 142.44 Q2148.7 140.102 2150.76 138.944 Q2152.85 137.787 2155.55 137.787 Q2160.02 137.787 2162.31 140.565 Q2164.6 143.319 2164.6 148.689 Z\" fill=\"#000000\" fill-rule=\"evenodd\" fill-opacity=\"1\" /><path clip-path=\"url(#clip850)\" d=\"M2183.33 128.366 Q2180.23 133.69 2178.72 138.898 Q2177.22 144.106 2177.22 149.453 Q2177.22 154.801 2178.72 160.055 Q2180.25 165.287 2183.33 170.588 L2179.63 170.588 Q2176.16 165.148 2174.42 159.893 Q2172.71 154.639 2172.71 149.453 Q2172.71 144.291 2174.42 139.06 Q2176.13 133.828 2179.63 128.366 L2183.33 128.366 Z\" fill=\"#000000\" fill-rule=\"evenodd\" fill-opacity=\"1\" /><path clip-path=\"url(#clip850)\" d=\"M2213.15 138.412 L2203.77 151.027 L2213.63 164.338 L2208.61 164.338 L2201.06 154.152 L2193.52 164.338 L2188.49 164.338 L2198.56 150.773 L2189.35 138.412 L2194.37 138.412 L2201.25 147.648 L2208.12 138.412 L2213.15 138.412 Z\" fill=\"#000000\" fill-rule=\"evenodd\" fill-opacity=\"1\" /><path clip-path=\"url(#clip850)\" d=\"M2218.98 128.366 L2222.68 128.366 Q2226.15 133.828 2227.87 139.06 Q2229.6 144.291 2229.6 149.453 Q2229.6 154.639 2227.87 159.893 Q2226.15 165.148 2222.68 170.588 L2218.98 170.588 Q2222.06 165.287 2223.56 160.055 Q2225.09 154.801 2225.09 149.453 Q2225.09 144.106 2223.56 138.898 Q2222.06 133.69 2218.98 128.366 Z\" fill=\"#000000\" fill-rule=\"evenodd\" fill-opacity=\"1\" /><circle clip-path=\"url(#clip850)\" cx=\"1992.68\" cy=\"198.898\" r=\"23\" fill=\"#e26f46\" fill-rule=\"evenodd\" fill-opacity=\"1\" stroke=\"#000000\" stroke-opacity=\"1\" stroke-width=\"5.12\"/>\n<path clip-path=\"url(#clip850)\" d=\"M2095.23 212.289 L2095.23 226.039 L2090.95 226.039 L2090.95 190.252 L2095.23 190.252 L2095.23 194.187 Q2096.57 191.872 2098.61 190.761 Q2100.67 189.627 2103.52 189.627 Q2108.24 189.627 2111.18 193.377 Q2114.14 197.127 2114.14 203.238 Q2114.14 209.349 2111.18 213.099 Q2108.24 216.849 2103.52 216.849 Q2100.67 216.849 2098.61 215.738 Q2096.57 214.603 2095.23 212.289 M2109.72 203.238 Q2109.72 198.539 2107.78 195.877 Q2105.85 193.192 2102.47 193.192 Q2099.1 193.192 2097.15 195.877 Q2095.23 198.539 2095.23 203.238 Q2095.23 207.937 2097.15 210.622 Q2099.1 213.284 2102.47 213.284 Q2105.85 213.284 2107.78 210.622 Q2109.72 207.937 2109.72 203.238 Z\" fill=\"#000000\" fill-rule=\"evenodd\" fill-opacity=\"1\" /><path clip-path=\"url(#clip850)\" d=\"M2131.25 193.238 Q2127.82 193.238 2125.83 195.923 Q2123.84 198.585 2123.84 203.238 Q2123.84 207.891 2125.81 210.576 Q2127.8 213.238 2131.25 213.238 Q2134.65 213.238 2136.64 210.553 Q2138.63 207.867 2138.63 203.238 Q2138.63 198.631 2136.64 195.946 Q2134.65 193.238 2131.25 193.238 M2131.25 189.627 Q2136.8 189.627 2139.97 193.238 Q2143.15 196.849 2143.15 203.238 Q2143.15 209.604 2139.97 213.238 Q2136.8 216.849 2131.25 216.849 Q2125.67 216.849 2122.5 213.238 Q2119.35 209.604 2119.35 203.238 Q2119.35 196.849 2122.5 193.238 Q2125.67 189.627 2131.25 189.627 Z\" fill=\"#000000\" fill-rule=\"evenodd\" fill-opacity=\"1\" /><path clip-path=\"url(#clip850)\" d=\"M2150.21 190.252 L2154.47 190.252 L2154.47 216.178 L2150.21 216.178 L2150.21 190.252 M2150.21 180.159 L2154.47 180.159 L2154.47 185.553 L2150.21 185.553 L2150.21 180.159 Z\" fill=\"#000000\" fill-rule=\"evenodd\" fill-opacity=\"1\" /><path clip-path=\"url(#clip850)\" d=\"M2184.93 200.529 L2184.93 216.178 L2180.67 216.178 L2180.67 200.668 Q2180.67 196.988 2179.23 195.159 Q2177.8 193.33 2174.93 193.33 Q2171.48 193.33 2169.49 195.53 Q2167.5 197.729 2167.5 201.525 L2167.5 216.178 L2163.22 216.178 L2163.22 190.252 L2167.5 190.252 L2167.5 194.28 Q2169.03 191.942 2171.09 190.784 Q2173.17 189.627 2175.88 189.627 Q2180.34 189.627 2182.64 192.405 Q2184.93 195.159 2184.93 200.529 Z\" fill=\"#000000\" fill-rule=\"evenodd\" fill-opacity=\"1\" /><path clip-path=\"url(#clip850)\" d=\"M2197.64 182.891 L2197.64 190.252 L2206.41 190.252 L2206.41 193.562 L2197.64 193.562 L2197.64 207.636 Q2197.64 210.807 2198.49 211.71 Q2199.37 212.613 2202.03 212.613 L2206.41 212.613 L2206.41 216.178 L2202.03 216.178 Q2197.1 216.178 2195.23 214.349 Q2193.35 212.497 2193.35 207.636 L2193.35 193.562 L2190.23 193.562 L2190.23 190.252 L2193.35 190.252 L2193.35 182.891 L2197.64 182.891 Z\" fill=\"#000000\" fill-rule=\"evenodd\" fill-opacity=\"1\" /><path clip-path=\"url(#clip850)\" d=\"M2228.54 191.016 L2228.54 195.043 Q2226.73 194.117 2224.79 193.655 Q2222.84 193.192 2220.76 193.192 Q2217.59 193.192 2215.99 194.164 Q2214.42 195.136 2214.42 197.08 Q2214.42 198.562 2215.55 199.418 Q2216.69 200.252 2220.11 201.016 L2221.57 201.34 Q2226.11 202.312 2228.01 204.094 Q2229.93 205.854 2229.93 209.025 Q2229.93 212.636 2227.06 214.742 Q2224.21 216.849 2219.21 216.849 Q2217.13 216.849 2214.86 216.432 Q2212.61 216.039 2210.11 215.228 L2210.11 210.83 Q2212.47 212.057 2214.77 212.682 Q2217.06 213.284 2219.3 213.284 Q2222.31 213.284 2223.93 212.266 Q2225.55 211.224 2225.55 209.349 Q2225.55 207.613 2224.37 206.687 Q2223.22 205.761 2219.26 204.904 L2217.78 204.557 Q2213.82 203.724 2212.06 202.011 Q2210.3 200.275 2210.3 197.266 Q2210.3 193.608 2212.89 191.618 Q2215.48 189.627 2220.25 189.627 Q2222.61 189.627 2224.7 189.974 Q2226.78 190.321 2228.54 191.016 Z\" fill=\"#000000\" fill-rule=\"evenodd\" fill-opacity=\"1\" /></svg>\n"
     },
     "execution_count": 6,
     "metadata": {},
     "output_type": "execute_result"
    }
   ],
   "source": [
    "# Fazendo um gráfico para verificar a aproximação\n",
    "using Plots;\n",
    "points = 50;\n",
    "t = LinRange(0,6,points);\n",
    "z = zeros(points,1);\n",
    "for i = 1 : points\n",
    "    z[i] = polyfit(t[i],P);\n",
    "end\n",
    "plot(t,z,lw = 2,label=\"P_n(x)\")\n",
    "scatter!(P[:,1],P[:,2],label=\"points\")"
   ]
  },
  {
   "cell_type": "markdown",
   "id": "24dd9a77",
   "metadata": {},
   "source": [
    "Note que o polinômio interpolante retorna valores exatos nos pontos de interpolação."
   ]
  }
 ],
 "metadata": {
  "kernelspec": {
   "display_name": "Julia 1.7.3",
   "language": "julia",
   "name": "julia-1.7"
  },
  "language_info": {
   "file_extension": ".jl",
   "mimetype": "application/julia",
   "name": "julia",
   "version": "1.7.3"
  }
 },
 "nbformat": 4,
 "nbformat_minor": 5
}
