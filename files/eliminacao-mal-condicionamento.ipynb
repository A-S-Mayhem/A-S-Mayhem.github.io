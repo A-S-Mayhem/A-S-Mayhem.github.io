{
 "cells": [
  {
   "cell_type": "markdown",
   "id": "7f3ad864",
   "metadata": {},
   "source": [
    "# O método da Eliminação de Gauss em sistemas mal condicionados"
   ]
  },
  {
   "cell_type": "markdown",
   "id": "79658a86",
   "metadata": {},
   "source": [
    "Vamos implementar o método da Eliminação de Gauss sem qualquer preocupação com estratégia de pivoteamento. Aqui estamos interessados em avaliar como o mal condicionamento de uma matriz afeta a solução de um sistema linear."
   ]
  },
  {
   "cell_type": "code",
   "execution_count": 1,
   "id": "0fe0f952",
   "metadata": {},
   "outputs": [],
   "source": [
    "using LinearAlgebra"
   ]
  },
  {
   "cell_type": "markdown",
   "id": "af9339b6",
   "metadata": {},
   "source": [
    "Vamos considerar buscar a solção do sistema $Ax=b$. Para isso vamos implementar a função \"eliminacao\" que recebe $A$ e $b$ e retorna $\\tilde{A}$ e $\\tilde{b}$, onde $\\tilde{A}$ é uma matriz triangular superior linha equivalente a $A$ e $\\tilde{b}$ é linha equivalente a $b$.  "
   ]
  },
  {
   "cell_type": "code",
   "execution_count": 2,
   "id": "fce14035",
   "metadata": {},
   "outputs": [
    {
     "data": {
      "text/plain": [
       "eliminacao (generic function with 1 method)"
      ]
     },
     "metadata": {},
     "output_type": "display_data"
    }
   ],
   "source": [
    "function eliminacao(A,b)\n",
    "    n = size(b,1); \n",
    "    for k in 1 : n-1\n",
    "        for i in k+1 : n\n",
    "            m = A[i,k] / A[k,k];\n",
    "            A[i,k] = 0.0;\n",
    "            for j in k+1 : n\n",
    "                A[i,j] = A[i,j] - m * A[k,j];\n",
    "            end\n",
    "            b[i] = b[i] - m * b[k];\n",
    "        end\n",
    "    end\n",
    "    return(A,b)\n",
    "end"
   ]
  },
  {
   "cell_type": "markdown",
   "id": "7d0ec94e",
   "metadata": {},
   "source": [
    "A função \"solucao\" recebe as matrizes $\\tilde{A}$ e $\\tilde{b}$ da função anterior e calcular a solução do sistema por meio de uma substituição."
   ]
  },
  {
   "cell_type": "code",
   "execution_count": 3,
   "id": "14988bad",
   "metadata": {},
   "outputs": [
    {
     "data": {
      "text/plain": [
       "solucao (generic function with 1 method)"
      ]
     },
     "metadata": {},
     "output_type": "display_data"
    }
   ],
   "source": [
    "function solucao(A,b)\n",
    "    n = size(b,1);\n",
    "    x = zeros(n,1); \n",
    "    x[n] = b[n] / A[n,n];\n",
    "    for k in n-1 : -1 : 1\n",
    "        s = 0.0;\n",
    "        for j in k+1 : n\n",
    "            s = s + A[k,j] * x[j];\n",
    "        end\n",
    "        x[k] = (b[k] - s) / A[k,k];\n",
    "    end\n",
    "    return(x)\n",
    "end\n",
    "    "
   ]
  },
  {
   "cell_type": "markdown",
   "id": "f4e3e2c6",
   "metadata": {},
   "source": [
    "Com as funções acima, implementamos a função \"eligauss\" que dirigirá todo o processo de solução."
   ]
  },
  {
   "cell_type": "code",
   "execution_count": 4,
   "id": "fa7a1fe8",
   "metadata": {},
   "outputs": [
    {
     "data": {
      "text/plain": [
       "eligauss (generic function with 1 method)"
      ]
     },
     "metadata": {},
     "output_type": "display_data"
    }
   ],
   "source": [
    "function eligauss(A,b)\n",
    "    (A,b) = eliminacao(A,b);\n",
    "    return solucao(A,b);\n",
    "end"
   ]
  },
  {
   "cell_type": "markdown",
   "id": "e64a8eb5",
   "metadata": {},
   "source": [
    "## Exemplo"
   ]
  },
  {
   "cell_type": "markdown",
   "id": "6ae4e280",
   "metadata": {},
   "source": [
    "Vamos considerar a matriz de Hilbert, que é definida como $$H = \\left[ \\begin{array}{ccccc} 1 & \\dfrac{1}{2} & \\dfrac{1}{3} & \\cdots & \\dfrac{1}{n} \\\\  \\\\ \\dfrac{1}{2} & \\dfrac{1}{3} & \\dfrac{1}{4} & \\cdots & \\dfrac{1}{n+1}  \\\\ \\\\ \\vdots  & \\vdots & \\vdots & \\vdots & \\vdots  \\\\ \\\\  \\dfrac{1}{n} & \\dfrac{1}{n+1} & \\dfrac{1}{n+2} & \\cdots & \\dfrac{1}{2n-1}\\end{array}  \\right].$$ Essa matriz é um exemplo clásico de matriz mal-condicionada. A função abaixo constrói essa matriz."
   ]
  },
  {
   "cell_type": "code",
   "execution_count": 5,
   "id": "94cee3f1",
   "metadata": {},
   "outputs": [
    {
     "data": {
      "text/plain": [
       "hilbertmatrix (generic function with 1 method)"
      ]
     },
     "metadata": {},
     "output_type": "display_data"
    }
   ],
   "source": [
    "function hilbertmatrix(n)\n",
    "    H = zeros(n,n);\n",
    "    for i in 1:n\n",
    "        for j in 1 : n\n",
    "            H[i,j] = 1.0/(i+j-1);\n",
    "        end\n",
    "    end\n",
    "    return H\n",
    "\n",
    "end"
   ]
  },
  {
   "cell_type": "code",
   "execution_count": 13,
   "id": "4979592f",
   "metadata": {},
   "outputs": [
    {
     "data": {
      "text/plain": [
       "20×20 Matrix{Float64}:\n",
       " 1.0        0.5        0.333333   …  0.0555556  0.0526316  0.05\n",
       " 0.5        0.333333   0.25          0.0526316  0.05       0.047619\n",
       " 0.333333   0.25       0.2           0.05       0.047619   0.0454545\n",
       " 0.25       0.2        0.166667      0.047619   0.0454545  0.0434783\n",
       " 0.2        0.166667   0.142857      0.0454545  0.0434783  0.0416667\n",
       " 0.166667   0.142857   0.125      …  0.0434783  0.0416667  0.04\n",
       " 0.142857   0.125      0.111111      0.0416667  0.04       0.0384615\n",
       " 0.125      0.111111   0.1           0.04       0.0384615  0.037037\n",
       " 0.111111   0.1        0.0909091     0.0384615  0.037037   0.0357143\n",
       " 0.1        0.0909091  0.0833333     0.037037   0.0357143  0.0344828\n",
       " 0.0909091  0.0833333  0.0769231  …  0.0357143  0.0344828  0.0333333\n",
       " 0.0833333  0.0769231  0.0714286     0.0344828  0.0333333  0.0322581\n",
       " 0.0769231  0.0714286  0.0666667     0.0333333  0.0322581  0.03125\n",
       " 0.0714286  0.0666667  0.0625        0.0322581  0.03125    0.030303\n",
       " 0.0666667  0.0625     0.0588235     0.03125    0.030303   0.0294118\n",
       " 0.0625     0.0588235  0.0555556  …  0.030303   0.0294118  0.0285714\n",
       " 0.0588235  0.0555556  0.0526316     0.0294118  0.0285714  0.0277778\n",
       " 0.0555556  0.0526316  0.05          0.0285714  0.0277778  0.027027\n",
       " 0.0526316  0.05       0.047619      0.0277778  0.027027   0.0263158\n",
       " 0.05       0.047619   0.0454545     0.027027   0.0263158  0.025641"
      ]
     },
     "metadata": {},
     "output_type": "display_data"
    }
   ],
   "source": [
    "n = 20  # dimensão de A\n",
    "\n",
    "A = hilbertmatrix(n)\n",
    "\n"
   ]
  },
  {
   "cell_type": "markdown",
   "id": "4b988bd1",
   "metadata": {},
   "source": [
    "O número de condicionamento da matriz de hilbert é calculado abaixo."
   ]
  },
  {
   "cell_type": "code",
   "execution_count": 14,
   "id": "8ebdacdb",
   "metadata": {},
   "outputs": [
    {
     "data": {
      "text/plain": [
       "1.3193976166344822e18"
      ]
     },
     "metadata": {},
     "output_type": "display_data"
    }
   ],
   "source": [
    "cA = cond(A)"
   ]
  },
  {
   "cell_type": "markdown",
   "id": "11e1bc81",
   "metadata": {},
   "source": [
    "Agora, vamos construir o sistema $$Ax=b$$ e fazer uma pequena perturbação no elemento $n$ do vetor $b$ e observar como essa pequena variação perturba fortemente a solução do sistema."
   ]
  },
  {
   "cell_type": "code",
   "execution_count": 17,
   "id": "2967219e",
   "metadata": {},
   "outputs": [
    {
     "data": {
      "text/plain": [
       "20×1 Matrix{Float64}:\n",
       "       1.0393988060753308\n",
       "      -4.8994339325845\n",
       "     217.07214585123356\n",
       "   -3346.1172448505167\n",
       "   26763.39065077833\n",
       " -118677.34470331525\n",
       "  281402.6431752151\n",
       " -241652.086132807\n",
       " -348162.0277424745\n",
       "  781872.765735821\n",
       "  473877.6511906154\n",
       "      -2.6226007397794193e6\n",
       "       2.6899594036392863e6\n",
       "      -1.0694461924004015e6\n",
       "  483840.4332522352\n",
       "  374484.47335137805\n",
       "      -2.981880969277735e6\n",
       "       4.1138435206361883e6\n",
       "      -2.333537239308194e6\n",
       "  493065.241137031"
      ]
     },
     "metadata": {},
     "output_type": "display_data"
    }
   ],
   "source": [
    "AA = copy(A);\n",
    "\n",
    "x = ones(n,1);\n",
    "\n",
    "b = A * x;\n",
    "\n",
    "rb = copy(b)\n",
    "\n",
    "# Introdução de um pequena perturbação em rb.\n",
    "rb[n] = rb[n] - 1.e-10;\n",
    "\n",
    "bb = copy(rb);\n",
    "\n",
    "sol = eligauss(AA,bb)"
   ]
  },
  {
   "cell_type": "markdown",
   "id": "ed9f3183",
   "metadata": {},
   "source": [
    "Abaixo calculamos a norma da diferença entre as soluções de $Ax=b$ e $Ax=\\tilde{b}$. Além disso mostramos a norma da diferença entre $b$ e $\\tilde{b}$."
   ]
  },
  {
   "cell_type": "code",
   "execution_count": 16,
   "id": "8cd26715",
   "metadata": {},
   "outputs": [
    {
     "name": "stdout",
     "output_type": "stream",
     "text": [
      "Erro: 6.945883705108711e6  ||b - ~b|| = 1.000000082740371e-10   N Cond = 1.3193976166344822e18\n"
     ]
    }
   ],
   "source": [
    "ne = norm(x-sol);\n",
    "nb = norm(b-rb);\n",
    "println(\"Erro: $ne  ||b - ~b|| = $nb   N Cond = $cA\")"
   ]
  },
  {
   "cell_type": "markdown",
   "id": "c20a8fbc",
   "metadata": {},
   "source": [
    "Nota-se que uma pequena perturbação em $b$ introduziu uma grande perturbação na solução do problema. Isto se deve ao fato da matriz de Hilbert ser mal-condicionada."
   ]
  }
 ],
 "metadata": {
  "kernelspec": {
   "display_name": "Julia 1.8.2",
   "language": "julia",
   "name": "julia-1.8"
  },
  "language_info": {
   "file_extension": ".jl",
   "mimetype": "application/julia",
   "name": "julia",
   "version": "1.8.2"
  }
 },
 "nbformat": 4,
 "nbformat_minor": 5
}
