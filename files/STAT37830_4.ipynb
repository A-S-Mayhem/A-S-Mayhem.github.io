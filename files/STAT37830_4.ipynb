{
 "cells": [
  {
   "cell_type": "markdown",
   "metadata": {},
   "source": [
    "# Answers\n",
    "\n",
    "You can edit this Jupyter notebook to include your answers and run any code that generates those answers or produces plots.  You can add additional cells for code or markdown as needed.\n",
    "\n",
    "This homework is primarily about running simulations involving initial value problems (IVPs)"
   ]
  },
  {
   "cell_type": "markdown",
   "metadata": {},
   "source": [
    "## Problem 0 (45 points)\n",
    "\n",
    "In this problem, you'll implement a custom ODE solver for `solve_ivp` based on the Forward Euler method, and implement some basic tests.\n",
    "\n",
    "### Part A (20 points)\n",
    "If you read the [documentation for `solve_ipv`](https://docs.scipy.org/doc/scipy/reference/generated/scipy.integrate.solve_ivp.html), which we used in class, you'll see that you can write your own solver.\n",
    "\n",
    "Write a solver for the forward Euler method, which is not implemented as one of the available solvers (while simple, it typically is not very accurate).  Recall, this is the basic rule:\n",
    "\\begin{equation}\n",
    "y(t + h) = y(t) + h f(t, y)\n",
    "\\end{equation}\n",
    "\n",
    "Your solver should be a class which is derived from [`scipy.integrate.OdeSolver`](https://docs.scipy.org/doc/scipy/reference/generated/scipy.integrate.OdeSolver.html#scipy.integrate.OdeSolver)\n",
    "```python\n",
    "class ForwardEuler(scipy.integrate.OdeSolver):\n",
    "    pass\n",
    "```\n",
    "\n",
    "Your class definition should go in [`euler.py`](euler.py)\n",
    "\n",
    "You should read the documentation for this base class in order to implement `ForwardEuler`.  Here are some hints/notes:\n",
    "* Allow a user to set `h` using a keyword argument.  This can be passed using `solve_ivp(..., method=ForwardEuler, h=0.01)` to set `h=0.01`\n",
    "* Use a default step size `h = (t_bound - t0) / 100`\n",
    "* private methods begin with an underscore \"_\"\n",
    "* the method `_dense_output_impl(self)` should output a `ForwardEulerOutput` (defined in [`euler.py`](euler.py))\n",
    "* direction should be `+1`\n",
    "* You won't use a Jacobian, so `njev` and `nlu` can remain at 0.\n",
    "* You may want to consider using `super(ForwardEuler, self).__init__`\n",
    "* You may want to read the source code for the parent class [here](https://github.com/scipy/scipy/blob/v1.5.3/scipy/integrate/_ivp/base.py#L25-L214)\n",
    "\n",
    "---\n",
    "\n",
    "*put any discussion here*"
   ]
  },
  {
   "cell_type": "code",
   "execution_count": 1,
   "metadata": {
    "scrolled": true
   },
   "outputs": [],
   "source": [
    "from scipy.integrate import solve_ivp\n",
    "from euler import ForwardEuler"
   ]
  },
  {
   "cell_type": "markdown",
   "metadata": {},
   "source": [
    "### Part B (10 points)\n",
    "\n",
    "Use your `ForwardEuler` solver and `solve_ivp` to solve an IVP $y'(t) = y$ with $y(0) = 1$ on the domain $t\\in [0,5]$, using a step size `h=0.01`.  Make a plot of the solution to this IVP with axes labeled `y` and `x`.\n",
    "\n",
    "Use SymPy to obtain the ground-truth solution to this IVP.  What is the largest error you see on the domain you solved the problem?  Try solving with the default solver in `solve_ivp`.  What is the largest error in this case?\n",
    "\n",
    "---\n",
    "\n",
    "*put your answers here*"
   ]
  },
  {
   "cell_type": "code",
   "execution_count": 4,
   "metadata": {
    "scrolled": true
   },
   "outputs": [],
   "source": [
    "def fun(t, y): return y\n",
    "sol0 = solve_ivp(fun = fun, t_span = (0, 5), h = 0.01, y0 = [1], method = ForwardEuler)"
   ]
  },
  {
   "cell_type": "code",
   "execution_count": 5,
   "metadata": {
    "scrolled": true
   },
   "outputs": [
    {
     "data": {
      "image/png": "[encoded data removed]",
      "text/plain": [
       "<Figure size 432x288 with 1 Axes>"
      ]
     },
     "metadata": {
      "needs_background": "light"
     },
     "output_type": "display_data"
    }
   ],
   "source": [
    "import numpy as np\n",
    "import matplotlib.pyplot as plt\n",
    "\n",
    "# Plot the solution\n",
    "plt.plot(sol0.t, sol0.y[0])\n",
    "plt.title(\"Initial Value Problem\")\n",
    "plt.ylabel(\"y\")\n",
    "plt.xlabel(\"t\")\n",
    "plt.show()"
   ]
  },
  {
   "cell_type": "markdown",
   "metadata": {},
   "source": [
    "The plot looks about right, since the analytical solution of the IVP is $y(t) = e^{t}$. I confirm this with SymPy as requested."
   ]
  },
  {
   "cell_type": "code",
   "execution_count": 6,
   "metadata": {},
   "outputs": [
    {
     "data": {
      "text/latex": [
       "$\\displaystyle y{\\left(t \\right)} = e^{t}$"
      ],
      "text/plain": [
       "Eq(y(t), exp(t))"
      ]
     },
     "execution_count": 6,
     "metadata": {},
     "output_type": "execute_result"
    }
   ],
   "source": [
    "import sympy as sym\n",
    "from sympy.solvers import ode\n",
    "\n",
    "t = sym.symbols('t') # symbol\n",
    "y = sym.Function('y') # symbolic function\n",
    "\n",
    "eqn = y(t).diff(t) - y(t)\n",
    "f = ode.dsolve(eqn, hint='separable', ics={y(0): 1})\n",
    "f"
   ]
  },
  {
   "cell_type": "code",
   "execution_count": 5,
   "metadata": {},
   "outputs": [
    {
     "data": {
      "text/plain": [
       "3.6842359921385537"
      ]
     },
     "execution_count": 5,
     "metadata": {},
     "output_type": "execute_result"
    }
   ],
   "source": [
    "# Defining the ground-truth function\n",
    "f_true = lambda t : np.exp(t)\n",
    "true_val = f_true(sol0.t)\n",
    "\n",
    "# Maximum error\n",
    "abs(true_val - sol0.y).max()"
   ]
  },
  {
   "cell_type": "markdown",
   "metadata": {},
   "source": [
    "I confirm that the error is quite large for the Euler method."
   ]
  },
  {
   "cell_type": "code",
   "execution_count": 6,
   "metadata": {},
   "outputs": [],
   "source": [
    "# Using default method\n",
    "sol0_default = solve_ivp(fun = fun, t_span = (0, 5), y0 = [1])"
   ]
  },
  {
   "cell_type": "code",
   "execution_count": 7,
   "metadata": {},
   "outputs": [
    {
     "data": {
      "text/plain": [
       "0.018750365586669204"
      ]
     },
     "execution_count": 7,
     "metadata": {},
     "output_type": "execute_result"
    }
   ],
   "source": [
    "# Maximum error for default method\n",
    "true_val2 = f_true(sol0_default.t)\n",
    "abs(true_val2 - sol0_default.y).max()"
   ]
  },
  {
   "cell_type": "markdown",
   "metadata": {},
   "source": [
    "The default method is much more accurate than Euler, but I am still surprised that it is quite far off."
   ]
  },
  {
   "cell_type": "markdown",
   "metadata": {},
   "source": [
    "### Part C (15 points)\n",
    "\n",
    "Implement unit tests that verify that ODE solutions (numerically) obey the ODE.  Try this for $y'(t) = y$, with $y(0) = 1$ on the domain $t\\in [0,5]$.  use a finite difference stencil with step size `k` (`k` should be smaller than the `h` you used to solve the ODE) to compute the derivative at several points.  You should only expect the derivative to be accurate to about `h*y`\n",
    "\n",
    "Implement tests for `solve_ivp` using the default settings as well as using your `ForwardEuler` implementation.\n",
    "\n",
    "Put these tests in [`test.py`](test.py).  Set up your unit tests to run when you push changes to GitHub using GitHub actions. In order to respect server time, set a 10 minute time-limit on your github actions workflow. To see an example of how to set a time-limit, see line 9 in the relevant file from Homework 3 by clicking [here](https://github.com/caam37830-2021/homework-3-template/blob/main/.github/workflows/push.yml).\n",
    "\n",
    "---\n",
    "\n",
    "*put any discussion here*"
   ]
  },
  {
   "cell_type": "markdown",
   "metadata": {},
   "source": [
    "*(This problem was removed.)*"
   ]
  },
  {
   "cell_type": "markdown",
   "metadata": {},
   "source": [
    "## Problem 1 (20 points)\n",
    "\n",
    "In this problem, you'll solve two simple, but related, ODEs using `solve_ivp`.\n",
    "\n",
    "### Part A (13 points)\n",
    "\n",
    "On the surface of the earth, objects are accelerated by a more-or-less constant gravitational field.  We'll consider an object thrown vertically with initial position $y=y_0$, and initial velocity $y' = v_0$.\n",
    "\n",
    "We'll consider a simplified problem with no wind resistance.  Newton's laws of motion tell us $y''(t) = -g$, where $g = 9.8 m/s^2$.  This is a second order ODE, which we can turn into a system of first order ODEs using the substituion $p = y'$.  Then we have\n",
    "\\begin{equation}\n",
    "\\begin{cases}\n",
    "y'(t) = p(t)\\\\\n",
    "p'(t) = -g\n",
    "\\end{cases}\n",
    "\\end{equation}\n",
    "\n",
    "You can encode this using a vector $v$, where $v[0]$ is the value $y$ above, and $v[1]$ is $p$.\n",
    "\n",
    "Use `solve_ivp` to solve for `y(t)` using `y0 = 0` and `y'(0) = 10` (i.e. you throw a ball straight up in the air at a speed of $10 m/s$).  Run this simulation for $4$ seconds.  make a plot of the trajectory $y$ as a function of $t$ (i.e. $t$ is on the horizontal axis and $y$ is on the vertical axis).  Set up an event to end the simulation when `y` is zero again (when the ball hits the ground).  At what time does the ball hit the ground?\n",
    "\n",
    "Set up an event to find when the ball is at its highest point (`p(t) = 0`).  This should not terminate the simulation.\n",
    "\n",
    "---\n",
    "\n",
    "*put any answers/discussion here*"
   ]
  },
  {
   "cell_type": "code",
   "execution_count": 7,
   "metadata": {},
   "outputs": [
    {
     "data": {
      "image/png": "[encoded data removed]",
      "text/plain": [
       "<Figure size 432x288 with 1 Axes>"
      ]
     },
     "metadata": {
      "needs_background": "light"
     },
     "output_type": "display_data"
    }
   ],
   "source": [
    "# Define values necessary for IVP\n",
    "y0, p0, g = 0, 10, 9.8 \n",
    "v0 = np.array([y0, p0]) # throw the two initial values into array\n",
    "f = lambda t, y : np.array([y[1], -g]) # rhs function\n",
    "t_span = (0, 4) # up until 4 seconds\n",
    "t_eval = np.linspace(0, 4, 200)\n",
    "highest = lambda t, y : y[1] # create event for highest point\n",
    "hit_ground = lambda t, y : y[0] # create event for when hits ground\n",
    "hit_ground.terminal = True # create the event as terminal\n",
    "hit_ground.direction = -1\n",
    "\n",
    "# Solve IVP\n",
    "sol = solve_ivp(fun = f, t_span = t_span, t_eval = t_eval, y0 = v0, events = (highest, hit_ground))\n",
    "\n",
    "# Create the plot\n",
    "plt.plot(sol.t, sol.y[0])\n",
    "plt.title(\"Ball Trajectory\")\n",
    "plt.ylabel(\"Height (meters)\")\n",
    "plt.xlabel(\"Seconds\")\n",
    "plt.show()"
   ]
  },
  {
   "cell_type": "code",
   "execution_count": 8,
   "metadata": {
    "scrolled": true
   },
   "outputs": [
    {
     "data": {
      "text/plain": [
       "array([2.04081633])"
      ]
     },
     "execution_count": 8,
     "metadata": {},
     "output_type": "execute_result"
    }
   ],
   "source": [
    "sol.t_events[1] # time that the ball hits the ground (event 1)"
   ]
  },
  {
   "cell_type": "code",
   "execution_count": 9,
   "metadata": {},
   "outputs": [
    {
     "data": {
      "text/plain": [
       "  message: 'A termination event occurred.'\n",
       "     nfev: 38\n",
       "     njev: 0\n",
       "      nlu: 0\n",
       "      sol: None\n",
       "   status: 1\n",
       "  success: True\n",
       "        t: array([0.        , 0.0201005 , 0.04020101, 0.06030151, 0.08040201,\n",
       "       0.10050251, 0.12060302, 0.14070352, 0.16080402, 0.18090452,\n",
       "       0.20100503, 0.22110553, 0.24120603, 0.26130653, 0.28140704,\n",
       "       0.30150754, 0.32160804, 0.34170854, 0.36180905, 0.38190955,\n",
       "       0.40201005, 0.42211055, 0.44221106, 0.46231156, 0.48241206,\n",
       "       0.50251256, 0.52261307, 0.54271357, 0.56281407, 0.58291457,\n",
       "       0.60301508, 0.62311558, 0.64321608, 0.66331658, 0.68341709,\n",
       "       0.70351759, 0.72361809, 0.74371859, 0.7638191 , 0.7839196 ,\n",
       "       0.8040201 , 0.8241206 , 0.84422111, 0.86432161, 0.88442211,\n",
       "       0.90452261, 0.92462312, 0.94472362, 0.96482412, 0.98492462,\n",
       "       1.00502513, 1.02512563, 1.04522613, 1.06532663, 1.08542714,\n",
       "       1.10552764, 1.12562814, 1.14572864, 1.16582915, 1.18592965,\n",
       "       1.20603015, 1.22613065, 1.24623116, 1.26633166, 1.28643216,\n",
       "       1.30653266, 1.32663317, 1.34673367, 1.36683417, 1.38693467,\n",
       "       1.40703518, 1.42713568, 1.44723618, 1.46733668, 1.48743719,\n",
       "       1.50753769, 1.52763819, 1.54773869, 1.5678392 , 1.5879397 ,\n",
       "       1.6080402 , 1.6281407 , 1.64824121, 1.66834171, 1.68844221,\n",
       "       1.70854271, 1.72864322, 1.74874372, 1.76884422, 1.78894472,\n",
       "       1.80904523, 1.82914573, 1.84924623, 1.86934673, 1.88944724,\n",
       "       1.90954774, 1.92964824, 1.94974874, 1.96984925, 1.98994975,\n",
       "       2.01005025, 2.03015075])\n",
       " t_events: [array([1.02040816]), array([2.04081633])]\n",
       "        y: array([[ 0.        ,  0.19902528,  0.39409106,  0.58519734,  0.77234413,\n",
       "         0.95553143,  1.13475922,  1.31002752,  1.48133633,  1.64868564,\n",
       "         1.81207545,  1.97150577,  2.12697659,  2.27848792,  2.42603975,\n",
       "         2.56963208,  2.70926492,  2.84493826,  2.9766521 ,  3.10440645,\n",
       "         3.22820131,  3.34803667,  3.46391253,  3.57582889,  3.68378576,\n",
       "         3.78778314,  3.88782101,  3.9838994 ,  4.07601828,  4.16417767,\n",
       "         4.24837757,  4.32861796,  4.40489887,  4.47722027,  4.54558218,\n",
       "         4.6099846 ,  4.67042751,  4.72691094,  4.77943486,  4.82799929,\n",
       "         4.87260423,  4.91324967,  4.94993561,  4.98266205,  5.011429  ,\n",
       "         5.03623646,  5.05708442,  5.07397288,  5.08690185,  5.09587132,\n",
       "         5.10088129,  5.10193177,  5.09902275,  5.09215424,  5.08132623,\n",
       "         5.06653872,  5.04779172,  5.02508523,  4.99841923,  4.96779374,\n",
       "         4.93320876,  4.89466428,  4.8521603 ,  4.80569683,  4.75527386,\n",
       "         4.70089139,  4.64254943,  4.58024797,  4.51398702,  4.44376657,\n",
       "         4.36958663,  4.29144719,  4.20934825,  4.12328982,  4.03327189,\n",
       "         3.93929446,  3.84135754,  3.73946112,  3.63360521,  3.5237898 ,\n",
       "         3.4100149 ,  3.2922805 ,  3.1705866 ,  3.04493321,  2.91532032,\n",
       "         2.78174794,  2.64421606,  2.50272468,  2.35727381,  2.20786344,\n",
       "         2.05449357,  1.89716421,  1.73587536,  1.570627  ,  1.40141916,\n",
       "         1.22825181,  1.05112497,  0.87003864,  0.6849928 ,  0.49598748,\n",
       "         0.30302265,  0.10609833],\n",
       "       [10.        ,  9.80301508,  9.60603015,  9.40904523,  9.2120603 ,\n",
       "         9.01507538,  8.81809045,  8.62110553,  8.4241206 ,  8.22713568,\n",
       "         8.03015075,  7.83316583,  7.6361809 ,  7.43919598,  7.24221106,\n",
       "         7.04522613,  6.84824121,  6.65125628,  6.45427136,  6.25728643,\n",
       "         6.06030151,  5.86331658,  5.66633166,  5.46934673,  5.27236181,\n",
       "         5.07537688,  4.87839196,  4.68140704,  4.48442211,  4.28743719,\n",
       "         4.09045226,  3.89346734,  3.69648241,  3.49949749,  3.30251256,\n",
       "         3.10552764,  2.90854271,  2.71155779,  2.51457286,  2.31758794,\n",
       "         2.12060302,  1.92361809,  1.72663317,  1.52964824,  1.33266332,\n",
       "         1.13567839,  0.93869347,  0.74170854,  0.54472362,  0.34773869,\n",
       "         0.15075377, -0.04623116, -0.24321608, -0.44020101, -0.63718593,\n",
       "        -0.83417085, -1.03115578, -1.2281407 , -1.42512563, -1.62211055,\n",
       "        -1.81909548, -2.0160804 , -2.21306533, -2.41005025, -2.60703518,\n",
       "        -2.8040201 , -3.00100503, -3.19798995, -3.39497487, -3.5919598 ,\n",
       "        -3.78894472, -3.98592965, -4.18291457, -4.3798995 , -4.57688442,\n",
       "        -4.77386935, -4.97085427, -5.1678392 , -5.36482412, -5.56180905,\n",
       "        -5.75879397, -5.95577889, -6.15276382, -6.34974874, -6.54673367,\n",
       "        -6.74371859, -6.94070352, -7.13768844, -7.33467337, -7.53165829,\n",
       "        -7.72864322, -7.92562814, -8.12261307, -8.31959799, -8.51658291,\n",
       "        -8.71356784, -8.91055276, -9.10753769, -9.30452261, -9.50150754,\n",
       "        -9.69849246, -9.89547739]])\n",
       " y_events: [array([[5.10204082, 0.        ]]), array([[-1.77635684e-15, -1.00000000e+01]])]"
      ]
     },
     "execution_count": 9,
     "metadata": {},
     "output_type": "execute_result"
    }
   ],
   "source": [
    "sol"
   ]
  },
  {
   "cell_type": "markdown",
   "metadata": {},
   "source": [
    "The ball hits the ground at approximately 2.040816333 seconds after the throw."
   ]
  },
  {
   "cell_type": "markdown",
   "metadata": {},
   "source": [
    "### Part B (7 points)\n",
    "\n",
    "We'll now take into account wind resistance on the ball.  We'll make a bunch of assumptions, and simply assume that the drag can be expressed as a force that accelerates the ball by adding a term `y''(t) = p'(t) = -9.8 -0.02 sgn(p(t)) p(t)**2`, where `sgn(p(t))` can be computed using `np.sign` (the sign of the velocity).\n",
    "\n",
    "Incorporate this term into the system of ODEs, and use `solve_ivp` to plot the trajectory of the ball with the same initial conditions as in part A.  Set up an event to terminate the simulation when the ball hits the ground.  At what time does the ball hit the ground?  Is this before or after the ball hits the ground when there is no wind resistance?\n",
    "\n",
    "Set up an event to find when the ball is at its highest point (`p(t) = 0`).  This should not terminate the simulation.\n",
    "\n",
    "---\n",
    "\n",
    "*put any answers/discussion here*"
   ]
  },
  {
   "cell_type": "code",
   "execution_count": 10,
   "metadata": {},
   "outputs": [
    {
     "data": {
      "image/png": "[encoded data removed]",
      "text/plain": [
       "<Figure size 432x288 with 1 Axes>"
      ]
     },
     "metadata": {
      "needs_background": "light"
     },
     "output_type": "display_data"
    }
   ],
   "source": [
    "# Define the new rhs function\n",
    "f_2 = lambda t, y: np.array([y[1], -g - 0.02 * np.sign(y[0]) * (y[0])**2])\n",
    "\n",
    "# Solve IVP\n",
    "sol2 = solve_ivp(fun = f_2, t_span = t_span, t_eval = t_eval, y0 = v0, events = (highest, hit_ground))\n",
    "\n",
    "# Create the plot\n",
    "plt.plot(sol2.t, sol2.y[0])\n",
    "plt.title(\"Ball Trajectory\")\n",
    "plt.ylabel(\"Height (meters)\")\n",
    "plt.xlabel(\"Seconds\")\n",
    "plt.show()"
   ]
  },
  {
   "cell_type": "code",
   "execution_count": 11,
   "metadata": {},
   "outputs": [
    {
     "data": {
      "text/plain": [
       "array([1.98691643])"
      ]
     },
     "execution_count": 11,
     "metadata": {},
     "output_type": "execute_result"
    }
   ],
   "source": [
    "sol2.t_events[1]"
   ]
  },
  {
   "cell_type": "code",
   "execution_count": 12,
   "metadata": {},
   "outputs": [
    {
     "data": {
      "text/plain": [
       "  message: 'A termination event occurred.'\n",
       "     nfev: 38\n",
       "     njev: 0\n",
       "      nlu: 0\n",
       "      sol: None\n",
       "   status: 1\n",
       "  success: True\n",
       "        t: array([0.        , 0.0201005 , 0.04020101, 0.06030151, 0.08040201,\n",
       "       0.10050251, 0.12060302, 0.14070352, 0.16080402, 0.18090452,\n",
       "       0.20100503, 0.22110553, 0.24120603, 0.26130653, 0.28140704,\n",
       "       0.30150754, 0.32160804, 0.34170854, 0.36180905, 0.38190955,\n",
       "       0.40201005, 0.42211055, 0.44221106, 0.46231156, 0.48241206,\n",
       "       0.50251256, 0.52261307, 0.54271357, 0.56281407, 0.58291457,\n",
       "       0.60301508, 0.62311558, 0.64321608, 0.66331658, 0.68341709,\n",
       "       0.70351759, 0.72361809, 0.74371859, 0.7638191 , 0.7839196 ,\n",
       "       0.8040201 , 0.8241206 , 0.84422111, 0.86432161, 0.88442211,\n",
       "       0.90452261, 0.92462312, 0.94472362, 0.96482412, 0.98492462,\n",
       "       1.00502513, 1.02512563, 1.04522613, 1.06532663, 1.08542714,\n",
       "       1.10552764, 1.12562814, 1.14572864, 1.16582915, 1.18592965,\n",
       "       1.20603015, 1.22613065, 1.24623116, 1.26633166, 1.28643216,\n",
       "       1.30653266, 1.32663317, 1.34673367, 1.36683417, 1.38693467,\n",
       "       1.40703518, 1.42713568, 1.44723618, 1.46733668, 1.48743719,\n",
       "       1.50753769, 1.52763819, 1.54773869, 1.5678392 , 1.5879397 ,\n",
       "       1.6080402 , 1.6281407 , 1.64824121, 1.66834171, 1.68844221,\n",
       "       1.70854271, 1.72864322, 1.74874372, 1.76884422, 1.78894472,\n",
       "       1.80904523, 1.82914573, 1.84924623, 1.86934673, 1.88944724,\n",
       "       1.90954774, 1.92964824, 1.94974874, 1.96984925])\n",
       " t_events: [array([0.99331709]), array([1.98691643])]\n",
       "        y: array([[ 0.        ,  0.19902525,  0.39409064,  0.58519521,  0.77233748,\n",
       "         0.95551541,  1.1347278 ,  1.30997948,  1.48126521,  1.64857795,\n",
       "         1.81191074,  1.97125677,  2.1266093 ,  2.27796174,  2.42530757,\n",
       "         2.5686404 ,  2.70795394,  2.84324201,  2.97449854,  3.10171757,\n",
       "         3.22489325,  3.34401982,  3.45909167,  3.57010324,  3.67704914,\n",
       "         3.77992404,  3.87872274,  3.97344016,  4.06407129,  4.15061128,\n",
       "         4.23305534,  4.31139882,  4.38563717,  4.45576594,  4.5217808 ,\n",
       "         4.58367752,  4.64145199,  4.6951002 ,  4.74461824,  4.79000233,\n",
       "         4.83124877,  4.86835401,  4.90131456,  4.93012707,  4.95478829,\n",
       "         4.97529508,  4.99164441,  5.00383335,  5.01185909,  5.01571892,\n",
       "         5.01541024,  5.01093057,  5.00227751,  4.9894517 ,  4.97252581,\n",
       "         4.951528  ,  4.92645298,  4.89729578,  4.86405174,  4.82671654,\n",
       "         4.7852862 ,  4.73975705,  4.69012576,  4.63638932,  4.57854504,\n",
       "         4.51659059,  4.45052393,  4.38034336,  4.30604753,  4.22763539,\n",
       "         4.14510623,  4.05845967,  3.96769564,  3.87281442,  3.77381662,\n",
       "         3.67070315,  3.56347528,  3.45213458,  3.33668298,  3.2171227 ,\n",
       "         3.09345632,  2.96568673,  2.83381715,  2.69785114,  2.55779257,\n",
       "         2.41364565,  2.26541492,  2.11310523,  1.95672179,  1.7962701 ,\n",
       "         1.63175602,  1.46318572,  1.2905657 ,  1.11390279,  0.93320415,\n",
       "         0.74847726,  0.55972995,  0.36697034,  0.17020692],\n",
       "       [10.        ,  9.80300974,  9.6059881 ,  9.40890544,  9.21173396,\n",
       "         9.01444763,  8.81701848,  8.61940182,  8.4215796 ,  8.22353967,\n",
       "         8.0252707 ,  7.82676219,  7.62800448,  7.42898874,  7.22970697,\n",
       "         7.03015201,  6.83031752,  6.630198  ,  6.42978878,  6.22908601,\n",
       "         6.0280867 ,  5.82678865,  5.62519054,  5.42329184,  5.22109288,\n",
       "         5.01859481,  4.81579961,  4.61271009,  4.40932991,  4.20566354,\n",
       "         4.00171629,  3.79749431,  3.59300456,  3.38825486,  3.18325385,\n",
       "         2.97801098,  2.77253657,  2.56684174,  2.36093846,  2.15483954,\n",
       "         1.94855859,  1.74211007,  1.53550929,  1.32877236,  1.12191624,\n",
       "         0.91495871,  0.7079184 ,  0.50081476,  0.29366807,  0.08649945,\n",
       "        -0.12066916, -0.32781498, -0.5349144 , -0.74193544, -0.94866888,\n",
       "        -1.15504739, -1.36109443, -1.56683244, -1.7722828 , -1.97746582,\n",
       "        -2.1824008 , -2.38710595, -2.59159846, -2.79589445, -3.00000901,\n",
       "        -3.20395615, -3.40774886, -3.61139906, -3.81491765, -4.01831443,\n",
       "        -4.2215982 , -4.42477668, -4.62785655, -4.83084343, -5.03374192,\n",
       "        -5.23655553, -5.43928675, -5.64193701, -5.84450668, -6.04699509,\n",
       "        -6.24940053, -6.45172023, -6.65395036, -6.85608605, -7.05812138,\n",
       "        -7.26004939, -7.46186206, -7.66355031, -7.86510402, -8.06651203,\n",
       "        -8.26776212, -8.46884101, -8.66973439, -8.87042689, -9.07090208,\n",
       "        -9.27114251, -9.47112965, -9.67084393, -9.87026474]])\n",
       " y_events: [array([[5.01609707, 0.        ]]), array([[  0.        , -10.03934496]])]"
      ]
     },
     "execution_count": 12,
     "metadata": {},
     "output_type": "execute_result"
    }
   ],
   "source": [
    "sol2"
   ]
  },
  {
   "cell_type": "markdown",
   "metadata": {},
   "source": [
    "The ball hits ground at 1.98691643 seconds after the throw. This is slightly before the ball hits ground without wind resistance."
   ]
  },
  {
   "cell_type": "markdown",
   "metadata": {},
   "source": [
    "## Problem 2 (25 points)\n",
    "\n",
    "Now that you're warmed up, here are some more simulations.\n",
    "\n",
    "### Part A (15 points)\n",
    "\n",
    "In this problem, we'll simulate a planet and moon moving in a 2-dimensional plane.\n",
    "\n",
    "Newton's law of gravity says that $F_g = Gm_1 m_2 / \\|r\\|^2$.  The direction of the force is in the direction of the vector $r$.  Let $x(t)$ dentote the position of the planet and $y(t)$ denote the position of the moon, and $r(t) = x(t) - y(t)$ Then\n",
    "\\begin{equation}\n",
    "x''(t) = -F_g / m_1 \\times r / \\|r\\|\\\\\n",
    "y''(t) = F_g / m_2 \\times r / \\|r\\|\n",
    "\\end{equation}\n",
    "$x$ and $y$ are 2-vectors, so this is a system of 4-second order ODEs.  We can use the trick from problem 1 to write this as 8 first order ODEs by introducing the vector-valued variables\n",
    "$p(t) = x'(t)$, and $q(t) = y'(t)$.  Here are the terms for $x$:\n",
    "\\begin{equation}\n",
    "p_1'(t) = -F_g / m_1 \\times r_1(t) / \\|r\\|\\\\\n",
    "p_2'(t) = -F_g / m_1 \\times r_2(t) / \\|r\\|\\\\\n",
    "x_1'(t) = p_1(t)\\\\\n",
    "x_2'(t) = p_2(t)\n",
    "\\end{equation}\n",
    "\n",
    "We'll model the Earth and moon.  The [Gravitational constant](https://en.wikipedia.org/wiki/Gravitational_constant) has value `G=6.67 e-11` (we're dropping units, which are all SI).  The mass of the earth is `m1 = 5.972 e24`, and the mass of the moon is `m2=0.07346 e24`.  The distance from the moon to the earth is `r = 384.4 e6`.  This means the orbital speed of the moon around the earth is about `1.022 e3`.\n",
    "\n",
    "Use `solve_ivp` to run a simulation of the moon orbiting the earth for `5 e6` seconds (about 2 months).  Use initial conditions $x(0) = 0, p(0) = 0$ for the earth, and $y(0) = (0, 384.4 \\times 10^6)$ and $q(0) = (1.022 \\times 10^3, 0)$\n",
    "\n",
    "Plot $x_1(t), x_2(t)$ and $y_1(t), y_2(t)$ in the same plane with different colors (include a legend and title).\n",
    "\n",
    "---\n",
    "\n",
    "We can further simplify the equations modeling this behavior.\n",
    "$$\n",
    "\\begin{equation}\n",
    "x(t) = (x_{1}(t), x_{2}(t))\\\\\n",
    "y(t) = (y_{1}(t), y_{2}(t))\\\\\n",
    "r(t) = (r_{1}(t), r_{2}(t)) = (x_{1}(t) - y_{1}(t), x_{2}(t) - y_{2}(t)), \\text{where} \\|r\\| = 384.4e6 \\\\\n",
    "x'(t) = (x_{1}'(t), x_{2}'(t)) = (p_{1}(t), p_{2}(t))\\\\\n",
    "y'(t) = (y_{1}'(t), y_{2}'(t)) = (q_{1}(t), q_{2}(t))\\\\\n",
    "x''(t) = (-\\frac{Gm_{2}}{\\|r\\|^2}\\times \\frac{r_{1}(t)}{\\|r\\|}, -\\frac{Gm_{2}}{\\|r\\|^2}\\times \\frac{r_{2}(t)}{\\|r\\|})\\\\ \n",
    "\\hspace{70pt} = (-\\frac{Gm_{2}}{\\|r\\|^2}\\times \\frac{x_{1}(t) - y_{1}(t)}{\\|r\\|}, -\\frac{Gm_{2}}{\\|r\\|^2}\\times \\frac{x_{2}(t) - y_{2}(t)}{\\|r\\|})\\\\\n",
    "y''(t) = (\\frac{Gm_{1}}{\\|r\\|^2}\\times \\frac{r_{1}(t)}{\\|r\\|}, -\\frac{Gm_{1}}{\\|r\\|^2}\\times \\frac{r_{2}(t)}{\\|r\\|})\\\\\n",
    "\\hspace{70pt} = (-\\frac{Gm_{1}}{\\|r\\|^2}\\times \\frac{x_{1}(t) - y_{1}(t)}{\\|r\\|}, -\\frac{Gm_{1}}{\\|r\\|^2}\\times \\frac{x_{2}(t) - y_{2}(t)}{\\|r\\|})\\\\\n",
    "\\end{equation}\n",
    "$$\n",
    "\n",
    "I form my function based on the above formulae for $x'(t)$, $y'(t)$, $x''(t)$, and $y''(t)$."
   ]
  },
  {
   "cell_type": "code",
   "execution_count": 12,
   "metadata": {},
   "outputs": [
    {
     "data": {
      "image/png": "[encoded data removed]",
      "text/plain": [
       "<Figure size 432x288 with 1 Axes>"
      ]
     },
     "metadata": {
      "needs_background": "light"
     },
     "output_type": "display_data"
    }
   ],
   "source": [
    "# Some initial values / arguments\n",
    "G = 6.67e-11\n",
    "m1 = 5.972e24\n",
    "m2 = 0.07346e24\n",
    "r_norm = 384.4e6\n",
    "x0 = np.array([0, 0])\n",
    "y0 = np.array([0, 384.4e6])\n",
    "p0 = np.array([0, 0])\n",
    "q0 = np.array([1.022e3, 0])\n",
    "v0 = np.concatenate((x0, p0, y0, q0), axis = None)\n",
    "time = (0, 5e6)\n",
    "t_eval = np.linspace(0, 5e6, 10000) # just to make things look nicer\n",
    "\n",
    "def f_3(t, v) :\n",
    "    \"\"\"\n",
    "    returns an array of rhs values for the given ODE IVP\n",
    "    \"\"\"\n",
    "    dx1 = v[2] # derivative of x_{1}(t) = p_{1}(t)\n",
    "    dx2 = v[3] # derivative of x_{2}(t) = p_{2}(t)\n",
    "    d2x1 = (-G * m2 / (r_norm**2)) * ((v[0] - v[4]) / r_norm) # second derivative of x_{1}(t)\n",
    "    d2x2 = (-G * m2 / (r_norm**2)) * ((v[1] - v[5]) / r_norm) # second derivative of x_{2}(t)\n",
    "    dy1 = v[6] # derivative of y_{1}(t) = q_{1}(t)\n",
    "    dy2 = v[7] # derivative of y_{2}(t) = q_{2}(t)\n",
    "    d2y1 = (G * m1 / (r_norm**2)) * ((v[0] - v[4]) / r_norm) # second derivative of y_{1}(t)\n",
    "    d2y2 = (G * m1 / (r_norm**2)) * ((v[1] - v[5]) / r_norm) # second derivative of y_{2}(t)\n",
    "    \n",
    "    # put values into an array\n",
    "    new = np.array([dx1, dx2, d2x1, d2x2, dy1, dy2, d2y1, d2y2])\n",
    "    return new\n",
    "\n",
    "# Solve IVP\n",
    "sol3 = solve_ivp(fun = f_3, t_span = time, t_eval = t_eval, y0 = v0)\n",
    "\n",
    "# Create plot\n",
    "plt.plot(sol3.y[0], sol3.y[1], label = \"Earth\", color = \"b\") # movement of Earth (x(t)) in color blue\n",
    "plt.plot(sol3.y[4], sol3.y[5], label = \"Moon\", color = \"r\") # movement of the moon (y(t)) in color red\n",
    "plt.title(\"Earth & Moon Movement\")\n",
    "plt.legend()\n",
    "plt.show()"
   ]
  },
  {
   "cell_type": "markdown",
   "metadata": {},
   "source": [
    "We can visually observe that the moon orbits the Earth approximately twice during the given time frame. It is also interesting to note that each orbit is not exactly equal and that the Earth's position also shifts a little."
   ]
  },
  {
   "cell_type": "markdown",
   "metadata": {},
   "source": [
    "### Part B (10 points)\n",
    "\n",
    "The [Lorentz system](https://en.wikipedia.org/wiki/Lorenz_system) is a simplified model of atmospheric convection, which is one of the earliest systems investigated which exhibit [chaotic behavior](https://en.wikipedia.org/wiki/Chaos_theory).\n",
    "\n",
    "\\begin{equation}\n",
    "\\begin{cases}\n",
    "dx/dt = \\sigma( y - x)\\\\\n",
    "dy/dt = x( \\rho - z) - y\\\\\n",
    "dz/dt = xy - \\beta z\n",
    "\\end{cases}\n",
    "\\end{equation}\n",
    "\n",
    "$x$ is the rate of convection, and $y$ and $z$ measure horizontal and vertical temperature variation.\n",
    "\n",
    "You can use the parameters Lorentz used: $\\sigma=10, \\beta = 8/3, \\rho = 28$.  \n",
    "Run one simulation starting $x = y = z = 10$.  Run the simulation for $t\\in [0,7]$.\n",
    "\n",
    "Run another simulation starting at $y = z = 10$, and $x = 10.1$.  Run the simulation for $t \\in [0,7]$.\n",
    "\n",
    "Plot both solution trajectories in the $x,y$ plane (i.e. `plt(sol.y[0], sol.y[1],...`) using different colors (include labels, a title, and legend).  This system is chaotic, so the trajectories should start close and then get further apart.\n",
    "\n",
    "---\n",
    "\n",
    "What we are given can be rewritten as follows:\n",
    "\\begin{equation}\n",
    "\\begin{cases}\n",
    "x'(t) = \\sigma (y - x)\\\\\n",
    "y'(t) = x(\\rho - z) - y \\\\\n",
    "z'(t) = xy - \\beta z\n",
    "\\end{cases}\n",
    "\\end{equation}"
   ]
  },
  {
   "cell_type": "code",
   "execution_count": 13,
   "metadata": {},
   "outputs": [
    {
     "data": {
      "image/png": "[encoded data removed]",
      "text/plain": [
       "<Figure size 432x288 with 1 Axes>"
      ]
     },
     "metadata": {
      "needs_background": "light"
     },
     "output_type": "display_data"
    }
   ],
   "source": [
    "# Set initial values / arguments\n",
    "sigma = 10\n",
    "beta = 8 / 3\n",
    "rho = 28\n",
    "time2 = (0, 7)\n",
    "t_eval = np.linspace(0, 7, 2000) # to increase resolution\n",
    "\n",
    "# Case when x = y = z = 10\n",
    "x0 = 10\n",
    "y0 = 10\n",
    "z0 = 10\n",
    "v0 = np.array([x0, y0, z0])\n",
    "\n",
    "# Define rhs function\n",
    "f_4 = lambda t, v : np.array([sigma * (v[1] - v[0]), v[0] * (rho - v[2]) - v[1], v[0] * v[1] - beta * v[2]])\n",
    "\n",
    "# Solve first IVP\n",
    "sol4 = solve_ivp(fun = f_4, t_span = time2, t_eval = t_eval, y0 = v0)\n",
    "\n",
    "# Set different initial values\n",
    "x0_2 = 10.1\n",
    "v0_2 = np.array([x0_2, y0, z0])\n",
    "\n",
    "# Solve second IVP\n",
    "sol5 = solve_ivp(fun = f_4, t_span = time2, t_eval = t_eval, y0 = v0_2)\n",
    "\n",
    "# Create plot\n",
    "plt.plot(sol4.y[0], sol4.y[1], label = \"$x = 10$\", color = \"b\") # trajectory of first case\n",
    "plt.plot(sol5.y[0], sol5.y[1], label = \"$x = 10.1$\", color = \"r\") # trajectory of second case\n",
    "plt.title(\"Trajectories of a Lorentz System\")\n",
    "plt.xlabel = \"Rate of Convection\"\n",
    "plt.ylabel = \"Horizontal Temperature Variation\"\n",
    "plt.legend()\n",
    "plt.show()"
   ]
  },
  {
   "cell_type": "markdown",
   "metadata": {},
   "source": [
    "Even though the $x$ values are off by a tiny margin, the two systems do not overlap much. They begin at a similar point, but the $xy$-plot forms a chaotic shape resembling the symbol for infinity."
   ]
  },
  {
   "cell_type": "code",
   "execution_count": 14,
   "metadata": {},
   "outputs": [
    {
     "data": {
      "image/png": "[encoded data removed]",
      "text/plain": [
       "<Figure size 432x288 with 1 Axes>"
      ]
     },
     "metadata": {
      "needs_background": "light"
     },
     "output_type": "display_data"
    }
   ],
   "source": [
    "# Another way to look at it, just for fun\n",
    "plt.plot(sol4.t, sol4.y[0], label = \"$x$\", color = \"r\")\n",
    "plt.plot(sol4.t, sol4.y[1], label = \"$y$\", color = \"g\")\n",
    "plt.plot(sol4.t, sol4.y[2], label = \"$z$\", color = \"b\")\n",
    "plt.legend()\n",
    "plt.show()"
   ]
  },
  {
   "cell_type": "markdown",
   "metadata": {},
   "source": [
    "## Problem 3 (10 points)\n",
    "\n",
    "Use functionality from `scipy.sparse` to help illustrate your answers to the following questions.\n",
    "\n",
    "I. In the [class materials on differentiation](https://caam37830.github.io/book/04_functions/differentiation.html), we defined `forward_diff_matrix` and `backward_diff_matrix`.  What vectors characterize the nullspace of each of these matrices (i.e. vectors `x` so that `D @ x = 0`)?\n",
    "\n",
    "II. Give an interpretation (from calculus) of the vector `y` where `y` solves the linear system `D @ y = x`, where `D` is a finite-difference matrix.  What is the implication of the nullspace of `D` on solving this linear system?\n",
    "\n",
    "III. Create a finite difference operator for the Laplacian $\\Delta = \\partial_x^2 + \\partial_y^2$ where second-order differences are based on the stencil `[1, -2, 1]`.  What is the nullspace of this matrix?\n",
    "\n",
    "---\n",
    "### Part I.\n",
    "\n",
    "Note that `forward_diff_matrix` and `backward_diff_matrix` are row equivalent. Then, their null spaces are also equivalent, since row spaces are the same. ($\\because$ row space and null space are orthogonal complements) Thus, it suffices to characterize one of the two. To illustrate, I explicitly solve for the null space of a $4\\times 4$ `forward_diff_matrix`.\n",
    "\n",
    "$$\n",
    "D =\n",
    "\\begin{bmatrix}\n",
    "-1& 1& 0& 0\\\\\n",
    "0& -1& 1& 0\\\\\n",
    "0& 0& -1& 1\\\\\n",
    "0& 0& 0& 0&\\\\\n",
    "\\end{bmatrix}\n",
    "\\sim\n",
    "\\begin{bmatrix}\n",
    "1& 0& 0& -1\\\\\n",
    "0& 1& 0& -1\\\\\n",
    "0& 0& 1& -1\\\\\n",
    "0& 0& 0& 0&\\\\\n",
    "\\end{bmatrix}\n",
    "$$\n",
    "which is RREF.\n",
    "\n",
    "The null space is characterized by the vector of the form $c*[1, 1, 1, 1]^{T}$ where $c \\in \\mathbb{R}$. This vector corresponds to a constant function $f(x) = c, \\; \\forall x$, where $c \\in \\mathbb{R}$. This makes sense, since the derivative of a constant function is always zero.\n",
    "\n",
    "In general, a $n\\times n$ differentiation matrix will have a rank of $n - 1$, due to our choice of leaving the last diagonal as zero. This makes intuitive sense that the null space consists of a single-vector (or one-dimensional) basis.\n",
    "\n",
    "I first demonstrate this by computing the actual matrix-vector multiplication with a randomly generated vector of the form $c*\\mathbb{1}$."
   ]
  },
  {
   "cell_type": "code",
   "execution_count": 46,
   "metadata": {},
   "outputs": [
    {
     "name": "stdout",
     "output_type": "stream",
     "text": [
      "0.0\n",
      "0.0\n"
     ]
    }
   ],
   "source": [
    "import scipy.sparse as sparse\n",
    "import scipy.sparse.linalg as sla\n",
    "\n",
    "# Almost the same setting as the lecture note\n",
    "xs = np.linspace(-5, 5, 100)\n",
    "h = 10/99\n",
    "c = np.random.random(1) # randomly generate c\n",
    "v = np.ones(100)\n",
    "x = c * v # create x \\in null(D)\n",
    "\n",
    "# Define forward_diff_matrix (slightly modified from lecture note)\n",
    "def forward_diff_matrix(n):\n",
    "    \"\"\"\n",
    "    returns n * n forward differentiation matrix\n",
    "    \"\"\"\n",
    "    data = []\n",
    "    i = []\n",
    "    j = []\n",
    "    for k in range(n - 1):\n",
    "        i.append(k)\n",
    "        j.append(k)\n",
    "        data.append(-1 / h)\n",
    "\n",
    "        i.append(k)\n",
    "        j.append(k+1)\n",
    "        data.append(1 / h)\n",
    "        \n",
    "    # set the last entry to 0 to have a square matrix\n",
    "    return sparse.coo_matrix((data, (i,j)), shape=(n, n)).tocsr()\n",
    "\n",
    "# Define backward_diff_matrix (also slightly modified from lecture note)\n",
    "def backward_diff_matrix(n):\n",
    "    \"\"\"\n",
    "    returns n * n backward differentiation matrix\n",
    "    \"\"\"\n",
    "    data = []\n",
    "    i = []\n",
    "    j = []\n",
    "    for k in range(1, n):\n",
    "        i.append(k)\n",
    "        j.append(k)\n",
    "        data.append(1 / h)\n",
    "\n",
    "        i.append(k)\n",
    "        j.append(k-1)\n",
    "        data.append(-1 / h)\n",
    "        \n",
    "    # set the last entry to 0 to have a square matrix\n",
    "    return sparse.coo_matrix((data, (i,j)), shape=(n, n)).tocsr()\n",
    "\n",
    "# Create both differentiation matricess\n",
    "D_forward = forward_diff_matrix(len(xs))\n",
    "D_backward = backward_diff_matrix(len(xs))\n",
    "\n",
    "# Multiply x\n",
    "a = D_forward.dot(x)\n",
    "b = D_backward.dot(x)\n",
    "\n",
    "print(np.linalg.norm(a))\n",
    "print(np.linalg.norm(b))"
   ]
  },
  {
   "cell_type": "markdown",
   "metadata": {},
   "source": [
    "The norms of the product equal to zero, which implies $a = 0$ and $b = 0$.\n",
    "\n",
    "Next, to ascertain the null space, I run a singular value decomposition of `D_forward` when $n = 100$ to find the orthonormal basis."
   ]
  },
  {
   "cell_type": "code",
   "execution_count": 47,
   "metadata": {},
   "outputs": [
    {
     "data": {
      "text/plain": [
       "99"
      ]
     },
     "execution_count": 47,
     "metadata": {},
     "output_type": "execute_result"
    }
   ],
   "source": [
    "np.linalg.matrix_rank(D_forward.todense()) # to confirm that rank(D) = n - 1"
   ]
  },
  {
   "cell_type": "code",
   "execution_count": 48,
   "metadata": {
    "scrolled": true
   },
   "outputs": [
    {
     "data": {
      "text/plain": [
       "matrix([[0.1, 0.1, 0.1, 0.1, 0.1, 0.1, 0.1, 0.1, 0.1, 0.1, 0.1, 0.1, 0.1,\n",
       "         0.1, 0.1, 0.1, 0.1, 0.1, 0.1, 0.1, 0.1, 0.1, 0.1, 0.1, 0.1, 0.1,\n",
       "         0.1, 0.1, 0.1, 0.1, 0.1, 0.1, 0.1, 0.1, 0.1, 0.1, 0.1, 0.1, 0.1,\n",
       "         0.1, 0.1, 0.1, 0.1, 0.1, 0.1, 0.1, 0.1, 0.1, 0.1, 0.1, 0.1, 0.1,\n",
       "         0.1, 0.1, 0.1, 0.1, 0.1, 0.1, 0.1, 0.1, 0.1, 0.1, 0.1, 0.1, 0.1,\n",
       "         0.1, 0.1, 0.1, 0.1, 0.1, 0.1, 0.1, 0.1, 0.1, 0.1, 0.1, 0.1, 0.1,\n",
       "         0.1, 0.1, 0.1, 0.1, 0.1, 0.1, 0.1, 0.1, 0.1, 0.1, 0.1, 0.1, 0.1,\n",
       "         0.1, 0.1, 0.1, 0.1, 0.1, 0.1, 0.1, 0.1, 0.1]])"
      ]
     },
     "execution_count": 48,
     "metadata": {},
     "output_type": "execute_result"
    }
   ],
   "source": [
    "U, S, V = np.linalg.svd(D_forward.todense())\n",
    "V.T[:, -1].flatten()"
   ]
  },
  {
   "cell_type": "markdown",
   "metadata": {},
   "source": [
    "This confirms that $c\\mathbb{1}$ is the null space of differentiation matrices."
   ]
  },
  {
   "cell_type": "code",
   "execution_count": 50,
   "metadata": {
    "scrolled": false
   },
   "outputs": [
    {
     "data": {
      "text/plain": [
       "array([-0.0425763 ,  0.03975028, -0.08282562, -0.05657028, -0.0614511 ,\n",
       "        0.15808974,  0.19133885, -0.00908822, -0.09502885, -0.04219097,\n",
       "       -0.17991032,  0.10018395, -0.17856729,  0.04760572,  0.0441829 ,\n",
       "        0.08284801, -0.15815693, -0.00908116, -0.01706196,  0.14879836,\n",
       "       -0.08727273,  0.14229481,  0.01691455, -0.03527941, -0.06278762,\n",
       "       -0.03682245, -0.08037288, -0.1687165 ,  0.01186104,  0.14135361,\n",
       "       -0.05269628, -0.039929  , -0.01170402,  0.033486  ,  0.05922365,\n",
       "        0.0274634 ,  0.10728164,  0.06728145, -0.091342  , -0.07758493,\n",
       "        0.13272516, -0.05685018, -0.03266804, -0.15051488, -0.12404781,\n",
       "       -0.01151697, -0.06949382, -0.13791652,  0.10128162, -0.16046275,\n",
       "        0.13214315,  0.05696524,  0.01268229, -0.07459844,  0.15516452,\n",
       "        0.16152087,  0.0123141 ,  0.00332432,  0.10936068, -0.16147626,\n",
       "        0.04995717, -0.15008536, -0.14536861,  0.17026633, -0.05006123,\n",
       "        0.01687404, -0.13919891, -0.01430959, -0.03656382,  0.02012358,\n",
       "        0.04115603, -0.00558453, -0.02831981, -0.0727173 , -0.12124691,\n",
       "       -0.04653417,  0.02961179, -0.01102577, -0.09562247,  0.17254968,\n",
       "        0.00669737,  0.07123522,  0.13684037, -0.02246352,  0.16997124,\n",
       "       -0.15101777, -0.02739175, -0.08297008, -0.04804818,  0.12482434,\n",
       "       -0.22933734, -0.0862512 ,  0.09401663,  0.05003885, -0.15161735,\n",
       "        0.04585465, -0.09565358, -0.09302589,  0.18000228,  0.02247038])"
      ]
     },
     "execution_count": 50,
     "metadata": {},
     "output_type": "execute_result"
    }
   ],
   "source": [
    "# I don't understand why the same can't be achieved with scipy.sparse.linalg\n",
    "U1, S1, V1 = sla.svds(D_forward, which = 'SM')\n",
    "V1.T[:, 0].flatten()"
   ]
  },
  {
   "cell_type": "markdown",
   "metadata": {},
   "source": [
    "### Part II.\n",
    "Note that $Dy = x \\Rightarrow Dy = c\\mathbb{1}$, where $\\mathbb{1}$ is a vector of ones.\n",
    "\n",
    "Using basic knowledge from calculus, this means that the derivative of $y$ is a constant function. Hence, $y$ must be a vector that represents a first-order polynomial, i.e. $y(x) = cx + a$ for some constants $c$ and $a$.\n",
    "\n",
    "To illustrate,"
   ]
  },
  {
   "cell_type": "code",
   "execution_count": 40,
   "metadata": {},
   "outputs": [
    {
     "data": {
      "text/plain": [
       "array([0.07411705, 0.07411705, 0.07411705, 0.07411705, 0.07411705,\n",
       "       0.07411705, 0.07411705, 0.07411705, 0.07411705, 0.07411705,\n",
       "       0.07411705, 0.07411705, 0.07411705, 0.07411705, 0.07411705,\n",
       "       0.07411705, 0.07411705, 0.07411705, 0.07411705, 0.07411705,\n",
       "       0.07411705, 0.07411705, 0.07411705, 0.07411705, 0.07411705,\n",
       "       0.07411705, 0.07411705, 0.07411705, 0.07411705, 0.07411705,\n",
       "       0.07411705, 0.07411705, 0.07411705, 0.07411705, 0.07411705,\n",
       "       0.07411705, 0.07411705, 0.07411705, 0.07411705, 0.07411705,\n",
       "       0.07411705, 0.07411705, 0.07411705, 0.07411705, 0.07411705,\n",
       "       0.07411705, 0.07411705, 0.07411705, 0.07411705, 0.07411705,\n",
       "       0.07411705, 0.07411705, 0.07411705, 0.07411705, 0.07411705,\n",
       "       0.07411705, 0.07411705, 0.07411705, 0.07411705, 0.07411705,\n",
       "       0.07411705, 0.07411705, 0.07411705, 0.07411705, 0.07411705,\n",
       "       0.07411705, 0.07411705, 0.07411705, 0.07411705, 0.07411705,\n",
       "       0.07411705, 0.07411705, 0.07411705, 0.07411705, 0.07411705,\n",
       "       0.07411705, 0.07411705, 0.07411705, 0.07411705, 0.07411705,\n",
       "       0.07411705, 0.07411705, 0.07411705, 0.07411705, 0.07411705,\n",
       "       0.07411705, 0.07411705, 0.07411705, 0.07411705, 0.07411705,\n",
       "       0.07411705, 0.07411705, 0.07411705, 0.07411705, 0.07411705,\n",
       "       0.07411705, 0.07411705, 0.07411705, 0.07411705, 0.        ])"
      ]
     },
     "execution_count": 40,
     "metadata": {},
     "output_type": "execute_result"
    }
   ],
   "source": [
    "c = np.random.random(1) # randomly generate c\n",
    "a = np.random.random(1) # randomly generate a\n",
    "y_x = lambda x : c * x + a\n",
    "yxs = y_x(xs)\n",
    "\n",
    "D_forward.dot(yxs)"
   ]
  },
  {
   "cell_type": "code",
   "execution_count": 41,
   "metadata": {},
   "outputs": [
    {
     "data": {
      "text/plain": [
       "array([0.        , 0.07411705, 0.07411705, 0.07411705, 0.07411705,\n",
       "       0.07411705, 0.07411705, 0.07411705, 0.07411705, 0.07411705,\n",
       "       0.07411705, 0.07411705, 0.07411705, 0.07411705, 0.07411705,\n",
       "       0.07411705, 0.07411705, 0.07411705, 0.07411705, 0.07411705,\n",
       "       0.07411705, 0.07411705, 0.07411705, 0.07411705, 0.07411705,\n",
       "       0.07411705, 0.07411705, 0.07411705, 0.07411705, 0.07411705,\n",
       "       0.07411705, 0.07411705, 0.07411705, 0.07411705, 0.07411705,\n",
       "       0.07411705, 0.07411705, 0.07411705, 0.07411705, 0.07411705,\n",
       "       0.07411705, 0.07411705, 0.07411705, 0.07411705, 0.07411705,\n",
       "       0.07411705, 0.07411705, 0.07411705, 0.07411705, 0.07411705,\n",
       "       0.07411705, 0.07411705, 0.07411705, 0.07411705, 0.07411705,\n",
       "       0.07411705, 0.07411705, 0.07411705, 0.07411705, 0.07411705,\n",
       "       0.07411705, 0.07411705, 0.07411705, 0.07411705, 0.07411705,\n",
       "       0.07411705, 0.07411705, 0.07411705, 0.07411705, 0.07411705,\n",
       "       0.07411705, 0.07411705, 0.07411705, 0.07411705, 0.07411705,\n",
       "       0.07411705, 0.07411705, 0.07411705, 0.07411705, 0.07411705,\n",
       "       0.07411705, 0.07411705, 0.07411705, 0.07411705, 0.07411705,\n",
       "       0.07411705, 0.07411705, 0.07411705, 0.07411705, 0.07411705,\n",
       "       0.07411705, 0.07411705, 0.07411705, 0.07411705, 0.07411705,\n",
       "       0.07411705, 0.07411705, 0.07411705, 0.07411705, 0.07411705])"
      ]
     },
     "execution_count": 41,
     "metadata": {},
     "output_type": "execute_result"
    }
   ],
   "source": [
    "D_backward.dot(yxs)"
   ]
  },
  {
   "cell_type": "markdown",
   "metadata": {},
   "source": [
    "Note that, in practice, one of the entries become zero due to setting one of the diagonals as zero."
   ]
  },
  {
   "cell_type": "markdown",
   "metadata": {},
   "source": [
    "### Part III.\n",
    "\n",
    "I construct the Laplacian matrix for the case when $n = 20$ to illustrate."
   ]
  },
  {
   "cell_type": "code",
   "execution_count": 51,
   "metadata": {},
   "outputs": [],
   "source": [
    "# Create a diff_matrix\n",
    "D2 = forward_diff_matrix(20) @ backward_diff_matrix(20)\n",
    "\n",
    "# Define second-order partial differentiation matrices\n",
    "Dx2 = sparse.kron(sparse.eye(20), D2).tocsr()\n",
    "Dy2 = sparse.kron(D2, sparse.eye(20)).tocsr()\n",
    "\n",
    "# Define Laplacian matrix L\n",
    "L = Dx2 + Dy2"
   ]
  },
  {
   "cell_type": "markdown",
   "metadata": {},
   "source": [
    "Note that the rank of L is also $n-1$, which is odd since I expect more than the constant function to be mapped to zero by the transformation L."
   ]
  },
  {
   "cell_type": "code",
   "execution_count": 53,
   "metadata": {
    "scrolled": true
   },
   "outputs": [
    {
     "data": {
      "text/plain": [
       "399"
      ]
     },
     "execution_count": 53,
     "metadata": {},
     "output_type": "execute_result"
    }
   ],
   "source": [
    "np.linalg.matrix_rank(L.todense())"
   ]
  },
  {
   "cell_type": "markdown",
   "metadata": {},
   "source": [
    "Again, I run a singular value decomposition to find the null space of L."
   ]
  },
  {
   "cell_type": "code",
   "execution_count": 54,
   "metadata": {
    "scrolled": true
   },
   "outputs": [
    {
     "data": {
      "text/plain": [
       "matrix([[0.05, 0.05, 0.05, 0.05, 0.05, 0.05, 0.05, 0.05, 0.05, 0.05,\n",
       "         0.05, 0.05, 0.05, 0.05, 0.05, 0.05, 0.05, 0.05, 0.05, 0.05,\n",
       "         0.05, 0.05, 0.05, 0.05, 0.05, 0.05, 0.05, 0.05, 0.05, 0.05,\n",
       "         0.05, 0.05, 0.05, 0.05, 0.05, 0.05, 0.05, 0.05, 0.05, 0.05,\n",
       "         0.05, 0.05, 0.05, 0.05, 0.05, 0.05, 0.05, 0.05, 0.05, 0.05,\n",
       "         0.05, 0.05, 0.05, 0.05, 0.05, 0.05, 0.05, 0.05, 0.05, 0.05,\n",
       "         0.05, 0.05, 0.05, 0.05, 0.05, 0.05, 0.05, 0.05, 0.05, 0.05,\n",
       "         0.05, 0.05, 0.05, 0.05, 0.05, 0.05, 0.05, 0.05, 0.05, 0.05,\n",
       "         0.05, 0.05, 0.05, 0.05, 0.05, 0.05, 0.05, 0.05, 0.05, 0.05,\n",
       "         0.05, 0.05, 0.05, 0.05, 0.05, 0.05, 0.05, 0.05, 0.05, 0.05,\n",
       "         0.05, 0.05, 0.05, 0.05, 0.05, 0.05, 0.05, 0.05, 0.05, 0.05,\n",
       "         0.05, 0.05, 0.05, 0.05, 0.05, 0.05, 0.05, 0.05, 0.05, 0.05,\n",
       "         0.05, 0.05, 0.05, 0.05, 0.05, 0.05, 0.05, 0.05, 0.05, 0.05,\n",
       "         0.05, 0.05, 0.05, 0.05, 0.05, 0.05, 0.05, 0.05, 0.05, 0.05,\n",
       "         0.05, 0.05, 0.05, 0.05, 0.05, 0.05, 0.05, 0.05, 0.05, 0.05,\n",
       "         0.05, 0.05, 0.05, 0.05, 0.05, 0.05, 0.05, 0.05, 0.05, 0.05,\n",
       "         0.05, 0.05, 0.05, 0.05, 0.05, 0.05, 0.05, 0.05, 0.05, 0.05,\n",
       "         0.05, 0.05, 0.05, 0.05, 0.05, 0.05, 0.05, 0.05, 0.05, 0.05,\n",
       "         0.05, 0.05, 0.05, 0.05, 0.05, 0.05, 0.05, 0.05, 0.05, 0.05,\n",
       "         0.05, 0.05, 0.05, 0.05, 0.05, 0.05, 0.05, 0.05, 0.05, 0.05,\n",
       "         0.05, 0.05, 0.05, 0.05, 0.05, 0.05, 0.05, 0.05, 0.05, 0.05,\n",
       "         0.05, 0.05, 0.05, 0.05, 0.05, 0.05, 0.05, 0.05, 0.05, 0.05,\n",
       "         0.05, 0.05, 0.05, 0.05, 0.05, 0.05, 0.05, 0.05, 0.05, 0.05,\n",
       "         0.05, 0.05, 0.05, 0.05, 0.05, 0.05, 0.05, 0.05, 0.05, 0.05,\n",
       "         0.05, 0.05, 0.05, 0.05, 0.05, 0.05, 0.05, 0.05, 0.05, 0.05,\n",
       "         0.05, 0.05, 0.05, 0.05, 0.05, 0.05, 0.05, 0.05, 0.05, 0.05,\n",
       "         0.05, 0.05, 0.05, 0.05, 0.05, 0.05, 0.05, 0.05, 0.05, 0.05,\n",
       "         0.05, 0.05, 0.05, 0.05, 0.05, 0.05, 0.05, 0.05, 0.05, 0.05,\n",
       "         0.05, 0.05, 0.05, 0.05, 0.05, 0.05, 0.05, 0.05, 0.05, 0.05,\n",
       "         0.05, 0.05, 0.05, 0.05, 0.05, 0.05, 0.05, 0.05, 0.05, 0.05,\n",
       "         0.05, 0.05, 0.05, 0.05, 0.05, 0.05, 0.05, 0.05, 0.05, 0.05,\n",
       "         0.05, 0.05, 0.05, 0.05, 0.05, 0.05, 0.05, 0.05, 0.05, 0.05,\n",
       "         0.05, 0.05, 0.05, 0.05, 0.05, 0.05, 0.05, 0.05, 0.05, 0.05,\n",
       "         0.05, 0.05, 0.05, 0.05, 0.05, 0.05, 0.05, 0.05, 0.05, 0.05,\n",
       "         0.05, 0.05, 0.05, 0.05, 0.05, 0.05, 0.05, 0.05, 0.05, 0.05,\n",
       "         0.05, 0.05, 0.05, 0.05, 0.05, 0.05, 0.05, 0.05, 0.05, 0.05,\n",
       "         0.05, 0.05, 0.05, 0.05, 0.05, 0.05, 0.05, 0.05, 0.05, 0.05,\n",
       "         0.05, 0.05, 0.05, 0.05, 0.05, 0.05, 0.05, 0.05, 0.05, 0.05,\n",
       "         0.05, 0.05, 0.05, 0.05, 0.05, 0.05, 0.05, 0.05, 0.05, 0.05,\n",
       "         0.05, 0.05, 0.05, 0.05, 0.05, 0.05, 0.05, 0.05, 0.05, 0.05]])"
      ]
     },
     "execution_count": 54,
     "metadata": {},
     "output_type": "execute_result"
    }
   ],
   "source": [
    "U_L, S_L, V_L = np.linalg.svd(L.todense())\n",
    "V_L.T[:, -1].flatten()"
   ]
  },
  {
   "cell_type": "markdown",
   "metadata": {},
   "source": [
    "However, I can easily think of another example of a vector (or a function) that lies in the null space of L. The function needs to be of the form $f(x, y) = ax + by$ where $a, b$ are some constants.\n",
    "$$\\because \\frac{\\partial f}{\\partial x} = a \\Rightarrow \\frac{\\partial ^2 f}{\\partial x^2} = 0 \\; and \\; \\frac{\\partial f}{\\partial y} = b \\Rightarrow \\frac{\\partial ^2 f}{\\partial y^2} = 0$$\\\n",
    "$$ \\Rightarrow \\Delta = \\frac{\\partial ^2 f}{\\partial x^2} + \\frac{\\partial ^2 f}{\\partial y^2} = 0$$"
   ]
  },
  {
   "cell_type": "markdown",
   "metadata": {},
   "source": [
    "## Feedback\n",
    "\n",
    "If you would like share how long it took you to complete this assignment, it will help adjust the difficulty for future assignments.  You're welcome to share additional feedback as well."
   ]
  },
  {
   "cell_type": "markdown",
   "metadata": {},
   "source": [
    "This assignment took me a very long time, approximately 10 hours, to complete. Understanding the `OdeSolver` parent class was the main culprit."
   ]
  }
 ],
 "metadata": {
  "kernelspec": {
   "display_name": "Python 3",
   "language": "python",
   "name": "python3"
  },
  "language_info": {
   "codemirror_mode": {
    "name": "ipython",
    "version": 3
   },
   "file_extension": ".py",
   "mimetype": "text/x-python",
   "name": "python",
   "nbconvert_exporter": "python",
   "pygments_lexer": "ipython3",
   "version": "3.8.5"
  }
 },
 "nbformat": 4,
 "nbformat_minor": 4
}
