{
 "cells": [
  {
   "cell_type": "markdown",
   "id": "7f3ad864",
   "metadata": {},
   "source": [
    "# O Método de Jacobi"
   ]
  },
  {
   "cell_type": "markdown",
   "id": "79658a86",
   "metadata": {},
   "source": [
    "Vamos implementar o Método de Jacobi para resolver o sistema $$Ax=b.$$ "
   ]
  },
  {
   "cell_type": "code",
   "execution_count": 1,
   "id": "0fe0f952",
   "metadata": {},
   "outputs": [],
   "source": [
    "using LinearAlgebra, Printf, Random"
   ]
  },
  {
   "cell_type": "markdown",
   "id": "c5eb7862",
   "metadata": {},
   "source": [
    "## Definição do Problema"
   ]
  },
  {
   "cell_type": "code",
   "execution_count": 25,
   "id": "69fca118",
   "metadata": {},
   "outputs": [],
   "source": [
    "n = 5;\n",
    "\n",
    "rng = MersenneTwister(1234);\n",
    "\n",
    "A = rand(rng,n,n);\n",
    "\n",
    "v = diag(A);\n",
    "v = 100*v;\n",
    "\n",
    "A = A + diagm(v);\n",
    "\n",
    "x = ones(n);\n",
    "b = A*x;\n"
   ]
  },
  {
   "cell_type": "code",
   "execution_count": 23,
   "id": "e2096fa3",
   "metadata": {},
   "outputs": [
    {
     "data": {
      "text/plain": [
       "jacobi (generic function with 1 method)"
      ]
     },
     "metadata": {},
     "output_type": "display_data"
    }
   ],
   "source": [
    "function jacobi(A,b,x0,ϵ,maxiter)\n",
    "    #D = diagm(diag(A))\n",
    "    #invD = diagm(1 ./ diag(A))\n",
    "    #B = A - D\n",
    "    x = copy(x0);\n",
    "\n",
    "    iter = 0\n",
    "    while true\n",
    "\n",
    "        ne = norm(A*x-b);\n",
    "\n",
    "        @printf(\"%5d %20.15e \\n\",iter,ne)\n",
    "\n",
    "        if ne < ϵ\n",
    "            println(\"Solution has found!\")\n",
    "            return x\n",
    "        end\n",
    "\n",
    "        iter = iter + 1\n",
    "        if iter > maxiter\n",
    "            println(\"Maximum of iterations has achieved! Stopping...\")\n",
    "            return x\n",
    "        end\n",
    "\n",
    "        #x = invD*(b - B*x);\n",
    "\n",
    "        for i in 1 : n\n",
    "            s = 0.0;\n",
    "            for j in 1 : n\n",
    "                if j != i\n",
    "                    s = s + A[i,j] * x[j];\n",
    "                end\n",
    "            end\n",
    "            x[i] = (b[i] - s) / A[i,i];\n",
    "        end\n",
    "\n",
    "\n",
    "    end\n",
    "\n",
    "\n",
    "end"
   ]
  },
  {
   "cell_type": "markdown",
   "id": "07d95109",
   "metadata": {},
   "source": [
    "Vamos verificar se $A$ é diagonal dominante, ou seja, se $$\\max_{1 \\leq i \\leq j}\\sum_{j=1}^n \\frac{|a_{ij}|}{|a_{ii}|}<1.$$ Para isso, vamos considerar a função chamada \"convergence\". Veja a mesma a seguir."
   ]
  },
  {
   "cell_type": "code",
   "execution_count": 4,
   "id": "45ade0df",
   "metadata": {},
   "outputs": [
    {
     "data": {
      "text/plain": [
       "convergence (generic function with 1 method)"
      ]
     },
     "metadata": {},
     "output_type": "display_data"
    }
   ],
   "source": [
    "function convergence(A)\n",
    "    α = Float64[];\n",
    "    n = size(A,1);\n",
    "    for i in 1 : n\n",
    "        s = 0.0;\n",
    "        for j in 1 : n\n",
    "            if j != i\n",
    "                s = s + abs(A[i,j]);\n",
    "            end\n",
    "        end\n",
    "        s = s / abs(A[i,i]);\n",
    "        push!(α,s)\n",
    "    end\n",
    "    return maximum(α)\n",
    "end"
   ]
  },
  {
   "cell_type": "markdown",
   "id": "dfae0867",
   "metadata": {},
   "source": [
    "Testando a matriz $A$."
   ]
  },
  {
   "cell_type": "code",
   "execution_count": 21,
   "id": "9da8a13c",
   "metadata": {},
   "outputs": [
    {
     "data": {
      "text/plain": [
       "21.65848025162942"
      ]
     },
     "metadata": {},
     "output_type": "display_data"
    }
   ],
   "source": [
    "convergence(A)"
   ]
  },
  {
   "cell_type": "markdown",
   "id": "2fb6141a",
   "metadata": {},
   "source": [
    "Resolvendo o sistema."
   ]
  },
  {
   "cell_type": "code",
   "execution_count": 26,
   "id": "2162eb4c",
   "metadata": {},
   "outputs": [
    {
     "name": "stdout",
     "output_type": "stream",
     "text": [
      "    0 3.763351081526366e+01 \n",
      "    1 1.007980304594633e+00 \n",
      "    2 8.780845227727706e-02 \n",
      "    3 2.175023762614133e-04 \n",
      "    4 2.035672598795126e-05 \n",
      "    5 2.860696970701560e-07 \n",
      "Solution has found!\n"
     ]
    },
    {
     "data": {
      "text/plain": [
       "5-element Vector{Float64}:\n",
       " 1.0000000048067297\n",
       " 0.9999999999259643\n",
       " 0.9999999989186985\n",
       " 0.9999999998082774\n",
       " 0.9999999999648781"
      ]
     },
     "metadata": {},
     "output_type": "display_data"
    }
   ],
   "source": [
    "x0 = rand(n)\n",
    "ϵ = 1.e-6;\n",
    "maxiter = 1000;\n",
    "sol = jacobi(A,b,x0,ϵ,maxiter)"
   ]
  }
 ],
 "metadata": {
  "kernelspec": {
   "display_name": "Julia 1.8.0",
   "language": "julia",
   "name": "julia-1.8"
  },
  "language_info": {
   "file_extension": ".jl",
   "mimetype": "application/julia",
   "name": "julia",
   "version": "1.8.0"
  }
 },
 "nbformat": 4,
 "nbformat_minor": 5
}
