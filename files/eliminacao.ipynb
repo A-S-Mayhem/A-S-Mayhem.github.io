{
 "cells": [
  {
   "cell_type": "markdown",
   "id": "7f3ad864",
   "metadata": {},
   "source": [
    "# O método da Eliminação de Gauss"
   ]
  },
  {
   "cell_type": "markdown",
   "id": "79658a86",
   "metadata": {},
   "source": [
    "Vamos implementar o método da Eliminação de Gauss sem qualquer preocupação com estratégia de pivoteamento. Essas estratégias serão consideradas mais adiante."
   ]
  },
  {
   "cell_type": "code",
   "execution_count": 4,
   "id": "0fe0f952",
   "metadata": {},
   "outputs": [],
   "source": [
    "using LinearAlgebra"
   ]
  },
  {
   "cell_type": "markdown",
   "id": "af9339b6",
   "metadata": {},
   "source": [
    "Vamos considerar buscar a solção do sistema $Ax=b$. Para isso vamos implementar a função \"eliminacao\" que recebe $A$ e $b$ e retorna $\\tilde{A}$ e $\\tilde{b}$, onde $\\tilde{A}$ é uma matriz triangular superior linha equivalente a $A$ e $\\tilde{b}$ é linha equivalente a $b$.  "
   ]
  },
  {
   "cell_type": "code",
   "execution_count": 5,
   "id": "fce14035",
   "metadata": {},
   "outputs": [
    {
     "data": {
      "text/plain": [
       "eliminacao (generic function with 1 method)"
      ]
     },
     "execution_count": 5,
     "metadata": {},
     "output_type": "execute_result"
    }
   ],
   "source": [
    "function eliminacao(A,b)\n",
    "    n = size(b,1); \n",
    "    for k in 1 : n-1\n",
    "        for i in k+1 : n\n",
    "            m = A[i,k] / A[k,k];\n",
    "            A[i,k] = 0.0;\n",
    "            for j in k+1 : n\n",
    "                A[i,j] = A[i,j] - m * A[k,j];\n",
    "            end\n",
    "            b[i] = b[i] - m * b[k];\n",
    "        end\n",
    "    end\n",
    "    return(A,b)\n",
    "end"
   ]
  },
  {
   "cell_type": "markdown",
   "id": "7d0ec94e",
   "metadata": {},
   "source": [
    "A função \"solucao\" recebe as matrizes $\\tilde{A}$ e $\\tilde{b}$ da função anterior e calcular a solução do sistema por meio de uma substituição."
   ]
  },
  {
   "cell_type": "code",
   "execution_count": 6,
   "id": "14988bad",
   "metadata": {},
   "outputs": [
    {
     "data": {
      "text/plain": [
       "solucao (generic function with 1 method)"
      ]
     },
     "execution_count": 6,
     "metadata": {},
     "output_type": "execute_result"
    }
   ],
   "source": [
    "function solucao(A,b)\n",
    "    n = size(b,1);\n",
    "    x = zeros(n,1); \n",
    "    x[n] = b[n] / A[n,n];\n",
    "    for k in n-1 : -1 : 1\n",
    "        s = 0.0;\n",
    "        for j in k+1 : n\n",
    "            s = s + A[k,j] * x[j];\n",
    "        end\n",
    "        x[k] = (b[k] - s) / A[k,k];\n",
    "    end\n",
    "    return(x)\n",
    "end\n",
    "    "
   ]
  },
  {
   "cell_type": "markdown",
   "id": "f4e3e2c6",
   "metadata": {},
   "source": [
    "Com as funções acima, implementamos a função \"eligauss\" que dirigirá todo o processo de solução."
   ]
  },
  {
   "cell_type": "code",
   "execution_count": 7,
   "id": "fa7a1fe8",
   "metadata": {},
   "outputs": [
    {
     "data": {
      "text/plain": [
       "eligauss (generic function with 1 method)"
      ]
     },
     "execution_count": 7,
     "metadata": {},
     "output_type": "execute_result"
    }
   ],
   "source": [
    "function eligauss(A,b)\n",
    "    (A,b) = eliminacao(A,b);\n",
    "    return solucao(A,b);\n",
    "end"
   ]
  },
  {
   "cell_type": "markdown",
   "id": "e64a8eb5",
   "metadata": {},
   "source": [
    "## Exemplo"
   ]
  },
  {
   "cell_type": "code",
   "execution_count": 2,
   "id": "4979592f",
   "metadata": {},
   "outputs": [
    {
     "data": {
      "text/plain": [
       "10×10 Matrix{Float64}:\n",
       " 0.145855   0.20227   0.385481  0.226465  …  0.49595    0.936018   0.952235\n",
       " 0.751575   0.762385  0.337965  0.14213      0.265303   0.186271   0.151871\n",
       " 0.886384   0.656021  0.991817  0.670381     0.109555   0.678982   0.520116\n",
       " 0.618293   0.83158   0.922703  0.320207     0.107708   0.858585   0.55175\n",
       " 0.38268    0.25423   0.698035  0.073423     0.0996923  0.700409   0.604951\n",
       " 0.927892   0.982081  0.206996  0.647718  …  0.541435   0.527949   0.520904\n",
       " 0.339542   0.721032  0.886653  0.282114     0.0121739  0.920864   0.561879\n",
       " 0.789852   0.734309  0.683591  0.261773     0.857404   0.0143795  0.663412\n",
       " 0.0765123  0.575878  0.532913  0.19926      0.463754   0.614041   0.00815013\n",
       " 0.223893   0.67619   0.500142  0.589367     0.287258   0.102456   0.0458385"
      ]
     },
     "execution_count": 2,
     "metadata": {},
     "output_type": "execute_result"
    }
   ],
   "source": [
    "n = 10  # dimensão de A\n",
    "\n",
    "A = rand(n,n)"
   ]
  },
  {
   "cell_type": "code",
   "execution_count": 8,
   "id": "2967219e",
   "metadata": {},
   "outputs": [
    {
     "data": {
      "text/plain": [
       "10×1 Matrix{Float64}:\n",
       " 1.000000000000006\n",
       " 0.9999999999999937\n",
       " 1.00000000000001\n",
       " 0.9999999999999876\n",
       " 1.0000000000000009\n",
       " 0.9999999999999912\n",
       " 0.9999999999999996\n",
       " 0.9999999999999986\n",
       " 0.9999999999999937\n",
       " 1.0000000000000084"
      ]
     },
     "execution_count": 8,
     "metadata": {},
     "output_type": "execute_result"
    }
   ],
   "source": [
    "AA = copy(A);\n",
    "\n",
    "x = ones(n,1);\n",
    "\n",
    "b = A * x;\n",
    "\n",
    "bb = copy(b);\n",
    "\n",
    "sol = eligauss(AA,bb)"
   ]
  },
  {
   "cell_type": "code",
   "execution_count": 9,
   "id": "8cd26715",
   "metadata": {},
   "outputs": [
    {
     "name": "stdout",
     "output_type": "stream",
     "text": [
      "Erro: 2.2840393547046654e-14\n"
     ]
    }
   ],
   "source": [
    "ne = norm(x-sol)\n",
    "println(\"Erro: $ne\")"
   ]
  }
 ],
 "metadata": {
  "kernelspec": {
   "display_name": "Julia 1.7.3",
   "language": "julia",
   "name": "julia-1.7"
  },
  "language_info": {
   "file_extension": ".jl",
   "mimetype": "application/julia",
   "name": "julia",
   "version": "1.8.2"
  }
 },
 "nbformat": 4,
 "nbformat_minor": 5
}
