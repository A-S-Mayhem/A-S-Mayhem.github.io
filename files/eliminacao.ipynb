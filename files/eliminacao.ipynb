{
 "cells": [
  {
   "cell_type": "markdown",
   "id": "7f3ad864",
   "metadata": {},
   "source": [
    "# O método da Eliminação de Gauss"
   ]
  },
  {
   "cell_type": "markdown",
   "id": "79658a86",
   "metadata": {},
   "source": [
    "Vamos implementar o método da Eliminação de Gauss sem qualquer preocupação com estratégia de pivoteamento. Essas estratégias serão consideradas mais adiante."
   ]
  },
  {
   "cell_type": "code",
   "execution_count": 1,
   "id": "0fe0f952",
   "metadata": {},
   "outputs": [],
   "source": [
    "using LinearAlgebra"
   ]
  },
  {
   "cell_type": "markdown",
   "id": "af9339b6",
   "metadata": {},
   "source": [
    "Vamos considerar buscar a solção do sistema $Ax=b$. Para isso vamos implementar a função \"eliminacao\" que recebe $A$ e $b$ e retorna $\\tilde{A}$ e $\\tilde{b}$, onde $\\tilde{A}$ é uma matriz triangular superior linha equivalente a $A$ e $\\tilde{b}$ é linha equivalente a $b$.  "
   ]
  },
  {
   "cell_type": "code",
   "execution_count": 2,
   "id": "fce14035",
   "metadata": {},
   "outputs": [
    {
     "data": {
      "text/plain": [
       "eliminacao (generic function with 1 method)"
      ]
     },
     "execution_count": 2,
     "metadata": {},
     "output_type": "execute_result"
    }
   ],
   "source": [
    "function eliminacao(A,b)\n",
    "    n = size(b,1); \n",
    "    for k in 1 : n-1\n",
    "        for i in k+1 : n\n",
    "            m = A[i,k] / A[k,k];\n",
    "            A[i,k] = 0.0;\n",
    "            for j in k+1 : n\n",
    "                A[i,j] = A[i,j] - m * A[k,j];\n",
    "            end\n",
    "            b[i] = b[i] - m * b[k];\n",
    "        end\n",
    "    end\n",
    "    return(A,b)\n",
    "end"
   ]
  },
  {
   "cell_type": "markdown",
   "id": "7d0ec94e",
   "metadata": {},
   "source": [
    "A função \"solucao\" recebe as matrizes $\\tilde{A}$ e $\\tilde{b}$ da função anterior e calcular a solução do sistema por meio de uma substituição."
   ]
  },
  {
   "cell_type": "code",
   "execution_count": 3,
   "id": "14988bad",
   "metadata": {},
   "outputs": [
    {
     "data": {
      "text/plain": [
       "solucao (generic function with 1 method)"
      ]
     },
     "execution_count": 3,
     "metadata": {},
     "output_type": "execute_result"
    }
   ],
   "source": [
    "function solucao(A,b)\n",
    "    n = size(b,1);\n",
    "    x = zeros(n,1); \n",
    "    x[n] = b[n] / A[n,n];\n",
    "    for k in n-1 : -1 : 1\n",
    "        s = 0.0;\n",
    "        for j in k+1 : n\n",
    "            s = s + A[k,j] * x[j];\n",
    "        end\n",
    "        x[k] = (b[k] - s) / A[k,k];\n",
    "    end\n",
    "    return(x)\n",
    "end\n",
    "    "
   ]
  },
  {
   "cell_type": "markdown",
   "id": "f4e3e2c6",
   "metadata": {},
   "source": [
    "Com as funções acima, implementamos a função \"eligauss\" que dirigirá todo o processo de solução."
   ]
  },
  {
   "cell_type": "code",
   "execution_count": 4,
   "id": "fa7a1fe8",
   "metadata": {},
   "outputs": [
    {
     "data": {
      "text/plain": [
       "eligauss (generic function with 1 method)"
      ]
     },
     "execution_count": 4,
     "metadata": {},
     "output_type": "execute_result"
    }
   ],
   "source": [
    "function eligauss(A,b)\n",
    "    (A,b) = eliminacao(A,b);\n",
    "    return solucao(A,b);\n",
    "end"
   ]
  },
  {
   "cell_type": "markdown",
   "id": "e64a8eb5",
   "metadata": {},
   "source": [
    "## Exemplo"
   ]
  },
  {
   "cell_type": "code",
   "execution_count": 30,
   "id": "4979592f",
   "metadata": {},
   "outputs": [
    {
     "data": {
      "text/plain": [
       "10×10 Matrix{Float64}:\n",
       " 0.145377  0.625996   0.200004  0.441381  …  0.762954   0.871898   0.926526\n",
       " 0.747875  0.647614   0.7704    0.09995      0.177529   0.30497    0.740285\n",
       " 0.214358  0.151728   0.618867  0.732898     0.887707   0.589266   0.622149\n",
       " 0.184754  0.39073    0.708894  0.113674     0.757984   0.185101   0.623418\n",
       " 0.936151  0.945593   0.965829  0.406566     0.0516583  0.890145   0.472393\n",
       " 0.138774  0.731243   0.377311  0.975631  …  0.390015   0.172171   0.376935\n",
       " 0.855403  0.760755   0.453833  0.819575     0.490432   0.829669   0.966101\n",
       " 0.422259  0.90275    0.922058  0.188242     0.684033   0.858356   0.546261\n",
       " 0.335879  0.0690079  0.025054  0.598507     0.70218    0.0129325  0.905382\n",
       " 0.432949  0.562359   0.833341  0.642164     0.0100311  0.196977   0.26351"
      ]
     },
     "execution_count": 30,
     "metadata": {},
     "output_type": "execute_result"
    }
   ],
   "source": [
    "n = 10  # dimensão de A\n",
    "\n",
    "A = rand(n,n)"
   ]
  },
  {
   "cell_type": "code",
   "execution_count": 53,
   "id": "18879603",
   "metadata": {},
   "outputs": [
    {
     "data": {
      "text/plain": [
       "10×10 Matrix{Float64}:\n",
       " 1.0e-16   0.625996   0.200004  0.441381  …  0.762954   0.871898  0.926526\n",
       " 0.747875  1.0e-16    0.7704    0.09995      0.177529   0.30497   0.740285\n",
       " 0.214358  0.151728   1.0e-16   0.732898     0.887707   0.589266  0.622149\n",
       " 0.184754  0.39073    0.708894  1.0e-16      0.757984   0.185101  0.623418\n",
       " 0.936151  0.945593   0.965829  0.406566     0.0516583  0.890145  0.472393\n",
       " 0.138774  0.731243   0.377311  0.975631  …  0.390015   0.172171  0.376935\n",
       " 0.855403  0.760755   0.453833  0.819575     0.490432   0.829669  0.966101\n",
       " 0.422259  0.90275    0.922058  0.188242     1.0e-16    0.858356  0.546261\n",
       " 0.335879  0.0690079  0.025054  0.598507     0.70218    1.0e-16   0.905382\n",
       " 0.432949  0.562359   0.833341  0.642164     0.0100311  0.196977  1.0e-16"
      ]
     },
     "execution_count": 53,
     "metadata": {},
     "output_type": "execute_result"
    }
   ],
   "source": [
    "# Ajustando os pivots de A\n",
    "A = A - diagm(diag(A)) + 1.e-16*I"
   ]
  },
  {
   "cell_type": "code",
   "execution_count": 50,
   "id": "2967219e",
   "metadata": {},
   "outputs": [
    {
     "data": {
      "text/plain": [
       "10×1 Matrix{Float64}:\n",
       "  35.52713678800501\n",
       "   4.0364104109188235\n",
       " -11.880597014925398\n",
       "  -2.987917555081747\n",
       "   5.946695095948842\n",
       "  -5.20255863539446\n",
       "   8.872778962331225\n",
       "   6.137882018479038\n",
       "  -1.4562899786780479\n",
       "  -3.520966595593473"
      ]
     },
     "execution_count": 50,
     "metadata": {},
     "output_type": "execute_result"
    }
   ],
   "source": [
    "AA = copy(A);\n",
    "\n",
    "x = ones(n,1);\n",
    "\n",
    "b = A * x;\n",
    "\n",
    "bb = copy(b);\n",
    "\n",
    "sol = eligauss(AA,bb)"
   ]
  },
  {
   "cell_type": "code",
   "execution_count": 52,
   "id": "8cd26715",
   "metadata": {},
   "outputs": [
    {
     "name": "stdout",
     "output_type": "stream",
     "text": [
      "Erro: 39.50884375034698\n"
     ]
    }
   ],
   "source": [
    "ne = norm(x-sol)\n",
    "println(\"Erro: $ne\")"
   ]
  }
 ],
 "metadata": {
  "kernelspec": {
   "display_name": "Julia 1.8.2",
   "language": "julia",
   "name": "julia-1.8"
  },
  "language_info": {
   "file_extension": ".jl",
   "mimetype": "application/julia",
   "name": "julia",
   "version": "1.8.2"
  }
 },
 "nbformat": 4,
 "nbformat_minor": 5
}
