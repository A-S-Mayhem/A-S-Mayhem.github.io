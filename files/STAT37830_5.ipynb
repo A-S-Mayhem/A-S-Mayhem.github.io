{
 "cells": [
  {
   "cell_type": "markdown",
   "metadata": {},
   "source": [
    "# Homework 5\n",
    "\n",
    "In this homework, you'll review some linear algebra, and practice using `sklearn` and `scipy.optimize` to solve several variations of linear models.  You'll also use Pandas and Scikit learn for a simple machine learning task on a UCI data set."
   ]
  },
  {
   "cell_type": "code",
   "execution_count": 1,
   "metadata": {},
   "outputs": [],
   "source": [
    "import numpy as np\n",
    "import matplotlib.pyplot as plt\n",
    "import scipy.linalg as la\n",
    "import pandas as pd\n",
    "import sklearn"
   ]
  },
  {
   "cell_type": "markdown",
   "metadata": {},
   "source": [
    "## Linear Models\n",
    "\n",
    "A standard problem in statistics to solve the multivariate linear regression problem.\n",
    "\\begin{equation}\n",
    "y = X * \\beta + \\epsilon\n",
    "\\end{equation}\n",
    "The above notation is standard in statistics, but we'll use Householder notation by replacing $\\beta$ with `b`\n",
    "```\n",
    "y = X * b + eps\n",
    "```\n",
    "`X` is known as the [design matrix](https://en.wikipedia.org/wiki/Design_matrix), and consists of `n` rows of observations, each of which has `p` features.  `y` is a vector of `n` responses.  `b` is an unknown vector of `p` coefficients which we would like to find.  `eps` (epsilon) is a vector of length `n` with random noise, typically i.i.d. normally distributed with variance `sig` (sigma).\n",
    "\n",
    "In numpy notation, we could express this as\n",
    "```python\n",
    "y[i] = np.dot(X[i], b) + sig * np.random.randn()\n",
    "```\n",
    "\n",
    "We want to determine `b`, so that when me make a new observation `X[n]` we can predict the response `y[n]`.  Our goal is to minimize the mean square error\n",
    "\n",
    "\\begin{equation}\n",
    "\\mathop{\\mathsf{minimize}}_b \\mathbb{E}((X[n]*b - y[n])^2)\n",
    "\\end{equation}\n",
    "\n",
    "The solution to this is the solution to the least squares problem\n",
    "\\begin{equation}\n",
    "\\mathop{\\mathsf{minimize}}_b \\frac{1}{n} \\|X*b - y\\|_2^2\n",
    "\\end{equation}\n",
    "\n",
    "Where $n$ is the number of rows in $X$.  We'll let the solution to the problem be denoted $\\hat{b}$, or `bhat`."
   ]
  },
  {
   "cell_type": "markdown",
   "metadata": {},
   "source": [
    "## Problem 0 - Linear Regression (30 points)\n",
    "\n",
    "There are a variety of ways to solve the above problem.  We'll assume that $n > p$, meaning there are more observations than features.\n",
    "\n",
    "### Generating Data\n",
    "\n",
    "Write a function `gen_lstsq(n, p, sig=0.1)` which will generate a linear least squares problem (return `X`, `y`, and `b` as described above).  `b` is the \"ground truth\" coefficients that we are looking for.  You can generate the matrix `X` using `np.random.randn`, and generate `b` using `np.random.randn` as well.\n"
   ]
  },
  {
   "cell_type": "code",
   "execution_count": 2,
   "metadata": {},
   "outputs": [],
   "source": [
    "## Your code here\n",
    "def gen_lstsq(n, p, sig = 0.1):\n",
    "    \"\"\"\n",
    "    returns the design matrix X, vectors y and b that can be used for a linear least squares problem\n",
    "    \"\"\"\n",
    "    X = np.random.randn(n, p) # n\\times p design matrix\n",
    "    b = np.random.randn(p) # p\\times 1 vector of coefficient parameters\n",
    "    eps = np.random.randn(n) # n\\times 1 vector of random noise\n",
    "    y = X @ b + eps\n",
    "    return X, y, b"
   ]
  },
  {
   "cell_type": "markdown",
   "metadata": {},
   "source": [
    "### QR factorization\n",
    "\n",
    "If we form a QR factorization $X = QR$, we can find $\\hat{b} = R^{-1} Q^T y$.\n",
    "\n",
    "Write a function `solve_lstsq_qr(X, y)` which estimates `b` using the QR factorization as above."
   ]
  },
  {
   "cell_type": "code",
   "execution_count": 3,
   "metadata": {},
   "outputs": [],
   "source": [
    "## Your code here\n",
    "def solve_lstsq_qr(X, y):\n",
    "    \"\"\"\n",
    "    returns bhat for least squares problem using QR factorization\n",
    "    \"\"\"\n",
    "    Q, R = la.qr(X, mode = \"economic\") # (economic) QR decomposition\n",
    "    bhat = la.solve_triangular(R, Q.T @ y, lower=False) # R is an upper triangular matrix\n",
    "    return bhat"
   ]
  },
  {
   "cell_type": "markdown",
   "metadata": {},
   "source": [
    "### Normal Equations\n",
    "\n",
    "Often, this is the way statistics textbooks solve the problem: $\\hat{b} = (X^T X)^{-1} X^T y$.  This is based on the normal equation $X^T X \\hat{b} = X^T y$.\n",
    "\n",
    "Write a function `solve_lstsq_normal(X, y)` which estimates `b` using the normal equations above.  You probably don't want to form the inverse - use an LU or Cholesky factorization instead."
   ]
  },
  {
   "cell_type": "code",
   "execution_count": 4,
   "metadata": {},
   "outputs": [],
   "source": [
    "## Your code here\n",
    "def solve_lstsq_normal(X, y):\n",
    "    \"\"\"\n",
    "    returns bhat for least squares problem using normal equation\n",
    "    \"\"\"\n",
    "    bhat = la.solve(X.T @ X, X.T @ y) # the default solver uses LU factorization\n",
    "    return bhat"
   ]
  },
  {
   "cell_type": "markdown",
   "metadata": {},
   "source": [
    "### Check Your Work\n",
    "\n",
    "Generate a few random problems to test that `solve_lstsq_qr` and `solve_lstsq_normal` give the same prediction $\\hat{b}$ (measure $\\|\\hat{b}_{qr} - \\hat{b}_{normal}\\|_2$ and check it is smaller than `1e-4`).  Use $n > p$.  Check against `solve_lstsq` in numpy or scipy as well."
   ]
  },
  {
   "cell_type": "code",
   "execution_count": 5,
   "metadata": {},
   "outputs": [
    {
     "data": {
      "text/plain": [
       "array([8.75627003e-15, 1.60305199e-14, 1.59706007e-14])"
      ]
     },
     "execution_count": 5,
     "metadata": {},
     "output_type": "execute_result"
    }
   ],
   "source": [
    "## Your code here\n",
    "X, y, b = gen_lstsq(100, 50, sig = 0.05) # Generate a least squares problem\n",
    "bhat_qr = solve_lstsq_qr(X, y) # Solve for bhat using QR\n",
    "bhat_normal = solve_lstsq_normal(X, y) # Solve for bhat using normal equation\n",
    "bhat_default = np.linalg.lstsq(X, y, rcond = None)[0] # Solve for bhat using default scipy solve_lstsq\n",
    "\n",
    "# Checking each estimate against each other\n",
    "np.array([la.norm(bhat_qr - bhat_normal), la.norm(bhat_qr - bhat_default), la.norm(bhat_normal - bhat_default)])"
   ]
  },
  {
   "cell_type": "markdown",
   "metadata": {},
   "source": [
    "I confirm that all three methods are equivalent to machine precision."
   ]
  },
  {
   "cell_type": "markdown",
   "metadata": {},
   "source": [
    "### Estimate the Mean Squared Error\n",
    "\n",
    "Write a function `mse` which estimates the mean squared error (MSE) $\\mathbb{E}[\\|X * \\hat{b} - y\\|_2^2]$.\n",
    "\n",
    "The function should have the call signature `mse(b, bhat, N=100, sig=0.1)`  You can generate `X` to be `N x p` using `np.random.randn`, and set `y = X * b + sig * np.random.randn(p)` (use the same value of `sig` that you use when generating the data).  You can then estimate the MSE by computing $\\frac{1}{N}\\|X * \\hat{b} - y\\|_2^2$\n",
    "\n",
    "Create a plot of the MSE vs the noise parameter `sig` (use the same value of `sig` when generating data and computing the MSE).  Put `sig` on a logartihmic axis ranging from `1e-4` to `10`.  Use `n=100`, `p=50` when generating data, and `N=100` when computing the MSE.  Put your plot on log-log axes.  Give it a title and axis labels."
   ]
  },
  {
   "cell_type": "code",
   "execution_count": 6,
   "metadata": {},
   "outputs": [],
   "source": [
    "## Your code here\n",
    "def mse(b, bhat, N = 100, sig = 0.1):\n",
    "    \"\"\"\n",
    "    returns the mean squared error given b and bhat\n",
    "    \"\"\"\n",
    "    p = len(b) # extract the dimension of b\n",
    "    X = np.random.randn(N, p) # generate a random n\\times p matrix\n",
    "    y = X @ b + sig * np.random.randn(N) # generate a random response vector y\n",
    "    mse = ((la.norm(X @ bhat - y)) ** 2) / N # calculate mean squared prediction error\n",
    "    return mse"
   ]
  },
  {
   "cell_type": "code",
   "execution_count": 7,
   "metadata": {},
   "outputs": [],
   "source": [
    "n = 100\n",
    "p = 50\n",
    "sigs = np.linspace(1e-4, 10, 1000) # create a sequence of values for sig\n",
    "mses = [] # a list to capture the MSE values\n",
    "for sig in sigs:\n",
    "    X, y, b = gen_lstsq(n, p, sig) # generate least squares problems for each level of sig\n",
    "    bhat_qr = solve_lstsq_qr(X, y) # solve using solve_lstsq_qr\n",
    "    mses.append(mse(b, bhat_qr, sig = sig)) # append the values to a list"
   ]
  },
  {
   "cell_type": "code",
   "execution_count": 8,
   "metadata": {
    "scrolled": true
   },
   "outputs": [
    {
     "data": {
      "image/png": "[encoded data removed]",
      "text/plain": [
       "<Figure size 432x288 with 1 Axes>"
      ]
     },
     "metadata": {
      "needs_background": "light"
     },
     "output_type": "display_data"
    }
   ],
   "source": [
    "# Creating the plot\n",
    "plt.loglog(sigs, mses)\n",
    "plt.title(\"MSE vs. Noise\")\n",
    "plt.xlabel(\"Noise Parameter\")\n",
    "plt.ylabel(\"Mean Squared Error\")\n",
    "plt.show()"
   ]
  },
  {
   "cell_type": "markdown",
   "metadata": {},
   "source": [
    "The mean squared prediction errors increase sharply with the size of the noise parameter. This is intuitive, since it will be more difficult to predict a noisier response value."
   ]
  },
  {
   "cell_type": "markdown",
   "metadata": {},
   "source": [
    "### Discussion 1\n",
    "\n",
    "Which of `solve_lstsq_qr` and `solve_lstsq_normal` is faster?  Give a justification for your answer (e.g. in terms of what you know about time to compute matrix multiplication and factorizations)."
   ]
  },
  {
   "cell_type": "code",
   "execution_count": 9,
   "metadata": {},
   "outputs": [
    {
     "name": "stdout",
     "output_type": "stream",
     "text": [
      "solve_lstsq_qr: 0.0015058517456054688 sec.\n",
      "solve_lstsq_normal: 0.0009870529174804688 sec.\n"
     ]
    }
   ],
   "source": [
    "## Your code here\n",
    "from time import time\n",
    "\n",
    "# Generate new X, y\n",
    "X, y, b = gen_lstsq(100, 50, sig = 0.5)\n",
    "\n",
    "# Runtime for solve_lstsq_qr\n",
    "t0_qr = time()\n",
    "bhat_qr = solve_lstsq_qr(X, y)\n",
    "t1_qr = time()\n",
    "print(\"solve_lstsq_qr: {} sec.\".format(t1_qr - t0_qr))\n",
    "\n",
    "# Runtime for solve_lstsq_normal\n",
    "t0_normal = time()\n",
    "bhat_normal = solve_lstsq_normal(X, y)\n",
    "t1_normal = time()\n",
    "print(\"solve_lstsq_normal: {} sec.\".format(t1_normal - t0_normal))"
   ]
  },
  {
   "cell_type": "markdown",
   "metadata": {},
   "source": [
    "---\n",
    "`solve_lstsq_normal` uses LU factorization to solve the linear system, whereas `solve_lstsq_qr` uses QR factorization. LU factorization and QR factorization both have computational complexity of $O(n^3)$, but LU factorization is slightly faster, with $O(\\frac{2}{3}n^3)$. This is probably why `solve_lstsq_normal` is a little better than `solve_lstsq_qr`."
   ]
  },
  {
   "cell_type": "markdown",
   "metadata": {},
   "source": [
    "### Optimization\n",
    "\n",
    "Solve the minimization problem \n",
    "\\begin{equation}\n",
    "\\mathop{\\mathsf{minimize}}_b \\frac{1}{n}\\|X*b - y\\|_2^2\n",
    "\\end{equation}\n",
    "\n",
    "using `scipy.optimize.minimize`.  Wrap this in a function `solve_lstsq_opt(X, y)`.  Note that you can define the objective function inside `solve_lstsq_opt`\n",
    "\n",
    "**Jacobian**: you should implement the Jacobian of the objective function to use in the optimization problem.  Here's a derivation:  We'd like to minimize the objective function\n",
    "\\begin{equation}\n",
    "n f(b) = \\|X*b - y\\|_2^2 = (Xb - y)^T (Xb - y) = b^T X^T X b - 2 y^T X b + y^T y\n",
    "\\end{equation}\n",
    "\n",
    "We might write the above expression as\n",
    "\\begin{equation}\n",
    "n f(b) \\sum_{i,j} b_i (X^T X)_{i,j} b_j - 2\\sum_{j,i} y_i X_{i,j} b_j + y^T y\n",
    "\\end{equation}\n",
    "\n",
    "We can take a derivative with respect to $b_j$\n",
    "\\begin{equation}\n",
    "n \\frac{\\partial f}{\\partial b_j} = \\sum_{i\\ne j} b_i (X^T X)_{i,j} + \\sum_{i\\ne j} (X^T X)_{j,i} b_i + 2 (X^T X)_{j,j} b_j  - 2\\sum_{i} y_i X_{i,j}\n",
    "\\end{equation}\n",
    "\n",
    "Putting this in matrix form, we obtain\n",
    "\\begin{equation}\n",
    "J_f(b) =  \\frac{1}{n}\\big( b^T (X^T X) + b^T (X^T X)^T - 2y^T X\\big) = \\frac{2}{n} b^T (X^T X) -\\frac{2}{n}y^T X\n",
    "\\end{equation}\n",
    "\n",
    "So we can write $J_f(b) = \\frac{2}{n} b^T (X^T X) -\\frac{2}{n} y^T X$"
   ]
  },
  {
   "cell_type": "code",
   "execution_count": 10,
   "metadata": {},
   "outputs": [],
   "source": [
    "## Your code here\n",
    "from scipy.optimize import minimize\n",
    "def solve_lstsq_opt(X, y):\n",
    "    \"\"\"\n",
    "    returns the least squares solution using scipy.optimize.minimize\n",
    "    \"\"\"\n",
    "    n = len(y) # extract dimension of y\n",
    "    p = X.shape[1] # extract dimension of b\n",
    "    \n",
    "    def obj_fun(b):\n",
    "        \"\"\"\n",
    "        the objective function to minimize\n",
    "        \"\"\"\n",
    "        return (1 / n) * (la.norm(X @ b - y))**2\n",
    "    \n",
    "    def jacobian(b):\n",
    "        \"\"\"\n",
    "        the Jacobian of the objective function\n",
    "        \"\"\"\n",
    "        return (2 / n) * (b.T @ (X.T @ X) - y.T @ X) # Jacobian from the above derivation\n",
    "    \n",
    "    x0 = np.zeros(p) # set the initial guess as the zero vector\n",
    "    bhat = minimize(obj_fun, x0, jac = jacobian).x # extract bhat from scipy.optimize.minimize\n",
    "    return bhat"
   ]
  },
  {
   "cell_type": "markdown",
   "metadata": {},
   "source": [
    "#### Check Your Work\n",
    "\n",
    "Generate a few random problems to test that `solve_lstsq_opt` agrees with `solve_lstsq_qr` and `solve_lstsq_normal` in part A.  Use the same tolerance for checking."
   ]
  },
  {
   "cell_type": "code",
   "execution_count": 11,
   "metadata": {},
   "outputs": [],
   "source": [
    "## Your code here\n",
    "def solve_test(solve1, solve2, n, p, m, tol = 1e-4):\n",
    "    \"\"\"\n",
    "    returns boolean indicators checking for equivalence of the bhats using different methods\n",
    "    \n",
    "    Parameters:\n",
    "    solve1, solve2: functions (or methods) to be compared\n",
    "    n : number of observations\n",
    "    p : number of parameters\n",
    "    m : number of tests to run\n",
    "    tol : tolerance level of the test\n",
    "    \"\"\"\n",
    "    test_result = [] # a list to capture the test results\n",
    "    for i in range(m):\n",
    "        X, y, b = gen_lstsq(n, p) # generate a least squares problem\n",
    "        bhat1 = solve1(X, y) # solve for bhat using solve1\n",
    "        bhat2 = solve2(X, y) # solve for bhat using solve2\n",
    "        test = (la.norm(bhat1 - bhat2) < tol) # output True if the difference is less than the tolerance level\n",
    "        test_result.append(test) # append test results to a list\n",
    "    return test_result"
   ]
  },
  {
   "cell_type": "code",
   "execution_count": 12,
   "metadata": {},
   "outputs": [
    {
     "data": {
      "text/plain": [
       "[True, True, True, True, True, True, True, True, True, True]"
      ]
     },
     "execution_count": 12,
     "metadata": {},
     "output_type": "execute_result"
    }
   ],
   "source": [
    "# Testing solve_lstsq_opt against solve_lstsq_qr\n",
    "solve_test(solve_lstsq_opt, solve_lstsq_qr, 100, 50, 10, tol = 1e-4)"
   ]
  },
  {
   "cell_type": "code",
   "execution_count": 13,
   "metadata": {},
   "outputs": [
    {
     "data": {
      "text/plain": [
       "[True, True, True, True, True, True, True, True, True, True]"
      ]
     },
     "execution_count": 13,
     "metadata": {},
     "output_type": "execute_result"
    }
   ],
   "source": [
    "# Testing solve_lstsq_opt against solve_lstsq_normal\n",
    "solve_test(solve_lstsq_opt, solve_lstsq_normal, 100, 50, 10, tol = 1e-4)"
   ]
  },
  {
   "cell_type": "markdown",
   "metadata": {},
   "source": [
    "----\n",
    "The tests indicate that the methods are all equivalent to machine precision."
   ]
  },
  {
   "cell_type": "markdown",
   "metadata": {},
   "source": [
    "### Discussion 2\n",
    "\n",
    "How fast is `solve_lstsq_opt` compared to the functions you wrote in part A?  Give some justification for what you see."
   ]
  },
  {
   "cell_type": "code",
   "execution_count": 14,
   "metadata": {},
   "outputs": [
    {
     "name": "stdout",
     "output_type": "stream",
     "text": [
      "solve_lstsq_qr: 0.002273082733154297 sec.\n",
      "solve_lstsq_normal: 0.0012238025665283203 sec.\n",
      "solve_lstsq_opt: 0.018990278244018555 sec.\n"
     ]
    }
   ],
   "source": [
    "## Your code here\n",
    "# Generate new X, y\n",
    "X, y, b = gen_lstsq(100, 50, sig = 0.5)\n",
    "\n",
    "# Runtime for solve_lstsq_qr\n",
    "t0_qr = time()\n",
    "bhat_qr = solve_lstsq_qr(X, y)\n",
    "t1_qr = time()\n",
    "print(\"solve_lstsq_qr: {} sec.\".format(t1_qr - t0_qr))\n",
    "\n",
    "# Runtime for solve_lstsq_normal\n",
    "t0_normal = time()\n",
    "bhat_normal = solve_lstsq_normal(X, y)\n",
    "t1_normal = time()\n",
    "print(\"solve_lstsq_normal: {} sec.\".format(t1_normal - t0_normal))\n",
    "\n",
    "# Runtime for solve_lstsq_opt\n",
    "t0_opt = time()\n",
    "bhat_opt = solve_lstsq_opt(X, y)\n",
    "t1_opt = time()\n",
    "print(\"solve_lstsq_opt: {} sec.\".format(t1_opt - t0_opt))"
   ]
  },
  {
   "cell_type": "markdown",
   "metadata": {},
   "source": [
    "---\n",
    "\n",
    "`solve_lstsq_opt` is lot slower compared to the other two. This method is also based on matrix multiplications, which means it must also be of complexity $O(n^3)$. The documentation for `scipy.optimize.minimize` cites that it uses the **Nelder-Mead algorithm** as the default when given a Jacobian parameter. It seems to involve computing matrix multiplications multiple times, which yields a much slower running time compared to methods based on LU or QR factorizations."
   ]
  },
  {
   "cell_type": "markdown",
   "metadata": {},
   "source": [
    "### Scikit Learn\n",
    "\n",
    "Use [`sklearn.linear_model.LinearRegression`](https://scikit-learn.org/stable/modules/generated/sklearn.linear_model.LinearRegression.html#sklearn.linear_model.LinearRegression) to solve the linear regression problem. You can get the vector `bhat` from `model.coef_`\n",
    "\n",
    "Make a plot for the MSE like you did above using `LinearRegression` instead of a `solve_lstsq` function.  Set the keyword `fit_intercept=False`."
   ]
  },
  {
   "cell_type": "code",
   "execution_count": 15,
   "metadata": {},
   "outputs": [
    {
     "data": {
      "image/png": "[encoded data removed]",
      "text/plain": [
       "<Figure size 432x288 with 1 Axes>"
      ]
     },
     "metadata": {
      "needs_background": "light"
     },
     "output_type": "display_data"
    }
   ],
   "source": [
    "## Your code here\n",
    "from sklearn.linear_model import LinearRegression\n",
    "\n",
    "n = 100\n",
    "p = 50\n",
    "sigs = np.linspace(1e-4, 10, 1000) # create a sequence of values for sig\n",
    "mses_sklearn = []\n",
    "for sig in sigs:\n",
    "    X, y, b = gen_lstsq(n, p, sig) # generate least squares problems for each level of sig\n",
    "    bhat_sklearn = LinearRegression(fit_intercept = False).fit(X, y).coef_ # solve using sklearn\n",
    "    mses_sklearn.append(mse(b, bhat_sklearn, sig = sig)) # append the values to a list\n",
    "    \n",
    "# Creating the plot\n",
    "plt.loglog(sigs, mses_sklearn)\n",
    "plt.title(\"MSE vs. Noise\")\n",
    "plt.xlabel(\"Noise Parameter\")\n",
    "plt.ylabel(\"Mean Squared Error (using sklearn)\")\n",
    "plt.show()"
   ]
  },
  {
   "cell_type": "markdown",
   "metadata": {},
   "source": [
    "The mean squared prediction errors for `LinearRegression` seems to behave similarly to previously defined methods based on matrix decomposition."
   ]
  },
  {
   "cell_type": "markdown",
   "metadata": {},
   "source": [
    "## Problem 1 - Ridge Regression (15 points)\n",
    "\n",
    "We'll now turn to the problem of what to do when `n < p` (there are fewer observations than features).  In this case we can solve $X * b = y$ exactly, but there are many possible values of $b$ which can satisfy the equation.\n",
    "\n",
    "The normal equations are singular, and the $R$ term of the QR factorization is not invertible in this case.  We need to do something else.\n",
    "\n",
    "Ridge regression seeks to solve the following optimization problem:\n",
    "\n",
    "\\begin{equation}\n",
    "\\mathop{\\mathsf{minimize}}_b \\frac{1}{n}\\|X*b - y\\|_2^2 + \\lambda \\|b\\|_2^2\n",
    "\\end{equation}\n",
    "\n",
    "$\\lambda$ is a parameter you can choose to \"regularize\" the problem which you can choose.\n",
    "\n",
    "### Optimization\n",
    "\n",
    "Use `scipy.optimize.minimize` to minimize the above optimization problem.  Wrap this in a function `solve_ridge_opt(X, y, lam=0.1)` (`lam` should be provided as a keyword argument for the variable $\\lambda$).\n",
    "\n",
    "What is the Jacobian for the objective function for the minimization problem?  Incorporate this into your optimization problem.  Hint: differentiation is linear, so you just need to add a term to the Jacobian in Problem 0 based on the Jacobian of\n",
    "\\begin{equation}\n",
    "\\lambda \\|b\\|_2^2 = \\lambda b^T b = \\lambda \\sum_i b_i^2\n",
    "\\end{equation}\n",
    "\n",
    "---\n",
    "\n",
    "Note that the Jacobian we obtained from Problem 0 for $\\|X*b - y\\|_2^2$ was\n",
    "$$J_f(b) = \\frac{2}{n} b^T (X^T X) -\\frac{2}{n} y^T X$$\n",
    "\n",
    "Also note that\n",
    "$$\\frac{\\partial}{\\partial b} (\\lambda b^T b) = 2\\lambda b^T$$\n",
    "\n",
    "Thus, the Jacobian of the objective function for ridge regression is the sum of the two above.\n",
    "$$ \\Rightarrow J_{Ridge}(b) = \\frac{2}{n} b^T (X^T X) -\\frac{2}{n} y^T X + 2\\lambda b^T $$"
   ]
  },
  {
   "cell_type": "code",
   "execution_count": 16,
   "metadata": {},
   "outputs": [],
   "source": [
    "## Your code here\n",
    "def solve_ridge_opt(X, y, lam = 0.1):\n",
    "    \"\"\"\n",
    "    returns the solution to ridge regression using scipy.optimize.minimize\n",
    "    \"\"\"\n",
    "    n = len(y) # extract dimension of y\n",
    "    p = X.shape[1] # extract dimension of b\n",
    "    \n",
    "    def obj_fun_ridge(b):\n",
    "        \"\"\"\n",
    "        the objective function to minimize\n",
    "        \"\"\"\n",
    "        return (1 / n) * (la.norm(X @ b - y))**2 + lam * (la.norm(b))**2\n",
    "    \n",
    "    def jacobian_ridge(b):\n",
    "        \"\"\"\n",
    "        the Jacobian of the objective function\n",
    "        \"\"\"\n",
    "        return (2 / n) * (b.T @ (X.T @ X) - y.T @ X) + 2 * lam * b.T # Jacobian from the above derivation\n",
    "    \n",
    "    x0 = np.zeros(p) # set the initial guess as the zero vector\n",
    "    bhat = minimize(obj_fun_ridge, x0, jac = jacobian_ridge).x # extract bhat from scipy.optimize.minimize\n",
    "    return bhat"
   ]
  },
  {
   "cell_type": "markdown",
   "metadata": {},
   "source": [
    "### Compute the MSE\n",
    "\n",
    "Set `n = 50`, `p=100`, and `sig=0.1`.  Make a plot that displays the MSE of `bhat` computed using `solve_ridge_opt` as `lam` varies between `1e-4` and `1e2`.  Use a `semilogx` plot."
   ]
  },
  {
   "cell_type": "code",
   "execution_count": 17,
   "metadata": {},
   "outputs": [
    {
     "data": {
      "image/png": "[encoded data removed]",
      "text/plain": [
       "<Figure size 432x288 with 1 Axes>"
      ]
     },
     "metadata": {
      "needs_background": "light"
     },
     "output_type": "display_data"
    }
   ],
   "source": [
    "## Your code here\n",
    "n = 50\n",
    "p = 100\n",
    "lams = np.linspace(1e-4, 1e2, 1000) # create a sequence of values for lambda\n",
    "mses_ridge_opt = [] # a list to capture the MSE values\n",
    "for lam in lams:\n",
    "    X, y, b = gen_lstsq(n, p) # generate a least squares problem\n",
    "    bhat_ridge_opt = solve_ridge_opt(X, y, lam = lam) # solve for bhat using each value of lambda\n",
    "    mses_ridge_opt.append(mse(b, bhat_ridge_opt)) # append the values to a list\n",
    "    \n",
    "# Creating the plot\n",
    "plt.semilogx(lams, mses_ridge_opt)\n",
    "plt.title(\"MSE vs. Lambda\")\n",
    "plt.xlabel(\"$\\lambda$\")\n",
    "plt.ylabel(\"Mean Squared Error (Ridge)\")\n",
    "plt.show()"
   ]
  },
  {
   "cell_type": "markdown",
   "metadata": {},
   "source": [
    "The mean squared prediction errors increase with the level of $\\lambda$ and appears quite unstable. This is expected, given that higher values of $\\lambda$ will introduce more bias to the coefficient estimates in ridge regression."
   ]
  },
  {
   "cell_type": "markdown",
   "metadata": {},
   "source": [
    "### Scikit Learn\n",
    "\n",
    "Use [`sklearn.linear_model.Ridge`](https://scikit-learn.org/stable/modules/generated/sklearn.linear_model.Ridge.html) to solve the Ridge regression problem (note that this uses the keyword `alpha` where we have used `lam`). You can get the vector `bhat` from `model.coef_`\n",
    "\n",
    "Make a plot for the MSE like you did above using `Ridge` instead of your `solve_ridge_opt` function.  In addition to the keyword `alpha`, set `fit_intercept=False`"
   ]
  },
  {
   "cell_type": "code",
   "execution_count": 18,
   "metadata": {
    "scrolled": true
   },
   "outputs": [
    {
     "data": {
      "image/png": "[encoded data removed]",
      "text/plain": [
       "<Figure size 432x288 with 1 Axes>"
      ]
     },
     "metadata": {
      "needs_background": "light"
     },
     "output_type": "display_data"
    }
   ],
   "source": [
    "## Your code here\n",
    "from sklearn.linear_model import Ridge\n",
    "\n",
    "n = 50\n",
    "p = 100\n",
    "lams = np.linspace(1e-4, 1e2, 1000) # create a sequence of values of lambda\n",
    "mses_ridge_sklearn = [] # a list to capture the MSE values\n",
    "for lam in lams:\n",
    "    X, y, b = gen_lstsq(n, p) # generate a least squares problem\n",
    "    bhat_ridge_sklearn = Ridge(alpha = lam, fit_intercept = False).fit(X, y).coef_ # solve for bhat using sklearn\n",
    "    mses_ridge_sklearn.append(mse(b, bhat_ridge_sklearn)) # append the MSE value to the list\n",
    "    \n",
    "# Creating the plot\n",
    "plt.semilogx(lams, mses_ridge_sklearn)\n",
    "plt.title(\"MSE vs. Lambda\")\n",
    "plt.xlabel(\"$\\lambda$\")\n",
    "plt.ylabel(\"Mean Squared Error (Ridge with sklearn)\")\n",
    "plt.show()"
   ]
  },
  {
   "cell_type": "markdown",
   "metadata": {},
   "source": [
    "The ridge regression contained in `sklearn` behaves similarly to the one defined based on `scipy.optimize.minimize`."
   ]
  },
  {
   "cell_type": "markdown",
   "metadata": {},
   "source": [
    "## Problem 2 - Lasso (15 points)\n",
    "\n",
    "The Lasso is L1-regularized regression.  This is often used when `p > n`, and when the parameter vector `b` is assumed to be sparse, meaning that it has few non-zero entries.\n",
    "\n",
    "The minimization problem is\n",
    "\\begin{equation}\n",
    "\\mathop{\\mathsf{minimize}}_b \\frac{1}{n} \\|X * b - y\\|_2^2 + \\lambda \\|b\\|_1\n",
    "\\end{equation}\n",
    "\n",
    "Where again, $\\lambda$ can be chosen."
   ]
  },
  {
   "cell_type": "markdown",
   "metadata": {},
   "source": [
    "### Generate Data\n",
    "\n",
    "We need to modify our generation of data to produce sparse `b`.  Write a function `gen_lstsq_sparse(n, p, sig=0.1, k=10)`, which generates `X` and `y` in the same way as `gen_lstsq`, but now `b` is generated to be a vector of length `p` with `k` random entries set to 1, and all other entries set to 0. Hint: look at `np.random.choice` for generating `k` random integers without replacement."
   ]
  },
  {
   "cell_type": "code",
   "execution_count": 19,
   "metadata": {},
   "outputs": [],
   "source": [
    "## Your code here\n",
    "def gen_lstsq_sparse(n, p, sig = 0.1, k = 10):\n",
    "    \"\"\"\n",
    "    returns the design matrix X, vectors y and b that can be used for a linear least squares problem\n",
    "    with b as a sparse vector k non-zero entries\n",
    "    \"\"\"\n",
    "    X = np.random.randn(n, p) # n\\times p design matrix\n",
    "    nonzeros = np.random.choice(p, k) # randomly choose k indices out of p to set as 1\n",
    "    b = np.zeros(p) # a vector of zeros\n",
    "    for i in range(p):\n",
    "        if i in nonzeros:\n",
    "            b[i] = 1 # if the index is in 'zeros', then set the entry as one\n",
    "    eps = np.random.randn(n) # n\\times 1 vector of random noise\n",
    "    y = X @ b + eps # create y\n",
    "    return X, y, b"
   ]
  },
  {
   "cell_type": "markdown",
   "metadata": {},
   "source": [
    "### Optimization\n",
    "\n",
    "Recall we want to find `bhat` to solve\n",
    "\\begin{equation}\n",
    "\\mathop{\\mathsf{minimize}}_b \\frac{1}{n} \\|X * b - y\\|_2^2 + \\lambda \\|b\\|_1\n",
    "\\end{equation}\n",
    "\n",
    "Use `scipy.optimize.minimize` to minimize the above optimization problem.  Wrap this in a function `solve_lasso_opt(X, y, lam=0.1)` (`lam` should be provided as a keyword argument for the variable $\\lambda$).\n",
    "\n",
    "What is the Jacobian for the objective function for the minimization problem?  Incorporate this into your optimization problem.  Hint: differentiation is linear, so you just need to add a term to the Jacobian in Problem 0 based on the Jacobian of\n",
    "\\begin{equation}\n",
    "\\lambda \\|b\\|_1 = \\lambda \\sum_i |b_i|\n",
    "\\end{equation}\n",
    "\n",
    "If $b_i$ is zero, then take $\\partial_i |b_i| = 0$ (this is in the [subgradient](https://en.wikipedia.org/wiki/Subderivative)). Hint 2: look at `np.sign` for implementation\n",
    "\n",
    "---\n",
    "\n",
    "Note that the Jacobian we obtained from Problem 0 for $\\|X*b - y\\|_2^2$ was\n",
    "$$J_f(b) = \\frac{2}{n} b^T (X^T X) -\\frac{2}{n} y^T X$$\n",
    "\n",
    "Also note that\n",
    "$$\\frac{\\partial}{\\partial b} (\\lambda |b|) = \\lambda * sgn(b^T)$$\n",
    "\n",
    "Thus, the Jacobian of the objective function for ridge regression is the sum of the two above.\n",
    "$$ \\Rightarrow J_{Lasso}(b) = \\frac{2}{n} b^T (X^T X) -\\frac{2}{n} y^T X + \\lambda * sgn(b^T) $$"
   ]
  },
  {
   "cell_type": "code",
   "execution_count": 20,
   "metadata": {},
   "outputs": [],
   "source": [
    "## Your code here\n",
    "def solve_lasso_opt(X, y, lam = 0.1):\n",
    "    \"\"\"\n",
    "    returns the solution to ridge regression using scipy.optimize.minimize\n",
    "    \"\"\"\n",
    "    n = len(y) # extract the dimension of y\n",
    "    p = X.shape[1] # extract the dimension of b\n",
    "    \n",
    "    def obj_fun_lasso(b):\n",
    "        \"\"\"\n",
    "        the objective function to minimize\n",
    "        \"\"\"\n",
    "        return (1 / n) * (la.norm(X @ b - y))**2 + lam * la.norm(b, ord = 1)\n",
    "    \n",
    "    def jacobian_lasso(b):\n",
    "        \"\"\"\n",
    "        the Jacobian of the objective function\n",
    "        \"\"\"\n",
    "        return (2 / n) * (b.T @ (X.T @ X) - y.T @ X) + lam * np.sign(b.T) # Jacobian from the above derivation\n",
    "    \n",
    "    x0 = np.zeros(p) # set the initial guess as the zero vector\n",
    "    bhat = minimize(obj_fun_lasso, x0, jac = jacobian_lasso).x # solve for bhat using scipy.optimize.minimize\n",
    "    return bhat"
   ]
  },
  {
   "cell_type": "markdown",
   "metadata": {},
   "source": [
    "### Compute the MSE\n",
    "\n",
    "Set `n = 50`, `p=100`,`sig=0.1`, and `k=10` to generate a problem using `gen_lstsq_sparse`.  Make a plot that displays the MSE of `bhat` computed using `solve_lasso_opt` as `lam` varies between `1e-4` and `1e2`.  Use a `semilogx` plot."
   ]
  },
  {
   "cell_type": "code",
   "execution_count": 21,
   "metadata": {},
   "outputs": [
    {
     "data": {
      "image/png": "[encoded data removed]",
      "text/plain": [
       "<Figure size 432x288 with 1 Axes>"
      ]
     },
     "metadata": {
      "needs_background": "light"
     },
     "output_type": "display_data"
    }
   ],
   "source": [
    "## Your code here\n",
    "n = 50\n",
    "p = 100\n",
    "lams = np.linspace(1e-4, 1e2, 100) # create a sequence of values for lambda\n",
    "mses_lasso_opt = [] # a list to capture the MSE values\n",
    "for lam in lams:\n",
    "    X, y, b = gen_lstsq_sparse(n, p, sig = 0.1, k = 10) # generate a sparse least squares problem\n",
    "    bhat_lasso_opt = Ridge(alpha = lam, fit_intercept = False).fit(X, y).coef_ # solve for bhat using sklearn\n",
    "    mses_lasso_opt.append(mse(b, bhat_lasso_opt)) # append the MSE value to the list\n",
    "    \n",
    "# Creating the plot\n",
    "plt.semilogx(lams, mses_lasso_opt)\n",
    "plt.title(\"MSE vs. Lambda\")\n",
    "plt.xlabel(\"$\\lambda$\")\n",
    "plt.ylabel(\"Mean Squared Error (Lasso)\")\n",
    "plt.show()"
   ]
  },
  {
   "cell_type": "markdown",
   "metadata": {},
   "source": [
    "The mean squared prediction errors increase with higher levels of $\\lambda$. Again, as with ridge regression, lasso also introduces more bias to the coefficient estimates as $\\lambda$ gets larger. However, the scale of the errors are much less than in the models we have seen above. Note that our ground truth is a sparse vector of coefficients. As lasso favors sparsity by design, it may be more accurate in practice."
   ]
  },
  {
   "cell_type": "markdown",
   "metadata": {},
   "source": [
    "### Scikit Learn\n",
    "\n",
    "Use [`sklearn.linear_model.Lasso`](https://scikit-learn.org/stable/modules/generated/sklearn.linear_model.Lasso.html#sklearn.linear_model.Lasso) to solve the Lasso regression problem (note that this uses the keyword `alpha` where we have used `lam`). You can get the vector `bhat` from `model.coef_`\n",
    "\n",
    "Make a plot for the MSE like you did above using `Lasso` instead of your `solve_lasso_opt` function.  In addition to the keyword `alpha`, set `fit_intercept=False`"
   ]
  },
  {
   "cell_type": "code",
   "execution_count": 22,
   "metadata": {
    "scrolled": false
   },
   "outputs": [
    {
     "name": "stderr",
     "output_type": "stream",
     "text": [
      "/opt/anaconda3/lib/python3.8/site-packages/sklearn/linear_model/_coordinate_descent.py:529: ConvergenceWarning: Objective did not converge. You might want to increase the number of iterations. Duality gap: 0.07058695032986691, tolerance: 0.05193593521936694\n",
      "  model = cd_fast.enet_coordinate_descent(\n"
     ]
    },
    {
     "data": {
      "image/png": "[encoded data removed]",
      "text/plain": [
       "<Figure size 432x288 with 1 Axes>"
      ]
     },
     "metadata": {
      "needs_background": "light"
     },
     "output_type": "display_data"
    }
   ],
   "source": [
    "## Your code here\n",
    "from sklearn.linear_model import Lasso\n",
    "\n",
    "n = 50\n",
    "p = 100\n",
    "lams = np.linspace(1e-4, 1e2, 100) # create a sequence of values for lambda\n",
    "mses_lasso_sklearn = [] # the list to capture the MSE values\n",
    "for lam in lams:\n",
    "    X, y, b = gen_lstsq_sparse(n, p, sig = 0.1, k = 10) # generate a sparse least squares problem\n",
    "    bhat_lasso_sklearn = Lasso(alpha = lam, fit_intercept = False).fit(X, y).coef_ # solve for bhat using sklearn\n",
    "    mses_lasso_sklearn.append(mse(b, bhat_lasso_sklearn)) # append the MSE value to the list\n",
    "    \n",
    "# Creating the plot\n",
    "plt.semilogx(lams, mses_lasso_sklearn)\n",
    "plt.title(\"MSE vs. Lambda\")\n",
    "plt.xlabel(\"$\\lambda$\")\n",
    "plt.ylabel(\"Mean Squared Error (Ridge with sklearn)\")\n",
    "plt.show()"
   ]
  },
  {
   "cell_type": "markdown",
   "metadata": {},
   "source": [
    "Lasso function within `sklearn` does not deviate much from the function I defined based on `scipy.optimize.minimize`, although the scale of the errors are slightly larger."
   ]
  },
  {
   "cell_type": "markdown",
   "metadata": {},
   "source": [
    "## Problem 3 - Elastic Net (20 points)\n",
    "\n",
    "Another option when `p > n` is the [Elastic Net]() which combines L1 and L2 regularization.\n",
    "\n",
    "\\begin{equation}\n",
    "\\mathop{\\mathsf{minimize}}_b \\frac{1}{n} \\|X * b - y\\|_2^2 + \\lambda_1 \\|b\\|_1 + \\lambda_2 \\|b\\|_2^2\n",
    "\\end{equation}\n",
    "Where we get to choose $\\lambda_1$ and $\\lambda_2$.\n",
    "\n",
    "You can find a function that does this in [`sklearn.linear_model.ElasticNet`](https://scikit-learn.org/stable/modules/generated/sklearn.linear_model.ElasticNet.html#sklearn.linear_model.ElasticNet).\n",
    "\n",
    "In this problem, you'll write a class that emulates the behavior of a Scikit learn class. Use `scipy.optimize.minimize` to solve the optimization problem.\n"
   ]
  },
  {
   "cell_type": "markdown",
   "metadata": {},
   "source": [
    "### Jacobian\n",
    "\n",
    "Give an expression for the Jacobian for the optimization objective function.  You've already done all the hard work for this in problems 1 and 2\n",
    "\n",
    "---\n",
    "\n",
    "Note that the Jacobian for Elastic Net is just a combination of the Jacobian for Lasso and Ridge, replacing $\\lambda$ in each case with $\\lambda_1$ and $\\lambda_2$, respectively. That is,\n",
    "\n",
    "$$J_{EN}(b) = \\frac{2}{n} b^T (X^T X) -\\frac{2}{n} y^T X + \\lambda_1 * sgn(b^T) + 2\\lambda_2 b^T$$"
   ]
  },
  {
   "cell_type": "markdown",
   "metadata": {},
   "source": [
    "### Write the Class\n",
    "\n",
    "Define a Python Class `ElasticNet`.  When you initialize the class you should be able to provide keyword arguments `lam1` for $\\lambda_1$ and `lam2` for $\\lambda_2$.  Give each these keyword arguments a default value of `0.5`.\n",
    "\n",
    "In addition to `__init__`, your class should provide two methods:\n",
    "1. `fit(X, y)` - sets an attribute `bhat` which solves the optimization problem (use the parameters `lam1` and `lam2` provided in initialization).  Use `scipy.optimize.minimize`\n",
    "2. `predict(X)` - predict values of `y` as `X @ bhat`"
   ]
  },
  {
   "cell_type": "code",
   "execution_count": 23,
   "metadata": {},
   "outputs": [],
   "source": [
    "## Your code here\n",
    "class ElasticNet:\n",
    "    \"\"\"\n",
    "    class definition for Elastic Net\n",
    "    \"\"\"\n",
    "    def __init__(self, X, y, lam1 = 0.5, lam2 = 0.5):\n",
    "        \"\"\"\n",
    "        initialization\n",
    "        \"\"\"\n",
    "        self.X = X # get X\n",
    "        self.y = y # get Y\n",
    "        self.lam1 = lam1 # get lambda1\n",
    "        self.lam2 = lam2 # get lambda2\n",
    "        self.n = len(self.y) # extract dimension of y\n",
    "        self.p = self.X.shape[1] # extract dimension of b\n",
    "    \n",
    "    def fit(self, X, y):\n",
    "        \"\"\"\n",
    "        method for fitting an Elastic Net\n",
    "        \"\"\"\n",
    "        n = self.n\n",
    "        p = self.p\n",
    "        x0 = np.zeros(p)\n",
    "        lam1 = self.lam1\n",
    "        lam2 = self.lam2\n",
    "        \n",
    "        def obj_fun_en(b):\n",
    "            \"\"\"\n",
    "            the objective function to minimize\n",
    "            \"\"\"\n",
    "            return (1 / n) * (la.norm(X @ b - y))**2 + lam1 * (la.norm(b, ord = 1)) + lam2 * (la.norm(b))**2\n",
    "    \n",
    "        def jacobian_en(b):\n",
    "            \"\"\"\n",
    "            the Jacobian of the objective function\n",
    "            \"\"\"\n",
    "            return (2 / n) * (b.T @ (X.T @ X) - y.T @ X) + lam1 * np.sign(b.T) + 2 * lam2 * b.T # Jacobian derived\n",
    "        \n",
    "        self.bhat = minimize(obj_fun_en, x0, jac = jacobian_en).x\n",
    "        return self.bhat\n",
    "    \n",
    "    def predict(self, x):\n",
    "        return x @ self.fit(X, y)"
   ]
  },
  {
   "cell_type": "markdown",
   "metadata": {},
   "source": [
    "### Compute the MSE\n",
    "\n",
    "Set `n=50`, `p=100`,`sig=0.1`, and `k=10` to generate a problem using `gen_lstsq_sparse`.  \n",
    "\n",
    "Set `n=50`, `p=100`, and `sig=0.1` to generate a problem using `gen_lstsq`.\n",
    "\n",
    "Make a plot that displays the MSE of the model computed using your `ElasticNet` class using `lam1=lam2` varying between `1e-4` and `1e2` for each of the generated problems (your plot should have 2 lines).  Give your plot a title, axis labels, and a legend."
   ]
  },
  {
   "cell_type": "code",
   "execution_count": 27,
   "metadata": {},
   "outputs": [
    {
     "data": {
      "image/png": "[encoded data removed]",
      "text/plain": [
       "<Figure size 432x288 with 1 Axes>"
      ]
     },
     "metadata": {
      "needs_background": "light"
     },
     "output_type": "display_data"
    }
   ],
   "source": [
    "n = 50\n",
    "p = 100\n",
    "lams = np.linspace(1e-4, 1e2, 100) # create a sequence of values for lambda\n",
    "mses_elastic_net = [] # a list to capture MSEs for elastic net (dense case)\n",
    "for lam in lams:\n",
    "    X, y, b = gen_lstsq(n, p, sig = 0.1) # generate a least squares problem\n",
    "    bhat_elastic_net = ElasticNet(X, y, lam1 = lam, lam2 = lam).fit(X, y) # solve for bhat using sklearn\n",
    "    mses_elastic_net.append(mse(b, bhat_elastic_net)) # append MSE value to the list\n",
    "\n",
    "mses_elastic_sparse = [] # a list to capture MSEs for elastic net (sparse case)\n",
    "for lam in lams:\n",
    "    X, y, b = gen_lstsq_sparse(n, p, sig = 0.1, k = 10) # generate a sparse least squares problem\n",
    "    bhat_elastic_sparse = ElasticNet(X, y, lam1 = lam, lam2 = lam).fit(X, y) # solve for bhat using sklearn\n",
    "    mses_elastic_sparse.append(mse(b, bhat_elastic_sparse)) # append MSE value to the list\n",
    "\n",
    "# Creating the plot\n",
    "plt.semilogx(lams, mses_elastic_net, label = \"Dense\")\n",
    "plt.semilogx(lams, mses_elastic_sparse, label = \"Sparse\")\n",
    "plt.title(\"MSE vs. Lambda\")\n",
    "plt.xlabel(\"$\\lambda$\")\n",
    "plt.ylabel(\"Mean Squared Error\")\n",
    "plt.legend()\n",
    "plt.show()"
   ]
  },
  {
   "cell_type": "markdown",
   "metadata": {},
   "source": [
    "I discover that using an Elastic Net, a combination of ridge and lasso, is very powerful when we are predicting a sparse model. The dense case is much more erroneous, since the lasso component will strongly favor sparsity and incorrectly render coefficients to zero."
   ]
  },
  {
   "cell_type": "markdown",
   "metadata": {},
   "source": [
    "## Problem 4 - Real Data (20 points)\n",
    "\n",
    "In this problem you'll use the [Wine Quality Data Set](https://archive.ics.uci.edu/ml/machine-learning-databases/wine-quality/).  We'll focus on the red wines found in [`winequality-red.csv`](https://archive.ics.uci.edu/ml/machine-learning-databases/wine-quality/winequality-red.csv).  The goal is to train a machine learning model that will predict the wine quality from a variety of other features."
   ]
  },
  {
   "cell_type": "markdown",
   "metadata": {},
   "source": [
    "### Load the data set\n",
    "\n",
    "Load the wines in `windquality-red.csv` into a Pandas data frame. Note that this file has column labels, which are interpreted in the data set documentation:\n",
    "\n",
    "Input variables (based on physicochemical tests):\n",
    "1. fixed acidity\n",
    "2. volatile acidity\n",
    "3. citric acid\n",
    "4. residual sugar\n",
    "5. chlorides\n",
    "6. free sulfur dioxide\n",
    "7. total sulfur dioxide\n",
    "8. density\n",
    "9. pH\n",
    "10. sulphates\n",
    "11. alcohol\n",
    "\n",
    "Output variable (based on sensory data):\n",
    "\n",
    "12. quality (score between 0 and 10)\n",
    "\n",
    "Note that this file uses semi-colons `;` to delimit values.  You can use `delimiter=';'` as a keyword argument."
   ]
  },
  {
   "cell_type": "code",
   "execution_count": 28,
   "metadata": {
    "scrolled": true
   },
   "outputs": [
    {
     "data": {
      "text/html": [
       "<div>\n",
       "<style scoped>\n",
       "    .dataframe tbody tr th:only-of-type {\n",
       "        vertical-align: middle;\n",
       "    }\n",
       "\n",
       "    .dataframe tbody tr th {\n",
       "        vertical-align: top;\n",
       "    }\n",
       "\n",
       "    .dataframe thead th {\n",
       "        text-align: right;\n",
       "    }\n",
       "</style>\n",
       "<table border=\"1\" class=\"dataframe\">\n",
       "  <thead>\n",
       "    <tr style=\"text-align: right;\">\n",
       "      <th></th>\n",
       "      <th>fixed acidity</th>\n",
       "      <th>volatile acidity</th>\n",
       "      <th>citric acid</th>\n",
       "      <th>residual sugar</th>\n",
       "      <th>chlorides</th>\n",
       "      <th>free sulfur dioxide</th>\n",
       "      <th>total sulfur dioxide</th>\n",
       "      <th>density</th>\n",
       "      <th>pH</th>\n",
       "      <th>sulphates</th>\n",
       "      <th>alcohol</th>\n",
       "      <th>quality</th>\n",
       "    </tr>\n",
       "  </thead>\n",
       "  <tbody>\n",
       "    <tr>\n",
       "      <th>0</th>\n",
       "      <td>7.4</td>\n",
       "      <td>0.70</td>\n",
       "      <td>0.00</td>\n",
       "      <td>1.9</td>\n",
       "      <td>0.076</td>\n",
       "      <td>11.0</td>\n",
       "      <td>34.0</td>\n",
       "      <td>0.9978</td>\n",
       "      <td>3.51</td>\n",
       "      <td>0.56</td>\n",
       "      <td>9.4</td>\n",
       "      <td>5</td>\n",
       "    </tr>\n",
       "    <tr>\n",
       "      <th>1</th>\n",
       "      <td>7.8</td>\n",
       "      <td>0.88</td>\n",
       "      <td>0.00</td>\n",
       "      <td>2.6</td>\n",
       "      <td>0.098</td>\n",
       "      <td>25.0</td>\n",
       "      <td>67.0</td>\n",
       "      <td>0.9968</td>\n",
       "      <td>3.20</td>\n",
       "      <td>0.68</td>\n",
       "      <td>9.8</td>\n",
       "      <td>5</td>\n",
       "    </tr>\n",
       "    <tr>\n",
       "      <th>2</th>\n",
       "      <td>7.8</td>\n",
       "      <td>0.76</td>\n",
       "      <td>0.04</td>\n",
       "      <td>2.3</td>\n",
       "      <td>0.092</td>\n",
       "      <td>15.0</td>\n",
       "      <td>54.0</td>\n",
       "      <td>0.9970</td>\n",
       "      <td>3.26</td>\n",
       "      <td>0.65</td>\n",
       "      <td>9.8</td>\n",
       "      <td>5</td>\n",
       "    </tr>\n",
       "    <tr>\n",
       "      <th>3</th>\n",
       "      <td>11.2</td>\n",
       "      <td>0.28</td>\n",
       "      <td>0.56</td>\n",
       "      <td>1.9</td>\n",
       "      <td>0.075</td>\n",
       "      <td>17.0</td>\n",
       "      <td>60.0</td>\n",
       "      <td>0.9980</td>\n",
       "      <td>3.16</td>\n",
       "      <td>0.58</td>\n",
       "      <td>9.8</td>\n",
       "      <td>6</td>\n",
       "    </tr>\n",
       "    <tr>\n",
       "      <th>4</th>\n",
       "      <td>7.4</td>\n",
       "      <td>0.70</td>\n",
       "      <td>0.00</td>\n",
       "      <td>1.9</td>\n",
       "      <td>0.076</td>\n",
       "      <td>11.0</td>\n",
       "      <td>34.0</td>\n",
       "      <td>0.9978</td>\n",
       "      <td>3.51</td>\n",
       "      <td>0.56</td>\n",
       "      <td>9.4</td>\n",
       "      <td>5</td>\n",
       "    </tr>\n",
       "  </tbody>\n",
       "</table>\n",
       "</div>"
      ],
      "text/plain": [
       "   fixed acidity  volatile acidity  citric acid  residual sugar  chlorides  \\\n",
       "0            7.4              0.70         0.00             1.9      0.076   \n",
       "1            7.8              0.88         0.00             2.6      0.098   \n",
       "2            7.8              0.76         0.04             2.3      0.092   \n",
       "3           11.2              0.28         0.56             1.9      0.075   \n",
       "4            7.4              0.70         0.00             1.9      0.076   \n",
       "\n",
       "   free sulfur dioxide  total sulfur dioxide  density    pH  sulphates  \\\n",
       "0                 11.0                  34.0   0.9978  3.51       0.56   \n",
       "1                 25.0                  67.0   0.9968  3.20       0.68   \n",
       "2                 15.0                  54.0   0.9970  3.26       0.65   \n",
       "3                 17.0                  60.0   0.9980  3.16       0.58   \n",
       "4                 11.0                  34.0   0.9978  3.51       0.56   \n",
       "\n",
       "   alcohol  quality  \n",
       "0      9.4        5  \n",
       "1      9.8        5  \n",
       "2      9.8        5  \n",
       "3      9.8        6  \n",
       "4      9.4        5  "
      ]
     },
     "execution_count": 28,
     "metadata": {},
     "output_type": "execute_result"
    }
   ],
   "source": [
    "## Your code here\n",
    "wine = pd.read_csv(\"winequality-red.csv\", delimiter = \";\") # read in the data\n",
    "wine.head() # an initial look"
   ]
  },
  {
   "cell_type": "code",
   "execution_count": 29,
   "metadata": {},
   "outputs": [],
   "source": [
    "# Setting design matrix X and response vector y\n",
    "X = wine.iloc[:, :-1] # design matrix (the first 11 columns)\n",
    "y = wine.iloc[:, -1] # response vector (the 11th column)"
   ]
  },
  {
   "cell_type": "markdown",
   "metadata": {},
   "source": [
    "The first 11 columns will be features for the model (used in the design matrix `X`), and the last column (quality) is the quantity we're tyring to predict (the response `y`).\n",
    "\n",
    "### Split the Data in to Training and Testing Sets\n",
    "\n",
    "Split the data `X, y` into `X_train, y_train, X_test, y_test` using `sklearn`.  Use 70% of the data for training, and 30% of the data for testing.\n"
   ]
  },
  {
   "cell_type": "code",
   "execution_count": 30,
   "metadata": {},
   "outputs": [],
   "source": [
    "## Your code here\n",
    "from sklearn.model_selection import train_test_split\n",
    "# Split the data into train set and test set\n",
    "X_train, X_test, y_train, y_test = train_test_split(X, y, test_size=0.3)"
   ]
  },
  {
   "cell_type": "markdown",
   "metadata": {},
   "source": [
    "### Train a Model and Measure Error\n",
    "\n",
    "Use [`sklearn.linear_model.LinearRegression`](https://scikit-learn.org/stable/modules/generated/sklearn.linear_model.LinearRegression.html#sklearn.linear_model.LinearRegression) to fit a linear regression model to your training data.\n",
    "\n",
    "Use [`sklearn.metrics.mean_squared_error`](https://scikit-learn.org/stable/modules/generated/sklearn.metrics.mean_squared_error.html#sklearn.metrics.mean_squared_error) to compute the MSE on your test set."
   ]
  },
  {
   "cell_type": "code",
   "execution_count": 31,
   "metadata": {},
   "outputs": [
    {
     "data": {
      "text/plain": [
       "0.44910067105336665"
      ]
     },
     "execution_count": 31,
     "metadata": {},
     "output_type": "execute_result"
    }
   ],
   "source": [
    "## Your code here\n",
    "from sklearn.metrics import mean_squared_error\n",
    "regression_model = LinearRegression(fit_intercept = False).fit(X, y) # fit a linear regression\n",
    "y_pred = X_test @ regression_model.coef_ # predictions on the test set\n",
    "mean_squared_error(y_test, y_pred) # mean squared errors for the prediction"
   ]
  },
  {
   "cell_type": "markdown",
   "metadata": {},
   "source": [
    "The trained model seems to be pretty good at predicting the response."
   ]
  }
 ],
 "metadata": {
  "kernelspec": {
   "display_name": "Python 3",
   "language": "python",
   "name": "python3"
  },
  "language_info": {
   "codemirror_mode": {
    "name": "ipython",
    "version": 3
   },
   "file_extension": ".py",
   "mimetype": "text/x-python",
   "name": "python",
   "nbconvert_exporter": "python",
   "pygments_lexer": "ipython3",
   "version": "3.8.5"
  }
 },
 "nbformat": 4,
 "nbformat_minor": 4
}
