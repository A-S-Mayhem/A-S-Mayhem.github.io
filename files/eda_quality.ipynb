{
  "cells": [
    {
      "cell_type": "raw",
      "metadata": {},
      "source": [
        "---\n",
        "title: Sample Quality Check\n",
        "format:\n",
        "  html:\n",
        "    code-fold: true\n",
        "---"
      ],
      "id": "f3ff4eb6"
    },
    {
      "cell_type": "markdown",
      "metadata": {},
      "source": [
        "# **Sample Quality Check - Durham Police Department Arrest Reports**\n",
        "### Introduction\n",
        "<font color=#FF0000>*TBD*</font><br><br>\n",
        "This document contains sample code and instructions on how to evaluate the conditions of data once it is in a table format based on factors such as accuracy, completeness, consistency, reliability and whether it's up to date.\n",
        "- **Quality metrics**: \n",
        "    - Completenes % (Counts & proportions of NAs)\n",
        "        - Which NAs are relevant? Which should we try to impute or delete entirely?\n",
        "    - Consistency (Value Counts, search for typos)\n",
        "        - How to fix inconsistent categorical values?\n",
        "    - Reliability (Perceived vs. Self reported, which values should be consistent?)\n",
        "    - Currency (Dates, how old is too old?)\n",
        "- **Summary statistics**:\n",
        "    - Mean, min, max for continuous variables, crosstabs for discrete\n",
        "    - Cross-comparison counts for discrete categorical variables \n",
        "- **Distributions**:\n",
        "    - Histograms for continuous variables\n",
        "    - Crosstabs, barplots for discrete categoricals variables\n"
      ],
      "id": "b636b338"
    },
    {
      "cell_type": "code",
      "metadata": {},
      "source": [
        "# Load that data in table format:\n",
        "# https://www.practicaldatascience.org/html/pandas_series.html offers a quick tutorial on how to use the Pandas library if you are not familiar.\n",
        "# The most common table data format is csv (comma separated values).\n",
        "# Other common functions you may use to load the data are: pd.read_excel, pd.read_stata.\n",
        "\n",
        "try:\n",
        "    import piplite\n",
        "    await piplite.install(['ipywidgets'])\n",
        "except ImportError:\n",
        "    pass\n",
        "import ipywidgets as widgets\n",
        "import io\n",
        "\n",
        "import pandas as pd\n",
        "\n",
        "pd.set_option(\"display.max_columns\", 500)\n",
        "pd.set_option(\"display.max_rows\", 500)\n",
        "\n",
        "\n",
        "uploader = widgets.FileUpload()\n",
        "display(uploader)"
      ],
      "id": "3bed89d4",
      "execution_count": null,
      "outputs": []
    },
    {
      "cell_type": "code",
      "metadata": {},
      "source": [
        "if(uploader):\n",
        "    uploaded_file = uploader.value[0]\n",
        "    pd.read_csv(io.BytesIO(uploaded_file.content),index_col=[0])"
      ],
      "id": "e170985f",
      "execution_count": null,
      "outputs": []
    },
    {
      "cell_type": "code",
      "metadata": {},
      "source": [
        "# Take a first look:\n",
        "pd.set_option(\"display.max_rows\", None)\n",
        "numRows = widgets.Dropdown(\n",
        "    options=['5', '10', '15', '20'],\n",
        "    value='5',\n",
        "    description='Number:',\n",
        "    disabled=False,\n",
        ")\n",
        "print(\"Select the number of rows you would like to preview\")\n",
        "display(numRows)"
      ],
      "id": "2b5ba481",
      "execution_count": null,
      "outputs": []
    },
    {
      "cell_type": "code",
      "metadata": {},
      "source": [
        "arrests.sample(int(numRows.value))"
      ],
      "id": "c1981f2f",
      "execution_count": null,
      "outputs": []
    }
  ],
  "metadata": {
    "kernelspec": {
      "name": "python3",
      "language": "python",
      "display_name": "Python 3 (ipykernel)"
    }
  },
  "nbformat": 4,
  "nbformat_minor": 5
}