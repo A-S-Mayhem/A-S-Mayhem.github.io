{
 "cells": [
  {
   "cell_type": "markdown",
   "id": "7f3ad864",
   "metadata": {},
   "source": [
    "# Integração Numérica"
   ]
  },
  {
   "cell_type": "markdown",
   "id": "e74129a5",
   "metadata": {},
   "source": [
    "Seja $f:[a,b] \\to \\mathbb{R}$ contínua. A integral de Riemann de $f$ é dada por $$\\int_a^b f(x) \\, dx = \\lim_{n \\to \\infty} \\sum_{i=1}^n f(x_i^*)  \\Delta x_i,$$ onde $x_i \\in \\mathcal{P}$, uma partição de $[a,b]$. A definição anterior não é adequada para fornecer uma regra de quadratura com um bom custo computacional. Assim, apresentaremos algumas regras conhecidas na literatura."
   ]
  },
  {
   "cell_type": "markdown",
   "id": "99081de8",
   "metadata": {},
   "source": [
    "## Regra do Trapézio"
   ]
  },
  {
   "cell_type": "markdown",
   "id": "bfad4145",
   "metadata": {},
   "source": [
    "Agora, vamos implementar a Regra do Trapézio. Essa regra de quadratura é dada por $$\\int_a^b f(x) \\, dx \\approx \\sum_{i=0}^{n-1}\\left( \\frac{h}{2}\\left( f(x_i) + f(x_{i+1}\\right)\\right).$$"
   ]
  },
  {
   "cell_type": "code",
   "execution_count": 5,
   "id": "8c59be7c",
   "metadata": {},
   "outputs": [
    {
     "data": {
      "text/plain": [
       "trapezio (generic function with 1 method)"
      ]
     },
     "execution_count": 5,
     "metadata": {},
     "output_type": "execute_result"
    }
   ],
   "source": [
    "function trapezio(f,a,b,n)\n",
    "    # Set the partition of [a,b]\n",
    "    x = range(a,b,length=n+1);\n",
    "    h = x[2] - x[1];\n",
    "    s = 0.0;\n",
    "    for i in 1 : n\n",
    "        s = s + f(x[i]) + f(x[i+1]);\n",
    "    end\n",
    "    return(h * s / 2.0); \n",
    "\n",
    "end"
   ]
  },
  {
   "cell_type": "markdown",
   "id": "c0ecff6d",
   "metadata": {},
   "source": [
    "Vamos considerar a integração abaixo como um exemplo para testar os algoritmos $$\\int_0^\\pi e^x \\cos(x) \\, dx = -\\frac{(e^\\pi + 1 )}{2}.$$"
   ]
  },
  {
   "cell_type": "code",
   "execution_count": 6,
   "id": "9520b3cb",
   "metadata": {},
   "outputs": [],
   "source": [
    "# testando a função trapezio\n",
    "\n",
    "f(x) = exp(x) * cos(x);\n",
    "a = 0;\n",
    "b = π;\n",
    "n = 16;\n",
    "exato = -(exp(π) + 1) / 2;"
   ]
  },
  {
   "cell_type": "code",
   "execution_count": 7,
   "id": "20fb08cf",
   "metadata": {},
   "outputs": [
    {
     "data": {
      "text/plain": [
       "-12.14800409989683"
      ]
     },
     "execution_count": 7,
     "metadata": {},
     "output_type": "execute_result"
    }
   ],
   "source": [
    "trapezio(f,a,b,n)"
   ]
  }
 ],
 "metadata": {
  "kernelspec": {
   "display_name": "Julia 1.7.3",
   "language": "julia",
   "name": "julia-1.7"
  },
  "language_info": {
   "file_extension": ".jl",
   "mimetype": "application/julia",
   "name": "julia",
   "version": "1.7.3"
  }
 },
 "nbformat": 4,
 "nbformat_minor": 5
}
