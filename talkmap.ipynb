{
 "cells": [
  {
   "cell_type": "markdown",
   "metadata": {},
   "source": [
    "# Leaflet cluster map of talk locations\n",
    "\n",
    "Run this from the _talks/ directory, which contains .md files of all your talks. This scrapes the location YAML field from each .md file, geolocates it with geopy/Nominatim, and uses the getorg library to output data, HTML, and Javascript for a standalone cluster map."
   ]
  },
  {
   "cell_type": "code",
   "execution_count": 10,
   "metadata": {
    "collapsed": false,
    "jupyter": {
     "outputs_hidden": false
    }
   },
   "outputs": [
    {
     "name": "stdout",
     "output_type": "stream",
     "text": [
      "Requirement already satisfied: getorg in c:\\users\\twang\\appdata\\local\\anaconda3\\envs\\fno\\lib\\site-packages (0.3.1)\n",
      "Requirement already satisfied: geopy in c:\\users\\twang\\appdata\\local\\anaconda3\\envs\\fno\\lib\\site-packages (from getorg) (2.4.1)\n",
      "Requirement already satisfied: pygithub in c:\\users\\twang\\appdata\\local\\anaconda3\\envs\\fno\\lib\\site-packages (from getorg) (2.3.0)\n",
      "Requirement already satisfied: retrying in c:\\users\\twang\\appdata\\local\\anaconda3\\envs\\fno\\lib\\site-packages (from getorg) (1.3.4)\n",
      "Requirement already satisfied: geographiclib<3,>=1.52 in c:\\users\\twang\\appdata\\local\\anaconda3\\envs\\fno\\lib\\site-packages (from geopy->getorg) (2.0)\n",
      "Requirement already satisfied: pynacl>=1.4.0 in c:\\users\\twang\\appdata\\local\\anaconda3\\envs\\fno\\lib\\site-packages (from pygithub->getorg) (1.5.0)\n",
      "Requirement already satisfied: requests>=2.14.0 in c:\\users\\twang\\appdata\\local\\anaconda3\\envs\\fno\\lib\\site-packages (from pygithub->getorg) (2.31.0)\n",
      "Requirement already satisfied: pyjwt>=2.4.0 in c:\\users\\twang\\appdata\\local\\anaconda3\\envs\\fno\\lib\\site-packages (from pyjwt[crypto]>=2.4.0->pygithub->getorg) (2.8.0)\n",
      "Requirement already satisfied: typing-extensions>=4.0.0 in c:\\users\\twang\\appdata\\local\\anaconda3\\envs\\fno\\lib\\site-packages (from pygithub->getorg) (4.7.1)\n",
      "Requirement already satisfied: urllib3>=1.26.0 in c:\\users\\twang\\appdata\\local\\anaconda3\\envs\\fno\\lib\\site-packages (from pygithub->getorg) (1.26.18)\n",
      "Requirement already satisfied: Deprecated in c:\\users\\twang\\appdata\\local\\anaconda3\\envs\\fno\\lib\\site-packages (from pygithub->getorg) (1.2.14)\n",
      "Requirement already satisfied: six>=1.7.0 in c:\\users\\twang\\appdata\\local\\anaconda3\\envs\\fno\\lib\\site-packages (from retrying->getorg) (1.16.0)\n",
      "Requirement already satisfied: cryptography>=3.4.0 in c:\\users\\twang\\appdata\\local\\anaconda3\\envs\\fno\\lib\\site-packages (from pyjwt[crypto]>=2.4.0->pygithub->getorg) (41.0.3)\n",
      "Requirement already satisfied: cffi>=1.4.1 in c:\\users\\twang\\appdata\\local\\anaconda3\\envs\\fno\\lib\\site-packages (from pynacl>=1.4.0->pygithub->getorg) (1.16.0)\n",
      "Requirement already satisfied: charset-normalizer<4,>=2 in c:\\users\\twang\\appdata\\local\\anaconda3\\envs\\fno\\lib\\site-packages (from requests>=2.14.0->pygithub->getorg) (2.0.4)\n",
      "Requirement already satisfied: idna<4,>=2.5 in c:\\users\\twang\\appdata\\local\\anaconda3\\envs\\fno\\lib\\site-packages (from requests>=2.14.0->pygithub->getorg) (3.4)\n",
      "Requirement already satisfied: certifi>=2017.4.17 in c:\\users\\twang\\appdata\\local\\anaconda3\\envs\\fno\\lib\\site-packages (from requests>=2.14.0->pygithub->getorg) (2023.11.17)\n",
      "Requirement already satisfied: wrapt<2,>=1.10 in c:\\users\\twang\\appdata\\local\\anaconda3\\envs\\fno\\lib\\site-packages (from Deprecated->pygithub->getorg) (1.14.1)\n",
      "Requirement already satisfied: pycparser in c:\\users\\twang\\appdata\\local\\anaconda3\\envs\\fno\\lib\\site-packages (from cffi>=1.4.1->pynacl>=1.4.0->pygithub->getorg) (2.21)\n",
      "Collecting ipyleaflet\n",
      "  Downloading ipyleaflet-0.19.1-py3-none-any.whl.metadata (5.3 kB)\n",
      "Requirement already satisfied: IPywidgets in c:\\users\\twang\\appdata\\local\\anaconda3\\envs\\fno\\lib\\site-packages (8.0.4)\n",
      "Collecting branca>=0.5.0 (from ipyleaflet)\n",
      "  Downloading branca-0.7.2-py3-none-any.whl.metadata (1.5 kB)\n",
      "Collecting jupyter-leaflet<0.20,>=0.19 (from ipyleaflet)\n",
      "  Downloading jupyter_leaflet-0.19.1-py3-none-any.whl.metadata (2.4 kB)\n",
      "Collecting traittypes<3,>=0.2.1 (from ipyleaflet)\n",
      "  Downloading traittypes-0.2.1-py2.py3-none-any.whl.metadata (1.0 kB)\n",
      "Collecting xyzservices>=2021.8.1 (from ipyleaflet)\n",
      "  Downloading xyzservices-2024.6.0-py3-none-any.whl.metadata (4.0 kB)\n",
      "Requirement already satisfied: ipykernel>=4.5.1 in c:\\users\\twang\\appdata\\local\\anaconda3\\envs\\fno\\lib\\site-packages (from IPywidgets) (6.25.0)\n",
      "Requirement already satisfied: ipython>=6.1.0 in c:\\users\\twang\\appdata\\local\\anaconda3\\envs\\fno\\lib\\site-packages (from IPywidgets) (8.15.0)\n",
      "Requirement already satisfied: traitlets>=4.3.1 in c:\\users\\twang\\appdata\\local\\anaconda3\\envs\\fno\\lib\\site-packages (from IPywidgets) (5.7.1)\n",
      "Requirement already satisfied: widgetsnbextension~=4.0 in c:\\users\\twang\\appdata\\local\\anaconda3\\envs\\fno\\lib\\site-packages (from IPywidgets) (4.0.5)\n",
      "Requirement already satisfied: jupyterlab-widgets~=3.0 in c:\\users\\twang\\appdata\\local\\anaconda3\\envs\\fno\\lib\\site-packages (from IPywidgets) (3.0.9)\n",
      "Requirement already satisfied: jinja2>=3 in c:\\users\\twang\\appdata\\local\\anaconda3\\envs\\fno\\lib\\site-packages (from branca>=0.5.0->ipyleaflet) (3.1.2)\n",
      "Requirement already satisfied: comm>=0.1.1 in c:\\users\\twang\\appdata\\local\\anaconda3\\envs\\fno\\lib\\site-packages (from ipykernel>=4.5.1->IPywidgets) (0.1.2)\n",
      "Requirement already satisfied: debugpy>=1.6.5 in c:\\users\\twang\\appdata\\local\\anaconda3\\envs\\fno\\lib\\site-packages (from ipykernel>=4.5.1->IPywidgets) (1.6.7)\n",
      "Requirement already satisfied: jupyter-client>=6.1.12 in c:\\users\\twang\\appdata\\local\\anaconda3\\envs\\fno\\lib\\site-packages (from ipykernel>=4.5.1->IPywidgets) (8.6.0)\n",
      "Requirement already satisfied: jupyter-core!=5.0.*,>=4.12 in c:\\users\\twang\\appdata\\local\\anaconda3\\envs\\fno\\lib\\site-packages (from ipykernel>=4.5.1->IPywidgets) (5.5.0)\n",
      "Requirement already satisfied: matplotlib-inline>=0.1 in c:\\users\\twang\\appdata\\local\\anaconda3\\envs\\fno\\lib\\site-packages (from ipykernel>=4.5.1->IPywidgets) (0.1.6)\n",
      "Requirement already satisfied: nest-asyncio in c:\\users\\twang\\appdata\\local\\anaconda3\\envs\\fno\\lib\\site-packages (from ipykernel>=4.5.1->IPywidgets) (1.5.6)\n",
      "Requirement already satisfied: packaging in c:\\users\\twang\\appdata\\local\\anaconda3\\envs\\fno\\lib\\site-packages (from ipykernel>=4.5.1->IPywidgets) (23.1)\n",
      "Requirement already satisfied: psutil in c:\\users\\twang\\appdata\\local\\anaconda3\\envs\\fno\\lib\\site-packages (from ipykernel>=4.5.1->IPywidgets) (5.9.0)\n",
      "Requirement already satisfied: pyzmq>=20 in c:\\users\\twang\\appdata\\local\\anaconda3\\envs\\fno\\lib\\site-packages (from ipykernel>=4.5.1->IPywidgets) (25.1.0)\n",
      "Requirement already satisfied: tornado>=6.1 in c:\\users\\twang\\appdata\\local\\anaconda3\\envs\\fno\\lib\\site-packages (from ipykernel>=4.5.1->IPywidgets) (6.3.3)\n",
      "Requirement already satisfied: backcall in c:\\users\\twang\\appdata\\local\\anaconda3\\envs\\fno\\lib\\site-packages (from ipython>=6.1.0->IPywidgets) (0.2.0)\n",
      "Requirement already satisfied: decorator in c:\\users\\twang\\appdata\\local\\anaconda3\\envs\\fno\\lib\\site-packages (from ipython>=6.1.0->IPywidgets) (5.1.1)\n",
      "Requirement already satisfied: jedi>=0.16 in c:\\users\\twang\\appdata\\local\\anaconda3\\envs\\fno\\lib\\site-packages (from ipython>=6.1.0->IPywidgets) (0.18.1)\n",
      "Requirement already satisfied: pickleshare in c:\\users\\twang\\appdata\\local\\anaconda3\\envs\\fno\\lib\\site-packages (from ipython>=6.1.0->IPywidgets) (0.7.5)\n",
      "Requirement already satisfied: prompt-toolkit!=3.0.37,<3.1.0,>=3.0.30 in c:\\users\\twang\\appdata\\local\\anaconda3\\envs\\fno\\lib\\site-packages (from ipython>=6.1.0->IPywidgets) (3.0.36)\n",
      "Requirement already satisfied: pygments>=2.4.0 in c:\\users\\twang\\appdata\\local\\anaconda3\\envs\\fno\\lib\\site-packages (from ipython>=6.1.0->IPywidgets) (2.15.1)\n",
      "Requirement already satisfied: stack-data in c:\\users\\twang\\appdata\\local\\anaconda3\\envs\\fno\\lib\\site-packages (from ipython>=6.1.0->IPywidgets) (0.2.0)\n",
      "Requirement already satisfied: colorama in c:\\users\\twang\\appdata\\local\\anaconda3\\envs\\fno\\lib\\site-packages (from ipython>=6.1.0->IPywidgets) (0.4.6)\n",
      "Requirement already satisfied: parso<0.9.0,>=0.8.0 in c:\\users\\twang\\appdata\\local\\anaconda3\\envs\\fno\\lib\\site-packages (from jedi>=0.16->ipython>=6.1.0->IPywidgets) (0.8.3)\n",
      "Requirement already satisfied: MarkupSafe>=2.0 in c:\\users\\twang\\appdata\\local\\anaconda3\\envs\\fno\\lib\\site-packages (from jinja2>=3->branca>=0.5.0->ipyleaflet) (2.1.1)\n",
      "Requirement already satisfied: python-dateutil>=2.8.2 in c:\\users\\twang\\appdata\\local\\anaconda3\\envs\\fno\\lib\\site-packages (from jupyter-client>=6.1.12->ipykernel>=4.5.1->IPywidgets) (2.8.2)\n",
      "Requirement already satisfied: platformdirs>=2.5 in c:\\users\\twang\\appdata\\local\\anaconda3\\envs\\fno\\lib\\site-packages (from jupyter-core!=5.0.*,>=4.12->ipykernel>=4.5.1->IPywidgets) (3.10.0)\n",
      "Requirement already satisfied: pywin32>=300 in c:\\users\\twang\\appdata\\local\\anaconda3\\envs\\fno\\lib\\site-packages (from jupyter-core!=5.0.*,>=4.12->ipykernel>=4.5.1->IPywidgets) (305.1)\n",
      "Requirement already satisfied: wcwidth in c:\\users\\twang\\appdata\\local\\anaconda3\\envs\\fno\\lib\\site-packages (from prompt-toolkit!=3.0.37,<3.1.0,>=3.0.30->ipython>=6.1.0->IPywidgets) (0.2.5)\n",
      "Requirement already satisfied: executing in c:\\users\\twang\\appdata\\local\\anaconda3\\envs\\fno\\lib\\site-packages (from stack-data->ipython>=6.1.0->IPywidgets) (0.8.3)\n",
      "Requirement already satisfied: asttokens in c:\\users\\twang\\appdata\\local\\anaconda3\\envs\\fno\\lib\\site-packages (from stack-data->ipython>=6.1.0->IPywidgets) (2.0.5)\n",
      "Requirement already satisfied: pure-eval in c:\\users\\twang\\appdata\\local\\anaconda3\\envs\\fno\\lib\\site-packages (from stack-data->ipython>=6.1.0->IPywidgets) (0.2.2)\n",
      "Requirement already satisfied: six>=1.5 in c:\\users\\twang\\appdata\\local\\anaconda3\\envs\\fno\\lib\\site-packages (from python-dateutil>=2.8.2->jupyter-client>=6.1.12->ipykernel>=4.5.1->IPywidgets) (1.16.0)\n",
      "Downloading ipyleaflet-0.19.1-py3-none-any.whl (30 kB)\n",
      "Downloading branca-0.7.2-py3-none-any.whl (25 kB)\n",
      "Downloading jupyter_leaflet-0.19.1-py3-none-any.whl (1.1 MB)\n",
      "   ---------------------------------------- 0.0/1.1 MB ? eta -:--:--\n",
      "   ---------------------------------------  1.1/1.1 MB 22.4 MB/s eta 0:00:01\n",
      "   ---------------------------------------- 1.1/1.1 MB 16.9 MB/s eta 0:00:00\n",
      "Downloading traittypes-0.2.1-py2.py3-none-any.whl (8.6 kB)\n",
      "Downloading xyzservices-2024.6.0-py3-none-any.whl (83 kB)\n",
      "   ---------------------------------------- 0.0/83.9 kB ? eta -:--:--\n",
      "   ---------------------------------------- 83.9/83.9 kB ? eta 0:00:00\n",
      "Installing collected packages: xyzservices, traittypes, jupyter-leaflet, branca, ipyleaflet\n",
      "Successfully installed branca-0.7.2 ipyleaflet-0.19.1 jupyter-leaflet-0.19.1 traittypes-0.2.1 xyzservices-2024.6.0\n"
     ]
    }
   ],
   "source": [
    "!pip install getorg --upgrade\n",
    "import glob\n",
    "import getorg\n",
    "from geopy import Nominatim\n",
    "!pip install ipyleaflet IPywidgets "
   ]
  },
  {
   "cell_type": "code",
   "execution_count": 11,
   "metadata": {
    "collapsed": false,
    "jupyter": {
     "outputs_hidden": false
    }
   },
   "outputs": [],
   "source": [
    "g = glob.glob(\"_talks/*.md\")"
   ]
  },
  {
   "cell_type": "code",
   "execution_count": 12,
   "metadata": {},
   "outputs": [],
   "source": [
    "# geocoder = Nominatim()\n",
    "geocoder = Nominatim(user_agent=\"personal_website_tiexingwang\")\n",
    "\n",
    "location_dict = {}\n",
    "location = \"\"\n",
    "permalink = \"\"\n",
    "title = \"\""
   ]
  },
  {
   "cell_type": "code",
   "execution_count": 13,
   "metadata": {
    "collapsed": false,
    "jupyter": {
     "outputs_hidden": false
    }
   },
   "outputs": [
    {
     "name": "stdout",
     "output_type": "stream",
     "text": [
      "Viena, Austria \n",
      " Wien, Österreich\n",
      "San Antonio, USA \n",
      " San Antonio, Bexar County, Texas, United States\n",
      "Houston, USA \n",
      " Houston, Harris County, Texas, United States\n",
      "London, UK \n",
      " London, Greater London, England, United Kingdom\n",
      "Rotterdam, Netherlands \n",
      " Rotterdam, Zuid-Holland, Nederland\n"
     ]
    }
   ],
   "source": [
    "\n",
    "for file in g:\n",
    "    with open(file, 'r') as f:\n",
    "        lines = f.read()\n",
    "        if lines.find('location: \"') > 1:\n",
    "            loc_start = lines.find('location: \"') + 11\n",
    "            lines_trim = lines[loc_start:]\n",
    "            loc_end = lines_trim.find('\"')\n",
    "            location = lines_trim[:loc_end]\n",
    "                            \n",
    "           \n",
    "        location_dict[location] = geocoder.geocode(location)\n",
    "        print(location, \"\\n\", location_dict[location])\n"
   ]
  },
  {
   "cell_type": "code",
   "execution_count": 14,
   "metadata": {
    "collapsed": false,
    "jupyter": {
     "outputs_hidden": false
    }
   },
   "outputs": [
    {
     "name": "stdout",
     "output_type": "stream",
     "text": [
      "IPywidgets and ipyleaflet support disabled.\n"
     ]
    },
    {
     "data": {
      "text/plain": [
       "'Written map to ../talkmap/'"
      ]
     },
     "execution_count": 14,
     "metadata": {},
     "output_type": "execute_result"
    }
   ],
   "source": [
    "m = getorg.orgmap.create_map_obj()\n",
    "print(m)\n",
    "getorg.orgmap.output_html_cluster_map(location_dict, folder_name=\"../talkmap\", hashed_usernames=False)"
   ]
  },
  {
   "cell_type": "code",
   "execution_count": null,
   "metadata": {
    "collapsed": true,
    "jupyter": {
     "outputs_hidden": true
    }
   },
   "outputs": [],
   "source": []
  }
 ],
 "metadata": {
  "anaconda-cloud": {},
  "kernelspec": {
   "display_name": "Python 3 (ipykernel)",
   "language": "python",
   "name": "python3"
  },
  "language_info": {
   "codemirror_mode": {
    "name": "ipython",
    "version": 3
   },
   "file_extension": ".py",
   "mimetype": "text/x-python",
   "name": "python",
   "nbconvert_exporter": "python",
   "pygments_lexer": "ipython3",
   "version": "3.11.5"
  }
 },
 "nbformat": 4,
 "nbformat_minor": 4
}
