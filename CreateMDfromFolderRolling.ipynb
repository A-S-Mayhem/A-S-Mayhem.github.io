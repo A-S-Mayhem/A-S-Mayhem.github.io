{
 "cells": [
  {
   "cell_type": "code",
   "execution_count": 1,
   "metadata": {},
   "outputs": [],
   "source": [
    "import sys, os\n",
    "from glob import glob"
   ]
  },
  {
   "cell_type": "code",
   "execution_count": 2,
   "metadata": {},
   "outputs": [],
   "source": [
    "\n",
    "folders = glob(\"./files/personal-blog/*/\")"
   ]
  },
  {
   "cell_type": "code",
   "execution_count": 33,
   "metadata": {},
   "outputs": [],
   "source": [
    "dummy = True\n",
    "for folder in folders:\n",
    "    md_file = open(\"./_rollings/\" + folder[22:-1] + \".md\", \"w\")\n",
    "\n",
    "    textdate = folder[22:-1]\n",
    "\n",
    "    md_file.write(\"---\")\n",
    "    md_file.write(\"\\n\")\n",
    "    md_file.write(\"title: ' Post \" + textdate + \" ' \")\n",
    "    md_file.write(\"\\n\")\n",
    "    md_file.write(\"date: \" + textdate)\n",
    "    md_file.write(\"\\n\")\n",
    "    md_file.write(\"permalink: /rollings/\" +\n",
    "                  textdate[0:4] + \n",
    "                  \"/\" +\n",
    "                  textdate[5:7] +\n",
    "                  \"/\" + \"Post-\" + \n",
    "                  textdate +\n",
    "                  \"/\")\n",
    "    md_file.write(\"\\n\")\n",
    "    md_file.write(\"tags:\")\n",
    "    md_file.write(\"\\n\")\n",
    "    md_file.write(\"  - TAG1\")\n",
    "    md_file.write(\"\\n\")\n",
    "    md_file.write(\"  - TAG2\")\n",
    "    md_file.write(\"\\n\")\n",
    "    md_file.write(\"  - TAG3\")\n",
    "    md_file.write(\"\\n\")\n",
    "    md_file.write(\"---\")\n",
    "    md_file.write(\"\\n\")\n",
    "\n",
    "    md_file.write(\"\\n\")    \n",
    "    md_file.write(\"Daily Post \" + textdate)\n",
    "    md_file.write(\"\\n\")\n",
    "    md_file.write(\"\\n\")\n",
    "    \n",
    "    md_file.write(\"Daily Post\")\n",
    "    md_file.write(\"\\n\")\n",
    "    md_file.write(\"======\")\n",
    "    md_file.write(\"\\n\")\n",
    "    md_file.write(\"\\n\")\n",
    "    md_file.write(\"Some pictures\")\n",
    "    md_file.write(\"\\n\")\n",
    "    md_file.write(\"------\")\n",
    "    md_file.write(\"\\n\")\n",
    "    md_file.write(\"\\n\")\n",
    "\n",
    "    files = sorted(os.listdir(folder))\n",
    "    for file in files:\n",
    "        if \".\" in file:\n",
    "            # Add image\n",
    "            md_file.write(\"![img](/files/personal-blog/\" + textdate + \"/\" +\n",
    "                          file + \")\")\n",
    "            md_file.write(\"\\n\")            \n",
    "        else:\n",
    "            # Add youtube video\n",
    "            videofile = open(folder + file, \"r\")\n",
    "            urlvideo = videofile.read()\n",
    "            stringurlvid = urlvideo[urlvideo.index('/',8)+1:-1]\n",
    "            videofile.close()            \n",
    "            \n",
    "            md_file.write('<iframe src=\"https://www.youtube.com/embed/' + \n",
    "                          stringurlvid +\n",
    "                          '\" frameborder=\"0\" allow=\"accelerometer; autoplay; clipboard-write; encrypted-media; gyroscope; picture-in-picture\" allowfullscreen></iframe>')\n",
    "            md_file.write(\"\\n\")            \n",
    "        \n",
    "        md_file.write(\"\\n\")\n",
    "        \n",
    "    md_file.close()"
   ]
  },
  {
   "cell_type": "code",
   "execution_count": 21,
   "metadata": {},
   "outputs": [
    {
     "data": {
      "text/plain": [
       "'https://youtu.be/iR7OtNrACpc\\n'"
      ]
     },
     "execution_count": 21,
     "metadata": {},
     "output_type": "execute_result"
    }
   ],
   "source": [
    "urlvideo"
   ]
  },
  {
   "cell_type": "code",
   "execution_count": null,
   "metadata": {},
   "outputs": [],
   "source": []
  }
 ],
 "metadata": {
  "kernelspec": {
   "display_name": "Python 3",
   "language": "python",
   "name": "python3"
  },
  "language_info": {
   "codemirror_mode": {
    "name": "ipython",
    "version": 3
   },
   "file_extension": ".py",
   "mimetype": "text/x-python",
   "name": "python",
   "nbconvert_exporter": "python",
   "pygments_lexer": "ipython3",
   "version": "3.8.6"
  }
 },
 "nbformat": 4,
 "nbformat_minor": 4
}
