{
 "cells": [
  {
   "cell_type": "markdown",
   "metadata": {
    "deletable": true,
    "editable": true
   },
   "source": [
    "# Publications markdown generator for academicpages\n",
    "\n",
    "Takes a TSV of publications with metadata and converts them for use with [academicpages.github.io](academicpages.github.io). This is an interactive Jupyter notebook ([see more info here](http://jupyter-notebook-beginner-guide.readthedocs.io/en/latest/what_is_jupyter.html)). The core python code is also in `publications.py`. Run either from the `markdown_generator` folder after replacing `publications.tsv` with one containing your data.\n",
    "\n",
    "TODO: Make this work with BibTex and other databases of citations, rather than Stuart's non-standard TSV format and citation style.\n"
   ]
  },
  {
   "cell_type": "markdown",
   "metadata": {},
   "source": [
    "## Data format\n",
    "\n",
    "The TSV needs to have the following columns: pub_date, title, venue, excerpt, citation, site_url, and paper_url, with a header at the top. \n",
    "\n",
    "- `excerpt` and `paper_url` can be blank, but the others must have values. \n",
    "- `pub_date` must be formatted as YYYY-MM-DD.\n",
    "- `url_slug` will be the descriptive part of the .md file and the permalink URL for the page about the paper. The .md file will be `YYYY-MM-DD-[url_slug].md` and the permalink will be `https://[yourdomain]/publications/YYYY-MM-DD-[url_slug]`\n",
    "\n",
    "This is how the raw file looks (it doesn't look pretty, use a spreadsheet or other program to edit and create)."
   ]
  },
  {
   "cell_type": "code",
   "execution_count": 31,
   "metadata": {
    "collapsed": false
   },
   "outputs": [
    {
     "name": "stdout",
     "output_type": "stream",
     "text": [
      "pub_date\ttitle\tvenue\texcerpt\tcitation\turl_slug\tpaper_url\n",
      "2021-08-04\tTask offloading in Edge and Cloud Computing: A survey on mathematical, artificial intelligence and control theory solutions\tComputer Networks\tNext generation communication networks are expected to accommodate a high number of new and resource-voracious applications that can be offered to a large range of end users. Even though end devices are becoming more powerful, the available local resources cannot cope with the requirements of these applications. This has created a new challenge called task offloading, where computation intensive tasks need to be offloaded to more resource powerful remote devices. Naturally, the Cloud Computing is a well-tested infrastructure that can facilitate the task offloading. However, Cloud Computing as a centralized and distant infrastructure creates significant communication delays that cannot satisfy the requirements of the emerging delay-sensitive applications. To this end, the concept of Edge Computing has been proposed, where the Cloud Computing capabilities are repositioned closer to the end devices …\tSaeik, F., Avgeris, M., Spatharakis, D., Santi, N., Dechouniotis, D., Violos, J., ... & Papavassiliou, S. (2021). \"Task offloading in Edge and Cloud Computing: A survey on mathematical, artificial intelligence and control theory solutions.\" <i>Computer Networks</i>. 195, 108177.\ttask2021\thttps://hal.science/hal-03243071/document\n",
      "2018-06-18\tEdge computing in IoT ecosystems for UAV-enabled early fire detection\t2018 IEEE international conference on smart computing (SMARTCOMP)\tUnmanned Aerial Vehicles (UAV) facilitate the development of Internet of Things (IoT) ecosystems for smart city and smart environment applications. This paper proposes the adoption of Edge and Fog computing principles to the UAV based forest fire detection application domain through a hierarchical architecture. This three-layer ecosystem combines the powerful resources of cloud computing, the rich resources of fog computing and the sensing capabilities of the UAVs. These layers efficiently cooperate to address the key challenges imposed by the early forest fire detection use case. Initial experimental evaluations measuring crucial performance metrics indicate that critical resources, such as CPU/RAM, battery life and network resources, can be efficiently managed and dynamically allocated by the proposed approach.\tKalatzis, N., Avgeris, M., Dechouniotis, D., Papadakis-Vlachopapadopoulos, K., Roussaki, I., & Papavassiliou, S. (2018, June). \"Edge computing in IoT ecosystems for UAV-enabled early fire detection.\" <i>2018 IEEE international conference on smart computing (SMARTCOMP)</i>. (pp. 106-114). IEEE.\tedge2018\thttps://www.researchgate.net/profile/Marios-Avgeris/publication/325967110_Edge_Computing_in_IoT_ecosystems_for_UAV-enabled_Early_Fire_Detection/links/5c45a1a5a6fdccd6b5bd09dc/Edge-Computing-in-IoT-ecosystems-for-UAV-enabled-Early-Fire-Detection.pdf\n",
      "2019-02-03\tWhere there is fire there is smoke: A scalable edge computing framework for early fire detection\tSensors\tA Cyber-Physical Social System (CPSS) tightly integrates computer systems with the physical world and human activities. In this article, a three-level CPSS for early fire detection is presented to assist public authorities to promptly identify and act on emergency situations. At the bottom level, the system’s architecture involves IoT nodes enabled with sensing and forest monitoring capabilities. Additionally, in this level, the crowd sensing paradigm is exploited to aggregate environmental information collected by end user devices present in the area of interest. Since the IoT nodes suffer from limited computational energy resources, an Edge Computing Infrastructure, at the middle level, facilitates the offloaded data processing regarding possible fire incidents. At the top level, a decision-making service deployed on Cloud nodes integrates data from various sources, including users’ information on social media, and evaluates the situation criticality. In our work, a dynamic resource scaling mechanism for the Edge Computing Infrastructure is designed to address the demanding Quality of Service (QoS) requirements of this IoT-enabled time and mission critical application. The experimental results indicate that the vertical and horizontal scaling on the Edge Computing layer is beneficial for both the performance and the energy consumption of the IoT nodes.\tAvgeris, M., Spatharakis, D., Dechouniotis, D., Kalatzis, N., Roussaki, I., & Papavassiliou, S. (2019). \"Where there is fire there is smoke: A scalable edge computing framework for early fire detection.\" <i>Sensors</i>. 19(3), 639.\tsmoke2019\thttps://www.mdpi.com/1424-8220/19/3/639/pdf\n",
      "2019-01-27\tSemantic interoperability for iot platforms in support of decision making: an experiment on early wildfire detection\tSensors\tOne of the main obstacles towards the promotion of IoT adoption and innovation is data interoperability. Facilitating cross-domain interoperability is expected to be the core element for the realisation of the next generation of the IoT computing paradigm that is already taking shape under the name of Internet of Everything (IoE). In this article, an analysis of the current status on IoT semantic interoperability is presented that leads to the identification of a set of generic requirements that act as fundamental design principles for the specification of interoperability enabling solutions. In addition, an extension of NGSIv2 data model and API (de-facto) standards is proposed aiming to bridge the gap among IoT and social media and hence to integrate user communities with cyber-physical systems. These specifications have been utilised for the implementation of the IoT2Edge interoperability enabling mechanism which is evaluated within the context of a catastrophic wildfire incident that took place in Greece on July 2018. Weather data, social media activity, video recordings from the fire, sensor measurements and satellite data, linked to the location and the time of this fire incident have been collected, modeled in a uniform manner and fed to an early fire detection decision support system. The findings of the experiment certify that achieving minimum data interoperability with light-weight, plug-n-play mechanisms can be realised with significant benefits for our society.\tKalatzis, N., Routis, G., Marinellis, Y., Avgeris, M., Roussaki, I., Papavassiliou, S., & Anagnostou, M. (2019). \"Semantic interoperability for iot platforms in support of decision making: an experiment on early wildfire detection.\" <i>Sensors</i>. 19(3), 528.\tsemantic2019\thttps://www.mdpi.com/1424-8220/19/3/528/htm\n",
      "2019-04-03\tAdaptive resource allocation for computation offloading: A control-theoretic approach\tACM Transactions on Internet Technology (TOIT)\tAlthough mobile devices today have powerful hardware and networking capabilities, they fall short when it comes to executing compute-intensive applications. Computation offloading (i.e., delegating resource-consuming tasks to servers located at the edge of the network) contributes toward moving to a mobile cloud computing paradigm. In this work, a two-level resource allocation and admission control mechanism for a cluster of edge servers offers an alternative choice to mobile users for executing their tasks. At the lower level, the behavior of edge servers is modeled by a set of linear systems, and linear controllers are designed to meet the system’s constraints and quality of service metrics, whereas at the upper level, an optimizer tackles the problems of load balancing and application placement toward the maximization of the number the offloaded requests. The evaluation illustrates the effectiveness of the …\tAvgeris, M., Dechouniotis, D., Athanasopoulos, N., & Papavassiliou, S. (2019). \"Adaptive resource allocation for computation offloading: A control-theoretic approach.\" <i>ACM Transactions on Internet Technology (TOIT)</i>. 19(2), 1-20.\ttoit2019\thttps://pure.qub.ac.uk/files/159624593/acm_latest_without_copyrights_v2.pdf\n",
      "2020-10-01\tMeson: Optimized cross-slice communication for edge computing\tIEEE Communications Magazine\tNetwork slicing is set out to address crucial needs of 5G, including support for multi-service provisioning. Focusing on resource and performance isolation, as well as security concerns associated with multi-tenancy, existing management and orchestration (MANO) frameworks typically offer network slices in the form of isolated bundles of computing, storage, and network resources across the network infrastructure, including the edge. However, network slice instantiation in its prevailing form raises significant concerns related to performance and resource utilization, hindering potential business-to-business (B2B) synergies. In this article, we discuss a new aspect of network slicing, optimized cross-slice communication (CSC). We argue that multi-tenancy and service co-location open up unique opportunities for B2B interactions, inter-service communications, and service composition, especially in the domain of edge …\tPapathanail, G., Pentelas, A., Fotoglou, I., Papadimitriou, P., Katsaros, K. V., Theodorou, V., ... & Papavassiliou, S. (2020). \"Meson: Optimized cross-slice communication for edge computing.\" <i>IEEE Communications Magazine</i>. 58(10), 23-28.\tmeson2020\thttps://ruomo.lib.uom.gr/bitstream/7000/861/1/IEEE_Communication_magazine.pdf\n",
      "2020-11-02\tA switching offloading mechanism for path planning and localization in robotic applications\t2020 International Conferences on Internet of Things (iThings) and IEEE Green Computing and Communications (GreenCom) and IEEE Cyber, Physical and Social Computing (CPSCom) and IEEE Smart Data (SmartData) and IEEE Congress on Cybermatics (Cybermatics)\tIndustry 4.0 applications rely on mobile robotic agents that execute many complex tasks that have strict safety and time requirements. Under this setting, the Edge Computing service delivery model allows the robotic agents to offload their computationally intensive tasks to powerful computing infrastructure in their vicinity. In this study, we propose a novel switching offloading mechanism for such robotic applications. In particular, we design opportunistic offloading strategies for the path planning and localization services of mobile robots. The offloading decision is based on the uncertainty of the robot's pose, the resource availability at the Edge of the network and the difficulty of the path planning. Our switching offloading framework is implemented and evaluated using a robot in a real Edge Computing testbed, where the trade-off between execution time and the successful completion of the robot trajectory is highlighted.\tSpatharakis, D., Avgeris, M., Athanasopoulos, N., Dechouniotis, D., & Papavassiliou, S. (2020, November). \"A switching offloading mechanism for path planning and localization in robotic applications.\" <i>2020 International Conferences on Internet of Things (iThings) and IEEE Green Computing and Communications (GreenCom) and IEEE Cyber, Physical and Social Computing (CPSCom) and IEEE Smart Data (SmartData) and IEEE Congress on Cybermatics (Cybermatics)</i>. (pp. 77-84). IEEE.\tswitching2020\thttps://pure.qub.ac.uk/files/217751250/1570660873_1_.pdf\n",
      "2022-01-15\tENERDGE: Distributed energy-aware resource allocation at the edge\tSensors\tMobile applications are progressively becoming more sophisticated and complex, increasing their computational requirements. Traditional offloading approaches that use exclusively the Cloud infrastructure are now deemed unsuitable due to the inherent associated delay. Edge Computing can address most of the Cloud limitations at the cost of limited available resources. This bottleneck necessitates an efficient allocation of offloaded tasks from the mobile devices to the Edge. In this paper, we consider a task offloading setting with applications of different characteristics and requirements, and propose an optimal resource allocation framework leveraging the amalgamation of the edge resources. To balance the trade-off between retaining low total energy consumption, respecting end-to-end delay requirements and load balancing at the Edge, we additionally introduce a Markov Random Field based mechanism for the distribution of the excess workload. The proposed approach investigates a realistic scenario, including different categories of mobile applications, edge devices with different computational capabilities, and dynamic wireless conditions modeled by the dynamic behavior and mobility of the users. The framework is complemented with a prediction mechanism that facilitates the orchestration of the physical resources. The efficiency of the proposed scheme is evaluated via modeling and simulation and is shown to outperform a well-known task offloading solution, as well as a more recent one.\tAvgeris, M., Spatharakis, D., Dechouniotis, D., Leivadeas, A., Karyotis, V., & Papavassiliou, S. (2022). \"ENERDGE: Distributed energy-aware resource allocation at the edge.\" <i>Sensors</i>. 22(2), 660.\tenerdge2022\thttps://www.mdpi.com/1424-8220/22/2/660\n",
      "2019-08-26\tSingle vision-based self-localization for autonomous robotic agents\t2019 7th International Conference on Future Internet of Things and Cloud Workshops (FiCloudW)\tWe present a single vision-based, self-localization method for autonomous mobile robots in a known, indoor environment. This absolute localization method is landmark assisted, therefore, we propose an algorithm that requires the extraction of a single landmark feature i.e., the length of a known edge. Our technique is based on measuring the distance from two distinct, arbitrarily positioned landmarks in the robot's environment, the locations of which are known a priori. A single camera vision system is used to perform distance estimation. The developed framework is applied to tracking a robot's pose, i.e., its position and orientation, in a Cartesian coordinate system. The position of the robot is estimated using a bilateration method, while its orientation calculation utilizes tools from projective geometry. The validity and feasibility of the approach are demonstrated through experiments.\tAvgeris, M., Spatharakis, D., Athanasopoulos, N., Dechouniotis, D., & Papavassiliou, S. (2019, August). \"Single vision-based self-localization for autonomous robotic agents.\" <i>2019 7th International Conference on Future Internet of Things and Cloud Workshops (FiCloudW)</i>. (pp. 123-129). IEEE.\tsingle2019\thttps://pureadmin.qub.ac.uk/ws/files/175176852/AIRS2_19_paper_6_1_.pdf\n",
      "2017-09-14\tSemantic Resource Management of Federated IoT Testbeds\tAd-hoc, Mobile, and Wireless Networks: 16th International Conference on Ad Hoc Networks and Wireless, ADHOC-NOW 2017\tTestbeds and experimental network facilities accelerate the expansion of disruptive Internet services and support their evolution. The integration of IoT technologies in the context of Unmanned Vehicles (UxVs) and their deployment in federated, real–world testbeds introduce various challenging research issues. This paper presents the Semantic Aggregate Manager (SAM) that exploits semantic technologies for modeling and managing resources of federated IoT Testbeds. SAM introduces new semantics–based features tailored to the needs of IoT enabled UxVs, but on the same time allows the compatibility with existing legacy, “de facto” standardised protocols, currently utilized by multiple federated testbed management systems. The proposed framework is currently being deployed in order to be evaluated in real–world testbeds across several sites in Europe.\tAvgeris, M., Kalatzis, N., Dechouniotis, D., Roussaki, I., & Papavassiliou, S. (2017). \"Semantic Resource Management of Federated IoT Testbeds.\" <i>Ad-hoc, Mobile, and Wireless Networks: 16th International Conference on Ad Hoc Networks and Wireless, ADHOC-NOW 2017</i>. (pp. 25-38). Springer International Publishing.\tsemantic2017\thttps://www.researchgate.net/profile/Dimitrios-Dechouniotis/publication/319644274_Semantic_Resource_Management_of_Federated_IoT_Testbeds/links/5a155009aca27273c9eb283d/Semantic-Resource-Management-of-Federated-IoT-Testbeds.pdf\n",
      "2022-01-07\tResource-aware estimation and control for edge robotics: A set-based approach\tIEEE Internet of Things Journal\tThe evolution of the Industrial Internet of Things (IIoT) and edge computing enables resource-constrained mobile robots to offload the computationally intensive localization algorithms. Naturally, utilizing the remote resources of an edge server to offload these tasks encounters the challenge of a joint co-design in communication, control, estimation, and computing infrastructure. We introduce a set-based estimation offloading framework, for the specific case of the navigation of a unicycle robot toward a target position. The robot is subject to modeling and measurement uncertainties, and the estimation set is calculated using overapproximation techniques that alleviate additional computations. A switching set-based control mechanism provides accurate navigation and triggers more precise estimation algorithms when needed. To guarantee the convergence of the system and optimize the utilization of remote resources …\tSpatharakis, D., Avgeris, M., Athanasopoulos, N., Dechouniotis, D., & Papavassiliou, S. (2022). \"Resource-aware estimation and control for edge robotics: A set-based approach.\" <i>IEEE Internet of Things Journal</i>. 10(3), 2003-2020.\tresource2022\thttps://pureadmin.qub.ac.uk/ws/portalfiles/portal/275099607/IEEE_Journal_IoT.pdf\n",
      "2018-10-23\tUtility decisions for QoE-QoS driven applications in practical mobile broadband networks\t2018 Global Information Infrastructure and Networking Symposium (GIIS)\tThis paper focuses on the design, experimental validation and evaluation of a utility based decision-making approach for wireless (mobile) broadband networks. We extend a utility function framework incorporating flow and user related parameters to be driven by both QoE, QoS parameters and utilize the (mobile) broadband infrastructure of the EU-project MONROE, in order to perform extensive realistic experiments, revealing the operation of the utility function design and quantifying its potentials. We utilize our decision-making approach in two QoE-QoS related applications, namely access network selection and load-balancing in wireless networks with multiple available network interface capabilities. Through experimentation and analysis we investigate the impact of various network aspects, such as mobility, network provider, etc., on access interface switching and relevant applications. Such results can be …\tKaryotis, V., Avgeris, M., Michaloliakos, M., Tsagkaris, K., & Papavassiliou, S. (2018, October). \"Utility decisions for QoE-QoS driven applications in practical mobile broadband networks.\" <i>2018 Global Information Infrastructure and Networking Symposium (GIIS)</i>. (pp. 1-5). IEEE.\tutility2018\thttp://academicpages.github.io/files/paper3.pdf\n",
      "2021-09-07\tEnabling industrial network slicing orchestration: A collaborative edge robotics use case\t2021 IEEE International Mediterranean Conference on Communications and Networking (MeditCom)\tThe consolidation of 5G technologies makes the Industry 4.0 establishment more feasible than ever. Network Function Virtualization (NFV) and Edge Computing aim at managing the multi-vendor industrial and network infrastructure and guaranteeing the high-performance requirements of industrial processes. Furthermore, industrial production workflows require the collaboration between robots, actuators and sensors in the factory floor. In this direction, Network Slicing allows the deployment of complex end-to-end network services, enabling the collaboration of industrial applications of different vendors and ensuring low latency, safety and optimal resource management. Extending the standard ETSI NFV reference architecture, this article proposes a deployment and orchestration mechanism for enabling Cross-Slice Communication (CSC) in industrial environments. For evaluation purposes, a Warehouse Robotics …\tDimolitsas, I., Avgeris, M., Spatharakis, D., Dechouniotis, D., & Papavassiliou, S. (2021, September). \"Enabling industrial network slicing orchestration: A collaborative edge robotics use case.\" <i>2021 IEEE International Mediterranean Conference on Communications and Networking (MeditCom)</i>. (pp. 215-220). IEEE.\tenabling2021\thttps://www.researchgate.net/profile/Ioannis-Dimolitsas/publication/356378414_Enabling_Industrial_Network_Slicing_Orchestration_A_Collaborative_Edge_Robotics_Use_Case/links/619763d33068c54fa500067c/Enabling-Industrial-Network-Slicing-Orchestration-A-Collaborative-Edge-Robotics-Use-Case.pdf\n",
      "2022-09-05\tComputational offloading for the industrial internet of things: A performance analysis\t2022 IEEE International Mediterranean Conference on Communications and Networking (MeditCom)\tThe challenge of minimizing mission response times and the energy consumption of computationally-constrained IoT devices, is becoming increasingly important in Industry 4.0 environments, where mission-critical tasks require real-time and latency-sensitive processing. In this context, the computational offloading paradigm becomes an attractive alternative for utilising remote, computationally capable resources placed at the network Edge, to execute demanding applications. In this paper, an analysis of the main options for task execution (ondevice, Edge and Cloud) is performed, under different sensing and actuation scenarios. These results outline the need of an intelligent decision making mechanism to dynamically alternate between the available execution environments, as a response to the varying networking conditions.\tBouhoula, S., Avgeris, M., Leivadeas, A., & Lambadaris, I. (2022, September). \"Computational offloading for the industrial internet of things: A performance analysis.\" <i>2022 IEEE International Mediterranean Conference on Communications and Networking (MeditCom)</i>. (pp. 1-6). IEEE.\tcompuational2022\thttp://academicpages.github.io/files/paper3.pdf\n",
      "2021-09-21\tDynamic resource allocation and computational offloading at the network edge for Internet of things applications\tNational Technical University of Athens (PhD Thesis)\tIn the Internet of Things (IoT) era, mobile devices possess powerful hardware and networking capabilities, however they still fall short when it comes to executing compute-intensive applications. Computation Offloading, ie, delegating resource consuming tasks to servers located at the Network Edge, contributes towards moving to a Mobile Cloud Computing paradigm, which will potentially assist towards alleviating the computational strain from the mobile devices. The motivation for this thesis is to deal with the inherent challenges of computational offloading, the most important of which is resource allocation under constraints, while guaranteeing the Quality of Service (QoS) and Quality of Experience (QoE) delivered to the users. Throughout this thesis, Control Theory concepts are leveraged as this domain offers a plethora of tools that can be utilised to tackle the emerging challenges. Additionally, concepts from Probability Theory are exploited as well. Specifically, in this work, an effort is made to address the following crucial research challenges in resource allocation and computational offloading: i) modeling the heterogeneous entities of the system (ie, the infrastructure, users, applications resources and the interactions among them), ii) estimating the workload that will be offloaded during a future time window (by predicting the mobile devices’ positions), iii) optimizing resource allocation by dynamically allocating (scaling) the available resources at the network edge while respecting the given constraints, eg, guaranteed execution of the estimated workload, delivering the expected QoS/QoE and minimizing energy consumption of the edge …\tAvgeris, M. (2021). \"Dynamic resource allocation and computational offloading at the network edge for Internet of things applications.\" <i>National Technical University of Athens</i>.\tthesis2021\thttps://www.researchgate.net/profile/Marios-Avgeris/publication/355369741_Dynamic_Resource_Allocation_and_Computational_Offloading_at_the_Network_Edge_for_Internet_of_Things_Applications/links/61713fa9c10b387664c988a2/Dynamic-Resource-Allocation-and-Computational-Offloading-at-the-Network-Edge-for-Internet-of-Things-Applications.pdf\n",
      "2015-10-01\tPaper Title Number 3\tJournal 1\tThis paper is about the number 3. The number 4 is left for future work.\tYour Name, You. (2015). \"Paper Title Number 3.\" <i>Journal 1</i>. 1(3).\tpaper-title-number-3\thttp://academicpages.github.io/files/paper3.pdf"
     ]
    }
   ],
   "source": [
    "!cat publications.tsv"
   ]
  },
  {
   "cell_type": "markdown",
   "metadata": {},
   "source": [
    "## Import pandas\n",
    "\n",
    "We are using the very handy pandas library for dataframes."
   ]
  },
  {
   "cell_type": "code",
   "execution_count": 32,
   "metadata": {
    "collapsed": true,
    "deletable": true,
    "editable": true
   },
   "outputs": [],
   "source": [
    "import pandas as pd"
   ]
  },
  {
   "cell_type": "markdown",
   "metadata": {},
   "source": [
    "## Import TSV\n",
    "\n",
    "Pandas makes this easy with the read_csv function. We are using a TSV, so we specify the separator as a tab, or `\\t`.\n",
    "\n",
    "I found it important to put this data in a tab-separated values format, because there are a lot of commas in this kind of data and comma-separated values can get messed up. However, you can modify the import statement, as pandas also has read_excel(), read_json(), and others."
   ]
  },
  {
   "cell_type": "code",
   "execution_count": 33,
   "metadata": {
    "collapsed": false,
    "deletable": true,
    "editable": true
   },
   "outputs": [
    {
     "data": {
      "text/html": [
       "<div>\n",
       "<style scoped>\n",
       "    .dataframe tbody tr th:only-of-type {\n",
       "        vertical-align: middle;\n",
       "    }\n",
       "\n",
       "    .dataframe tbody tr th {\n",
       "        vertical-align: top;\n",
       "    }\n",
       "\n",
       "    .dataframe thead th {\n",
       "        text-align: right;\n",
       "    }\n",
       "</style>\n",
       "<table border=\"1\" class=\"dataframe\">\n",
       "  <thead>\n",
       "    <tr style=\"text-align: right;\">\n",
       "      <th></th>\n",
       "      <th>pub_date</th>\n",
       "      <th>title</th>\n",
       "      <th>venue</th>\n",
       "      <th>excerpt</th>\n",
       "      <th>citation</th>\n",
       "      <th>url_slug</th>\n",
       "      <th>paper_url</th>\n",
       "    </tr>\n",
       "  </thead>\n",
       "  <tbody>\n",
       "    <tr>\n",
       "      <th>0</th>\n",
       "      <td>2021-08-04</td>\n",
       "      <td>Task offloading in Edge and Cloud Computing: A...</td>\n",
       "      <td>Computer Networks</td>\n",
       "      <td>Next generation communication networks are exp...</td>\n",
       "      <td>Saeik, F., Avgeris, M., Spatharakis, D., Santi...</td>\n",
       "      <td>task2021</td>\n",
       "      <td>https://hal.science/hal-03243071/document</td>\n",
       "    </tr>\n",
       "    <tr>\n",
       "      <th>1</th>\n",
       "      <td>2018-06-18</td>\n",
       "      <td>Edge computing in IoT ecosystems for UAV-enabl...</td>\n",
       "      <td>2018 IEEE international conference on smart co...</td>\n",
       "      <td>Unmanned Aerial Vehicles (UAV) facilitate the ...</td>\n",
       "      <td>Kalatzis, N., Avgeris, M., Dechouniotis, D., P...</td>\n",
       "      <td>edge2018</td>\n",
       "      <td>https://www.researchgate.net/profile/Marios-Av...</td>\n",
       "    </tr>\n",
       "    <tr>\n",
       "      <th>2</th>\n",
       "      <td>2019-02-03</td>\n",
       "      <td>Where there is fire there is smoke: A scalable...</td>\n",
       "      <td>Sensors</td>\n",
       "      <td>A Cyber-Physical Social System (CPSS) tightly ...</td>\n",
       "      <td>Avgeris, M., Spatharakis, D., Dechouniotis, D....</td>\n",
       "      <td>smoke2019</td>\n",
       "      <td>https://www.mdpi.com/1424-8220/19/3/639/pdf</td>\n",
       "    </tr>\n",
       "    <tr>\n",
       "      <th>3</th>\n",
       "      <td>2019-01-27</td>\n",
       "      <td>Semantic interoperability for iot platforms in...</td>\n",
       "      <td>Sensors</td>\n",
       "      <td>One of the main obstacles towards the promotio...</td>\n",
       "      <td>Kalatzis, N., Routis, G., Marinellis, Y., Avge...</td>\n",
       "      <td>semantic2019</td>\n",
       "      <td>https://www.mdpi.com/1424-8220/19/3/528/htm</td>\n",
       "    </tr>\n",
       "    <tr>\n",
       "      <th>4</th>\n",
       "      <td>2019-04-03</td>\n",
       "      <td>Adaptive resource allocation for computation o...</td>\n",
       "      <td>ACM Transactions on Internet Technology (TOIT)</td>\n",
       "      <td>Although mobile devices today have powerful ha...</td>\n",
       "      <td>Avgeris, M., Dechouniotis, D., Athanasopoulos,...</td>\n",
       "      <td>toit2019</td>\n",
       "      <td>https://pure.qub.ac.uk/files/159624593/acm_lat...</td>\n",
       "    </tr>\n",
       "    <tr>\n",
       "      <th>5</th>\n",
       "      <td>2020-10-01</td>\n",
       "      <td>Meson: Optimized cross-slice communication for...</td>\n",
       "      <td>IEEE Communications Magazine</td>\n",
       "      <td>Network slicing is set out to address crucial ...</td>\n",
       "      <td>Papathanail, G., Pentelas, A., Fotoglou, I., P...</td>\n",
       "      <td>meson2020</td>\n",
       "      <td>https://ruomo.lib.uom.gr/bitstream/7000/861/1/...</td>\n",
       "    </tr>\n",
       "    <tr>\n",
       "      <th>6</th>\n",
       "      <td>2020-11-02</td>\n",
       "      <td>A switching offloading mechanism for path plan...</td>\n",
       "      <td>2020 International Conferences on Internet of ...</td>\n",
       "      <td>Industry 4.0 applications rely on mobile robot...</td>\n",
       "      <td>Spatharakis, D., Avgeris, M., Athanasopoulos, ...</td>\n",
       "      <td>switching2020</td>\n",
       "      <td>https://pure.qub.ac.uk/files/217751250/1570660...</td>\n",
       "    </tr>\n",
       "    <tr>\n",
       "      <th>7</th>\n",
       "      <td>2022-01-15</td>\n",
       "      <td>ENERDGE: Distributed energy-aware resource all...</td>\n",
       "      <td>Sensors</td>\n",
       "      <td>Mobile applications are progressively becoming...</td>\n",
       "      <td>Avgeris, M., Spatharakis, D., Dechouniotis, D....</td>\n",
       "      <td>enerdge2022</td>\n",
       "      <td>https://www.mdpi.com/1424-8220/22/2/660</td>\n",
       "    </tr>\n",
       "    <tr>\n",
       "      <th>8</th>\n",
       "      <td>2019-08-26</td>\n",
       "      <td>Single vision-based self-localization for auto...</td>\n",
       "      <td>2019 7th International Conference on Future In...</td>\n",
       "      <td>We present a single vision-based, self-localiz...</td>\n",
       "      <td>Avgeris, M., Spatharakis, D., Athanasopoulos, ...</td>\n",
       "      <td>single2019</td>\n",
       "      <td>https://pureadmin.qub.ac.uk/ws/files/175176852...</td>\n",
       "    </tr>\n",
       "    <tr>\n",
       "      <th>9</th>\n",
       "      <td>2017-09-14</td>\n",
       "      <td>Semantic Resource Management of Federated IoT ...</td>\n",
       "      <td>Ad-hoc, Mobile, and Wireless Networks: 16th In...</td>\n",
       "      <td>Testbeds and experimental network facilities a...</td>\n",
       "      <td>Avgeris, M., Kalatzis, N., Dechouniotis, D., R...</td>\n",
       "      <td>semantic2017</td>\n",
       "      <td>https://www.researchgate.net/profile/Dimitrios...</td>\n",
       "    </tr>\n",
       "    <tr>\n",
       "      <th>10</th>\n",
       "      <td>2022-01-07</td>\n",
       "      <td>Resource-aware estimation and control for edge...</td>\n",
       "      <td>IEEE Internet of Things Journal</td>\n",
       "      <td>The evolution of the Industrial Internet of Th...</td>\n",
       "      <td>Spatharakis, D., Avgeris, M., Athanasopoulos, ...</td>\n",
       "      <td>resource2022</td>\n",
       "      <td>https://pureadmin.qub.ac.uk/ws/portalfiles/por...</td>\n",
       "    </tr>\n",
       "    <tr>\n",
       "      <th>11</th>\n",
       "      <td>2018-10-23</td>\n",
       "      <td>Utility decisions for QoE-QoS driven applicati...</td>\n",
       "      <td>2018 Global Information Infrastructure and Net...</td>\n",
       "      <td>This paper focuses on the design, experimental...</td>\n",
       "      <td>Karyotis, V., Avgeris, M., Michaloliakos, M., ...</td>\n",
       "      <td>utility2018</td>\n",
       "      <td>http://academicpages.github.io/files/paper3.pdf</td>\n",
       "    </tr>\n",
       "    <tr>\n",
       "      <th>12</th>\n",
       "      <td>2021-09-07</td>\n",
       "      <td>Enabling industrial network slicing orchestrat...</td>\n",
       "      <td>2021 IEEE International Mediterranean Conferen...</td>\n",
       "      <td>The consolidation of 5G technologies makes the...</td>\n",
       "      <td>Dimolitsas, I., Avgeris, M., Spatharakis, D., ...</td>\n",
       "      <td>enabling2021</td>\n",
       "      <td>https://www.researchgate.net/profile/Ioannis-D...</td>\n",
       "    </tr>\n",
       "    <tr>\n",
       "      <th>13</th>\n",
       "      <td>2022-09-05</td>\n",
       "      <td>Computational offloading for the industrial in...</td>\n",
       "      <td>2022 IEEE International Mediterranean Conferen...</td>\n",
       "      <td>The challenge of minimizing mission response t...</td>\n",
       "      <td>Bouhoula, S., Avgeris, M., Leivadeas, A., &amp; La...</td>\n",
       "      <td>compuational2022</td>\n",
       "      <td>http://academicpages.github.io/files/paper3.pdf</td>\n",
       "    </tr>\n",
       "    <tr>\n",
       "      <th>14</th>\n",
       "      <td>2021-09-21</td>\n",
       "      <td>Dynamic resource allocation and computational ...</td>\n",
       "      <td>National Technical University of Athens (PhD T...</td>\n",
       "      <td>In the Internet of Things (IoT) era, mobile de...</td>\n",
       "      <td>Avgeris, M. (2021). \"Dynamic resource allocati...</td>\n",
       "      <td>thesis2021</td>\n",
       "      <td>https://www.researchgate.net/profile/Marios-Av...</td>\n",
       "    </tr>\n",
       "    <tr>\n",
       "      <th>15</th>\n",
       "      <td>2015-10-01</td>\n",
       "      <td>Paper Title Number 3</td>\n",
       "      <td>Journal 1</td>\n",
       "      <td>This paper is about the number 3. The number 4...</td>\n",
       "      <td>Your Name, You. (2015). \"Paper Title Number 3....</td>\n",
       "      <td>paper-title-number-3</td>\n",
       "      <td>http://academicpages.github.io/files/paper3.pdf</td>\n",
       "    </tr>\n",
       "  </tbody>\n",
       "</table>\n",
       "</div>"
      ],
      "text/plain": [
       "      pub_date                                              title  \\\n",
       "0   2021-08-04  Task offloading in Edge and Cloud Computing: A...   \n",
       "1   2018-06-18  Edge computing in IoT ecosystems for UAV-enabl...   \n",
       "2   2019-02-03  Where there is fire there is smoke: A scalable...   \n",
       "3   2019-01-27  Semantic interoperability for iot platforms in...   \n",
       "4   2019-04-03  Adaptive resource allocation for computation o...   \n",
       "5   2020-10-01  Meson: Optimized cross-slice communication for...   \n",
       "6   2020-11-02  A switching offloading mechanism for path plan...   \n",
       "7   2022-01-15  ENERDGE: Distributed energy-aware resource all...   \n",
       "8   2019-08-26  Single vision-based self-localization for auto...   \n",
       "9   2017-09-14  Semantic Resource Management of Federated IoT ...   \n",
       "10  2022-01-07  Resource-aware estimation and control for edge...   \n",
       "11  2018-10-23  Utility decisions for QoE-QoS driven applicati...   \n",
       "12  2021-09-07  Enabling industrial network slicing orchestrat...   \n",
       "13  2022-09-05  Computational offloading for the industrial in...   \n",
       "14  2021-09-21  Dynamic resource allocation and computational ...   \n",
       "15  2015-10-01                               Paper Title Number 3   \n",
       "\n",
       "                                                venue  \\\n",
       "0                                   Computer Networks   \n",
       "1   2018 IEEE international conference on smart co...   \n",
       "2                                             Sensors   \n",
       "3                                             Sensors   \n",
       "4      ACM Transactions on Internet Technology (TOIT)   \n",
       "5                        IEEE Communications Magazine   \n",
       "6   2020 International Conferences on Internet of ...   \n",
       "7                                             Sensors   \n",
       "8   2019 7th International Conference on Future In...   \n",
       "9   Ad-hoc, Mobile, and Wireless Networks: 16th In...   \n",
       "10                    IEEE Internet of Things Journal   \n",
       "11  2018 Global Information Infrastructure and Net...   \n",
       "12  2021 IEEE International Mediterranean Conferen...   \n",
       "13  2022 IEEE International Mediterranean Conferen...   \n",
       "14  National Technical University of Athens (PhD T...   \n",
       "15                                          Journal 1   \n",
       "\n",
       "                                              excerpt  \\\n",
       "0   Next generation communication networks are exp...   \n",
       "1   Unmanned Aerial Vehicles (UAV) facilitate the ...   \n",
       "2   A Cyber-Physical Social System (CPSS) tightly ...   \n",
       "3   One of the main obstacles towards the promotio...   \n",
       "4   Although mobile devices today have powerful ha...   \n",
       "5   Network slicing is set out to address crucial ...   \n",
       "6   Industry 4.0 applications rely on mobile robot...   \n",
       "7   Mobile applications are progressively becoming...   \n",
       "8   We present a single vision-based, self-localiz...   \n",
       "9   Testbeds and experimental network facilities a...   \n",
       "10  The evolution of the Industrial Internet of Th...   \n",
       "11  This paper focuses on the design, experimental...   \n",
       "12  The consolidation of 5G technologies makes the...   \n",
       "13  The challenge of minimizing mission response t...   \n",
       "14  In the Internet of Things (IoT) era, mobile de...   \n",
       "15  This paper is about the number 3. The number 4...   \n",
       "\n",
       "                                             citation              url_slug  \\\n",
       "0   Saeik, F., Avgeris, M., Spatharakis, D., Santi...              task2021   \n",
       "1   Kalatzis, N., Avgeris, M., Dechouniotis, D., P...              edge2018   \n",
       "2   Avgeris, M., Spatharakis, D., Dechouniotis, D....             smoke2019   \n",
       "3   Kalatzis, N., Routis, G., Marinellis, Y., Avge...          semantic2019   \n",
       "4   Avgeris, M., Dechouniotis, D., Athanasopoulos,...              toit2019   \n",
       "5   Papathanail, G., Pentelas, A., Fotoglou, I., P...             meson2020   \n",
       "6   Spatharakis, D., Avgeris, M., Athanasopoulos, ...         switching2020   \n",
       "7   Avgeris, M., Spatharakis, D., Dechouniotis, D....           enerdge2022   \n",
       "8   Avgeris, M., Spatharakis, D., Athanasopoulos, ...            single2019   \n",
       "9   Avgeris, M., Kalatzis, N., Dechouniotis, D., R...          semantic2017   \n",
       "10  Spatharakis, D., Avgeris, M., Athanasopoulos, ...          resource2022   \n",
       "11  Karyotis, V., Avgeris, M., Michaloliakos, M., ...           utility2018   \n",
       "12  Dimolitsas, I., Avgeris, M., Spatharakis, D., ...          enabling2021   \n",
       "13  Bouhoula, S., Avgeris, M., Leivadeas, A., & La...      compuational2022   \n",
       "14  Avgeris, M. (2021). \"Dynamic resource allocati...            thesis2021   \n",
       "15  Your Name, You. (2015). \"Paper Title Number 3....  paper-title-number-3   \n",
       "\n",
       "                                            paper_url  \n",
       "0           https://hal.science/hal-03243071/document  \n",
       "1   https://www.researchgate.net/profile/Marios-Av...  \n",
       "2         https://www.mdpi.com/1424-8220/19/3/639/pdf  \n",
       "3         https://www.mdpi.com/1424-8220/19/3/528/htm  \n",
       "4   https://pure.qub.ac.uk/files/159624593/acm_lat...  \n",
       "5   https://ruomo.lib.uom.gr/bitstream/7000/861/1/...  \n",
       "6   https://pure.qub.ac.uk/files/217751250/1570660...  \n",
       "7             https://www.mdpi.com/1424-8220/22/2/660  \n",
       "8   https://pureadmin.qub.ac.uk/ws/files/175176852...  \n",
       "9   https://www.researchgate.net/profile/Dimitrios...  \n",
       "10  https://pureadmin.qub.ac.uk/ws/portalfiles/por...  \n",
       "11    http://academicpages.github.io/files/paper3.pdf  \n",
       "12  https://www.researchgate.net/profile/Ioannis-D...  \n",
       "13    http://academicpages.github.io/files/paper3.pdf  \n",
       "14  https://www.researchgate.net/profile/Marios-Av...  \n",
       "15    http://academicpages.github.io/files/paper3.pdf  "
      ]
     },
     "execution_count": 33,
     "metadata": {},
     "output_type": "execute_result"
    }
   ],
   "source": [
    "publications = pd.read_csv(\"publications.tsv\", sep=\"\\t\", header=0)\n",
    "publications\n"
   ]
  },
  {
   "cell_type": "markdown",
   "metadata": {},
   "source": [
    "## Escape special characters\n",
    "\n",
    "YAML is very picky about how it takes a valid string, so we are replacing single and double quotes (and ampersands) with their HTML encoded equivilents. This makes them look not so readable in raw format, but they are parsed and rendered nicely."
   ]
  },
  {
   "cell_type": "code",
   "execution_count": 34,
   "metadata": {
    "collapsed": true,
    "deletable": true,
    "editable": true
   },
   "outputs": [],
   "source": [
    "html_escape_table = {\n",
    "    \"&\": \"&amp;\",\n",
    "    '\"': \"&quot;\",\n",
    "    \"'\": \"&apos;\"\n",
    "    }\n",
    "\n",
    "def html_escape(text):\n",
    "    \"\"\"Produce entities within text.\"\"\"\n",
    "    return \"\".join(html_escape_table.get(c,c) for c in text)"
   ]
  },
  {
   "cell_type": "markdown",
   "metadata": {},
   "source": [
    "## Creating the markdown files\n",
    "\n",
    "This is where the heavy lifting is done. This loops through all the rows in the TSV dataframe, then starts to concatentate a big string (```md```) that contains the markdown for each type. It does the YAML metadata first, then does the description for the individual page."
   ]
  },
  {
   "cell_type": "code",
   "execution_count": 35,
   "metadata": {
    "collapsed": false,
    "deletable": true,
    "editable": true
   },
   "outputs": [],
   "source": [
    "import os\n",
    "for row, item in publications.iterrows():\n",
    "    \n",
    "    md_filename = str(item.pub_date) + \"-\" + item.url_slug + \".md\"\n",
    "    html_filename = str(item.pub_date) + \"-\" + item.url_slug\n",
    "    year = item.pub_date[:4]\n",
    "    \n",
    "    ## YAML variables\n",
    "    \n",
    "    md = \"---\\ntitle: \\\"\"   + item.title + '\"\\n'\n",
    "    \n",
    "    md += \"\"\"collection: publications\"\"\"\n",
    "    \n",
    "    md += \"\"\"\\npermalink: /publication/\"\"\" + html_filename\n",
    "    \n",
    "    if len(str(item.excerpt)) > 5:\n",
    "        md += \"\\nexcerpt: '\" + html_escape(item.excerpt) + \"'\"\n",
    "    \n",
    "    md += \"\\ndate: \" + str(item.pub_date) \n",
    "    \n",
    "    md += \"\\nvenue: '\" + html_escape(item.venue) + \"'\"\n",
    "    \n",
    "    if len(str(item.paper_url)) > 5:\n",
    "        md += \"\\npaperurl: '\" + item.paper_url + \"'\"\n",
    "    \n",
    "    md += \"\\ncitation: '\" + html_escape(item.citation) + \"'\"\n",
    "    \n",
    "    md += \"\\n---\"\n",
    "    \n",
    "    ## Markdown description for individual page\n",
    "        \n",
    "    if len(str(item.excerpt)) > 5:\n",
    "        md += \"\\n\" + html_escape(item.excerpt) + \"\\n\"\n",
    "    \n",
    "    if len(str(item.paper_url)) > 5:\n",
    "        md += \"\\n[Download paper here](\" + item.paper_url + \")\\n\" \n",
    "        \n",
    "    md += \"\\nRecommended citation: \" + item.citation\n",
    "    \n",
    "    md_filename = os.path.basename(md_filename)\n",
    "       \n",
    "    with open(\"../_publications/\" + md_filename, 'w') as f:\n",
    "        f.write(md)"
   ]
  },
  {
   "cell_type": "markdown",
   "metadata": {},
   "source": [
    "These files are in the publications directory, one directory below where we're working from."
   ]
  },
  {
   "cell_type": "code",
   "execution_count": 36,
   "metadata": {
    "collapsed": false,
    "deletable": true,
    "editable": true
   },
   "outputs": [
    {
     "name": "stdout",
     "output_type": "stream",
     "text": [
      "2015-10-01-paper-title-number-3.md 2020-10-01-meson2020.md\n",
      "2017-09-14-semantic2017.md         2020-11-02-switching2020.md\n",
      "2018-06-18-edge2018.md             2021-08-04-task2021.md\n",
      "2018-10-23-utility2018.md          2021-09-07-enabling2021.md\n",
      "2019-01-27-semantic2019.md         2021-09-21-thesis2021.md\n",
      "2019-02-03-smoke2019.md            2022-01-07-resource2022.md\n",
      "2019-04-03-toit2019.md             2022-01-15-enerdge2022.md\n",
      "2019-08-26-single2019.md           2022-09-05-compuational2022.md\n"
     ]
    }
   ],
   "source": [
    "!ls ../_publications/"
   ]
  },
  {
   "cell_type": "code",
   "execution_count": 37,
   "metadata": {
    "collapsed": false,
    "deletable": true,
    "editable": true
   },
   "outputs": [
    {
     "name": "stdout",
     "output_type": "stream",
     "text": [
      "cat: ../_publications/2009-10-01-paper-title-number-1.md: No such file or directory\n"
     ]
    }
   ],
   "source": [
    "!cat ../_publications/2009-10-01-paper-title-number-1.md"
   ]
  },
  {
   "cell_type": "code",
   "execution_count": null,
   "metadata": {
    "collapsed": true,
    "deletable": true,
    "editable": true
   },
   "outputs": [],
   "source": []
  }
 ],
 "metadata": {
  "kernelspec": {
   "display_name": "Python 3",
   "language": "python",
   "name": "python3"
  },
  "language_info": {
   "codemirror_mode": {
    "name": "ipython",
    "version": 3
   },
   "file_extension": ".py",
   "mimetype": "text/x-python",
   "name": "python",
   "nbconvert_exporter": "python",
   "pygments_lexer": "ipython3",
   "version": "3.9.6"
  }
 },
 "nbformat": 4,
 "nbformat_minor": 0
}
