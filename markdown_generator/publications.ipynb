{
 "cells": [
  {
   "cell_type": "markdown",
   "metadata": {
    "deletable": true,
    "editable": true
   },
   "source": [
    "# Publications markdown generator for academicpages\n",
    "\n",
    "Takes a TSV of publications with metadata and converts them for use with [academicpages.github.io](academicpages.github.io). This is an interactive Jupyter notebook ([see more info here](http://jupyter-notebook-beginner-guide.readthedocs.io/en/latest/what_is_jupyter.html)). The core python code is also in `publications.py`. Run either from the `markdown_generator` folder after replacing `publications.tsv` with one containing your data.\n",
    "\n",
    "TODO: Make this work with BibTex and other databases of citations, rather than Stuart's non-standard TSV format and citation style.\n"
   ]
  },
  {
   "cell_type": "markdown",
   "metadata": {},
   "source": [
    "## Data format\n",
    "\n",
    "The TSV needs to have the following columns: pub_date, title, venue, excerpt, citation, site_url, and paper_url, with a header at the top. \n",
    "\n",
    "- `excerpt` and `paper_url` can be blank, but the others must have values. \n",
    "- `pub_date` must be formatted as YYYY-MM-DD.\n",
    "- `url_slug` will be the descriptive part of the .md file and the permalink URL for the page about the paper. The .md file will be `YYYY-MM-DD-[url_slug].md` and the permalink will be `https://[yourdomain]/publications/YYYY-MM-DD-[url_slug]`\n",
    "\n",
    "This is how the raw file looks (it doesn't look pretty, use a spreadsheet or other program to edit and create)."
   ]
  },
  {
   "cell_type": "code",
   "execution_count": 17,
   "metadata": {
    "collapsed": false
   },
   "outputs": [
    {
     "name": "stdout",
     "output_type": "stream",
     "text": [
      "pub_date\ttitle\tvenue\texcerpt\tcitation\turl_slug\tpaper_url\n",
      "2021-08-04\tTask offloading in Edge and Cloud Computing: A survey on mathematical, artificial intelligence and control theory solutions\tComputer Networks\tNext generation communication networks are expected to accommodate a high number of new and resource-voracious applications that can be offered to a large range of end users. Even though end devices are becoming more powerful, the available local resources cannot cope with the requirements of these applications. This has created a new challenge called task offloading, where computation intensive tasks need to be offloaded to more resource powerful remote devices. Naturally, the Cloud Computing is a well-tested infrastructure that can facilitate the task offloading. However, Cloud Computing as a centralized and distant infrastructure creates significant communication delays that cannot satisfy the requirements of the emerging delay-sensitive applications. To this end, the concept of Edge Computing has been proposed, where the Cloud Computing capabilities are repositioned closer to the end devices …\tSaeik, F., Avgeris, M., Spatharakis, D., Santi, N., Dechouniotis, D., Violos, J., ... & Papavassiliou, S. (2021). \"Task offloading in Edge and Cloud Computing: A survey on mathematical, artificial intelligence and control theory solutions.\" <i>Computer Networks</i>. 195, 108177.\ttask2021\thttps://hal.science/hal-03243071/document\n",
      "2018-06-18\tEdge computing in IoT ecosystems for UAV-enabled early fire detection\t2018 IEEE international conference on smart computing (SMARTCOMP)\tUnmanned Aerial Vehicles (UAV) facilitate the development of Internet of Things (IoT) ecosystems for smart city and smart environment applications. This paper proposes the adoption of Edge and Fog computing principles to the UAV based forest fire detection application domain through a hierarchical architecture. This three-layer ecosystem combines the powerful resources of cloud computing, the rich resources of fog computing and the sensing capabilities of the UAVs. These layers efficiently cooperate to address the key challenges imposed by the early forest fire detection use case. Initial experimental evaluations measuring crucial performance metrics indicate that critical resources, such as CPU/RAM, battery life and network resources, can be efficiently managed and dynamically allocated by the proposed approach.\tKalatzis, N., Avgeris, M., Dechouniotis, D., Papadakis-Vlachopapadopoulos, K., Roussaki, I., & Papavassiliou, S. (2018, June). \"Edge computing in IoT ecosystems for UAV-enabled early fire detection.\" <i>2018 IEEE international conference on smart computing (SMARTCOMP)</i>. (pp. 106-114). IEEE.\tedge2018\thttps://www.researchgate.net/profile/Marios-Avgeris/publication/325967110_Edge_Computing_in_IoT_ecosystems_for_UAV-enabled_Early_Fire_Detection/links/5c45a1a5a6fdccd6b5bd09dc/Edge-Computing-in-IoT-ecosystems-for-UAV-enabled-Early-Fire-Detection.pdf\n",
      "2019-02-03\tWhere there is fire there is smoke: A scalable edge computing framework for early fire detection\tSensors\tA Cyber-Physical Social System (CPSS) tightly integrates computer systems with the physical world and human activities. In this article, a three-level CPSS for early fire detection is presented to assist public authorities to promptly identify and act on emergency situations. At the bottom level, the system’s architecture involves IoT nodes enabled with sensing and forest monitoring capabilities. Additionally, in this level, the crowd sensing paradigm is exploited to aggregate environmental information collected by end user devices present in the area of interest. Since the IoT nodes suffer from limited computational energy resources, an Edge Computing Infrastructure, at the middle level, facilitates the offloaded data processing regarding possible fire incidents. At the top level, a decision-making service deployed on Cloud nodes integrates data from various sources, including users’ information on social media, and evaluates the situation criticality. In our work, a dynamic resource scaling mechanism for the Edge Computing Infrastructure is designed to address the demanding Quality of Service (QoS) requirements of this IoT-enabled time and mission critical application. The experimental results indicate that the vertical and horizontal scaling on the Edge Computing layer is beneficial for both the performance and the energy consumption of the IoT nodes.\tAvgeris, M., Spatharakis, D., Dechouniotis, D., Kalatzis, N., Roussaki, I., & Papavassiliou, S. (2019). \"Where there is fire there is smoke: A scalable edge computing framework for early fire detection.\" <i>Sensors</i>. 19(3), 639.\tsmoke2019\thttps://www.mdpi.com/1424-8220/19/3/639/pdf\n",
      "2019-01-27\tSemantic interoperability for iot platforms in support of decision making: an experiment on early wildfire detection\tSensors\tOne of the main obstacles towards the promotion of IoT adoption and innovation is data interoperability. Facilitating cross-domain interoperability is expected to be the core element for the realisation of the next generation of the IoT computing paradigm that is already taking shape under the name of Internet of Everything (IoE). In this article, an analysis of the current status on IoT semantic interoperability is presented that leads to the identification of a set of generic requirements that act as fundamental design principles for the specification of interoperability enabling solutions. In addition, an extension of NGSIv2 data model and API (de-facto) standards is proposed aiming to bridge the gap among IoT and social media and hence to integrate user communities with cyber-physical systems. These specifications have been utilised for the implementation of the IoT2Edge interoperability enabling mechanism which is evaluated within the context of a catastrophic wildfire incident that took place in Greece on July 2018. Weather data, social media activity, video recordings from the fire, sensor measurements and satellite data, linked to the location and the time of this fire incident have been collected, modeled in a uniform manner and fed to an early fire detection decision support system. The findings of the experiment certify that achieving minimum data interoperability with light-weight, plug-n-play mechanisms can be realised with significant benefits for our society.\tKalatzis, N., Routis, G., Marinellis, Y., Avgeris, M., Roussaki, I., Papavassiliou, S., & Anagnostou, M. (2019). \"Semantic interoperability for iot platforms in support of decision making: an experiment on early wildfire detection.\" <i>Sensors</i>. 19(3), 528.\tsemantic2019\thttps://www.mdpi.com/1424-8220/19/3/528/htm\n",
      "2019-04-03\tAdaptive resource allocation for computation offloading: A control-theoretic approach\tACM Transactions on Internet Technology (TOIT)\tAlthough mobile devices today have powerful hardware and networking capabilities, they fall short when it comes to executing compute-intensive applications. Computation offloading (i.e., delegating resource-consuming tasks to servers located at the edge of the network) contributes toward moving to a mobile cloud computing paradigm. In this work, a two-level resource allocation and admission control mechanism for a cluster of edge servers offers an alternative choice to mobile users for executing their tasks. At the lower level, the behavior of edge servers is modeled by a set of linear systems, and linear controllers are designed to meet the system’s constraints and quality of service metrics, whereas at the upper level, an optimizer tackles the problems of load balancing and application placement toward the maximization of the number the offloaded requests. The evaluation illustrates the effectiveness of the …\tAvgeris, M., Dechouniotis, D., Athanasopoulos, N., & Papavassiliou, S. (2019). \"Adaptive resource allocation for computation offloading: A control-theoretic approach.\" <i>ACM Transactions on Internet Technology (TOIT)</i>. 19(2), 1-20.\ttoit2019\thttps://pure.qub.ac.uk/files/159624593/acm_latest_without_copyrights_v2.pdf\n",
      "2015-10-01\tPaper Title Number 3\tJournal 1\tThis paper is about the number 3. The number 4 is left for future work.\tYour Name, You. (2015). \"Paper Title Number 3.\" <i>Journal 1</i>. 1(3).\tpaper-title-number-3\thttp://academicpages.github.io/files/paper3.pdf"
     ]
    }
   ],
   "source": [
    "!cat publications.tsv"
   ]
  },
  {
   "cell_type": "markdown",
   "metadata": {},
   "source": [
    "## Import pandas\n",
    "\n",
    "We are using the very handy pandas library for dataframes."
   ]
  },
  {
   "cell_type": "code",
   "execution_count": 18,
   "metadata": {
    "collapsed": true,
    "deletable": true,
    "editable": true
   },
   "outputs": [],
   "source": [
    "import pandas as pd"
   ]
  },
  {
   "cell_type": "markdown",
   "metadata": {},
   "source": [
    "## Import TSV\n",
    "\n",
    "Pandas makes this easy with the read_csv function. We are using a TSV, so we specify the separator as a tab, or `\\t`.\n",
    "\n",
    "I found it important to put this data in a tab-separated values format, because there are a lot of commas in this kind of data and comma-separated values can get messed up. However, you can modify the import statement, as pandas also has read_excel(), read_json(), and others."
   ]
  },
  {
   "cell_type": "code",
   "execution_count": 19,
   "metadata": {
    "collapsed": false,
    "deletable": true,
    "editable": true
   },
   "outputs": [
    {
     "data": {
      "text/html": [
       "<div>\n",
       "<style scoped>\n",
       "    .dataframe tbody tr th:only-of-type {\n",
       "        vertical-align: middle;\n",
       "    }\n",
       "\n",
       "    .dataframe tbody tr th {\n",
       "        vertical-align: top;\n",
       "    }\n",
       "\n",
       "    .dataframe thead th {\n",
       "        text-align: right;\n",
       "    }\n",
       "</style>\n",
       "<table border=\"1\" class=\"dataframe\">\n",
       "  <thead>\n",
       "    <tr style=\"text-align: right;\">\n",
       "      <th></th>\n",
       "      <th>pub_date</th>\n",
       "      <th>title</th>\n",
       "      <th>venue</th>\n",
       "      <th>excerpt</th>\n",
       "      <th>citation</th>\n",
       "      <th>url_slug</th>\n",
       "      <th>paper_url</th>\n",
       "    </tr>\n",
       "  </thead>\n",
       "  <tbody>\n",
       "    <tr>\n",
       "      <th>0</th>\n",
       "      <td>2021-08-04</td>\n",
       "      <td>Task offloading in Edge and Cloud Computing: A...</td>\n",
       "      <td>Computer Networks</td>\n",
       "      <td>Next generation communication networks are exp...</td>\n",
       "      <td>Saeik, F., Avgeris, M., Spatharakis, D., Santi...</td>\n",
       "      <td>task2021</td>\n",
       "      <td>https://hal.science/hal-03243071/document</td>\n",
       "    </tr>\n",
       "    <tr>\n",
       "      <th>1</th>\n",
       "      <td>2018-06-18</td>\n",
       "      <td>Edge computing in IoT ecosystems for UAV-enabl...</td>\n",
       "      <td>2018 IEEE international conference on smart co...</td>\n",
       "      <td>Unmanned Aerial Vehicles (UAV) facilitate the ...</td>\n",
       "      <td>Kalatzis, N., Avgeris, M., Dechouniotis, D., P...</td>\n",
       "      <td>edge2018</td>\n",
       "      <td>https://www.researchgate.net/profile/Marios-Av...</td>\n",
       "    </tr>\n",
       "    <tr>\n",
       "      <th>2</th>\n",
       "      <td>2019-02-03</td>\n",
       "      <td>Where there is fire there is smoke: A scalable...</td>\n",
       "      <td>Sensors</td>\n",
       "      <td>A Cyber-Physical Social System (CPSS) tightly ...</td>\n",
       "      <td>Avgeris, M., Spatharakis, D., Dechouniotis, D....</td>\n",
       "      <td>smoke2019</td>\n",
       "      <td>https://www.mdpi.com/1424-8220/19/3/639/pdf</td>\n",
       "    </tr>\n",
       "    <tr>\n",
       "      <th>3</th>\n",
       "      <td>2019-01-27</td>\n",
       "      <td>Semantic interoperability for iot platforms in...</td>\n",
       "      <td>Sensors</td>\n",
       "      <td>One of the main obstacles towards the promotio...</td>\n",
       "      <td>Kalatzis, N., Routis, G., Marinellis, Y., Avge...</td>\n",
       "      <td>semantic2019</td>\n",
       "      <td>https://www.mdpi.com/1424-8220/19/3/528/htm</td>\n",
       "    </tr>\n",
       "    <tr>\n",
       "      <th>4</th>\n",
       "      <td>2019-04-03</td>\n",
       "      <td>Adaptive resource allocation for computation o...</td>\n",
       "      <td>ACM Transactions on Internet Technology (TOIT)</td>\n",
       "      <td>Although mobile devices today have powerful ha...</td>\n",
       "      <td>Avgeris, M., Dechouniotis, D., Athanasopoulos,...</td>\n",
       "      <td>toit2019</td>\n",
       "      <td>https://pure.qub.ac.uk/files/159624593/acm_lat...</td>\n",
       "    </tr>\n",
       "    <tr>\n",
       "      <th>5</th>\n",
       "      <td>2015-10-01</td>\n",
       "      <td>Paper Title Number 3</td>\n",
       "      <td>Journal 1</td>\n",
       "      <td>This paper is about the number 3. The number 4...</td>\n",
       "      <td>Your Name, You. (2015). \"Paper Title Number 3....</td>\n",
       "      <td>paper-title-number-3</td>\n",
       "      <td>http://academicpages.github.io/files/paper3.pdf</td>\n",
       "    </tr>\n",
       "  </tbody>\n",
       "</table>\n",
       "</div>"
      ],
      "text/plain": [
       "     pub_date                                              title  \\\n",
       "0  2021-08-04  Task offloading in Edge and Cloud Computing: A...   \n",
       "1  2018-06-18  Edge computing in IoT ecosystems for UAV-enabl...   \n",
       "2  2019-02-03  Where there is fire there is smoke: A scalable...   \n",
       "3  2019-01-27  Semantic interoperability for iot platforms in...   \n",
       "4  2019-04-03  Adaptive resource allocation for computation o...   \n",
       "5  2015-10-01                               Paper Title Number 3   \n",
       "\n",
       "                                               venue  \\\n",
       "0                                  Computer Networks   \n",
       "1  2018 IEEE international conference on smart co...   \n",
       "2                                            Sensors   \n",
       "3                                            Sensors   \n",
       "4     ACM Transactions on Internet Technology (TOIT)   \n",
       "5                                          Journal 1   \n",
       "\n",
       "                                             excerpt  \\\n",
       "0  Next generation communication networks are exp...   \n",
       "1  Unmanned Aerial Vehicles (UAV) facilitate the ...   \n",
       "2  A Cyber-Physical Social System (CPSS) tightly ...   \n",
       "3  One of the main obstacles towards the promotio...   \n",
       "4  Although mobile devices today have powerful ha...   \n",
       "5  This paper is about the number 3. The number 4...   \n",
       "\n",
       "                                            citation              url_slug  \\\n",
       "0  Saeik, F., Avgeris, M., Spatharakis, D., Santi...              task2021   \n",
       "1  Kalatzis, N., Avgeris, M., Dechouniotis, D., P...              edge2018   \n",
       "2  Avgeris, M., Spatharakis, D., Dechouniotis, D....             smoke2019   \n",
       "3  Kalatzis, N., Routis, G., Marinellis, Y., Avge...          semantic2019   \n",
       "4  Avgeris, M., Dechouniotis, D., Athanasopoulos,...              toit2019   \n",
       "5  Your Name, You. (2015). \"Paper Title Number 3....  paper-title-number-3   \n",
       "\n",
       "                                           paper_url  \n",
       "0          https://hal.science/hal-03243071/document  \n",
       "1  https://www.researchgate.net/profile/Marios-Av...  \n",
       "2        https://www.mdpi.com/1424-8220/19/3/639/pdf  \n",
       "3        https://www.mdpi.com/1424-8220/19/3/528/htm  \n",
       "4  https://pure.qub.ac.uk/files/159624593/acm_lat...  \n",
       "5    http://academicpages.github.io/files/paper3.pdf  "
      ]
     },
     "execution_count": 19,
     "metadata": {},
     "output_type": "execute_result"
    }
   ],
   "source": [
    "publications = pd.read_csv(\"publications.tsv\", sep=\"\\t\", header=0)\n",
    "publications\n"
   ]
  },
  {
   "cell_type": "markdown",
   "metadata": {},
   "source": [
    "## Escape special characters\n",
    "\n",
    "YAML is very picky about how it takes a valid string, so we are replacing single and double quotes (and ampersands) with their HTML encoded equivilents. This makes them look not so readable in raw format, but they are parsed and rendered nicely."
   ]
  },
  {
   "cell_type": "code",
   "execution_count": 20,
   "metadata": {
    "collapsed": true,
    "deletable": true,
    "editable": true
   },
   "outputs": [],
   "source": [
    "html_escape_table = {\n",
    "    \"&\": \"&amp;\",\n",
    "    '\"': \"&quot;\",\n",
    "    \"'\": \"&apos;\"\n",
    "    }\n",
    "\n",
    "def html_escape(text):\n",
    "    \"\"\"Produce entities within text.\"\"\"\n",
    "    return \"\".join(html_escape_table.get(c,c) for c in text)"
   ]
  },
  {
   "cell_type": "markdown",
   "metadata": {},
   "source": [
    "## Creating the markdown files\n",
    "\n",
    "This is where the heavy lifting is done. This loops through all the rows in the TSV dataframe, then starts to concatentate a big string (```md```) that contains the markdown for each type. It does the YAML metadata first, then does the description for the individual page."
   ]
  },
  {
   "cell_type": "code",
   "execution_count": 21,
   "metadata": {
    "collapsed": false,
    "deletable": true,
    "editable": true
   },
   "outputs": [],
   "source": [
    "import os\n",
    "for row, item in publications.iterrows():\n",
    "    \n",
    "    md_filename = str(item.pub_date) + \"-\" + item.url_slug + \".md\"\n",
    "    html_filename = str(item.pub_date) + \"-\" + item.url_slug\n",
    "    year = item.pub_date[:4]\n",
    "    \n",
    "    ## YAML variables\n",
    "    \n",
    "    md = \"---\\ntitle: \\\"\"   + item.title + '\"\\n'\n",
    "    \n",
    "    md += \"\"\"collection: publications\"\"\"\n",
    "    \n",
    "    md += \"\"\"\\npermalink: /publication/\"\"\" + html_filename\n",
    "    \n",
    "    if len(str(item.excerpt)) > 5:\n",
    "        md += \"\\nexcerpt: '\" + html_escape(item.excerpt) + \"'\"\n",
    "    \n",
    "    md += \"\\ndate: \" + str(item.pub_date) \n",
    "    \n",
    "    md += \"\\nvenue: '\" + html_escape(item.venue) + \"'\"\n",
    "    \n",
    "    if len(str(item.paper_url)) > 5:\n",
    "        md += \"\\npaperurl: '\" + item.paper_url + \"'\"\n",
    "    \n",
    "    md += \"\\ncitation: '\" + html_escape(item.citation) + \"'\"\n",
    "    \n",
    "    md += \"\\n---\"\n",
    "    \n",
    "    ## Markdown description for individual page\n",
    "        \n",
    "    if len(str(item.excerpt)) > 5:\n",
    "        md += \"\\n\" + html_escape(item.excerpt) + \"\\n\"\n",
    "    \n",
    "    if len(str(item.paper_url)) > 5:\n",
    "        md += \"\\n[Download paper here](\" + item.paper_url + \")\\n\" \n",
    "        \n",
    "    md += \"\\nRecommended citation: \" + item.citation\n",
    "    \n",
    "    md_filename = os.path.basename(md_filename)\n",
    "       \n",
    "    with open(\"../_publications/\" + md_filename, 'w') as f:\n",
    "        f.write(md)"
   ]
  },
  {
   "cell_type": "markdown",
   "metadata": {},
   "source": [
    "These files are in the publications directory, one directory below where we're working from."
   ]
  },
  {
   "cell_type": "code",
   "execution_count": 22,
   "metadata": {
    "collapsed": false,
    "deletable": true,
    "editable": true
   },
   "outputs": [
    {
     "name": "stdout",
     "output_type": "stream",
     "text": [
      "2009-10-01-paper-title-number-1.md 2019-02-03-smoke2019.md\n",
      "2010-10-01-paper-title-number-2.md 2019-04-03-toit2019.md\n",
      "2015-10-01-paper-title-number-3.md 2021-08-04-paper-title-number-1.md\n",
      "2018-06-18-edge2018.md             2021-08-04-task2021.md\n",
      "2019-01-27-semantic2019.md         pdf.md\n"
     ]
    }
   ],
   "source": [
    "!ls ../_publications/"
   ]
  },
  {
   "cell_type": "code",
   "execution_count": 23,
   "metadata": {
    "collapsed": false,
    "deletable": true,
    "editable": true
   },
   "outputs": [
    {
     "name": "stdout",
     "output_type": "stream",
     "text": [
      "---\n",
      "title: \"Paper Title Number 1\"\n",
      "collection: publications\n",
      "permalink: /publication/2009-10-01-paper-title-number-1\n",
      "excerpt: 'This paper is about the number 1. The number 2 is left for future work.'\n",
      "date: 2009-10-01\n",
      "venue: 'Journal 1'\n",
      "paperurl: 'http://academicpages.github.io/files/paper1.pdf'\n",
      "citation: 'Your Name, You. (2009). &quot;Paper Title Number 1.&quot; <i>Journal 1</i>. 1(1).'\n",
      "---\n",
      "This paper is about the number 1. The number 2 is left for future work.\n",
      "\n",
      "[Download paper here](http://academicpages.github.io/files/paper1.pdf)\n",
      "\n",
      "Recommended citation: Your Name, You. (2009). \"Paper Title Number 1.\" <i>Journal 1</i>. 1(1)."
     ]
    }
   ],
   "source": [
    "!cat ../_publications/2009-10-01-paper-title-number-1.md"
   ]
  },
  {
   "cell_type": "code",
   "execution_count": null,
   "metadata": {
    "collapsed": true,
    "deletable": true,
    "editable": true
   },
   "outputs": [],
   "source": []
  }
 ],
 "metadata": {
  "kernelspec": {
   "display_name": "Python 3",
   "language": "python",
   "name": "python3"
  },
  "language_info": {
   "codemirror_mode": {
    "name": "ipython",
    "version": 3
   },
   "file_extension": ".py",
   "mimetype": "text/x-python",
   "name": "python",
   "nbconvert_exporter": "python",
   "pygments_lexer": "ipython3",
   "version": "3.9.6"
  }
 },
 "nbformat": 4,
 "nbformat_minor": 0
}
