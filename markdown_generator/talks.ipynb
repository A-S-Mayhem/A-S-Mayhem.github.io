{
 "cells": [
  {
   "cell_type": "markdown",
   "metadata": {},
   "source": [
    "# Talks markdown generator for academicpages\n",
    "\n",
    "Takes a TSV of talks with metadata and converts them for use with [academicpages.github.io](academicpages.github.io). This is an interactive Jupyter notebook ([see more info here](http://jupyter-notebook-beginner-guide.readthedocs.io/en/latest/what_is_jupyter.html)). The core python code is also in `talks.py`. Run either from the `markdown_generator` folder after replacing `talks.tsv` with one containing your data.\n",
    "\n",
    "TODO: Make this work with BibTex and other databases, rather than Stuart's non-standard TSV format and citation style."
   ]
  },
  {
   "cell_type": "code",
   "execution_count": 46,
   "metadata": {},
   "outputs": [],
   "source": [
    "import pandas as pd\n",
    "import os"
   ]
  },
  {
   "cell_type": "markdown",
   "metadata": {},
   "source": [
    "## Data format\n",
    "\n",
    "The TSV needs to have the following columns: title, type, url_slug, venue, date, location, talk_url, description, with a header at the top. Many of these fields can be blank, but the columns must be in the TSV.\n",
    "\n",
    "- Fields that cannot be blank: `title`, `url_slug`, `date`. All else can be blank. `type` defaults to \"Talk\" \n",
    "- `date` must be formatted as YYYY-MM-DD.\n",
    "- `url_slug` will be the descriptive part of the .md file and the permalink URL for the page about the paper. \n",
    "    - The .md file will be `YYYY-MM-DD-[url_slug].md` and the permalink will be `https://[yourdomain]/talks/YYYY-MM-DD-[url_slug]`\n",
    "    - The combination of `url_slug` and `date` must be unique, as it will be the basis for your filenames\n",
    "\n",
    "This is how the raw file looks (it doesn't look pretty, use a spreadsheet or other program to edit and create)."
   ]
  },
  {
   "cell_type": "code",
   "execution_count": 47,
   "metadata": {},
   "outputs": [
    {
     "name": "stdout",
     "output_type": "stream",
     "text": [
      "title\ttype\turl_slug\tvenue\tdate\tlocation\ttalk_url\tdescription\r",
      "\r\n",
      "Multiplexing Cell-Free Diagnostics via Aqueous Two-Phase System\tConference talk\tEBRC-CFATPS-talk\t\"Engineering Biology Research Consortium (EBRC) Annual Meeting\"\t2020-04-29\tVirtual\t\t\r",
      "\r\n",
      "Multiplexed Biomarker Detection in Cell-Free System via Aqueous Two-Phase System\tDepartment seminar\tGT4thYrCo\tGeorgia Tech ChBE 4th Year Colloquium\t2020-08-12\tVirtual\t\t\r",
      "\r\n",
      "The Sweet Solution to Sensing: Repurposing Glucose Monitors to Detect Micronutrient Deficiency and Pathogenic Bacteria\tConference talk\tGTBioSym\tGeorgia Tech ChBE 33rd Annual Graduate Research Symposium\t2021-02-22\tVirtual\t\t\r",
      "\r\n",
      "New Interfaces for Cell-free Biosensors to Enable Multiplexed Analyte Detection and Analyte Quantification at the Point of Care\tAward winner presentation\tSuddath\tGeorgia Tech Institute for Bioengineering and Bioscience - Suddath Symposium\t2022-01-13\tVirtual\t\t\r",
      "\r\n",
      "New Interfaces for Cell-free Biosensors to Enable Multiplexed Analyte Detection and Analyte Quantification at the Point of Care\tInvited talk\tVoigtLabJobTalk\t\"Voigt Lab, MIT\"\t2022-03-14\t\"Boston, MA\"\t\t\r",
      "\r\n",
      "New Interfaces for Cell-free Biosensors to Enable Multiplexed Analyte Detection and Analyte Quantification at the Point of Care\tInvited talk\tMurrayLabJobTalk\t\"Murray Lab, Caltech\"\t2022-03-28\t\"Pasadena, CA\"\t\t\r",
      "\r\n",
      "Protocell Arrays for Simultaneous Detection of Diverse Analytes\tGlobal seminar\tSynByss\t\"Synthetic Biology Young Speaker Series (SynBYSS)\"\t2023-03-02\tVirtual\thttps://youtu.be/vXD8HXvafBY?feature=shared\t\r",
      "\r\n",
      "Protocell Arrays for Simultaneous Detection of Diverse Analytes\tGuest presentation\tICL\tPaul Freemont Group and Yuval Elani Group at Imperial College London\t2023-03-26\t\"London, U.K.\"\t\t"
     ]
    }
   ],
   "source": [
    "!cat talks.tsv"
   ]
  },
  {
   "cell_type": "markdown",
   "metadata": {},
   "source": [
    "## Import TSV\n",
    "\n",
    "Pandas makes this easy with the read_csv function. We are using a TSV, so we specify the separator as a tab, or `\\t`.\n",
    "\n",
    "I found it important to put this data in a tab-separated values format, because there are a lot of commas in this kind of data and comma-separated values can get messed up. However, you can modify the import statement, as pandas also has read_excel(), read_json(), and others."
   ]
  },
  {
   "cell_type": "code",
   "execution_count": 48,
   "metadata": {},
   "outputs": [
    {
     "data": {
      "text/html": [
       "<div>\n",
       "<style scoped>\n",
       "    .dataframe tbody tr th:only-of-type {\n",
       "        vertical-align: middle;\n",
       "    }\n",
       "\n",
       "    .dataframe tbody tr th {\n",
       "        vertical-align: top;\n",
       "    }\n",
       "\n",
       "    .dataframe thead th {\n",
       "        text-align: right;\n",
       "    }\n",
       "</style>\n",
       "<table border=\"1\" class=\"dataframe\">\n",
       "  <thead>\n",
       "    <tr style=\"text-align: right;\">\n",
       "      <th></th>\n",
       "      <th>title</th>\n",
       "      <th>type</th>\n",
       "      <th>url_slug</th>\n",
       "      <th>venue</th>\n",
       "      <th>date</th>\n",
       "      <th>location</th>\n",
       "      <th>talk_url</th>\n",
       "      <th>description</th>\n",
       "    </tr>\n",
       "  </thead>\n",
       "  <tbody>\n",
       "    <tr>\n",
       "      <th>0</th>\n",
       "      <td>Multiplexing Cell-Free Diagnostics via Aqueous...</td>\n",
       "      <td>Conference talk</td>\n",
       "      <td>EBRC-CFATPS-talk</td>\n",
       "      <td>Engineering Biology Research Consortium (EBRC)...</td>\n",
       "      <td>2020-04-29</td>\n",
       "      <td>Virtual</td>\n",
       "      <td>NaN</td>\n",
       "      <td>NaN</td>\n",
       "    </tr>\n",
       "    <tr>\n",
       "      <th>1</th>\n",
       "      <td>Multiplexed Biomarker Detection in Cell-Free S...</td>\n",
       "      <td>Department seminar</td>\n",
       "      <td>GT4thYrCo</td>\n",
       "      <td>Georgia Tech ChBE 4th Year Colloquium</td>\n",
       "      <td>2020-08-12</td>\n",
       "      <td>Virtual</td>\n",
       "      <td>NaN</td>\n",
       "      <td>NaN</td>\n",
       "    </tr>\n",
       "    <tr>\n",
       "      <th>2</th>\n",
       "      <td>The Sweet Solution to Sensing: Repurposing Glu...</td>\n",
       "      <td>Conference talk</td>\n",
       "      <td>GTBioSym</td>\n",
       "      <td>Georgia Tech ChBE 33rd Annual Graduate Researc...</td>\n",
       "      <td>2021-02-22</td>\n",
       "      <td>Virtual</td>\n",
       "      <td>NaN</td>\n",
       "      <td>NaN</td>\n",
       "    </tr>\n",
       "    <tr>\n",
       "      <th>3</th>\n",
       "      <td>New Interfaces for Cell-free Biosensors to Ena...</td>\n",
       "      <td>Award winner presentation</td>\n",
       "      <td>Suddath</td>\n",
       "      <td>Georgia Tech Institute for Bioengineering and ...</td>\n",
       "      <td>2022-01-13</td>\n",
       "      <td>Virtual</td>\n",
       "      <td>NaN</td>\n",
       "      <td>NaN</td>\n",
       "    </tr>\n",
       "    <tr>\n",
       "      <th>4</th>\n",
       "      <td>New Interfaces for Cell-free Biosensors to Ena...</td>\n",
       "      <td>Invited talk</td>\n",
       "      <td>VoigtLabJobTalk</td>\n",
       "      <td>Voigt Lab, MIT</td>\n",
       "      <td>2022-03-14</td>\n",
       "      <td>Boston, MA</td>\n",
       "      <td>NaN</td>\n",
       "      <td>NaN</td>\n",
       "    </tr>\n",
       "    <tr>\n",
       "      <th>5</th>\n",
       "      <td>New Interfaces for Cell-free Biosensors to Ena...</td>\n",
       "      <td>Invited talk</td>\n",
       "      <td>MurrayLabJobTalk</td>\n",
       "      <td>Murray Lab, Caltech</td>\n",
       "      <td>2022-03-28</td>\n",
       "      <td>Pasadena, CA</td>\n",
       "      <td>NaN</td>\n",
       "      <td>NaN</td>\n",
       "    </tr>\n",
       "    <tr>\n",
       "      <th>6</th>\n",
       "      <td>Protocell Arrays for Simultaneous Detection of...</td>\n",
       "      <td>Global seminar</td>\n",
       "      <td>SynByss</td>\n",
       "      <td>Synthetic Biology Young Speaker Series (SynBYSS)</td>\n",
       "      <td>2023-03-02</td>\n",
       "      <td>Virtual</td>\n",
       "      <td>https://youtu.be/vXD8HXvafBY?feature=shared</td>\n",
       "      <td>NaN</td>\n",
       "    </tr>\n",
       "    <tr>\n",
       "      <th>7</th>\n",
       "      <td>Protocell Arrays for Simultaneous Detection of...</td>\n",
       "      <td>Guest presentation</td>\n",
       "      <td>ICL</td>\n",
       "      <td>Paul Freemont Group and Yuval Elani Group at I...</td>\n",
       "      <td>2023-03-26</td>\n",
       "      <td>London, U.K.</td>\n",
       "      <td>NaN</td>\n",
       "      <td>NaN</td>\n",
       "    </tr>\n",
       "  </tbody>\n",
       "</table>\n",
       "</div>"
      ],
      "text/plain": [
       "                                               title  \\\n",
       "0  Multiplexing Cell-Free Diagnostics via Aqueous...   \n",
       "1  Multiplexed Biomarker Detection in Cell-Free S...   \n",
       "2  The Sweet Solution to Sensing: Repurposing Glu...   \n",
       "3  New Interfaces for Cell-free Biosensors to Ena...   \n",
       "4  New Interfaces for Cell-free Biosensors to Ena...   \n",
       "5  New Interfaces for Cell-free Biosensors to Ena...   \n",
       "6  Protocell Arrays for Simultaneous Detection of...   \n",
       "7  Protocell Arrays for Simultaneous Detection of...   \n",
       "\n",
       "                        type          url_slug  \\\n",
       "0            Conference talk  EBRC-CFATPS-talk   \n",
       "1         Department seminar         GT4thYrCo   \n",
       "2            Conference talk          GTBioSym   \n",
       "3  Award winner presentation           Suddath   \n",
       "4               Invited talk   VoigtLabJobTalk   \n",
       "5               Invited talk  MurrayLabJobTalk   \n",
       "6             Global seminar           SynByss   \n",
       "7         Guest presentation               ICL   \n",
       "\n",
       "                                               venue        date  \\\n",
       "0  Engineering Biology Research Consortium (EBRC)...  2020-04-29   \n",
       "1              Georgia Tech ChBE 4th Year Colloquium  2020-08-12   \n",
       "2  Georgia Tech ChBE 33rd Annual Graduate Researc...  2021-02-22   \n",
       "3  Georgia Tech Institute for Bioengineering and ...  2022-01-13   \n",
       "4                                     Voigt Lab, MIT  2022-03-14   \n",
       "5                                Murray Lab, Caltech  2022-03-28   \n",
       "6   Synthetic Biology Young Speaker Series (SynBYSS)  2023-03-02   \n",
       "7  Paul Freemont Group and Yuval Elani Group at I...  2023-03-26   \n",
       "\n",
       "       location                                     talk_url  description  \n",
       "0       Virtual                                          NaN          NaN  \n",
       "1       Virtual                                          NaN          NaN  \n",
       "2       Virtual                                          NaN          NaN  \n",
       "3       Virtual                                          NaN          NaN  \n",
       "4    Boston, MA                                          NaN          NaN  \n",
       "5  Pasadena, CA                                          NaN          NaN  \n",
       "6       Virtual  https://youtu.be/vXD8HXvafBY?feature=shared          NaN  \n",
       "7  London, U.K.                                          NaN          NaN  "
      ]
     },
     "execution_count": 48,
     "metadata": {},
     "output_type": "execute_result"
    }
   ],
   "source": [
    "talks = pd.read_csv(\"talks.tsv\", sep=\"\\t\", header=0)\n",
    "talks"
   ]
  },
  {
   "cell_type": "markdown",
   "metadata": {},
   "source": [
    "## Escape special characters\n",
    "\n",
    "YAML is very picky about how it takes a valid string, so we are replacing single and double quotes (and ampersands) with their HTML encoded equivilents. This makes them look not so readable in raw format, but they are parsed and rendered nicely."
   ]
  },
  {
   "cell_type": "code",
   "execution_count": 49,
   "metadata": {},
   "outputs": [],
   "source": [
    "html_escape_table = {\n",
    "    \"&\": \"&amp;\",\n",
    "    '\"': \"&quot;\",\n",
    "    \"'\": \"&apos;\"\n",
    "    }\n",
    "\n",
    "def html_escape(text):\n",
    "    if type(text) is str:\n",
    "        return \"\".join(html_escape_table.get(c,c) for c in text)\n",
    "    else:\n",
    "        return \"False\""
   ]
  },
  {
   "cell_type": "markdown",
   "metadata": {},
   "source": [
    "## Creating the markdown files\n",
    "\n",
    "This is where the heavy lifting is done. This loops through all the rows in the TSV dataframe, then starts to concatentate a big string (```md```) that contains the markdown for each type. It does the YAML metadata first, then does the description for the individual page."
   ]
  },
  {
   "cell_type": "code",
   "execution_count": 50,
   "metadata": {},
   "outputs": [],
   "source": [
    "loc_dict = {}\n",
    "\n",
    "for row, item in talks.iterrows():\n",
    "    \n",
    "    md_filename = str(item.date) + \"-\" + item.url_slug + \".md\"\n",
    "    html_filename = str(item.date) + \"-\" + item.url_slug \n",
    "    year = item.date[:4]\n",
    "    \n",
    "    md = \"---\\ntitle: \\\"\"   + item.title + '\"\\n'\n",
    "    md += \"collection: talks\" + \"\\n\"\n",
    "    \n",
    "    if len(str(item.type)) > 3:\n",
    "        md += 'type: \"' + item.type + '\"\\n'\n",
    "    else:\n",
    "        md += 'type: \"Talk\"\\n'\n",
    "    \n",
    "    md += \"permalink: /talks/\" + html_filename + \"\\n\"\n",
    "    \n",
    "    if len(str(item.venue)) > 3:\n",
    "        md += 'venue: \"' + item.venue + '\"\\n'\n",
    "        \n",
    "    if len(str(item.location)) > 3:\n",
    "        md += \"date: \" + str(item.date) + \"\\n\"\n",
    "    \n",
    "    if len(str(item.location)) > 3:\n",
    "        md += 'location: \"' + str(item.location) + '\"\\n'\n",
    "           \n",
    "    md += \"---\\n\"\n",
    "    \n",
    "    \n",
    "    if len(str(item.talk_url)) > 3:\n",
    "        md += \"\\n[More information here](\" + item.talk_url + \")\\n\" \n",
    "        \n",
    "    \n",
    "    if len(str(item.description)) > 3:\n",
    "        md += \"\\n\" + html_escape(item.description) + \"\\n\"\n",
    "        \n",
    "        \n",
    "    md_filename = os.path.basename(md_filename)\n",
    "    #print(md)\n",
    "    \n",
    "    with open(\"../_talks/\" + md_filename, 'w') as f:\n",
    "        f.write(md)"
   ]
  },
  {
   "cell_type": "markdown",
   "metadata": {},
   "source": [
    "These files are in the talks directory, one directory below where we're working from."
   ]
  },
  {
   "cell_type": "code",
   "execution_count": 51,
   "metadata": {},
   "outputs": [
    {
     "name": "stdout",
     "output_type": "stream",
     "text": [
      "2020-04-29-EBRC-CFATPS-talk.md 2022-03-14-VoigtLabJobTalk.md\r\n",
      "2020-08-12-GT4thYrCo.md        2022-03-28-MurrayLabJobTalk.md\r\n",
      "2021-02-22-GTBioSym.md         2023-03-02-SynByss.md\r\n",
      "2022-01-13-Suddath.md          2023-03-26-ICL.md\r\n"
     ]
    }
   ],
   "source": [
    "!ls ../_talks"
   ]
  },
  {
   "cell_type": "code",
   "execution_count": 52,
   "metadata": {},
   "outputs": [
    {
     "name": "stdout",
     "output_type": "stream",
     "text": [
      "cat: ../_talks/2013-03-01-tutorial-1.md: No such file or directory\r\n"
     ]
    }
   ],
   "source": [
    "!cat ../_talks/2013-03-01-tutorial-1.md"
   ]
  },
  {
   "cell_type": "code",
   "execution_count": null,
   "metadata": {},
   "outputs": [],
   "source": []
  }
 ],
 "metadata": {
  "kernelspec": {
   "display_name": "Python 3 (ipykernel)",
   "language": "python",
   "name": "python3"
  },
  "language_info": {
   "codemirror_mode": {
    "name": "ipython",
    "version": 3
   },
   "file_extension": ".py",
   "mimetype": "text/x-python",
   "name": "python",
   "nbconvert_exporter": "python",
   "pygments_lexer": "ipython3",
   "version": "3.11.5"
  }
 },
 "nbformat": 4,
 "nbformat_minor": 1
}
