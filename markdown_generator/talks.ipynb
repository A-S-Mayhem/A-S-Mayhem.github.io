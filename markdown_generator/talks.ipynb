{
 "cells": [
  {
   "cell_type": "markdown",
   "metadata": {},
   "source": [
    "# Talks markdown generator for academicpages\n",
    "\n",
    "Takes a TSV of talks with metadata and converts them for use with [academicpages.github.io](academicpages.github.io). This is an interactive Jupyter notebook ([see more info here](http://jupyter-notebook-beginner-guide.readthedocs.io/en/latest/what_is_jupyter.html)). The core python code is also in `talks.py`. Run either from the `markdown_generator` folder after replacing `talks.tsv` with one containing your data.\n",
    "\n",
    "TODO: Make this work with BibTex and other databases, rather than Stuart's non-standard TSV format and citation style."
   ]
  },
  {
   "cell_type": "code",
   "execution_count": 2,
   "metadata": {},
   "outputs": [],
   "source": [
    "import pandas as pd\n",
    "import os"
   ]
  },
  {
   "cell_type": "markdown",
   "metadata": {},
   "source": [
    "## Data format\n",
    "\n",
    "The TSV needs to have the following columns: title, type, url_slug, venue, date, location, talk_url, description, with a header at the top. Many of these fields can be blank, but the columns must be in the TSV.\n",
    "\n",
    "- Fields that cannot be blank: `title`, `url_slug`, `date`. All else can be blank. `type` defaults to \"Talk\" \n",
    "- `date` must be formatted as YYYY-MM-DD.\n",
    "- `url_slug` will be the descriptive part of the .md file and the permalink URL for the page about the paper. \n",
    "    - The .md file will be `YYYY-MM-DD-[url_slug].md` and the permalink will be `https://[yourdomain]/talks/YYYY-MM-DD-[url_slug]`\n",
    "    - The combination of `url_slug` and `date` must be unique, as it will be the basis for your filenames\n",
    "\n",
    "This is how the raw file looks (it doesn't look pretty, use a spreadsheet or other program to edit and create)."
   ]
  },
  {
   "cell_type": "code",
   "execution_count": 3,
   "metadata": {},
   "outputs": [
    {
     "name": "stderr",
     "output_type": "stream",
     "text": [
      "'cat' is not recognized as an internal or external command,\n",
      "operable program or batch file.\n"
     ]
    }
   ],
   "source": [
    "!cat talks.tsv"
   ]
  },
  {
   "cell_type": "markdown",
   "metadata": {},
   "source": [
    "## Import TSV\n",
    "\n",
    "Pandas makes this easy with the read_csv function. We are using a TSV, so we specify the separator as a tab, or `\\t`.\n",
    "\n",
    "I found it important to put this data in a tab-separated values format, because there are a lot of commas in this kind of data and comma-separated values can get messed up. However, you can modify the import statement, as pandas also has read_excel(), read_json(), and others."
   ]
  },
  {
   "cell_type": "code",
   "execution_count": 8,
   "metadata": {},
   "outputs": [
    {
     "data": {
      "text/html": [
       "<div>\n",
       "<style scoped>\n",
       "    .dataframe tbody tr th:only-of-type {\n",
       "        vertical-align: middle;\n",
       "    }\n",
       "\n",
       "    .dataframe tbody tr th {\n",
       "        vertical-align: top;\n",
       "    }\n",
       "\n",
       "    .dataframe thead th {\n",
       "        text-align: right;\n",
       "    }\n",
       "</style>\n",
       "<table border=\"1\" class=\"dataframe\">\n",
       "  <thead>\n",
       "    <tr style=\"text-align: right;\">\n",
       "      <th></th>\n",
       "      <th>title</th>\n",
       "      <th>type</th>\n",
       "      <th>url_slug</th>\n",
       "      <th>venue</th>\n",
       "      <th>date</th>\n",
       "      <th>location</th>\n",
       "      <th>talk_url</th>\n",
       "      <th>description</th>\n",
       "    </tr>\n",
       "  </thead>\n",
       "  <tbody>\n",
       "    <tr>\n",
       "      <th>0</th>\n",
       "      <td>Structure or Nurture? The Effects of Team-Buil...</td>\n",
       "      <td>Conference presentation</td>\n",
       "      <td>psych-safety-cscw</td>\n",
       "      <td>ACM Conference on Computer-Supported Cooperati...</td>\n",
       "      <td>2018-11-05</td>\n",
       "      <td>Jersey City, NJ</td>\n",
       "      <td>https://emhastings.github.io/files/psych-safet...</td>\n",
       "      <td>Presentation of [conference paper](https://emh...</td>\n",
       "    </tr>\n",
       "    <tr>\n",
       "      <th>1</th>\n",
       "      <td>The History and Construction of Elizabethan En...</td>\n",
       "      <td>Talk</td>\n",
       "      <td>costume-final</td>\n",
       "      <td>Knox College</td>\n",
       "      <td>2016-05-25</td>\n",
       "      <td>Galesburg, IL</td>\n",
       "      <td>NaN</td>\n",
       "      <td>Presentation of independent study research. Fo...</td>\n",
       "    </tr>\n",
       "    <tr>\n",
       "      <th>2</th>\n",
       "      <td>Knoxcraft: Teaching Introductory Programming w...</td>\n",
       "      <td>Poster</td>\n",
       "      <td>knoxcraft-horizons</td>\n",
       "      <td>Knox College Horizons Celebration of Student R...</td>\n",
       "      <td>2016-04-08</td>\n",
       "      <td>Galesburg, IL</td>\n",
       "      <td>https://emhastings.github.io/files/knoxcraft-h...</td>\n",
       "      <td>See [article on Knox website](https://www.knox...</td>\n",
       "    </tr>\n",
       "    <tr>\n",
       "      <th>3</th>\n",
       "      <td>Knoxcraft: Teaching Introductory Programming w...</td>\n",
       "      <td>Talk</td>\n",
       "      <td>knoxcraft-ssss</td>\n",
       "      <td>Knox College Summer Science Seminar Series</td>\n",
       "      <td>2015-08-18</td>\n",
       "      <td>Galesburg, IL</td>\n",
       "      <td>https://emhastings.github.io/files/knoxcraft-s...</td>\n",
       "      <td>Check out the [Knoxcraft website](https://knox...</td>\n",
       "    </tr>\n",
       "    <tr>\n",
       "      <th>4</th>\n",
       "      <td>Adventures in Parallel Programming</td>\n",
       "      <td>Pecha Kucha</td>\n",
       "      <td>parallel-horizons</td>\n",
       "      <td>Knox College Horizons Celebration of Student R...</td>\n",
       "      <td>2015-04-10</td>\n",
       "      <td>Galesburg, IL</td>\n",
       "      <td>https://emhastings.github.io/files/parallel-ho...</td>\n",
       "      <td>See [article on Knox website](https://www.knox...</td>\n",
       "    </tr>\n",
       "    <tr>\n",
       "      <th>5</th>\n",
       "      <td>Adventures in Parallel Programming</td>\n",
       "      <td>Talk</td>\n",
       "      <td>parallel-ssss</td>\n",
       "      <td>Knox College Summer Science Seminar Series</td>\n",
       "      <td>2014-08-18</td>\n",
       "      <td>Galesburg, IL</td>\n",
       "      <td>https://emhastings.github.io/files/parallel-ss...</td>\n",
       "      <td>Winner of the Best Student Seminar Award for 2...</td>\n",
       "    </tr>\n",
       "    <tr>\n",
       "      <th>6</th>\n",
       "      <td>The History and Construction of Elizabethan En...</td>\n",
       "      <td>Poster</td>\n",
       "      <td>costume-horizons</td>\n",
       "      <td>Knox College Horizons Celebration of Student R...</td>\n",
       "      <td>2014-02-11</td>\n",
       "      <td>Galesburg, IL</td>\n",
       "      <td>https://emhastings.github.io/files/costume-hor...</td>\n",
       "      <td>For more information, see [Facebook photo albu...</td>\n",
       "    </tr>\n",
       "    <tr>\n",
       "      <th>7</th>\n",
       "      <td>Dragonfly Interconnect Topology</td>\n",
       "      <td>Poster</td>\n",
       "      <td>dragonfly-horizons</td>\n",
       "      <td>Knox College Horizons Celebration of Student R...</td>\n",
       "      <td>2014-02-11</td>\n",
       "      <td>Galesburg, IL</td>\n",
       "      <td>https://emhastings.github.io/files/dragonfly-h...</td>\n",
       "      <td>See [article on Knox website](https://www.knox...</td>\n",
       "    </tr>\n",
       "    <tr>\n",
       "      <th>8</th>\n",
       "      <td>Dragonfly Interconnect Topology</td>\n",
       "      <td>Talk</td>\n",
       "      <td>dragonfly-ssss</td>\n",
       "      <td>Knox College Summer Science Seminar Series</td>\n",
       "      <td>2013-08-08</td>\n",
       "      <td>Galesburg, IL</td>\n",
       "      <td>https://emhastings.github.io/files/dragonfly-s...</td>\n",
       "      <td>NaN</td>\n",
       "    </tr>\n",
       "  </tbody>\n",
       "</table>\n",
       "</div>"
      ],
      "text/plain": [
       "                                               title                     type  \\\n",
       "0  Structure or Nurture? The Effects of Team-Buil...  Conference presentation   \n",
       "1  The History and Construction of Elizabethan En...                     Talk   \n",
       "2  Knoxcraft: Teaching Introductory Programming w...                   Poster   \n",
       "3  Knoxcraft: Teaching Introductory Programming w...                     Talk   \n",
       "4                Adventures in Parallel Programming               Pecha Kucha   \n",
       "5                Adventures in Parallel Programming                      Talk   \n",
       "6  The History and Construction of Elizabethan En...                   Poster   \n",
       "7                   Dragonfly Interconnect Topology                    Poster   \n",
       "8                   Dragonfly Interconnect Topology                      Talk   \n",
       "\n",
       "             url_slug                                              venue  \\\n",
       "0   psych-safety-cscw  ACM Conference on Computer-Supported Cooperati...   \n",
       "1       costume-final                                       Knox College   \n",
       "2  knoxcraft-horizons  Knox College Horizons Celebration of Student R...   \n",
       "3      knoxcraft-ssss         Knox College Summer Science Seminar Series   \n",
       "4   parallel-horizons  Knox College Horizons Celebration of Student R...   \n",
       "5       parallel-ssss         Knox College Summer Science Seminar Series   \n",
       "6    costume-horizons  Knox College Horizons Celebration of Student R...   \n",
       "7  dragonfly-horizons  Knox College Horizons Celebration of Student R...   \n",
       "8      dragonfly-ssss         Knox College Summer Science Seminar Series   \n",
       "\n",
       "         date         location  \\\n",
       "0  2018-11-05  Jersey City, NJ   \n",
       "1  2016-05-25    Galesburg, IL   \n",
       "2  2016-04-08    Galesburg, IL   \n",
       "3  2015-08-18    Galesburg, IL   \n",
       "4  2015-04-10    Galesburg, IL   \n",
       "5  2014-08-18    Galesburg, IL   \n",
       "6  2014-02-11    Galesburg, IL   \n",
       "7  2014-02-11    Galesburg, IL   \n",
       "8  2013-08-08    Galesburg, IL   \n",
       "\n",
       "                                            talk_url  \\\n",
       "0  https://emhastings.github.io/files/psych-safet...   \n",
       "1                                                NaN   \n",
       "2  https://emhastings.github.io/files/knoxcraft-h...   \n",
       "3  https://emhastings.github.io/files/knoxcraft-s...   \n",
       "4  https://emhastings.github.io/files/parallel-ho...   \n",
       "5  https://emhastings.github.io/files/parallel-ss...   \n",
       "6  https://emhastings.github.io/files/costume-hor...   \n",
       "7  https://emhastings.github.io/files/dragonfly-h...   \n",
       "8  https://emhastings.github.io/files/dragonfly-s...   \n",
       "\n",
       "                                         description  \n",
       "0  Presentation of [conference paper](https://emh...  \n",
       "1  Presentation of independent study research. Fo...  \n",
       "2  See [article on Knox website](https://www.knox...  \n",
       "3  Check out the [Knoxcraft website](https://knox...  \n",
       "4  See [article on Knox website](https://www.knox...  \n",
       "5  Winner of the Best Student Seminar Award for 2...  \n",
       "6  For more information, see [Facebook photo albu...  \n",
       "7  See [article on Knox website](https://www.knox...  \n",
       "8                                                NaN  "
      ]
     },
     "execution_count": 8,
     "metadata": {},
     "output_type": "execute_result"
    }
   ],
   "source": [
    "talks = pd.read_csv(\"talks.tsv\", sep=\"\\t\", header=0)\n",
    "talks"
   ]
  },
  {
   "cell_type": "markdown",
   "metadata": {},
   "source": [
    "## Escape special characters\n",
    "\n",
    "YAML is very picky about how it takes a valid string, so we are replacing single and double quotes (and ampersands) with their HTML encoded equivilents. This makes them look not so readable in raw format, but they are parsed and rendered nicely."
   ]
  },
  {
   "cell_type": "code",
   "execution_count": 9,
   "metadata": {},
   "outputs": [],
   "source": [
    "html_escape_table = {\n",
    "    \"&\": \"&amp;\",\n",
    "    '\"': \"&quot;\",\n",
    "    \"'\": \"&apos;\"\n",
    "    }\n",
    "\n",
    "def html_escape(text):\n",
    "    if type(text) is str:\n",
    "        return \"\".join(html_escape_table.get(c,c) for c in text)\n",
    "    else:\n",
    "        return \"False\""
   ]
  },
  {
   "cell_type": "markdown",
   "metadata": {},
   "source": [
    "## Creating the markdown files\n",
    "\n",
    "This is where the heavy lifting is done. This loops through all the rows in the TSV dataframe, then starts to concatentate a big string (```md```) that contains the markdown for each type. It does the YAML metadata first, then does the description for the individual page."
   ]
  },
  {
   "cell_type": "code",
   "execution_count": 11,
   "metadata": {},
   "outputs": [],
   "source": [
    "loc_dict = {}\n",
    "\n",
    "for row, item in talks.iterrows():\n",
    "    \n",
    "    md_filename = str(item.date) + \"-\" + item.url_slug + \".md\"\n",
    "    html_filename = str(item.date) + \"-\" + item.url_slug \n",
    "    year = item.date[:4]\n",
    "    \n",
    "    md = \"---\\ntitle: \\\"\"   + item.title + '\"\\n'\n",
    "    md += \"collection: talks\" + \"\\n\"\n",
    "    \n",
    "    if len(str(item.type)) > 3:\n",
    "        md += 'type: \"' + item.type + '\"\\n'\n",
    "    else:\n",
    "        md += 'type: \"Talk\"\\n'\n",
    "    \n",
    "    md += \"permalink: /talks/\" + html_filename + \"\\n\"\n",
    "    \n",
    "    if len(str(item.venue)) > 3:\n",
    "        md += 'venue: \"' + item.venue + '\"\\n'\n",
    "        \n",
    "    if len(str(item.location)) > 3:\n",
    "        md += \"date: \" + str(item.date) + \"\\n\"\n",
    "    \n",
    "    if len(str(item.location)) > 3:\n",
    "        md += 'location: \"' + str(item.location) + '\"\\n'\n",
    "        \n",
    "    md += 'excerpt: \"' + item.description + '\"\\n'\n",
    "           \n",
    "    md += \"---\\n\"\n",
    "    \n",
    "    md += \"\\n\" + item.type + \", \" + item.venue + \", \" + item.location + \"\\n\"        \n",
    "    \n",
    "    if len(str(item.description)) > 3:\n",
    "        md += \"\\n\" + html_escape(item.description) + \"\\n\"\n",
    "        \n",
    "    if len(str(item.talk_url)) > 3:\n",
    "        md += \"\\n[Download here](\" + item.talk_url + \")\\n\" \n",
    "        \n",
    "    md_filename = os.path.basename(md_filename)\n",
    "    #print(md)\n",
    "    \n",
    "    with open(\"../_talks/\" + md_filename, 'w') as f:\n",
    "        f.write(md)"
   ]
  },
  {
   "cell_type": "markdown",
   "metadata": {},
   "source": [
    "These files are in the talks directory, one directory below where we're working from."
   ]
  },
  {
   "cell_type": "code",
   "execution_count": 6,
   "metadata": {},
   "outputs": [
    {
     "name": "stdout",
     "output_type": "stream",
     "text": [
      "2012-03-01-talk-1.md\t  2014-02-01-talk-2.md\r\n",
      "2013-03-01-tutorial-1.md  2014-03-01-talk-3.md\r\n"
     ]
    }
   ],
   "source": [
    "!ls ../_talks"
   ]
  },
  {
   "cell_type": "code",
   "execution_count": 7,
   "metadata": {},
   "outputs": [
    {
     "name": "stdout",
     "output_type": "stream",
     "text": [
      "---\r\n",
      "title: \"Tutorial 1 on Relevant Topic in Your Field\"\r\n",
      "collection: talks\r\n",
      "type: \"Tutorial\"\r\n",
      "permalink: /talks/2013-03-01-tutorial-1\r\n",
      "venue: \"UC-Berkeley Institute for Testing Science\"\r\n",
      "date: 2013-03-01\r\n",
      "location: \"Berkeley CA, USA\"\r\n",
      "---\r\n",
      "\r\n",
      "[More information here](http://exampleurl.com)\r\n",
      "\r\n",
      "This is a description of your tutorial, note the different field in type. This is a markdown files that can be all markdown-ified like any other post. Yay markdown!\r\n"
     ]
    }
   ],
   "source": [
    "!cat ../_talks/2013-03-01-tutorial-1.md"
   ]
  }
 ],
 "metadata": {
  "kernelspec": {
   "display_name": "Python 3",
   "language": "python",
   "name": "python3"
  },
  "language_info": {
   "codemirror_mode": {
    "name": "ipython",
    "version": 3
   },
   "file_extension": ".py",
   "mimetype": "text/x-python",
   "name": "python",
   "nbconvert_exporter": "python",
   "pygments_lexer": "ipython3",
   "version": "3.6.5"
  }
 },
 "nbformat": 4,
 "nbformat_minor": 1
}
