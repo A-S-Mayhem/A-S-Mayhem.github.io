{
 "cells": [
  {
   "cell_type": "markdown",
   "id": "6308166f",
   "metadata": {},
   "source": [
    "# Capacity Comparison: 100-Person Space Station vs. ISS\n",
    "## Known aspects of the ISS (or Data)\n",
    "The volume of the ISS is:\n",
    "- Total Pressurized Volume, $(V_{tot})_{ISS}$: $916 \\,m^3$\n",
    "- Habitable Volume, $(V_{hab})_{ISS}$: $388 \\,m^3$\n",
    "\n",
    "This means about $42\\%$ of the ISS's total volume is habitable. It typically hosts a:\n",
    "- Standard crew, $n_{avg} = 7$ astronauts.\n",
    "- Maximum crew of,$n_{max} = 13$ astronauts (short-term).\n",
    "\n",
    "Not sure when this will matter in my analysis but the ISS mass is $420,000 \\, kg$."
   ]
  },
  {
   "cell_type": "code",
   "execution_count": 1,
   "id": "8b5963b4",
   "metadata": {},
   "outputs": [
    {
     "name": "stdout",
     "output_type": "stream",
     "text": [
      "max volume per crew 64.66666666666667\n",
      "min volume per crew 29.846153846153847\n",
      "ideal volume per crew 152.66666666666666\n",
      "habitable percentage 42.35807860262009\n"
     ]
    }
   ],
   "source": [
    "ISS_Pressurized_Volume = 916 #m^3\n",
    "ISS_Habitable_Volume = 388 #m^3\n",
    "ISS_min_crew = 6 #astronauts\n",
    "ISS_max_crew = 13 #astronauts\n",
    "max_volume_per_crew_ISS = ISS_Habitable_Volume/ISS_min_crew\n",
    "min_volume_per_crew_ISS = ISS_Habitable_Volume/ISS_max_crew\n",
    "ideal_volume_per_crew_ISS = ISS_Pressurized_Volume/ISS_min_crew\n",
    "print(\"max volume per crew\", max_volume_per_crew_ISS)\n",
    "print(\"min volume per crew\", min_volume_per_crew_ISS)\n",
    "print(\"ideal volume per crew\", ideal_volume_per_crew_ISS)\n",
    "print(\"habitable percentage\", 100*ISS_Habitable_Volume/ISS_Pressurized_Volume)"
   ]
  },
  {
   "cell_type": "markdown",
   "id": "6ae7e2b0",
   "metadata": {},
   "source": [
    "## Known aspects of Von Braun's Rotating Wheel Space Station\n",
    "Wernher von Braun's [video](https://www.youtube.com/watch?v=5JJL8CUfF-o) says that a rotating wheel space station would have 9 sections for:\n",
    "1. Headquarter and Communications\n",
    "2. Earth Weather Observation/Prediction\n",
    "3. Military Reconnaisance using Optical and Radar Telescopes\n",
    "4. Emergency Hospital Section\n",
    "5. Astronomy\n",
    "6. Calculation Machines and a lower/outer deck with maintenance facilities\n",
    "7. A/C equipment\n",
    "8. Living quarters\n",
    "9. Botanical and Zoological Laboratory\n",
    "The video shows two decks throughout the space station, which I assume is 6 $m$ height in total. Wikipedia says 3 decks, but I will stick to two 6 $m$ decks for now.\n",
    "\n",
    "The system is powered by an atomic reactor attached on one side of its central hub; its heat will drive a turbogenerator to power the station.\n",
    "Radio and radar antennas sit atop the reactor. The other side of the hub has an airlock for astronauts to access/exit the space station via smaller spacecraft. Like a bicycle wheel, the system had thin spokes are condensers for the turbogenerator and air-conditioning plant. Three larger tubes are elevator shafts that connect the hub to the main habitable sections of the wheel station. The station would:\n",
    "- host 50 astronauts though [Wikipedia](https://en.wikipedia.org/wiki/Rotating_wheel_space_station#History) states 80 people.\n",
    "- rotate at roughly 3 rpm to produce artificial gravity on the rim; and\n",
    "- be a torus of 250 $ft$ (76  $m$) diameter. The distance from the center of the tube to the center of the torus is $R = 70/2 = 35 \\, m$ and the minor radius of the tube is $r = 6/2 = 3 \\, m$. The volume of this torus is then the station's total pressurized volume, which is given by:\n",
    "$(V_{tot})_{vB} = 2 \\pi^2 R r^2$\n",
    "\n",
    "So, we can estimate the volume of the the von Braun space station as:\n",
    "- Total Pressurized Volume: 6217.85 $m^3$\n",
    "- Habitable Volume: 3730.71 $m^3$"
   ]
  },
  {
   "cell_type": "code",
   "execution_count": 2,
   "id": "cfaf4fe9",
   "metadata": {},
   "outputs": [
    {
     "name": "stdout",
     "output_type": "stream",
     "text": [
      "vb_wheel_Pressurized_Volume 6217.850772686295\n",
      "vb_wheel_Habitable_Volume 3730.710463611777\n",
      "max volume per crew 74.61420927223554\n",
      "min volume per crew 37.30710463611777\n",
      "ideal volume per crew 124.35701545372591\n"
     ]
    }
   ],
   "source": [
    "from math import pi\n",
    "vb_wheel_dia = 70 #m\n",
    "vb_wheel_height = 6 #m\n",
    "\n",
    "vb_wheel_Pressurized_Volume = 2 * pi**2 * (vb_wheel_dia/2) * (vb_wheel_height/2)**2 #m^3\n",
    "habitable_factor_ISS = ISS_Habitable_Volume/ISS_Pressurized_Volume\n",
    "habitable_factor_targeted = 0.6\n",
    "vb_wheel_Habitable_Volume = vb_wheel_Pressurized_Volume * habitable_factor_targeted  #m^3\n",
    "\n",
    "vb_wheel_std_crew = 50 #astronauts\n",
    "vb_wheel_max_crew = 100 #astronauts\n",
    "max_volume_per_crew_vb = vb_wheel_Habitable_Volume/vb_wheel_std_crew\n",
    "min_volume_per_crew_vb = vb_wheel_Habitable_Volume/vb_wheel_max_crew\n",
    "ideal_volume_per_crew_vb = vb_wheel_Pressurized_Volume/vb_wheel_std_crew\n",
    "print(\"vb_wheel_Pressurized_Volume\", vb_wheel_Pressurized_Volume)\n",
    "print(\"vb_wheel_Habitable_Volume\", vb_wheel_Habitable_Volume)\n",
    "print(\"max volume per crew\", max_volume_per_crew_vb)\n",
    "print(\"min volume per crew\", min_volume_per_crew_vb)\n",
    "print(\"ideal volume per crew\", ideal_volume_per_crew_vb)"
   ]
  },
  {
   "cell_type": "code",
   "execution_count": 3,
   "id": "174e18e8",
   "metadata": {},
   "outputs": [
    {
     "name": "stdout",
     "output_type": "stream",
     "text": [
      "habitable_ratios 9.6152331536386\n",
      "Pressurized_ratios 6.788046695072375\n"
     ]
    }
   ],
   "source": [
    "habitable_ratios = vb_wheel_Habitable_Volume/ISS_Habitable_Volume\n",
    "Pressurized_ratios = vb_wheel_Pressurized_Volume/ISS_Pressurized_Volume\n",
    "print(\"habitable_ratios of von Braun's wheel vs ISS\", habitable_ratios)\n",
    "print(\"Pressurized_ratios of von Braun's wheel vs ISS\", Pressurized_ratios)"
   ]
  },
  {
   "cell_type": "markdown",
   "id": "07edd60a",
   "metadata": {},
   "source": [
    "### How did von Braun imagine its realisation?\n",
    "Pre-fabricated and tested on the ground after which it is dismantled and assembled robotically in-orbit.\n",
    "\n",
    "First, the hub is inflated using compressed air from built-in tanks. Protection from meteors is ensured by putting thin metal plates; this is unnecessary today as we have developed high-strength textiles that are used on inflatable space stations.\n",
    "\n",
    "A second launch brings with it an airlock, which is again attached by robots; this allows the pressurized hub to be used as a temporary quarters as the station assembly continues with astronaut-robot teams.\n",
    "\n",
    "A number successive launches (he says) ensure the \"parts of the station  are assembled in the correct order\". Nylon tethers prevent parts from drifting away.\n",
    "\n",
    "The reactor appears to be the next big piece that is installed so I assume this is the third launch. This is followed by the elevator shafts and the rim sections being brought together. We can assume a single launch for each module: $3$ elevator tubes and 9 rim modules (assuming one per section).\n",
    "\n",
    "![](../assets/imgs/AssemblyOfRim.png)\n",
    "\n",
    "Assuming condenser pipes are installed from one launch (but the strucutre itself needs to be unwound robotically, which seems unreasonable/unreal at the moment as a robotic task.\n",
    "![](../assets/imgs/CondenserPipesInstallation.png)\n",
    "\n",
    "Lastly, the installation of instruments/equipment (a simple catch-all term for imaging antennas and the lab facilities compute for astornomical/EO data analysis, I think) and two small rocket motors on the rim. These rocket motors \"blast for a few seconds\" to revolve the station at about $3 \\, RPM$. \n",
    "\n",
    "\n",
    "\n",
    "### Some Percieved Gaps in Design:\n",
    "1. Assumes a launch every 24 hours- not close to it then and not really close to that kind of cadence today. What could we do today?\n",
    "2. Doesn't really say how many launches are needed to realize assembly in the video. This can probably be found elsewhere but my estimate from watching the video is 15-18 launches.\n",
    "3. The process involves a number of assembly robots but we barely have one of these today. And whatever is there not autonomous.\n",
    "\n",
    "### Question: How can we double the total volume of the von Braun wheel?\n",
    "To double the wheel's pressurized volume to 12435.7 $m^3$, one option is to increase the tube's height to 8.48 $m$. "
   ]
  },
  {
   "cell_type": "code",
   "execution_count": 4,
   "id": "17b60e39",
   "metadata": {},
   "outputs": [
    {
     "name": "stdout",
     "output_type": "stream",
     "text": [
      "doubled vb_wheel_Pressurized_Volume 12435.701545372594 when tube dia is 8.485281374238571\n"
     ]
    }
   ],
   "source": [
    "from math import sqrt\n",
    "vb_wheel_height_for_doubled_volume = 6 * sqrt(2) #m\n",
    "vb_wheel_Pressurized_Volume_doubled = 2 * pi**2 * (vb_wheel_dia/2) * (vb_wheel_height_for_doubled_volume/2)**2 #m^3\n",
    "print(\"doubled vb_wheel_Pressurized_Volume\", vb_wheel_Pressurized_Volume_doubled, \"when tube dia is\", vb_wheel_height_for_doubled_volume)"
   ]
  },
  {
   "cell_type": "markdown",
   "id": "b58a36f7",
   "metadata": {},
   "source": [
    "The other option is to increase the torus's diameter altogether, which we discuss later."
   ]
  },
  {
   "cell_type": "markdown",
   "id": "4b1425c0",
   "metadata": {},
   "source": [
    "### Question: Are there reasons to increase the radius of the wheel as opposed to the height of the tube?\n",
    "One benefit might be that you need to rotate the tube slower to generate artificial gravity."
   ]
  },
  {
   "cell_type": "code",
   "execution_count": 5,
   "id": "955f8888",
   "metadata": {},
   "outputs": [
    {
     "name": "stdout",
     "output_type": "stream",
     "text": [
      "rot speed of von Braun wheel to generate a third of Earth g is 0.30566087650952556 rad/s or 2.918839538861016 RPM\n"
     ]
    }
   ],
   "source": [
    "vb_wheel_radius = vb_wheel_dia / 2\n",
    "earth_g = 9.81 #m/s^2\n",
    "rot_speed_vb = sqrt(1/3*earth_g/vb_wheel_radius)\n",
    "print(\"rot speed of von Braun wheel to generate a third of Earth g is\", rot_speed_vb, \"rad/s or\", rot_speed_vb/0.10472, \"RPM\")"
   ]
  },
  {
   "cell_type": "markdown",
   "id": "dce9bcf5",
   "metadata": {},
   "source": [
    "Comparing my calculations to [2001: A Space Odyssey's Space Staiton V](https://youtu.be/im-JM0f_J7s?t=136)"
   ]
  },
  {
   "cell_type": "code",
   "execution_count": 6,
   "id": "9a89acaf",
   "metadata": {},
   "outputs": [
    {
     "name": "stdout",
     "output_type": "stream",
     "text": [
      "2001's wheel generates Moon's gravity by rotating at 0.10503967504392488 rad/s or 1.003052664666968 RPM\n",
      "2001's wheel generates third of Earth's gravity by rotating at 0.147648230602334 rad/s or 1.4099334473102942 RPM\n",
      "2001's wheel generates third of Earth's gravity by rotating at 0.25573423705088844 rad/s or 2.442076366032166 RPM\n"
     ]
    }
   ],
   "source": [
    "SSV_wheel_radius = 150 #m\n",
    "moon_g = 1.655 #m/s^2\n",
    "rot_speed_SSV_for_moon_g = sqrt(moon_g/SSV_wheel_radius)\n",
    "print(\"2001's wheel generates Moon's gravity by rotating at\", rot_speed_SSV_for_moon_g, \"rad/s or\", rot_speed_SSV_for_moon_g/0.10472, \"RPM\")\n",
    "rot_speed_SSV_for_earth_g = sqrt(1/3*earth_g/SSV_wheel_radius)\n",
    "print(\"2001's wheel generates third of Earth's gravity by rotating at\", rot_speed_SSV_for_earth_g, \"rad/s or\", rot_speed_SSV_for_earth_g/0.10472, \"RPM\")\n",
    "rot_speed_SSV_for_earth_g = sqrt(earth_g/SSV_wheel_radius)\n",
    "print(\"2001's wheel generates third of Earth's gravity by rotating at\", rot_speed_SSV_for_earth_g, \"rad/s or\", rot_speed_SSV_for_earth_g/0.10472, \"RPM\")"
   ]
  },
  {
   "cell_type": "markdown",
   "id": "bfc94662",
   "metadata": {},
   "source": [
    "This shows that lower spin rates (needed to prevent motion sickness and acceleration differentials between that push blood to the feet) result in accelerations closer to Earth's but are achievable only with structures larger in diameter than the von Braun wheel. But building larger structures carries the benefit of more pressurized volumes; Space Station V is a little over 4 times the volume of the von Braun wheel and 29 times the ISS."
   ]
  },
  {
   "cell_type": "code",
   "execution_count": 7,
   "id": "bc7c012c",
   "metadata": {},
   "outputs": [
    {
     "name": "stdout",
     "output_type": "stream",
     "text": [
      "SSV Pressurized volume is 26647.931882941266\n",
      "SSV pressurized volume is 4.285714285714286 time the von Braun wheel's and 29.09162869316732 times that of ISS.\n"
     ]
    }
   ],
   "source": [
    "SSV_Pressurized_Volume = 2 * pi**2 * (SSV_wheel_radius) * (vb_wheel_height/2)**2 #m^3\n",
    "print(\"SSV Pressurized volume is\", SSV_Pressurized_Volume)\n",
    "print(\"SSV pressurized volume is\", SSV_Pressurized_Volume/vb_wheel_Pressurized_Volume, \"time the von Braun wheel's and\", SSV_Pressurized_Volume/ISS_Pressurized_Volume, \"times that of ISS.\")"
   ]
  },
  {
   "cell_type": "markdown",
   "id": "2a356106",
   "metadata": {},
   "source": [
    "SSV volume is 4.285714285714286 time the von Braun wheel's and 29.09162869316732 times that of ISS.\n",
    "\n",
    "## So how can we get to this in one launch- that's the question!\n",
    "Are inflatables the answer....?"
   ]
  },
  {
   "cell_type": "markdown",
   "id": "e9120d38",
   "metadata": {},
   "source": []
  },
  {
   "cell_type": "code",
   "execution_count": 12,
   "id": "0d72bb34",
   "metadata": {},
   "outputs": [
    {
     "name": "stdout",
     "output_type": "stream",
     "text": [
      "For a torus with an internal volume of 100000 m^3 and an inner tube diameter of 6 m:\n",
      "The large radius (R) is approximately 562.90 m\n",
      "The overall diameter of the torus is approximately 1131.79 m\n",
      "\n",
      "Comparison to ISS:\n",
      "But it has a volume of 109.17 times that of ISS\n",
      "\n",
      "Comparison to von Braun's wheel:\n",
      "But it has a volume of 16.08 times that of von Braun's wheel\n"
     ]
    }
   ],
   "source": [
    "# Calculate the diameter of a torus with an internal volume of 100,000 m^3 and inner tube diameter of 10 m\n",
    "from math import pi\n",
    "# Given values\n",
    "V_hph = 100000  # m^3, internal volume\n",
    "d_hph = 10  # m, inner tube diameter (small diameter)\n",
    "\n",
    "# Calculate the radius of the inner tube\n",
    "r_hph = d_hph / 2\n",
    "\n",
    "# The volume of a torus is given by the formula: V = 2π^2 * R * r^2\n",
    "# Where R is the distance from the center of the torus to the center of the tube (large radius)\n",
    "\n",
    "# Rearrange the formula to solve for R\n",
    "R_hph = V_hph / (2 * pi**2 * r_hph**2)\n",
    "\n",
    "# Calculate the overall diameter of the torus\n",
    "D_hph = 2 * (R_hph + r_hph)\n",
    "\n",
    "print(f\"For a torus with an internal volume of {V_hph} m^3 and an inner tube diameter of {d_hph} m:\")\n",
    "print(f\"The large radius (R) is approximately {R_hph:.2f} m\")\n",
    "print(f\"The overall diameter of the torus is approximately {D_hph:.2f} m\")\n",
    "\n",
    "# Compare to Space Station V\n",
    "print(f\"\\nComparison to ISS:\")\n",
    "print(f\"But it has a volume of {V_hph/ISS_Pressurized_Volume:.2f} times that of ISS\")\n",
    "\n",
    "print(f\"\\nComparison to von Braun's wheel:\")\n",
    "print(f\"But it has a volume of {V_hph/vb_wheel_Pressurized_Volume:.2f} times that of von Braun's wheel\")\n",
    "\n"
   ]
  },
  {
   "cell_type": "code",
   "execution_count": 13,
   "id": "8b05a266",
   "metadata": {},
   "outputs": [
    {
     "name": "stdout",
     "output_type": "stream",
     "text": [
      "For a torus with an internal volume of 17765.287921960844 m^3 and an inner tube diameter of 10 m:\n",
      "The large radius (R) is approximately 100.00 m\n",
      "The overall diameter of the torus is approximately 206.00 m\n",
      "\n",
      "Comparison to ISS:\n",
      "But it has a volume of 19.39 times that of ISS\n",
      "\n",
      "Comparison to von Braun's wheel:\n",
      "But it has a volume of 2.86 times that of von Braun's wheel\n"
     ]
    }
   ],
   "source": [
    "R_hph = 100  # m^3, internal volume\n",
    "d_hph = 10  # m, inner tube diameter (small diameter)\n",
    "\n",
    "# Rearrange the formula to solve for R\n",
    "V_hph = 2 * pi**2 * R_hph * r_hph**2\n",
    "# Calculate the overall diameter of the torus\n",
    "D_hph = 2 * (R_hph + r_hph)\n",
    "\n",
    "print(f\"For a torus with an internal volume of {V_hph} m^3 and an inner tube diameter of {d_hph} m:\")\n",
    "print(f\"The large radius (R) is approximately {R_hph:.2f} m\")\n",
    "print(f\"The overall diameter of the torus is approximately {D_hph:.2f} m\")\n",
    "\n",
    "# Compare to Space Station V\n",
    "print(f\"\\nComparison to ISS:\")\n",
    "print(f\"But it has a volume of {V_hph/ISS_Pressurized_Volume:.2f} times that of ISS\")\n",
    "\n",
    "print(f\"\\nComparison to von Braun's wheel:\")\n",
    "print(f\"But it has a volume of {V_hph/vb_wheel_Pressurized_Volume:.2f} times that of von Braun's wheel\")"
   ]
  },
  {
   "cell_type": "code",
   "execution_count": null,
   "id": "a49b0a2c",
   "metadata": {},
   "outputs": [],
   "source": []
  }
 ],
 "metadata": {
  "kernelspec": {
   "display_name": "Python 3 (ipykernel)",
   "language": "python",
   "name": "python3"
  },
  "language_info": {
   "codemirror_mode": {
    "name": "ipython",
    "version": 3
   },
   "file_extension": ".py",
   "mimetype": "text/x-python",
   "name": "python",
   "nbconvert_exporter": "python",
   "pygments_lexer": "ipython3",
   "version": "3.8.19"
  }
 },
 "nbformat": 4,
 "nbformat_minor": 5
}
